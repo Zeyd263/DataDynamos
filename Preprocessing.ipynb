{
 "cells": [
  {
   "cell_type": "markdown",
   "metadata": {},
   "source": [
    "#### Preprocessing Charging Sessions Dataset"
   ]
  },
  {
   "cell_type": "markdown",
   "metadata": {},
   "source": [
    "First, we import important libraries needed for the following tasks."
   ]
  },
  {
   "cell_type": "code",
   "execution_count": 65,
   "metadata": {},
   "outputs": [],
   "source": [
    "import pandas as pd\n",
    "import numpy as np\n",
    "import matplotlib.pyplot as plt\n",
    "import seaborn as sns\n",
    "import ast"
   ]
  },
  {
   "cell_type": "markdown",
   "metadata": {},
   "source": [
    "We import the necessary dataset (charging sessions of EVs) with the data of charging garages in Los Angeles."
   ]
  },
  {
   "cell_type": "code",
   "execution_count": null,
   "metadata": {},
   "outputs": [],
   "source": [
    "data_raw = pd.read_csv(\"data/charging_sessions.csv\")"
   ]
  },
  {
   "cell_type": "markdown",
   "metadata": {},
   "source": [
    "Getting a first sight of the data by displaying the first 5 observations."
   ]
  },
  {
   "cell_type": "code",
   "execution_count": 67,
   "metadata": {},
   "outputs": [
    {
     "data": {
      "text/html": [
       "<div>\n",
       "<style scoped>\n",
       "    .dataframe tbody tr th:only-of-type {\n",
       "        vertical-align: middle;\n",
       "    }\n",
       "\n",
       "    .dataframe tbody tr th {\n",
       "        vertical-align: top;\n",
       "    }\n",
       "\n",
       "    .dataframe thead th {\n",
       "        text-align: right;\n",
       "    }\n",
       "</style>\n",
       "<table border=\"1\" class=\"dataframe\">\n",
       "  <thead>\n",
       "    <tr style=\"text-align: right;\">\n",
       "      <th></th>\n",
       "      <th>Unnamed: 0</th>\n",
       "      <th>id</th>\n",
       "      <th>connectionTime</th>\n",
       "      <th>disconnectTime</th>\n",
       "      <th>doneChargingTime</th>\n",
       "      <th>kWhDelivered</th>\n",
       "      <th>sessionID</th>\n",
       "      <th>siteID</th>\n",
       "      <th>spaceID</th>\n",
       "      <th>stationID</th>\n",
       "      <th>timezone</th>\n",
       "      <th>userID</th>\n",
       "      <th>userInputs</th>\n",
       "    </tr>\n",
       "  </thead>\n",
       "  <tbody>\n",
       "    <tr>\n",
       "      <th>0</th>\n",
       "      <td>0</td>\n",
       "      <td>5e23b149f9af8b5fe4b973cf</td>\n",
       "      <td>2020-01-02 13:08:54+00:00</td>\n",
       "      <td>2020-01-02 19:11:15+00:00</td>\n",
       "      <td>2020-01-02 17:31:35+00:00</td>\n",
       "      <td>25.016</td>\n",
       "      <td>1_1_179_810_2020-01-02 13:08:53.870034</td>\n",
       "      <td>1</td>\n",
       "      <td>AG-3F30</td>\n",
       "      <td>1-1-179-810</td>\n",
       "      <td>America/Los_Angeles</td>\n",
       "      <td>194.0</td>\n",
       "      <td>[{'WhPerMile': 250, 'kWhRequested': 25.0, 'mil...</td>\n",
       "    </tr>\n",
       "    <tr>\n",
       "      <th>1</th>\n",
       "      <td>1</td>\n",
       "      <td>5e23b149f9af8b5fe4b973d0</td>\n",
       "      <td>2020-01-02 13:36:50+00:00</td>\n",
       "      <td>2020-01-02 22:38:21+00:00</td>\n",
       "      <td>2020-01-02 20:18:05+00:00</td>\n",
       "      <td>33.097</td>\n",
       "      <td>1_1_193_825_2020-01-02 13:36:49.599853</td>\n",
       "      <td>1</td>\n",
       "      <td>AG-1F01</td>\n",
       "      <td>1-1-193-825</td>\n",
       "      <td>America/Los_Angeles</td>\n",
       "      <td>4275.0</td>\n",
       "      <td>[{'WhPerMile': 280, 'kWhRequested': 70.0, 'mil...</td>\n",
       "    </tr>\n",
       "    <tr>\n",
       "      <th>2</th>\n",
       "      <td>2</td>\n",
       "      <td>5e23b149f9af8b5fe4b973d1</td>\n",
       "      <td>2020-01-02 13:56:35+00:00</td>\n",
       "      <td>2020-01-03 00:39:22+00:00</td>\n",
       "      <td>2020-01-02 16:35:06+00:00</td>\n",
       "      <td>6.521</td>\n",
       "      <td>1_1_193_829_2020-01-02 13:56:35.214993</td>\n",
       "      <td>1</td>\n",
       "      <td>AG-1F03</td>\n",
       "      <td>1-1-193-829</td>\n",
       "      <td>America/Los_Angeles</td>\n",
       "      <td>344.0</td>\n",
       "      <td>[{'WhPerMile': 400, 'kWhRequested': 8.0, 'mile...</td>\n",
       "    </tr>\n",
       "    <tr>\n",
       "      <th>3</th>\n",
       "      <td>3</td>\n",
       "      <td>5e23b149f9af8b5fe4b973d2</td>\n",
       "      <td>2020-01-02 13:59:58+00:00</td>\n",
       "      <td>2020-01-02 16:38:39+00:00</td>\n",
       "      <td>2020-01-02 15:18:45+00:00</td>\n",
       "      <td>2.355</td>\n",
       "      <td>1_1_193_820_2020-01-02 13:59:58.309319</td>\n",
       "      <td>1</td>\n",
       "      <td>AG-1F04</td>\n",
       "      <td>1-1-193-820</td>\n",
       "      <td>America/Los_Angeles</td>\n",
       "      <td>1117.0</td>\n",
       "      <td>[{'WhPerMile': 400, 'kWhRequested': 8.0, 'mile...</td>\n",
       "    </tr>\n",
       "    <tr>\n",
       "      <th>4</th>\n",
       "      <td>4</td>\n",
       "      <td>5e23b149f9af8b5fe4b973d3</td>\n",
       "      <td>2020-01-02 14:00:01+00:00</td>\n",
       "      <td>2020-01-02 22:08:40+00:00</td>\n",
       "      <td>2020-01-02 18:17:30+00:00</td>\n",
       "      <td>13.375</td>\n",
       "      <td>1_1_193_819_2020-01-02 14:00:00.779967</td>\n",
       "      <td>1</td>\n",
       "      <td>AG-1F06</td>\n",
       "      <td>1-1-193-819</td>\n",
       "      <td>America/Los_Angeles</td>\n",
       "      <td>334.0</td>\n",
       "      <td>[{'WhPerMile': 400, 'kWhRequested': 16.0, 'mil...</td>\n",
       "    </tr>\n",
       "  </tbody>\n",
       "</table>\n",
       "</div>"
      ],
      "text/plain": [
       "   Unnamed: 0                        id             connectionTime  \\\n",
       "0           0  5e23b149f9af8b5fe4b973cf  2020-01-02 13:08:54+00:00   \n",
       "1           1  5e23b149f9af8b5fe4b973d0  2020-01-02 13:36:50+00:00   \n",
       "2           2  5e23b149f9af8b5fe4b973d1  2020-01-02 13:56:35+00:00   \n",
       "3           3  5e23b149f9af8b5fe4b973d2  2020-01-02 13:59:58+00:00   \n",
       "4           4  5e23b149f9af8b5fe4b973d3  2020-01-02 14:00:01+00:00   \n",
       "\n",
       "              disconnectTime           doneChargingTime  kWhDelivered  \\\n",
       "0  2020-01-02 19:11:15+00:00  2020-01-02 17:31:35+00:00        25.016   \n",
       "1  2020-01-02 22:38:21+00:00  2020-01-02 20:18:05+00:00        33.097   \n",
       "2  2020-01-03 00:39:22+00:00  2020-01-02 16:35:06+00:00         6.521   \n",
       "3  2020-01-02 16:38:39+00:00  2020-01-02 15:18:45+00:00         2.355   \n",
       "4  2020-01-02 22:08:40+00:00  2020-01-02 18:17:30+00:00        13.375   \n",
       "\n",
       "                                sessionID  siteID  spaceID    stationID  \\\n",
       "0  1_1_179_810_2020-01-02 13:08:53.870034       1  AG-3F30  1-1-179-810   \n",
       "1  1_1_193_825_2020-01-02 13:36:49.599853       1  AG-1F01  1-1-193-825   \n",
       "2  1_1_193_829_2020-01-02 13:56:35.214993       1  AG-1F03  1-1-193-829   \n",
       "3  1_1_193_820_2020-01-02 13:59:58.309319       1  AG-1F04  1-1-193-820   \n",
       "4  1_1_193_819_2020-01-02 14:00:00.779967       1  AG-1F06  1-1-193-819   \n",
       "\n",
       "              timezone  userID  \\\n",
       "0  America/Los_Angeles   194.0   \n",
       "1  America/Los_Angeles  4275.0   \n",
       "2  America/Los_Angeles   344.0   \n",
       "3  America/Los_Angeles  1117.0   \n",
       "4  America/Los_Angeles   334.0   \n",
       "\n",
       "                                          userInputs  \n",
       "0  [{'WhPerMile': 250, 'kWhRequested': 25.0, 'mil...  \n",
       "1  [{'WhPerMile': 280, 'kWhRequested': 70.0, 'mil...  \n",
       "2  [{'WhPerMile': 400, 'kWhRequested': 8.0, 'mile...  \n",
       "3  [{'WhPerMile': 400, 'kWhRequested': 8.0, 'mile...  \n",
       "4  [{'WhPerMile': 400, 'kWhRequested': 16.0, 'mil...  "
      ]
     },
     "execution_count": 67,
     "metadata": {},
     "output_type": "execute_result"
    }
   ],
   "source": [
    "data_raw.head(5)"
   ]
  },
  {
   "cell_type": "code",
   "execution_count": 68,
   "metadata": {},
   "outputs": [
    {
     "name": "stdout",
     "output_type": "stream",
     "text": [
      "rows: 66450, columns: 13\n"
     ]
    }
   ],
   "source": [
    "num_rows, num_columns = data_raw.shape\n",
    "print(f\"rows: {num_rows}, columns: {num_columns}\")"
   ]
  },
  {
   "cell_type": "markdown",
   "metadata": {},
   "source": [
    "The data in the dataset contains 66.450 observation over 13 different variables. Next, we drop duplicates and have closer look at the different datatypes."
   ]
  },
  {
   "cell_type": "code",
   "execution_count": 69,
   "metadata": {},
   "outputs": [],
   "source": [
    "columns = [\n",
    "    'connectionTime', 'disconnectTime', 'doneChargingTime', 'kWhDelivered',\n",
    "    'sessionID', 'siteID', 'spaceID', 'stationID', 'timezone', 'userID', 'userInputs'\n",
    "]\n",
    "data_unique = data_raw.drop_duplicates(subset=columns)"
   ]
  },
  {
   "cell_type": "code",
   "execution_count": 70,
   "metadata": {},
   "outputs": [
    {
     "name": "stdout",
     "output_type": "stream",
     "text": [
      "                 Row Datetype\n",
      "0         Unnamed: 0    int64\n",
      "1                 id   object\n",
      "2     connectionTime   object\n",
      "3     disconnectTime   object\n",
      "4   doneChargingTime   object\n",
      "5       kWhDelivered  float64\n",
      "6          sessionID   object\n",
      "7             siteID    int64\n",
      "8            spaceID   object\n",
      "9          stationID   object\n",
      "10          timezone   object\n",
      "11            userID  float64\n",
      "12        userInputs   object\n"
     ]
    }
   ],
   "source": [
    "dtypes_data = data_unique.dtypes.reset_index()\n",
    "dtypes_data.columns = ['Row', 'Datetype']\n",
    "print(dtypes_data)"
   ]
  },
  {
   "cell_type": "markdown",
   "metadata": {},
   "source": [
    "We convert all the data into corresponding data types so that we can use them in the further analysis. \n",
    "The time-related data is given in the UTC time zone, but the garages are in Los Angeles. In order to obtain accurate information about the timestamps, the data must therefore be converted to the corresponding time zone (LosAngeles).  "
   ]
  },
  {
   "cell_type": "code",
   "execution_count": 71,
   "metadata": {},
   "outputs": [
    {
     "name": "stderr",
     "output_type": "stream",
     "text": [
      "/var/folders/qp/fgrb45z97m972qhkg46ql7j80000gn/T/ipykernel_1753/1326631742.py:1: SettingWithCopyWarning: \n",
      "A value is trying to be set on a copy of a slice from a DataFrame.\n",
      "Try using .loc[row_indexer,col_indexer] = value instead\n",
      "\n",
      "See the caveats in the documentation: https://pandas.pydata.org/pandas-docs/stable/user_guide/indexing.html#returning-a-view-versus-a-copy\n",
      "  data_unique['id'] = data_unique['id'].astype(\"string\")\n",
      "/var/folders/qp/fgrb45z97m972qhkg46ql7j80000gn/T/ipykernel_1753/1326631742.py:2: SettingWithCopyWarning: \n",
      "A value is trying to be set on a copy of a slice from a DataFrame.\n",
      "Try using .loc[row_indexer,col_indexer] = value instead\n",
      "\n",
      "See the caveats in the documentation: https://pandas.pydata.org/pandas-docs/stable/user_guide/indexing.html#returning-a-view-versus-a-copy\n",
      "  data_unique['connectionTime'] = pd.to_datetime(data_unique['connectionTime'], utc=True).dt.tz_convert('America/Los_Angeles').dt.tz_localize(None)\n",
      "/var/folders/qp/fgrb45z97m972qhkg46ql7j80000gn/T/ipykernel_1753/1326631742.py:3: SettingWithCopyWarning: \n",
      "A value is trying to be set on a copy of a slice from a DataFrame.\n",
      "Try using .loc[row_indexer,col_indexer] = value instead\n",
      "\n",
      "See the caveats in the documentation: https://pandas.pydata.org/pandas-docs/stable/user_guide/indexing.html#returning-a-view-versus-a-copy\n",
      "  data_unique['disconnectTime'] = pd.to_datetime(data_unique['disconnectTime'], utc=True).dt.tz_convert('America/Los_Angeles').dt.tz_localize(None)\n",
      "/var/folders/qp/fgrb45z97m972qhkg46ql7j80000gn/T/ipykernel_1753/1326631742.py:4: SettingWithCopyWarning: \n",
      "A value is trying to be set on a copy of a slice from a DataFrame.\n",
      "Try using .loc[row_indexer,col_indexer] = value instead\n",
      "\n",
      "See the caveats in the documentation: https://pandas.pydata.org/pandas-docs/stable/user_guide/indexing.html#returning-a-view-versus-a-copy\n",
      "  data_unique['doneChargingTime'] = pd.to_datetime(data_unique['doneChargingTime'], utc=True).dt.tz_convert('America/Los_Angeles').dt.tz_localize(None)\n",
      "/var/folders/qp/fgrb45z97m972qhkg46ql7j80000gn/T/ipykernel_1753/1326631742.py:5: SettingWithCopyWarning: \n",
      "A value is trying to be set on a copy of a slice from a DataFrame.\n",
      "Try using .loc[row_indexer,col_indexer] = value instead\n",
      "\n",
      "See the caveats in the documentation: https://pandas.pydata.org/pandas-docs/stable/user_guide/indexing.html#returning-a-view-versus-a-copy\n",
      "  data_unique['sessionID'] = data_unique['sessionID'].astype(\"string\")\n",
      "/var/folders/qp/fgrb45z97m972qhkg46ql7j80000gn/T/ipykernel_1753/1326631742.py:6: SettingWithCopyWarning: \n",
      "A value is trying to be set on a copy of a slice from a DataFrame.\n",
      "Try using .loc[row_indexer,col_indexer] = value instead\n",
      "\n",
      "See the caveats in the documentation: https://pandas.pydata.org/pandas-docs/stable/user_guide/indexing.html#returning-a-view-versus-a-copy\n",
      "  data_unique['siteID'] = data_unique['siteID'].astype(\"int\")\n",
      "/var/folders/qp/fgrb45z97m972qhkg46ql7j80000gn/T/ipykernel_1753/1326631742.py:7: SettingWithCopyWarning: \n",
      "A value is trying to be set on a copy of a slice from a DataFrame.\n",
      "Try using .loc[row_indexer,col_indexer] = value instead\n",
      "\n",
      "See the caveats in the documentation: https://pandas.pydata.org/pandas-docs/stable/user_guide/indexing.html#returning-a-view-versus-a-copy\n",
      "  data_unique['spaceID'] = data_unique['spaceID'].astype(\"string\")\n",
      "/var/folders/qp/fgrb45z97m972qhkg46ql7j80000gn/T/ipykernel_1753/1326631742.py:8: SettingWithCopyWarning: \n",
      "A value is trying to be set on a copy of a slice from a DataFrame.\n",
      "Try using .loc[row_indexer,col_indexer] = value instead\n",
      "\n",
      "See the caveats in the documentation: https://pandas.pydata.org/pandas-docs/stable/user_guide/indexing.html#returning-a-view-versus-a-copy\n",
      "  data_unique['stationID'] = data_unique['stationID'].astype(\"string\")\n",
      "/var/folders/qp/fgrb45z97m972qhkg46ql7j80000gn/T/ipykernel_1753/1326631742.py:9: SettingWithCopyWarning: \n",
      "A value is trying to be set on a copy of a slice from a DataFrame.\n",
      "Try using .loc[row_indexer,col_indexer] = value instead\n",
      "\n",
      "See the caveats in the documentation: https://pandas.pydata.org/pandas-docs/stable/user_guide/indexing.html#returning-a-view-versus-a-copy\n",
      "  data_unique['timezone'] = data_unique['timezone'].astype(\"string\")\n",
      "/var/folders/qp/fgrb45z97m972qhkg46ql7j80000gn/T/ipykernel_1753/1326631742.py:10: SettingWithCopyWarning: \n",
      "A value is trying to be set on a copy of a slice from a DataFrame.\n",
      "Try using .loc[row_indexer,col_indexer] = value instead\n",
      "\n",
      "See the caveats in the documentation: https://pandas.pydata.org/pandas-docs/stable/user_guide/indexing.html#returning-a-view-versus-a-copy\n",
      "  data_unique['userID'] = data_unique['userID'].astype(\"string\")\n",
      "/var/folders/qp/fgrb45z97m972qhkg46ql7j80000gn/T/ipykernel_1753/1326631742.py:11: SettingWithCopyWarning: \n",
      "A value is trying to be set on a copy of a slice from a DataFrame.\n",
      "Try using .loc[row_indexer,col_indexer] = value instead\n",
      "\n",
      "See the caveats in the documentation: https://pandas.pydata.org/pandas-docs/stable/user_guide/indexing.html#returning-a-view-versus-a-copy\n",
      "  data_unique['sessionID'] = data_unique['sessionID'].astype(\"string\")\n",
      "/var/folders/qp/fgrb45z97m972qhkg46ql7j80000gn/T/ipykernel_1753/1326631742.py:12: SettingWithCopyWarning: \n",
      "A value is trying to be set on a copy of a slice from a DataFrame.\n",
      "Try using .loc[row_indexer,col_indexer] = value instead\n",
      "\n",
      "See the caveats in the documentation: https://pandas.pydata.org/pandas-docs/stable/user_guide/indexing.html#returning-a-view-versus-a-copy\n",
      "  data_unique['userInputs'] = data_unique['userInputs'].apply(lambda x: list(x) if isinstance(x, list) else [x])\n"
     ]
    }
   ],
   "source": [
    "data_unique['id'] = data_unique['id'].astype(\"string\")\n",
    "data_unique['connectionTime'] = pd.to_datetime(data_unique['connectionTime'], utc=True).dt.tz_convert('America/Los_Angeles').dt.tz_localize(None)\n",
    "data_unique['disconnectTime'] = pd.to_datetime(data_unique['disconnectTime'], utc=True).dt.tz_convert('America/Los_Angeles').dt.tz_localize(None)\n",
    "data_unique['doneChargingTime'] = pd.to_datetime(data_unique['doneChargingTime'], utc=True).dt.tz_convert('America/Los_Angeles').dt.tz_localize(None)\n",
    "data_unique['sessionID'] = data_unique['sessionID'].astype(\"string\")\n",
    "data_unique['siteID'] = data_unique['siteID'].astype(\"int\")\n",
    "data_unique['spaceID'] = data_unique['spaceID'].astype(\"string\")\n",
    "data_unique['stationID'] = data_unique['stationID'].astype(\"string\")\n",
    "data_unique['timezone'] = data_unique['timezone'].astype(\"string\")\n",
    "data_unique['userID'] = data_unique['userID'].astype(\"string\")\n",
    "data_unique['sessionID'] = data_unique['sessionID'].astype(\"string\")\n",
    "data_unique['userInputs'] = data_unique['userInputs'].apply(lambda x: list(x) if isinstance(x, list) else [x])"
   ]
  },
  {
   "cell_type": "markdown",
   "metadata": {},
   "source": [
    "The `unnamed` column is presumably an index from the riginal DataFrame and gets transferred into a column when reading the CSV-file. Since our data contains a unique ID for each entry, the unnamed-numbering is not needed and can be deleted."
   ]
  },
  {
   "cell_type": "code",
   "execution_count": 72,
   "metadata": {},
   "outputs": [
    {
     "name": "stdout",
     "output_type": "stream",
     "text": [
      "id                  string[python]\n",
      "connectionTime      datetime64[ns]\n",
      "disconnectTime      datetime64[ns]\n",
      "doneChargingTime    datetime64[ns]\n",
      "kWhDelivered               float64\n",
      "sessionID           string[python]\n",
      "siteID                       int64\n",
      "spaceID             string[python]\n",
      "stationID           string[python]\n",
      "timezone            string[python]\n",
      "userID              string[python]\n",
      "userInputs                  object\n",
      "dtype: object\n"
     ]
    }
   ],
   "source": [
    "data_unique = data_unique.drop('Unnamed: 0', axis=1)\n",
    "\n",
    "print(data_unique.dtypes)"
   ]
  },
  {
   "cell_type": "code",
   "execution_count": 73,
   "metadata": {},
   "outputs": [
    {
     "name": "stdout",
     "output_type": "stream",
     "text": [
      "<class 'pandas.core.frame.DataFrame'>\n",
      "Index: 65037 entries, 0 to 65036\n",
      "Data columns (total 12 columns):\n",
      " #   Column            Non-Null Count  Dtype         \n",
      "---  ------            --------------  -----         \n",
      " 0   id                65037 non-null  string        \n",
      " 1   connectionTime    65037 non-null  datetime64[ns]\n",
      " 2   disconnectTime    65037 non-null  datetime64[ns]\n",
      " 3   doneChargingTime  60950 non-null  datetime64[ns]\n",
      " 4   kWhDelivered      65037 non-null  float64       \n",
      " 5   sessionID         65037 non-null  string        \n",
      " 6   siteID            65037 non-null  int64         \n",
      " 7   spaceID           65037 non-null  string        \n",
      " 8   stationID         65037 non-null  string        \n",
      " 9   timezone          65037 non-null  string        \n",
      " 10  userID            47822 non-null  string        \n",
      " 11  userInputs        65037 non-null  object        \n",
      "dtypes: datetime64[ns](3), float64(1), int64(1), object(1), string(6)\n",
      "memory usage: 6.5+ MB\n",
      "None\n"
     ]
    }
   ],
   "source": [
    "print(data_unique.info())"
   ]
  },
  {
   "cell_type": "code",
   "execution_count": 74,
   "metadata": {},
   "outputs": [
    {
     "name": "stdout",
     "output_type": "stream",
     "text": [
      "id                      0\n",
      "connectionTime          0\n",
      "disconnectTime          0\n",
      "doneChargingTime     4087\n",
      "kWhDelivered            0\n",
      "sessionID               0\n",
      "siteID                  0\n",
      "spaceID                 0\n",
      "stationID               0\n",
      "timezone                0\n",
      "userID              17215\n",
      "userInputs              0\n",
      "dtype: int64\n"
     ]
    }
   ],
   "source": [
    "missing_values_count = data_unique.isnull().sum()\n",
    "print(missing_values_count)"
   ]
  },
  {
   "cell_type": "markdown",
   "metadata": {},
   "source": [
    "By looking at the dataframe, you can see that `doneChargingTime` and `userID` have missing values.  \n",
    "\n",
    "The missing values in userID can be explained by the fact that not every garage user is registered; therefore, some accounts are naturally absent. However, the missing entries in `doneChargingTime` appear unusual."
   ]
  },
  {
   "cell_type": "code",
   "execution_count": 75,
   "metadata": {},
   "outputs": [],
   "source": [
    "# create Table with missing values in doneChargingTime\n",
    "miss_doneChargingTime = data_unique[data_unique['doneChargingTime'].isna()]"
   ]
  },
  {
   "cell_type": "markdown",
   "metadata": {},
   "source": [
    "Upon closer analysis of the missing entries for the charging time (`miss_doneChargingTime`), we found that all of them have normal values for the attribute `kWhDelivered`, indicating that current flow was indeed present.\n",
    "\n",
    "(Removing this data from the dataframe would imply that the charging stations were free at those times, which is inaccurate and would skew predictions. Therefore, we decided to retain this data for now and, if necessary, exclude it during model training and predictions about parking space utilization after charging is complete.)\n",
    "\n",
    "We calculate the the percentage of missing (NaN) values for each column."
   ]
  },
  {
   "cell_type": "code",
   "execution_count": 76,
   "metadata": {},
   "outputs": [
    {
     "data": {
      "text/plain": [
       "id                   0.000000\n",
       "connectionTime       0.000000\n",
       "disconnectTime       0.000000\n",
       "doneChargingTime     6.284115\n",
       "kWhDelivered         0.000000\n",
       "sessionID            0.000000\n",
       "siteID               0.000000\n",
       "spaceID              0.000000\n",
       "stationID            0.000000\n",
       "timezone             0.000000\n",
       "userID              26.469548\n",
       "userInputs           0.000000\n",
       "dtype: float64"
      ]
     },
     "execution_count": 76,
     "metadata": {},
     "output_type": "execute_result"
    }
   ],
   "source": [
    "data_unique.isnull().mean() * 100"
   ]
  },
  {
   "cell_type": "markdown",
   "metadata": {},
   "source": [
    "Let's calculate the percentage of data left after removing the missing values."
   ]
  },
  {
   "cell_type": "code",
   "execution_count": 77,
   "metadata": {},
   "outputs": [
    {
     "data": {
      "text/plain": [
       "93.71588480403462"
      ]
     },
     "execution_count": 77,
     "metadata": {},
     "output_type": "execute_result"
    }
   ],
   "source": [
    "len(data_unique['doneChargingTime'].dropna())/len(data_unique['doneChargingTime']) * 100"
   ]
  },
  {
   "cell_type": "markdown",
   "metadata": {},
   "source": [
    "After removing the columns with missing values, around 94% of the data is still intact which seems to be sufficient. So we first create a copy of the data set in order to then remove the missing values from ‘doneChargingTime’."
   ]
  },
  {
   "cell_type": "code",
   "execution_count": 78,
   "metadata": {},
   "outputs": [
    {
     "name": "stdout",
     "output_type": "stream",
     "text": [
      "0\n"
     ]
    }
   ],
   "source": [
    "# Create a copy of the data before dropping NA values from doneChaargingTime\n",
    "data_with_NA = data_unique.copy()\n",
    "\n",
    "# Drop NA from doneChargingTime\n",
    "data_unique.dropna(subset=['doneChargingTime'], inplace=True)\n",
    "\n",
    "print(data_unique['doneChargingTime'].isnull().sum())"
   ]
  },
  {
   "cell_type": "markdown",
   "metadata": {},
   "source": [
    "We can explore how the data is distributed in each column before and after removing null values by plotting histograms. This approach will enable us to compare the distribution trends in both scenarios."
   ]
  },
  {
   "cell_type": "code",
   "execution_count": 79,
   "metadata": {},
   "outputs": [
    {
     "data": {
      "text/plain": [
       "<Axes: >"
      ]
     },
     "execution_count": 79,
     "metadata": {},
     "output_type": "execute_result"
    },
    {
     "data": {
      "image/png": "[encoded data removed]",
      "text/plain": [
       "<Figure size 1000x600 with 1 Axes>"
      ]
     },
     "metadata": {},
     "output_type": "display_data"
    }
   ],
   "source": [
    "fig = plt.figure(figsize=(10,6))\n",
    "ax = fig.add_subplot(111)\n",
    "\n",
    "data_with_NA['doneChargingTime'].hist(bins=50, ax=ax, density=False, color='red')\n",
    "\n",
    "data_unique['doneChargingTime'].hist(bins=50, ax=ax, density=False, color='green', alpha=0.6)"
   ]
  },
  {
   "cell_type": "markdown",
   "metadata": {},
   "source": [
    "\n",
    "By comparing the histograms of the 'doneChargingTime' column before and after removing the null values, it is clear that the data distribution stays consistent. The overlapping histograms show that there is no major change in the distribution pattern after null values were removed."
   ]
  },
  {
   "cell_type": "markdown",
   "metadata": {},
   "source": [
    "#### Outlier Detection"
   ]
  },
  {
   "cell_type": "markdown",
   "metadata": {},
   "source": [
    "This analysis focuses on detecting outliers in the kWhDelivered column. We start by examining the statistical summary to understand the data distribution."
   ]
  },
  {
   "cell_type": "code",
   "execution_count": 80,
   "metadata": {},
   "outputs": [
    {
     "data": {
      "text/html": [
       "<div>\n",
       "<style scoped>\n",
       "    .dataframe tbody tr th:only-of-type {\n",
       "        vertical-align: middle;\n",
       "    }\n",
       "\n",
       "    .dataframe tbody tr th {\n",
       "        vertical-align: top;\n",
       "    }\n",
       "\n",
       "    .dataframe thead th {\n",
       "        text-align: right;\n",
       "    }\n",
       "</style>\n",
       "<table border=\"1\" class=\"dataframe\">\n",
       "  <thead>\n",
       "    <tr style=\"text-align: right;\">\n",
       "      <th></th>\n",
       "      <th>kWhDelivered</th>\n",
       "    </tr>\n",
       "  </thead>\n",
       "  <tbody>\n",
       "    <tr>\n",
       "      <th>count</th>\n",
       "      <td>60950.000000</td>\n",
       "    </tr>\n",
       "    <tr>\n",
       "      <th>mean</th>\n",
       "      <td>11.583268</td>\n",
       "    </tr>\n",
       "    <tr>\n",
       "      <th>min</th>\n",
       "      <td>0.501000</td>\n",
       "    </tr>\n",
       "    <tr>\n",
       "      <th>25%</th>\n",
       "      <td>5.013000</td>\n",
       "    </tr>\n",
       "    <tr>\n",
       "      <th>50%</th>\n",
       "      <td>8.991000</td>\n",
       "    </tr>\n",
       "    <tr>\n",
       "      <th>75%</th>\n",
       "      <td>13.984000</td>\n",
       "    </tr>\n",
       "    <tr>\n",
       "      <th>max</th>\n",
       "      <td>108.797242</td>\n",
       "    </tr>\n",
       "    <tr>\n",
       "      <th>std</th>\n",
       "      <td>10.153601</td>\n",
       "    </tr>\n",
       "  </tbody>\n",
       "</table>\n",
       "</div>"
      ],
      "text/plain": [
       "       kWhDelivered\n",
       "count  60950.000000\n",
       "mean      11.583268\n",
       "min        0.501000\n",
       "25%        5.013000\n",
       "50%        8.991000\n",
       "75%       13.984000\n",
       "max      108.797242\n",
       "std       10.153601"
      ]
     },
     "execution_count": 80,
     "metadata": {},
     "output_type": "execute_result"
    }
   ],
   "source": [
    "data_unique.describe()[['kWhDelivered']]"
   ]
  },
  {
   "cell_type": "markdown",
   "metadata": {},
   "source": [
    "Although the mean is relatively sensitive to outliers, the mean of kWhDelivered is 11.58 while the maximum is 108.8. This shows that the maximum is an outlier. We make use of a boxplot to get a visual representation."
   ]
  },
  {
   "cell_type": "code",
   "execution_count": 81,
   "metadata": {},
   "outputs": [
    {
     "data": {
      "image/png": "[encoded data removed]",
      "text/plain": [
       "<Figure size 640x480 with 1 Axes>"
      ]
     },
     "metadata": {},
     "output_type": "display_data"
    }
   ],
   "source": [
    "plt.figure()\n",
    "sns.boxplot(data=data_unique, y='kWhDelivered', flierprops={'alpha': 0.2})\n",
    "\n",
    "plt.title('Boxplot für kWhDelivered')\n",
    "plt.ylabel('kWhDelivered')\n",
    "plt.show()"
   ]
  },
  {
   "cell_type": "markdown",
   "metadata": {},
   "source": [
    "The following function calculates the IQR to detect outliers."
   ]
  },
  {
   "cell_type": "code",
   "execution_count": 82,
   "metadata": {},
   "outputs": [],
   "source": [
    "def find_outliers_IQR(df):\n",
    "\n",
    "   q1=df.quantile(0.25)\n",
    "\n",
    "   q3=df.quantile(0.75)\n",
    "\n",
    "   IQR=q3-q1\n",
    "\n",
    "   outliers = df[((df<(q1-1.5*IQR)) | (df>(q3+1.5*IQR)))]\n",
    "\n",
    "   return outliers"
   ]
  },
  {
   "cell_type": "code",
   "execution_count": 83,
   "metadata": {},
   "outputs": [
    {
     "name": "stdout",
     "output_type": "stream",
     "text": [
      "number of outliers: 5168\n",
      "max outlier value: 108.79724166666666\n",
      "min outlier value: 27.442\n"
     ]
    },
    {
     "data": {
      "text/plain": [
       "1        33.097\n",
       "6        43.477\n",
       "7        32.441\n",
       "13       39.806\n",
       "21       49.874\n",
       "          ...  \n",
       "65003    32.334\n",
       "65005    30.030\n",
       "65008    35.007\n",
       "65024    30.198\n",
       "65029    41.047\n",
       "Name: kWhDelivered, Length: 5168, dtype: float64"
      ]
     },
     "execution_count": 83,
     "metadata": {},
     "output_type": "execute_result"
    }
   ],
   "source": [
    "outliers = find_outliers_IQR(data_unique['kWhDelivered'])\n",
    "\n",
    "print(\"number of outliers: \"+ str(len(outliers)))\n",
    "\n",
    "print(\"max outlier value: \"+ str(outliers.max()))\n",
    "\n",
    "print(\"min outlier value: \"+ str(outliers.min()))\n",
    "\n",
    "outliers"
   ]
  },
  {
   "cell_type": "markdown",
   "metadata": {},
   "source": [
    "#### Extracting \"userInputs\" into a Separate Table"
   ]
  },
  {
   "cell_type": "markdown",
   "metadata": {},
   "source": [
    "Process the column userInputs to ensure each entry is JSON-formatted and interpretable as a Python dictionary."
   ]
  },
  {
   "cell_type": "code",
   "execution_count": 84,
   "metadata": {},
   "outputs": [],
   "source": [
    "import json\n",
    "\n",
    "data_unique['userInputs'] = data_unique['userInputs'].astype(\"string\")\n",
    "\n",
    "def format_user_input(entry):\n",
    "    try:\n",
    "        entry = entry[2:-2]\n",
    "        entry = entry.replace(\"'\", \"\\\"\").replace(\"True\", \"true\").replace(\"False\", \"false\")  \n",
    "        return json.loads(entry)  \n",
    "    except json.JSONDecodeError:\n",
    "        return None  \n",
    "\n",
    "\n",
    "data_unique['userInputs']= data_unique['userInputs'].apply(format_user_input)"
   ]
  },
  {
   "cell_type": "markdown",
   "metadata": {},
   "source": [
    "This code extracts the contents of the userInputs column into a separate table for better clarity and organization of data. By splitting out userInputs, each nested entry can be analyzed individually, providing a more detailed view of the information stored within. This approach makes it easier to work with and understand the data structure, especially when userInputs contains multiple key-value pairs or complex JSON objects. By creating a dedicated table, each entry can be accessed, processed, and filtered independently, enhancing data readability and simplifying further analysis."
   ]
  },
  {
   "cell_type": "code",
   "execution_count": 85,
   "metadata": {},
   "outputs": [],
   "source": [
    "# Split nested lists in 'userInputs' into separate rows, resetting index for a clean DataFrame.\n",
    "data_unique_splitted = data_unique.explode('userInputs', ignore_index=True)\n",
    "\n",
    "# Select only specific columns 'id', 'userID', and 'userInputs' from the exploded DataFrame.\n",
    "userInputs_data = data_unique_splitted[['id', 'userID', 'userInputs']]\n",
    "\n",
    "# Rename the 'id' column to 'data_unique_id' for clarity.\n",
    "userInputs_data = userInputs_data.rename(columns={'id': 'data_unique_id'})\n",
    "\n",
    "# Add a new column 'id' with a unique sequential identifier for each row.\n",
    "userInputs_data['id'] = range(1, len(userInputs_data) + 1)\n",
    "\n",
    "# Expand the JSON data in 'userInputs' column to separate columns for each key-value pair.\n",
    "userInputs_expanded = pd.json_normalize(userInputs_data['userInputs'])\n",
    "\n",
    "# Concatenate the expanded data with the original DataFrame along columns (side by side).\n",
    "userInputs_data = pd.concat([userInputs_data, userInputs_expanded], axis=1)\n",
    "\n",
    "# Drop the original 'userInputs' column as it's no longer needed after expanding.\n",
    "userInputs_data = userInputs_data.drop('userInputs', axis=1)\n",
    "\n",
    "# Remove rows with missing values in critical columns 'userID', 'WhPerMile', and 'kWhRequested'.\n",
    "userInputs_data = userInputs_data.dropna(subset=['userID', 'WhPerMile', 'kWhRequested'])\n",
    "\n",
    "# Convert 'paymentRequired' column to a boolean type for correct data interpretation.\n",
    "userInputs_data['paymentRequired'] = userInputs_data['paymentRequired'].astype(bool)\n",
    "\n",
    "# Modify 'modifiedAt' column: extract only the date and time, convert to datetime in UTC, and localize to LA time.\n",
    "userInputs_data['modifiedAt'] = userInputs_data['modifiedAt'].apply(\n",
    "    lambda x: x.split(\", \")[1].replace(\" GMT\", \"\") if isinstance(x, str) else x\n",
    ")\n",
    "userInputs_data['modifiedAt'] = pd.to_datetime(userInputs_data['modifiedAt'], format=\"%d %b %Y %H:%M:%S\", utc=True, errors='coerce')\n",
    "userInputs_data['modifiedAt'] = userInputs_data['modifiedAt'].dt.tz_convert('America/Los_Angeles').dt.tz_localize(None)\n",
    "\n",
    "# Modify 'requestedDeparture' column: extract only the date and time, convert to datetime in UTC, and localize to LA time.\n",
    "userInputs_data['requestedDeparture'] = userInputs_data['requestedDeparture'].apply(\n",
    "    lambda x: x.split(\", \")[1].replace(\" GMT\", \"\") if isinstance(x, str) else x\n",
    ")\n",
    "userInputs_data['requestedDeparture'] = pd.to_datetime(userInputs_data['requestedDeparture'], format=\"%d %b %Y %H:%M:%S\", utc=True, errors='coerce')\n",
    "userInputs_data['requestedDeparture'] = userInputs_data['requestedDeparture'].dt.tz_convert('America/Los_Angeles').dt.tz_localize(None)\n",
    "\n",
    "#  drop userInputs in data_unique table since its not needed anymore\n",
    "data_unique = data_unique.drop('userInputs', axis=1)\n"
   ]
  },
  {
   "cell_type": "code",
   "execution_count": 86,
   "metadata": {},
   "outputs": [],
   "source": [
    "# split the dataset in two different. One for the station with siteID 1 and one for the station with the siteID 2 for further analysis\n",
    "data_1 = data_unique[data_unique['siteID']==1]\n",
    "data_2 = data_unique[data_unique['siteID']==2]"
   ]
  },
  {
   "cell_type": "markdown",
   "metadata": {},
   "source": [
    "#### Preprocessing Weather Burbank Dataset"
   ]
  },
  {
   "cell_type": "markdown",
   "metadata": {},
   "source": [
    "The weather dataset is also imported and duplicates are removed. Although there are none, we have carried out this step to be on the safe side.  \n",
    "The data was converted to the corresponding data types and the time was adjusted to the los-angeles time zone again.  \n",
    "There is some missing data in this data set for the `temperature` and the `cloud_cover`. However, these are difficult to reproduce and are therefore deleted from the data set."
   ]
  },
  {
   "cell_type": "code",
   "execution_count": null,
   "metadata": {},
   "outputs": [
    {
     "name": "stdout",
     "output_type": "stream",
     "text": [
      "city                       string[python]\n",
      "timestamp                  datetime64[ns]\n",
      "temperature                       float64\n",
      "cloud_cover                       float64\n",
      "cloud_cover_description    string[python]\n",
      "pressure                          float64\n",
      "windspeed                         float64\n",
      "precipitation                     float64\n",
      "felt_temperature                  float64\n",
      "dtype: object\n"
     ]
    }
   ],
   "source": [
    "weather_raw=pd.read_csv(\"data/weather_burbank_airport.csv\")\n",
    "\n",
    "# delete duplicates\n",
    "columns = [\n",
    "    'city', 'timestamp', 'temperature', 'cloud_cover',\n",
    "    'cloud_cover_description', 'pressure', 'windspeed', 'precipitation', 'felt_temperature'\n",
    "]\n",
    "weather_unique = weather_raw.drop_duplicates(subset=columns)\n",
    "\n",
    "#Transform to correct Data Types\n",
    "weather_unique['city']=weather_raw['city'].astype('string')\n",
    "weather_unique['timestamp'] = pd.to_datetime(weather_raw['timestamp'], utc=True).dt.tz_convert('America/Los_Angeles').dt.tz_localize(None)\n",
    "weather_unique['cloud_cover_description']=weather_raw['cloud_cover_description'].astype('string')\n",
    "\n",
    "# drop with missing values\n",
    "weather_unique = weather_unique.dropna(subset=['temperature'])\n",
    "weather_unique = weather_unique.dropna(subset=['cloud_cover'])\n",
    "\n",
    "print(weather_unique.dtypes)"
   ]
  },
  {
   "cell_type": "markdown",
   "metadata": {},
   "source": [
    "-------------------------------------------------------------------------------------------------------------------"
   ]
  },
  {
   "cell_type": "markdown",
   "metadata": {},
   "source": [
    "### Identifying the Public Charging Hub"
   ]
  },
  {
   "cell_type": "markdown",
   "metadata": {},
   "source": [
    "In this section, we aim to determine which of the two sites is the public charging hub. By analyzing the provided data and combining insights from previous descriptive analytics with domain knowledge of how private company parking (reserved for employees) and public university charging stations typically operate, we will evaluate key characteristics to distinguish between the two sites."
   ]
  },
  {
   "cell_type": "markdown",
   "metadata": {},
   "source": [
    "-------------------------------------------------------------------------------------------------------------------"
   ]
  },
  {
   "cell_type": "markdown",
   "metadata": {},
   "source": [
    "#### Analysis of Usage Patterns by Time of Day and Weekday"
   ]
  },
  {
   "cell_type": "markdown",
   "metadata": {},
   "source": [
    "The goal of this step is to understand how the usage of the charging sites varies at different times of the day and across weekdays. By analyzing these patterns, we can gain insights into whether the site is more likely to be public (university) or private (company parking for employees)."
   ]
  },
  {
   "cell_type": "markdown",
   "metadata": {},
   "source": [
    "We extract the hour of the day and the weekday from the connectionTime column in the dataset. This allows us to examine how usage varies throughout the day and the week. The hour is extracted using .dt.hour, while the weekday is derived using .dt.day_name(). These new columns enable us to visualize the usage patterns based on time of day and weekday, providing further insight into the site type."
   ]
  },
  {
   "cell_type": "code",
   "execution_count": 88,
   "metadata": {},
   "outputs": [
    {
     "name": "stderr",
     "output_type": "stream",
     "text": [
      "/var/folders/qp/fgrb45z97m972qhkg46ql7j80000gn/T/ipykernel_1753/1489314569.py:1: SettingWithCopyWarning: \n",
      "A value is trying to be set on a copy of a slice from a DataFrame.\n",
      "Try using .loc[row_indexer,col_indexer] = value instead\n",
      "\n",
      "See the caveats in the documentation: https://pandas.pydata.org/pandas-docs/stable/user_guide/indexing.html#returning-a-view-versus-a-copy\n",
      "  data_1['hour'] = data_1['connectionTime'].dt.hour\n",
      "/var/folders/qp/fgrb45z97m972qhkg46ql7j80000gn/T/ipykernel_1753/1489314569.py:2: SettingWithCopyWarning: \n",
      "A value is trying to be set on a copy of a slice from a DataFrame.\n",
      "Try using .loc[row_indexer,col_indexer] = value instead\n",
      "\n",
      "See the caveats in the documentation: https://pandas.pydata.org/pandas-docs/stable/user_guide/indexing.html#returning-a-view-versus-a-copy\n",
      "  data_1['weekday'] = data_1['connectionTime'].dt.day_name()\n"
     ]
    },
    {
     "data": {
      "text/html": [
       "<div>\n",
       "<style scoped>\n",
       "    .dataframe tbody tr th:only-of-type {\n",
       "        vertical-align: middle;\n",
       "    }\n",
       "\n",
       "    .dataframe tbody tr th {\n",
       "        vertical-align: top;\n",
       "    }\n",
       "\n",
       "    .dataframe thead th {\n",
       "        text-align: right;\n",
       "    }\n",
       "</style>\n",
       "<table border=\"1\" class=\"dataframe\">\n",
       "  <thead>\n",
       "    <tr style=\"text-align: right;\">\n",
       "      <th></th>\n",
       "      <th>connectionTime</th>\n",
       "      <th>hour</th>\n",
       "      <th>weekday</th>\n",
       "    </tr>\n",
       "  </thead>\n",
       "  <tbody>\n",
       "    <tr>\n",
       "      <th>0</th>\n",
       "      <td>2020-01-02 05:08:54</td>\n",
       "      <td>5</td>\n",
       "      <td>Thursday</td>\n",
       "    </tr>\n",
       "    <tr>\n",
       "      <th>1</th>\n",
       "      <td>2020-01-02 05:36:50</td>\n",
       "      <td>5</td>\n",
       "      <td>Thursday</td>\n",
       "    </tr>\n",
       "    <tr>\n",
       "      <th>2</th>\n",
       "      <td>2020-01-02 05:56:35</td>\n",
       "      <td>5</td>\n",
       "      <td>Thursday</td>\n",
       "    </tr>\n",
       "    <tr>\n",
       "      <th>3</th>\n",
       "      <td>2020-01-02 05:59:58</td>\n",
       "      <td>5</td>\n",
       "      <td>Thursday</td>\n",
       "    </tr>\n",
       "    <tr>\n",
       "      <th>4</th>\n",
       "      <td>2020-01-02 06:00:01</td>\n",
       "      <td>6</td>\n",
       "      <td>Thursday</td>\n",
       "    </tr>\n",
       "  </tbody>\n",
       "</table>\n",
       "</div>"
      ],
      "text/plain": [
       "       connectionTime  hour   weekday\n",
       "0 2020-01-02 05:08:54     5  Thursday\n",
       "1 2020-01-02 05:36:50     5  Thursday\n",
       "2 2020-01-02 05:56:35     5  Thursday\n",
       "3 2020-01-02 05:59:58     5  Thursday\n",
       "4 2020-01-02 06:00:01     6  Thursday"
      ]
     },
     "execution_count": 88,
     "metadata": {},
     "output_type": "execute_result"
    }
   ],
   "source": [
    "data_1['hour'] = data_1['connectionTime'].dt.hour\n",
    "data_1['weekday'] = data_1['connectionTime'].dt.day_name()\n",
    "data_1[['connectionTime','hour', 'weekday']].head()\n"
   ]
  },
  {
   "cell_type": "markdown",
   "metadata": {},
   "source": [
    "This histogram visualizes the number of charging events for each hour of the day. The x-axis represents the hours (0 to 23), and the y-axis shows the total number of charging events that occurred during each hour. This visualization helps us identify peak usage times throughout the day, which can provide insights into typical charging patterns."
   ]
  },
  {
   "cell_type": "code",
   "execution_count": 89,
   "metadata": {},
   "outputs": [
    {
     "data": {
      "image/png": "[encoded data removed]",
      "text/plain": [
       "<Figure size 1000x600 with 1 Axes>"
      ]
     },
     "metadata": {},
     "output_type": "display_data"
    }
   ],
   "source": [
    "# Histogram of charging events per hour with full hours on the X-axis\n",
    "plt.figure(figsize=(10, 6))\n",
    "sns.histplot(data=data_1, x='hour', bins=24, color=\"skyblue\")\n",
    "plt.title('Number of Charging Events by Hour')\n",
    "plt.xlabel('Hour')\n",
    "plt.ylabel('Number of Charging Events')\n",
    "plt.xticks(ticks=range(0, 24), labels=[f\"{hour}\" for hour in range(24)])  \n",
    "plt.show()"
   ]
  },
  {
   "cell_type": "markdown",
   "metadata": {},
   "source": [
    "This bar chart shows the number of charging events for each day of the week. It helps us understand how usage varies across weekdays and weekends."
   ]
  },
  {
   "cell_type": "code",
   "execution_count": 90,
   "metadata": {},
   "outputs": [
    {
     "name": "stderr",
     "output_type": "stream",
     "text": [
      "/var/folders/qp/fgrb45z97m972qhkg46ql7j80000gn/T/ipykernel_1753/2190176644.py:3: FutureWarning: \n",
      "\n",
      "Passing `palette` without assigning `hue` is deprecated and will be removed in v0.14.0. Assign the `x` variable to `hue` and set `legend=False` for the same effect.\n",
      "\n",
      "  sns.countplot(data=data_1, x='weekday', order=['Monday', 'Tuesday', 'Wednesday', 'Thursday', 'Friday', 'Saturday', 'Sunday'], palette=\"viridis\")\n"
     ]
    },
    {
     "data": {
      "image/png": "[encoded data removed]",
      "text/plain": [
       "<Figure size 1000x600 with 1 Axes>"
      ]
     },
     "metadata": {},
     "output_type": "display_data"
    }
   ],
   "source": [
    "# Bar chart of charging events per weekday\n",
    "plt.figure(figsize=(10, 6))\n",
    "sns.countplot(data=data_1, x='weekday', order=['Monday', 'Tuesday', 'Wednesday', 'Thursday', 'Friday', 'Saturday', 'Sunday'], palette=\"viridis\")\n",
    "plt.title('Number of Charging Events by Weekday')\n",
    "plt.xlabel('Weekday')\n",
    "plt.ylabel('Number of Charging Events')\n",
    "plt.show()"
   ]
  },
  {
   "cell_type": "markdown",
   "metadata": {},
   "source": [
    "-------------------------------------------------------------------------------------------------------------------"
   ]
  },
  {
   "cell_type": "markdown",
   "metadata": {},
   "source": [
    "Note:\n",
    "The above analysis applies to Site 1 (with ID 1). The following analysis will focus on Site 2 (with ID 2)."
   ]
  },
  {
   "cell_type": "markdown",
   "metadata": {},
   "source": [
    "-------------------------------------------------------------------------------------------------------------------"
   ]
  },
  {
   "cell_type": "markdown",
   "metadata": {},
   "source": [
    "In the following, we will apply the same steps, but this time for Site 2 (with ID 2). We will extract and analyze the usage patterns by hour and weekday, and visualize the results just as we did for Site 1."
   ]
  },
  {
   "cell_type": "code",
   "execution_count": 91,
   "metadata": {},
   "outputs": [
    {
     "name": "stderr",
     "output_type": "stream",
     "text": [
      "/var/folders/qp/fgrb45z97m972qhkg46ql7j80000gn/T/ipykernel_1753/2101307161.py:1: SettingWithCopyWarning: \n",
      "A value is trying to be set on a copy of a slice from a DataFrame.\n",
      "Try using .loc[row_indexer,col_indexer] = value instead\n",
      "\n",
      "See the caveats in the documentation: https://pandas.pydata.org/pandas-docs/stable/user_guide/indexing.html#returning-a-view-versus-a-copy\n",
      "  data_2['hour'] = data_2['connectionTime'].dt.hour\n",
      "/var/folders/qp/fgrb45z97m972qhkg46ql7j80000gn/T/ipykernel_1753/2101307161.py:2: SettingWithCopyWarning: \n",
      "A value is trying to be set on a copy of a slice from a DataFrame.\n",
      "Try using .loc[row_indexer,col_indexer] = value instead\n",
      "\n",
      "See the caveats in the documentation: https://pandas.pydata.org/pandas-docs/stable/user_guide/indexing.html#returning-a-view-versus-a-copy\n",
      "  data_2['weekday'] = data_2['connectionTime'].dt.day_name()\n"
     ]
    },
    {
     "data": {
      "text/html": [
       "<div>\n",
       "<style scoped>\n",
       "    .dataframe tbody tr th:only-of-type {\n",
       "        vertical-align: middle;\n",
       "    }\n",
       "\n",
       "    .dataframe tbody tr th {\n",
       "        vertical-align: top;\n",
       "    }\n",
       "\n",
       "    .dataframe thead th {\n",
       "        text-align: right;\n",
       "    }\n",
       "</style>\n",
       "<table border=\"1\" class=\"dataframe\">\n",
       "  <thead>\n",
       "    <tr style=\"text-align: right;\">\n",
       "      <th></th>\n",
       "      <th>connectionTime</th>\n",
       "      <th>hour</th>\n",
       "      <th>weekday</th>\n",
       "    </tr>\n",
       "  </thead>\n",
       "  <tbody>\n",
       "    <tr>\n",
       "      <th>20179</th>\n",
       "      <td>2019-01-01 09:41:45</td>\n",
       "      <td>9</td>\n",
       "      <td>Tuesday</td>\n",
       "    </tr>\n",
       "    <tr>\n",
       "      <th>20180</th>\n",
       "      <td>2019-01-01 10:09:17</td>\n",
       "      <td>10</td>\n",
       "      <td>Tuesday</td>\n",
       "    </tr>\n",
       "    <tr>\n",
       "      <th>20181</th>\n",
       "      <td>2019-01-01 10:39:25</td>\n",
       "      <td>10</td>\n",
       "      <td>Tuesday</td>\n",
       "    </tr>\n",
       "    <tr>\n",
       "      <th>20182</th>\n",
       "      <td>2019-01-01 11:18:53</td>\n",
       "      <td>11</td>\n",
       "      <td>Tuesday</td>\n",
       "    </tr>\n",
       "    <tr>\n",
       "      <th>20183</th>\n",
       "      <td>2019-01-01 13:05:57</td>\n",
       "      <td>13</td>\n",
       "      <td>Tuesday</td>\n",
       "    </tr>\n",
       "  </tbody>\n",
       "</table>\n",
       "</div>"
      ],
      "text/plain": [
       "           connectionTime  hour  weekday\n",
       "20179 2019-01-01 09:41:45     9  Tuesday\n",
       "20180 2019-01-01 10:09:17    10  Tuesday\n",
       "20181 2019-01-01 10:39:25    10  Tuesday\n",
       "20182 2019-01-01 11:18:53    11  Tuesday\n",
       "20183 2019-01-01 13:05:57    13  Tuesday"
      ]
     },
     "execution_count": 91,
     "metadata": {},
     "output_type": "execute_result"
    }
   ],
   "source": [
    "data_2['hour'] = data_2['connectionTime'].dt.hour\n",
    "data_2['weekday'] = data_2['connectionTime'].dt.day_name()\n",
    "data_2[['connectionTime','hour', 'weekday']].head()"
   ]
  },
  {
   "cell_type": "code",
   "execution_count": 92,
   "metadata": {},
   "outputs": [
    {
     "data": {
      "image/png": "[encoded data removed]",
      "text/plain": [
       "<Figure size 1000x600 with 1 Axes>"
      ]
     },
     "metadata": {},
     "output_type": "display_data"
    }
   ],
   "source": [
    "# Histogram of charging events by hour with complete hours on the x-axis\n",
    "plt.figure(figsize=(10, 6))\n",
    "sns.histplot(data=data_2, x='hour', bins=24, color=\"skyblue\")\n",
    "plt.title('Number of Charging Events by Hour')\n",
    "plt.xlabel('Hour')\n",
    "plt.ylabel('Number of Charging Events')\n",
    "plt.xticks(ticks=range(0, 24), labels=[f\"{hour}\" for hour in range(24)])  \n",
    "plt.show()\n"
   ]
  },
  {
   "cell_type": "code",
   "execution_count": 93,
   "metadata": {},
   "outputs": [
    {
     "name": "stderr",
     "output_type": "stream",
     "text": [
      "/var/folders/qp/fgrb45z97m972qhkg46ql7j80000gn/T/ipykernel_1753/2527146230.py:3: FutureWarning: \n",
      "\n",
      "Passing `palette` without assigning `hue` is deprecated and will be removed in v0.14.0. Assign the `x` variable to `hue` and set `legend=False` for the same effect.\n",
      "\n",
      "  sns.countplot(data=data_2, x='weekday', order=['Monday', 'Tuesday', 'Wednesday', 'Thursday', 'Friday', 'Saturday', 'Sunday'], palette=\"viridis\")\n"
     ]
    },
    {
     "data": {
      "image/png": "[encoded data removed]",
      "text/plain": [
       "<Figure size 1000x600 with 1 Axes>"
      ]
     },
     "metadata": {},
     "output_type": "display_data"
    }
   ],
   "source": [
    "# Bar chart for charging events by weekday\n",
    "plt.figure(figsize=(10, 6))\n",
    "sns.countplot(data=data_2, x='weekday', order=['Monday', 'Tuesday', 'Wednesday', 'Thursday', 'Friday', 'Saturday', 'Sunday'], palette=\"viridis\")\n",
    "plt.title('Number of Charging Events by Weekday')\n",
    "plt.xlabel('Weekday')\n",
    "plt.ylabel('Number of Charging Events')\n",
    "plt.show()\n"
   ]
  },
  {
   "cell_type": "markdown",
   "metadata": {},
   "source": [
    "### Analysis of Charging Events by Hour and Weekday "
   ]
  },
  {
   "cell_type": "markdown",
   "metadata": {},
   "source": [
    "Charging Events per Hour:\n",
    "\n",
    "For Site 1, the charging events primarily occur from around 5:00 AM to 5:00 PM, with a significant decline in usage afterward. This pattern suggests that the site is most heavily used during business hours, which is often characteristic of sites serving a more specific user group, such as employees of a company.\n",
    "\n",
    "In contrast, for Site 2, the charging events occur throughout a longer period, from approximately 6:00 AM to 11:00 PM. This extended period of usage may indicate that the site is open to a broader range of users, with charging events spanning both daytime and evening hours, which is a typical feature of public charging hubs."
   ]
  },
  {
   "cell_type": "markdown",
   "metadata": {},
   "source": [
    "Charging Events per Weekday:\n",
    "\n",
    "The second diagram presents the number of charging events per weekday. This helps us understand how usage varies between weekdays and weekends.\n",
    "\n",
    "Both sites exhibit a general trend of higher usage on weekdays compared to weekends. However, there is a noticeable difference between the two sites. Site 2 shows more usage on weekends compared to Site 1, which aligns with the typical usage pattern for public charging stations. Public sites, like the one near the university, often experience higher demand on weekends, not only from students attending events or studying but also from other visitors who may need to use the public parking garage. In contrast, private sites, such as the company parking garage in Site 1, see much lower usage on weekends, as they are mainly used by employees during the working week."
   ]
  },
  {
   "cell_type": "markdown",
   "metadata": {},
   "source": [
    "&#8594;\n",
    "These insights strongly suggest that Site 2 is the public charging station, likely located at the university, while Site 1 is the private company parking garage, as the usage pattern matches the expected behavior for these types of locations."
   ]
  },
  {
   "cell_type": "markdown",
   "metadata": {},
   "source": [
    "-------------------------------------------------------------------------------------------------------------------"
   ]
  },
  {
   "cell_type": "markdown",
   "metadata": {},
   "source": [
    "#### User Count and Diversity"
   ]
  },
  {
   "cell_type": "markdown",
   "metadata": {},
   "source": [
    "In this step, we aim to determine whether the site is primarily used by repeat users or a diverse range of users. A public site is expected to have a higher number of unique users, as it serves a broader, more varied group. In contrast, a private site, like a company parking garage, might show repeated usage by the same set of users, as it is typically restricted to employees or specific individuals."
   ]
  },
  {
   "cell_type": "markdown",
   "metadata": {},
   "source": [
    "In this code, we are counting the unique user IDs (userID) for Site 1 and checking how many missing values exist in the userID column."
   ]
  },
  {
   "cell_type": "code",
   "execution_count": 94,
   "metadata": {},
   "outputs": [
    {
     "name": "stdout",
     "output_type": "stream",
     "text": [
      "Number of unique (distinct) userIDs: 511\n",
      "Number of missing values in 'userID': 1433\n"
     ]
    }
   ],
   "source": [
    "# Count the unique userIDs for siteID 1\n",
    "unique_users_per_site_1 = data_1['userID'].nunique()\n",
    "\n",
    "# Display the result for verification\n",
    "print(f\"Number of unique (distinct) userIDs: {unique_users_per_site_1}\")\n",
    "\n",
    "# Count the missing values in the 'userID' column\n",
    "missing_values_userID_1 = data_1['userID'].isnull().sum()\n",
    "\n",
    "# Output the number of missing values\n",
    "print(f\"Number of missing values in 'userID': {missing_values_userID_1}\")\n"
   ]
  },
  {
   "cell_type": "markdown",
   "metadata": {},
   "source": [
    "In this code, we are counting the unique user IDs (userID) for Site 2 and checking how many missing values exist in the userID column for this site."
   ]
  },
  {
   "cell_type": "code",
   "execution_count": 95,
   "metadata": {},
   "outputs": [
    {
     "name": "stdout",
     "output_type": "stream",
     "text": [
      "Number of unique (distinct) userIDs: 459\n",
      "Number of missing values in 'userID': 14873\n"
     ]
    }
   ],
   "source": [
    "# Count the unique userIDs for siteID 2\n",
    "unique_users_per_site_2 = data_2['userID'].nunique()\n",
    "\n",
    "# Display the result for verification\n",
    "print(f\"Number of unique (distinct) userIDs: {unique_users_per_site_2}\")\n",
    "\n",
    "# Count the missing values in the 'userID' column\n",
    "missing_values_userID_2 = data_2['userID'].isnull().sum()\n",
    "\n",
    "# Output the number of missing values\n",
    "print(f\"Number of missing values in 'userID': {missing_values_userID_2}\")"
   ]
  },
  {
   "cell_type": "markdown",
   "metadata": {},
   "source": [
    "Now we create a comparison DataFrame to visualize the number of unique users for Site 1 and Site 2, and generate a bar chart to display the comparison between the two sites."
   ]
  },
  {
   "cell_type": "code",
   "execution_count": 96,
   "metadata": {},
   "outputs": [
    {
     "name": "stderr",
     "output_type": "stream",
     "text": [
      "/var/folders/qp/fgrb45z97m972qhkg46ql7j80000gn/T/ipykernel_1753/745668373.py:9: FutureWarning: \n",
      "\n",
      "Passing `palette` without assigning `hue` is deprecated and will be removed in v0.14.0. Assign the `x` variable to `hue` and set `legend=False` for the same effect.\n",
      "\n",
      "  sns.barplot(x='siteID', y='unique_users', data=comparison_df, palette='Set2')\n"
     ]
    },
    {
     "data": {
      "image/png": "[encoded data removed]",
      "text/plain": [
       "<Figure size 800x600 with 1 Axes>"
      ]
     },
     "metadata": {},
     "output_type": "display_data"
    }
   ],
   "source": [
    "# Create a DataFrame for visualization\n",
    "comparison_df = pd.DataFrame({\n",
    "    'siteID': ['site1', 'site2'],\n",
    "    'unique_users': [unique_users_per_site_1, unique_users_per_site_2]\n",
    "})\n",
    "\n",
    "# Visualization of the number of unique users per site\n",
    "plt.figure(figsize=(8, 6))\n",
    "sns.barplot(x='siteID', y='unique_users', data=comparison_df, palette='Set2')\n",
    "\n",
    "# Title and axis labels\n",
    "plt.title('Comparison of the Number of Unique Users Between Sites', fontsize=14)\n",
    "plt.xlabel('Site', fontsize=12)\n",
    "plt.ylabel('Number of Unique Users', fontsize=12)\n",
    "\n",
    "# Display the plot\n",
    "plt.show()\n"
   ]
  },
  {
   "cell_type": "markdown",
   "metadata": {},
   "source": [
    "Here we create a DataFrame to compare the number of missing values in the userID column for Site 1 and Site 2. We then generate a bar chart to visualize the comparison of missing userID values between the two sites."
   ]
  },
  {
   "cell_type": "code",
   "execution_count": 97,
   "metadata": {},
   "outputs": [
    {
     "name": "stderr",
     "output_type": "stream",
     "text": [
      "/var/folders/qp/fgrb45z97m972qhkg46ql7j80000gn/T/ipykernel_1753/2996600626.py:9: FutureWarning: \n",
      "\n",
      "Passing `palette` without assigning `hue` is deprecated and will be removed in v0.14.0. Assign the `x` variable to `hue` and set `legend=False` for the same effect.\n",
      "\n",
      "  sns.barplot(x='siteID', y='unique_users', data=comparison_df, palette='Set2')\n"
     ]
    },
    {
     "data": {
      "image/png": "[encoded data removed]",
      "text/plain": [
       "<Figure size 800x600 with 1 Axes>"
      ]
     },
     "metadata": {},
     "output_type": "display_data"
    }
   ],
   "source": [
    "# Create a DataFrame for visualization\n",
    "comparison_df = pd.DataFrame({\n",
    "    'siteID': ['site1', 'site2'],\n",
    "    'unique_users': [missing_values_userID_1, missing_values_userID_2]\n",
    "})\n",
    "\n",
    "# Visualization of the number of missing user IDs per site\n",
    "plt.figure(figsize=(8, 6))\n",
    "sns.barplot(x='siteID', y='unique_users', data=comparison_df, palette='Set2')\n",
    "\n",
    "# Title and axis labels\n",
    "plt.title('Comparison of Missing User IDs Between Sites', fontsize=14)\n",
    "plt.xlabel('Site', fontsize=12)\n",
    "plt.ylabel('Number of Missing User IDs', fontsize=12)\n",
    "\n",
    "# Display the plot\n",
    "plt.show()\n"
   ]
  },
  {
   "cell_type": "markdown",
   "metadata": {},
   "source": [
    "### Analysis of User Count and Diversity"
   ]
  },
  {
   "cell_type": "markdown",
   "metadata": {},
   "source": [
    "The diagrams reveal several insights about the two sites, Site 1 and Site 2."
   ]
  },
  {
   "cell_type": "markdown",
   "metadata": {},
   "source": [
    "Unique Users: Both sites show a similar number of unique users, with values in the same range for both locations. This indicates that, in terms of unique user activity, both sites are relatively comparable."
   ]
  },
  {
   "cell_type": "markdown",
   "metadata": {},
   "source": [
    "Missing User IDs: However, the second diagram reveals a significant difference in the number of missing userID values. Site 2 has 14,873 missing values compared to only 1,433 for Site 1. "
   ]
  },
  {
   "cell_type": "markdown",
   "metadata": {},
   "source": [
    "Conclusion: The high number of missing user IDs at Site 2 suggests it is the public charging hub, likely at the university, where there is a mix of registered and non-registered users. In contrast, Site 1, with fewer missing IDs, is more consistent with a private site, such as a company parking garage, where the usage is mainly from registered employees."
   ]
  },
  {
   "cell_type": "markdown",
   "metadata": {},
   "source": [
    "-------------------------------------------------------------------------------------------------------------------"
   ]
  },
  {
   "cell_type": "markdown",
   "metadata": {},
   "source": [
    "### Charging Duration and Energy Consumption"
   ]
  },
  {
   "cell_type": "markdown",
   "metadata": {},
   "source": [
    "Objective: The goal of this analysis is to determine if charging durations and energy consumption patterns indicate a specific type of location."
   ]
  },
  {
   "cell_type": "markdown",
   "metadata": {},
   "source": [
    "This section calculates the charging duration for both datasets. The charging duration is derived by subtracting the connectionTime from the disconnectTime and then converting the result from seconds to hours."
   ]
  },
  {
   "cell_type": "code",
   "execution_count": 98,
   "metadata": {},
   "outputs": [
    {
     "name": "stderr",
     "output_type": "stream",
     "text": [
      "/var/folders/qp/fgrb45z97m972qhkg46ql7j80000gn/T/ipykernel_1753/3744816354.py:2: SettingWithCopyWarning: \n",
      "A value is trying to be set on a copy of a slice from a DataFrame.\n",
      "Try using .loc[row_indexer,col_indexer] = value instead\n",
      "\n",
      "See the caveats in the documentation: https://pandas.pydata.org/pandas-docs/stable/user_guide/indexing.html#returning-a-view-versus-a-copy\n",
      "  data_1['chargingDuration'] = (data_1['disconnectTime'] - data_1['connectionTime']).dt.total_seconds() / 3600\n",
      "/var/folders/qp/fgrb45z97m972qhkg46ql7j80000gn/T/ipykernel_1753/3744816354.py:3: SettingWithCopyWarning: \n",
      "A value is trying to be set on a copy of a slice from a DataFrame.\n",
      "Try using .loc[row_indexer,col_indexer] = value instead\n",
      "\n",
      "See the caveats in the documentation: https://pandas.pydata.org/pandas-docs/stable/user_guide/indexing.html#returning-a-view-versus-a-copy\n",
      "  data_2['chargingDuration'] = (data_2['disconnectTime'] - data_2['connectionTime']).dt.total_seconds() / 3600\n"
     ]
    }
   ],
   "source": [
    "# Calculate the charging duration in hours for both datasets\n",
    "data_1['chargingDuration'] = (data_1['disconnectTime'] - data_1['connectionTime']).dt.total_seconds() / 3600\n",
    "data_2['chargingDuration'] = (data_2['disconnectTime'] - data_2['connectionTime']).dt.total_seconds() / 3600"
   ]
  },
  {
   "cell_type": "markdown",
   "metadata": {},
   "source": [
    "In this step, summary statistics (mean and median) for the charging duration and kWh delivered are calculated for both sites (siteID=1 and siteID=2)."
   ]
  },
  {
   "cell_type": "code",
   "execution_count": 99,
   "metadata": {},
   "outputs": [
    {
     "name": "stdout",
     "output_type": "stream",
     "text": [
      "Summary of Charging Duration and Energy Consumption:\n",
      "    index  chargingDuration  kWhDelivered  siteID\n",
      "0    mean          6.871289     14.163597       1\n",
      "1  median          7.601806     11.290000       1\n",
      "0    mean          5.846978      8.806589       2\n",
      "1  median          4.988333      6.588000       2\n"
     ]
    }
   ],
   "source": [
    "# Summary for siteID=1\n",
    "summary_stats_1 = data_1[['chargingDuration', 'kWhDelivered']].agg(['mean', 'median']).reset_index()\n",
    "summary_stats_1['siteID'] = 1\n",
    "\n",
    "# Summary for siteID=2\n",
    "summary_stats_2 = data_2[['chargingDuration', 'kWhDelivered']].agg(['mean', 'median']).reset_index()\n",
    "summary_stats_2['siteID'] = 2\n",
    "\n",
    "# Combine the statistics for both sites\n",
    "summary_stats = pd.concat([summary_stats_1, summary_stats_2])\n",
    "print(\"Summary of Charging Duration and Energy Consumption:\")\n",
    "print(summary_stats)\n"
   ]
  },
  {
   "cell_type": "markdown",
   "metadata": {},
   "source": [
    " The goal of these visualizations is to compare the charging duration and energy consumption for the two sites (siteID=1 and siteID=2). The first two plots are boxplots that show the distribution of charging duration and energy delivered for each site, while the last two plots are histograms that provide further insight into the distribution of charging durations and energy consumption."
   ]
  },
  {
   "cell_type": "code",
   "execution_count": 100,
   "metadata": {},
   "outputs": [
    {
     "name": "stderr",
     "output_type": "stream",
     "text": [
      "/var/folders/qp/fgrb45z97m972qhkg46ql7j80000gn/T/ipykernel_1753/1634907971.py:5: FutureWarning: \n",
      "\n",
      "Passing `palette` without assigning `hue` is deprecated and will be removed in v0.14.0. Assign the `x` variable to `hue` and set `legend=False` for the same effect.\n",
      "\n",
      "  sns.boxplot(data=pd.concat([data_1.assign(siteID=1), data_2.assign(siteID=2)]), x='siteID', y='chargingDuration', palette='pastel')\n"
     ]
    },
    {
     "data": {
      "image/png": "[encoded data removed]",
      "text/plain": [
       "<Figure size 1000x600 with 1 Axes>"
      ]
     },
     "metadata": {},
     "output_type": "display_data"
    },
    {
     "name": "stderr",
     "output_type": "stream",
     "text": [
      "/var/folders/qp/fgrb45z97m972qhkg46ql7j80000gn/T/ipykernel_1753/1634907971.py:16: FutureWarning: \n",
      "\n",
      "Passing `palette` without assigning `hue` is deprecated and will be removed in v0.14.0. Assign the `x` variable to `hue` and set `legend=False` for the same effect.\n",
      "\n",
      "  sns.boxplot(data=pd.concat([data_1.assign(siteID=1), data_2.assign(siteID=2)]), x='siteID', y='kWhDelivered', palette='muted')\n"
     ]
    },
    {
     "data": {
      "image/png": "[encoded data removed]",
      "text/plain": [
       "<Figure size 1000x600 with 1 Axes>"
      ]
     },
     "metadata": {},
     "output_type": "display_data"
    }
   ],
   "source": [
    "# Boxplot for charging duration by site\n",
    "plt.figure(figsize=(10, 6))\n",
    "\n",
    "# Boxplots for both datasets\n",
    "sns.boxplot(data=pd.concat([data_1.assign(siteID=1), data_2.assign(siteID=2)]), x='siteID', y='chargingDuration', palette='pastel')\n",
    "\n",
    "plt.title(\"Charging Duration (chargingDuration) by Site (siteID)\", fontsize=14)\n",
    "plt.xlabel(\"Site (siteID)\", fontsize=12)\n",
    "plt.ylabel(\"Charging Duration (Hours)\", fontsize=12)\n",
    "plt.show()\n",
    "\n",
    "# Boxplot for energy consumption by site\n",
    "plt.figure(figsize=(10, 6))\n",
    "\n",
    "# Boxplots for both datasets\n",
    "sns.boxplot(data=pd.concat([data_1.assign(siteID=1), data_2.assign(siteID=2)]), x='siteID', y='kWhDelivered', palette='muted')\n",
    "\n",
    "plt.title(\"Energy Consumption (kWhDelivered) by Site (siteID)\", fontsize=14)\n",
    "plt.xlabel(\"Site (siteID)\", fontsize=12)\n",
    "plt.ylabel(\"Energy Consumption (kWh)\", fontsize=12)\n",
    "plt.show()\n",
    "\n"
   ]
  },
  {
   "cell_type": "markdown",
   "metadata": {},
   "source": [
    "#### Analysis of Charging Duration and Energy Consumption"
   ]
  },
  {
   "cell_type": "markdown",
   "metadata": {},
   "source": [
    "Summary of Key Statistics:\n",
    "\n",
    "Site 1 (University / Public):\n",
    "\n",
    "Average charging duration: 6.87 hours\n",
    "\n",
    "Median charging duration: 7.60 hours\n",
    "\n",
    "Average energy consumption: 14.16 kWh\n",
    "\n",
    "Median energy consumption: 11.29 kWh\n",
    "\n",
    "\n",
    "Site 2 (Company / Private):\n",
    "\n",
    "Average charging duration: 5.85 hours\n",
    "\n",
    "Median charging duration: 4.99 hours\n",
    "\n",
    "Average energy consumption: 8.81 kWh\n",
    "\n",
    "Median energy consumption: 6.59 kWh"
   ]
  },
  {
   "cell_type": "markdown",
   "metadata": {},
   "source": [
    "Boxplots:\n",
    "\n",
    "The boxplot for charging duration reveals that the distribution of charging times at Site 1 is slightly higher and broader than at Site 2. This suggests that vehicles tend to stay connected for longer periods at Site 1, aligning with predictable usage patterns by employees.\n",
    "\n",
    "The boxplot for energy consumption indicates that both the average and median energy consumption at Site 1 are higher than at Site 2. This could be attributed to longer charging durations and a controlled environment with regular users."
   ]
  },
  {
   "cell_type": "markdown",
   "metadata": {},
   "source": [
    "Conclusion\n",
    "\n",
    "Longer Charging Durations and Higher Energy Consumption at Site 1:\n",
    "\n",
    "The longer charging durations and higher energy consumption at Site 1 support the assumption that this location is the private company parking lot. Employees typically have fixed working hours, allowing for longer charging times as vehicles remain plugged in throughout the workday.\n",
    "\n",
    "Shorter Charging Durations and Lower Energy Consumption at Site 2:\n",
    "\n",
    "At Site 2, shorter charging durations and lower energy consumption indicate a more public usage pattern. This aligns with the idea that Site 2 is the public location near the university, where vehicles are parked for shorter periods and charging sessions are less consistent."
   ]
  }
 ],
 "metadata": {
  "kernelspec": {
   "display_name": "Python 3 (ipykernel)",
   "language": "python",
   "name": "python3"
  },
  "language_info": {
   "codemirror_mode": {
    "name": "ipython",
    "version": 3
   },
   "file_extension": ".py",
   "mimetype": "text/x-python",
   "name": "python",
   "nbconvert_exporter": "python",
   "pygments_lexer": "ipython3",
   "version": "3.12.4"
  }
 },
 "nbformat": 4,
 "nbformat_minor": 4
}
