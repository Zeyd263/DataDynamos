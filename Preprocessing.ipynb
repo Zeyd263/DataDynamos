{
 "cells": [
  {
   "cell_type": "markdown",
   "metadata": {},
   "source": [
    "#### Preprocessing Charging Sessions Dataset"
   ]
  },
  {
   "cell_type": "markdown",
   "metadata": {},
   "source": [
    "First, we import important libraries needed for the following tasks."
   ]
  },
  {
   "cell_type": "code",
   "execution_count": 1,
   "metadata": {},
   "outputs": [],
   "source": [
    "import warnings\n",
    "warnings.filterwarnings(\"ignore\")\n",
    "import pandas as pd\n",
    "import numpy as np\n",
    "import matplotlib.pyplot as plt\n",
    "import seaborn as sns\n",
    "import ast"
   ]
  },
  {
   "cell_type": "markdown",
   "metadata": {},
   "source": [
    "We import the necessary dataset (charging sessions of EVs) with the data of charging garages in Los Angeles."
   ]
  },
  {
   "cell_type": "code",
   "execution_count": 2,
   "metadata": {},
   "outputs": [],
   "source": [
    "data_raw = pd.read_csv(\"data/charging_sessions.csv\")"
   ]
  },
  {
   "cell_type": "markdown",
   "metadata": {},
   "source": [
    "Getting a first sight of the data by displaying the first 5 observations."
   ]
  },
  {
   "cell_type": "code",
   "execution_count": 3,
   "metadata": {},
   "outputs": [
    {
     "data": {
      "text/html": [
       "<div>\n",
       "<style scoped>\n",
       "    .dataframe tbody tr th:only-of-type {\n",
       "        vertical-align: middle;\n",
       "    }\n",
       "\n",
       "    .dataframe tbody tr th {\n",
       "        vertical-align: top;\n",
       "    }\n",
       "\n",
       "    .dataframe thead th {\n",
       "        text-align: right;\n",
       "    }\n",
       "</style>\n",
       "<table border=\"1\" class=\"dataframe\">\n",
       "  <thead>\n",
       "    <tr style=\"text-align: right;\">\n",
       "      <th></th>\n",
       "      <th>Unnamed: 0</th>\n",
       "      <th>id</th>\n",
       "      <th>connectionTime</th>\n",
       "      <th>disconnectTime</th>\n",
       "      <th>doneChargingTime</th>\n",
       "      <th>kWhDelivered</th>\n",
       "      <th>sessionID</th>\n",
       "      <th>siteID</th>\n",
       "      <th>spaceID</th>\n",
       "      <th>stationID</th>\n",
       "      <th>timezone</th>\n",
       "      <th>userID</th>\n",
       "      <th>userInputs</th>\n",
       "    </tr>\n",
       "  </thead>\n",
       "  <tbody>\n",
       "    <tr>\n",
       "      <th>0</th>\n",
       "      <td>0</td>\n",
       "      <td>5e23b149f9af8b5fe4b973cf</td>\n",
       "      <td>2020-01-02 13:08:54+00:00</td>\n",
       "      <td>2020-01-02 19:11:15+00:00</td>\n",
       "      <td>2020-01-02 17:31:35+00:00</td>\n",
       "      <td>25.016</td>\n",
       "      <td>1_1_179_810_2020-01-02 13:08:53.870034</td>\n",
       "      <td>1</td>\n",
       "      <td>AG-3F30</td>\n",
       "      <td>1-1-179-810</td>\n",
       "      <td>America/Los_Angeles</td>\n",
       "      <td>194.0</td>\n",
       "      <td>[{'WhPerMile': 250, 'kWhRequested': 25.0, 'mil...</td>\n",
       "    </tr>\n",
       "    <tr>\n",
       "      <th>1</th>\n",
       "      <td>1</td>\n",
       "      <td>5e23b149f9af8b5fe4b973d0</td>\n",
       "      <td>2020-01-02 13:36:50+00:00</td>\n",
       "      <td>2020-01-02 22:38:21+00:00</td>\n",
       "      <td>2020-01-02 20:18:05+00:00</td>\n",
       "      <td>33.097</td>\n",
       "      <td>1_1_193_825_2020-01-02 13:36:49.599853</td>\n",
       "      <td>1</td>\n",
       "      <td>AG-1F01</td>\n",
       "      <td>1-1-193-825</td>\n",
       "      <td>America/Los_Angeles</td>\n",
       "      <td>4275.0</td>\n",
       "      <td>[{'WhPerMile': 280, 'kWhRequested': 70.0, 'mil...</td>\n",
       "    </tr>\n",
       "    <tr>\n",
       "      <th>2</th>\n",
       "      <td>2</td>\n",
       "      <td>5e23b149f9af8b5fe4b973d1</td>\n",
       "      <td>2020-01-02 13:56:35+00:00</td>\n",
       "      <td>2020-01-03 00:39:22+00:00</td>\n",
       "      <td>2020-01-02 16:35:06+00:00</td>\n",
       "      <td>6.521</td>\n",
       "      <td>1_1_193_829_2020-01-02 13:56:35.214993</td>\n",
       "      <td>1</td>\n",
       "      <td>AG-1F03</td>\n",
       "      <td>1-1-193-829</td>\n",
       "      <td>America/Los_Angeles</td>\n",
       "      <td>344.0</td>\n",
       "      <td>[{'WhPerMile': 400, 'kWhRequested': 8.0, 'mile...</td>\n",
       "    </tr>\n",
       "    <tr>\n",
       "      <th>3</th>\n",
       "      <td>3</td>\n",
       "      <td>5e23b149f9af8b5fe4b973d2</td>\n",
       "      <td>2020-01-02 13:59:58+00:00</td>\n",
       "      <td>2020-01-02 16:38:39+00:00</td>\n",
       "      <td>2020-01-02 15:18:45+00:00</td>\n",
       "      <td>2.355</td>\n",
       "      <td>1_1_193_820_2020-01-02 13:59:58.309319</td>\n",
       "      <td>1</td>\n",
       "      <td>AG-1F04</td>\n",
       "      <td>1-1-193-820</td>\n",
       "      <td>America/Los_Angeles</td>\n",
       "      <td>1117.0</td>\n",
       "      <td>[{'WhPerMile': 400, 'kWhRequested': 8.0, 'mile...</td>\n",
       "    </tr>\n",
       "    <tr>\n",
       "      <th>4</th>\n",
       "      <td>4</td>\n",
       "      <td>5e23b149f9af8b5fe4b973d3</td>\n",
       "      <td>2020-01-02 14:00:01+00:00</td>\n",
       "      <td>2020-01-02 22:08:40+00:00</td>\n",
       "      <td>2020-01-02 18:17:30+00:00</td>\n",
       "      <td>13.375</td>\n",
       "      <td>1_1_193_819_2020-01-02 14:00:00.779967</td>\n",
       "      <td>1</td>\n",
       "      <td>AG-1F06</td>\n",
       "      <td>1-1-193-819</td>\n",
       "      <td>America/Los_Angeles</td>\n",
       "      <td>334.0</td>\n",
       "      <td>[{'WhPerMile': 400, 'kWhRequested': 16.0, 'mil...</td>\n",
       "    </tr>\n",
       "  </tbody>\n",
       "</table>\n",
       "</div>"
      ],
      "text/plain": [
       "   Unnamed: 0                        id             connectionTime  \\\n",
       "0           0  5e23b149f9af8b5fe4b973cf  2020-01-02 13:08:54+00:00   \n",
       "1           1  5e23b149f9af8b5fe4b973d0  2020-01-02 13:36:50+00:00   \n",
       "2           2  5e23b149f9af8b5fe4b973d1  2020-01-02 13:56:35+00:00   \n",
       "3           3  5e23b149f9af8b5fe4b973d2  2020-01-02 13:59:58+00:00   \n",
       "4           4  5e23b149f9af8b5fe4b973d3  2020-01-02 14:00:01+00:00   \n",
       "\n",
       "              disconnectTime           doneChargingTime  kWhDelivered  \\\n",
       "0  2020-01-02 19:11:15+00:00  2020-01-02 17:31:35+00:00        25.016   \n",
       "1  2020-01-02 22:38:21+00:00  2020-01-02 20:18:05+00:00        33.097   \n",
       "2  2020-01-03 00:39:22+00:00  2020-01-02 16:35:06+00:00         6.521   \n",
       "3  2020-01-02 16:38:39+00:00  2020-01-02 15:18:45+00:00         2.355   \n",
       "4  2020-01-02 22:08:40+00:00  2020-01-02 18:17:30+00:00        13.375   \n",
       "\n",
       "                                sessionID  siteID  spaceID    stationID  \\\n",
       "0  1_1_179_810_2020-01-02 13:08:53.870034       1  AG-3F30  1-1-179-810   \n",
       "1  1_1_193_825_2020-01-02 13:36:49.599853       1  AG-1F01  1-1-193-825   \n",
       "2  1_1_193_829_2020-01-02 13:56:35.214993       1  AG-1F03  1-1-193-829   \n",
       "3  1_1_193_820_2020-01-02 13:59:58.309319       1  AG-1F04  1-1-193-820   \n",
       "4  1_1_193_819_2020-01-02 14:00:00.779967       1  AG-1F06  1-1-193-819   \n",
       "\n",
       "              timezone  userID  \\\n",
       "0  America/Los_Angeles   194.0   \n",
       "1  America/Los_Angeles  4275.0   \n",
       "2  America/Los_Angeles   344.0   \n",
       "3  America/Los_Angeles  1117.0   \n",
       "4  America/Los_Angeles   334.0   \n",
       "\n",
       "                                          userInputs  \n",
       "0  [{'WhPerMile': 250, 'kWhRequested': 25.0, 'mil...  \n",
       "1  [{'WhPerMile': 280, 'kWhRequested': 70.0, 'mil...  \n",
       "2  [{'WhPerMile': 400, 'kWhRequested': 8.0, 'mile...  \n",
       "3  [{'WhPerMile': 400, 'kWhRequested': 8.0, 'mile...  \n",
       "4  [{'WhPerMile': 400, 'kWhRequested': 16.0, 'mil...  "
      ]
     },
     "execution_count": 3,
     "metadata": {},
     "output_type": "execute_result"
    }
   ],
   "source": [
    "data_raw.head(5)"
   ]
  },
  {
   "cell_type": "code",
   "execution_count": 4,
   "metadata": {},
   "outputs": [
    {
     "name": "stdout",
     "output_type": "stream",
     "text": [
      "rows: 66450, columns: 13\n"
     ]
    }
   ],
   "source": [
    "num_rows, num_columns = data_raw.shape\n",
    "print(f\"rows: {num_rows}, columns: {num_columns}\")"
   ]
  },
  {
   "cell_type": "markdown",
   "metadata": {},
   "source": [
    "The data in the dataset contains 66.450 observation over 13 different variables. Next, we drop duplicates and have closer look at the different datatypes."
   ]
  },
  {
   "cell_type": "code",
   "execution_count": 5,
   "metadata": {},
   "outputs": [],
   "source": [
    "columns = [\n",
    "    'connectionTime', 'disconnectTime', 'doneChargingTime', 'kWhDelivered',\n",
    "    'sessionID', 'siteID', 'spaceID', 'stationID', 'timezone', 'userID', 'userInputs'\n",
    "]\n",
    "data_unique = data_raw.drop_duplicates(subset=columns)"
   ]
  },
  {
   "cell_type": "code",
   "execution_count": 6,
   "metadata": {},
   "outputs": [
    {
     "name": "stdout",
     "output_type": "stream",
     "text": [
      "                 Row Datetype\n",
      "0         Unnamed: 0    int64\n",
      "1                 id   object\n",
      "2     connectionTime   object\n",
      "3     disconnectTime   object\n",
      "4   doneChargingTime   object\n",
      "5       kWhDelivered  float64\n",
      "6          sessionID   object\n",
      "7             siteID    int64\n",
      "8            spaceID   object\n",
      "9          stationID   object\n",
      "10          timezone   object\n",
      "11            userID  float64\n",
      "12        userInputs   object\n"
     ]
    }
   ],
   "source": [
    "dtypes_data = data_unique.dtypes.reset_index()\n",
    "dtypes_data.columns = ['Row', 'Datetype']\n",
    "print(dtypes_data)"
   ]
  },
  {
   "cell_type": "markdown",
   "metadata": {},
   "source": [
    "We convert all the data into corresponding data types so that we can use them in the further analysis. \n",
    "The time-related data is given in the UTC time zone, but the garages are in Los Angeles. In order to obtain accurate information about the timestamps, the data must therefore be converted to the corresponding time zone (LosAngeles).  "
   ]
  },
  {
   "cell_type": "code",
   "execution_count": 7,
   "metadata": {},
   "outputs": [],
   "source": [
    "data_unique['id'] = data_unique['id'].astype(\"string\")\n",
    "data_unique['connectionTime'] = pd.to_datetime(data_unique['connectionTime'], utc=True).dt.tz_convert('America/Los_Angeles').dt.tz_localize(None)\n",
    "data_unique['disconnectTime'] = pd.to_datetime(data_unique['disconnectTime'], utc=True).dt.tz_convert('America/Los_Angeles').dt.tz_localize(None)\n",
    "data_unique['doneChargingTime'] = pd.to_datetime(data_unique['doneChargingTime'], utc=True).dt.tz_convert('America/Los_Angeles').dt.tz_localize(None)\n",
    "data_unique['sessionID'] = data_unique['sessionID'].astype(\"string\")\n",
    "data_unique['siteID'] = data_unique['siteID'].astype(\"int\")\n",
    "data_unique['spaceID'] = data_unique['spaceID'].astype(\"string\")\n",
    "data_unique['stationID'] = data_unique['stationID'].astype(\"string\")\n",
    "data_unique['timezone'] = data_unique['timezone'].astype(\"string\")\n",
    "data_unique['userID'] = data_unique['userID'].astype(\"string\")\n",
    "data_unique['sessionID'] = data_unique['sessionID'].astype(\"string\")\n",
    "data_unique['userInputs'] = data_unique['userInputs'].apply(lambda x: list(x) if isinstance(x, list) else [x])"
   ]
  },
  {
   "cell_type": "markdown",
   "metadata": {},
   "source": [
    "The `unnamed` column is presumably an index from the riginal DataFrame and gets transferred into a column when reading the CSV-file. Since our data contains a unique ID for each entry, the unnamed-numbering is not needed and can be deleted."
   ]
  },
  {
   "cell_type": "code",
   "execution_count": 8,
   "metadata": {},
   "outputs": [
    {
     "name": "stdout",
     "output_type": "stream",
     "text": [
      "id                  string[python]\n",
      "connectionTime      datetime64[ns]\n",
      "disconnectTime      datetime64[ns]\n",
      "doneChargingTime    datetime64[ns]\n",
      "kWhDelivered               float64\n",
      "sessionID           string[python]\n",
      "siteID                       int32\n",
      "spaceID             string[python]\n",
      "stationID           string[python]\n",
      "timezone            string[python]\n",
      "userID              string[python]\n",
      "userInputs                  object\n",
      "dtype: object\n"
     ]
    }
   ],
   "source": [
    "data_unique = data_unique.drop('Unnamed: 0', axis=1)\n",
    "\n",
    "print(data_unique.dtypes)"
   ]
  },
  {
   "cell_type": "code",
   "execution_count": 9,
   "metadata": {},
   "outputs": [
    {
     "name": "stdout",
     "output_type": "stream",
     "text": [
      "<class 'pandas.core.frame.DataFrame'>\n",
      "Index: 65037 entries, 0 to 65036\n",
      "Data columns (total 12 columns):\n",
      " #   Column            Non-Null Count  Dtype         \n",
      "---  ------            --------------  -----         \n",
      " 0   id                65037 non-null  string        \n",
      " 1   connectionTime    65037 non-null  datetime64[ns]\n",
      " 2   disconnectTime    65037 non-null  datetime64[ns]\n",
      " 3   doneChargingTime  60950 non-null  datetime64[ns]\n",
      " 4   kWhDelivered      65037 non-null  float64       \n",
      " 5   sessionID         65037 non-null  string        \n",
      " 6   siteID            65037 non-null  int32         \n",
      " 7   spaceID           65037 non-null  string        \n",
      " 8   stationID         65037 non-null  string        \n",
      " 9   timezone          65037 non-null  string        \n",
      " 10  userID            47822 non-null  string        \n",
      " 11  userInputs        65037 non-null  object        \n",
      "dtypes: datetime64[ns](3), float64(1), int32(1), object(1), string(6)\n",
      "memory usage: 6.2+ MB\n",
      "None\n"
     ]
    }
   ],
   "source": [
    "print(data_unique.info())"
   ]
  },
  {
   "cell_type": "code",
   "execution_count": 10,
   "metadata": {},
   "outputs": [
    {
     "name": "stdout",
     "output_type": "stream",
     "text": [
      "id                      0\n",
      "connectionTime          0\n",
      "disconnectTime          0\n",
      "doneChargingTime     4087\n",
      "kWhDelivered            0\n",
      "sessionID               0\n",
      "siteID                  0\n",
      "spaceID                 0\n",
      "stationID               0\n",
      "timezone                0\n",
      "userID              17215\n",
      "userInputs              0\n",
      "dtype: int64\n"
     ]
    }
   ],
   "source": [
    "missing_values_count = data_unique.isnull().sum()\n",
    "print(missing_values_count)"
   ]
  },
  {
   "cell_type": "markdown",
   "metadata": {},
   "source": [
    "By looking at the dataframe, you can see that `doneChargingTime` and `userID` have missing values.  \n",
    "\n",
    "The missing values in userID can be explained by the fact that not every garage user is registered; therefore, some accounts are naturally absent. However, the missing entries in `doneChargingTime` appear unusual."
   ]
  },
  {
   "cell_type": "code",
   "execution_count": 11,
   "metadata": {},
   "outputs": [
    {
     "data": {
      "text/html": [
       "<div>\n",
       "<style scoped>\n",
       "    .dataframe tbody tr th:only-of-type {\n",
       "        vertical-align: middle;\n",
       "    }\n",
       "\n",
       "    .dataframe tbody tr th {\n",
       "        vertical-align: top;\n",
       "    }\n",
       "\n",
       "    .dataframe thead th {\n",
       "        text-align: right;\n",
       "    }\n",
       "</style>\n",
       "<table border=\"1\" class=\"dataframe\">\n",
       "  <thead>\n",
       "    <tr style=\"text-align: right;\">\n",
       "      <th></th>\n",
       "      <th>id</th>\n",
       "      <th>connectionTime</th>\n",
       "      <th>disconnectTime</th>\n",
       "      <th>doneChargingTime</th>\n",
       "      <th>kWhDelivered</th>\n",
       "      <th>sessionID</th>\n",
       "      <th>siteID</th>\n",
       "      <th>spaceID</th>\n",
       "      <th>stationID</th>\n",
       "      <th>timezone</th>\n",
       "      <th>userID</th>\n",
       "      <th>userInputs</th>\n",
       "    </tr>\n",
       "  </thead>\n",
       "  <tbody>\n",
       "    <tr>\n",
       "      <th>3756</th>\n",
       "      <td>5ea3848df9af8b428bf97225</td>\n",
       "      <td>2020-04-08 09:36:53</td>\n",
       "      <td>2020-04-08 20:43:29</td>\n",
       "      <td>NaT</td>\n",
       "      <td>25.183</td>\n",
       "      <td>1_1_194_822_2020-04-08 16:36:53.316264</td>\n",
       "      <td>1</td>\n",
       "      <td>AG-1F12</td>\n",
       "      <td>1-1-194-822</td>\n",
       "      <td>America/Los_Angeles</td>\n",
       "      <td>507.0</td>\n",
       "      <td>[[{'WhPerMile': 250, 'kWhRequested': 75.0, 'mi...</td>\n",
       "    </tr>\n",
       "    <tr>\n",
       "      <th>3757</th>\n",
       "      <td>5ea4d60df9af8b46573f1ee7</td>\n",
       "      <td>2020-04-09 06:23:52</td>\n",
       "      <td>2020-04-09 10:59:02</td>\n",
       "      <td>NaT</td>\n",
       "      <td>14.136</td>\n",
       "      <td>1_1_193_827_2020-04-09 13:23:51.689520</td>\n",
       "      <td>1</td>\n",
       "      <td>AG-1F02</td>\n",
       "      <td>1-1-193-827</td>\n",
       "      <td>America/Los_Angeles</td>\n",
       "      <td>419.0</td>\n",
       "      <td>[[{'WhPerMile': 400, 'kWhRequested': 40.0, 'mi...</td>\n",
       "    </tr>\n",
       "    <tr>\n",
       "      <th>3758</th>\n",
       "      <td>5ea4d60df9af8b46573f1ee8</td>\n",
       "      <td>2020-04-09 06:40:03</td>\n",
       "      <td>2020-04-09 14:43:22</td>\n",
       "      <td>NaT</td>\n",
       "      <td>14.203</td>\n",
       "      <td>1_1_178_823_2020-04-09 13:39:55.115497</td>\n",
       "      <td>1</td>\n",
       "      <td>AG-1F08</td>\n",
       "      <td>1-1-178-823</td>\n",
       "      <td>America/Los_Angeles</td>\n",
       "      <td>5065.0</td>\n",
       "      <td>[[{'WhPerMile': 400, 'kWhRequested': 24.0, 'mi...</td>\n",
       "    </tr>\n",
       "    <tr>\n",
       "      <th>3759</th>\n",
       "      <td>5ea4d60df9af8b46573f1ee9</td>\n",
       "      <td>2020-04-09 07:01:53</td>\n",
       "      <td>2020-04-09 09:33:40</td>\n",
       "      <td>NaT</td>\n",
       "      <td>13.041</td>\n",
       "      <td>1_1_178_828_2020-04-09 14:01:53.467693</td>\n",
       "      <td>1</td>\n",
       "      <td>AG-1F10</td>\n",
       "      <td>1-1-178-828</td>\n",
       "      <td>America/Los_Angeles</td>\n",
       "      <td>651.0</td>\n",
       "      <td>[[{'WhPerMile': 400, 'kWhRequested': 20.0, 'mi...</td>\n",
       "    </tr>\n",
       "    <tr>\n",
       "      <th>3760</th>\n",
       "      <td>5ea4d60df9af8b46573f1eea</td>\n",
       "      <td>2020-04-09 08:01:06</td>\n",
       "      <td>2020-04-09 16:38:08</td>\n",
       "      <td>NaT</td>\n",
       "      <td>5.797</td>\n",
       "      <td>1_1_193_820_2020-04-09 15:01:06.343454</td>\n",
       "      <td>1</td>\n",
       "      <td>AG-1F04</td>\n",
       "      <td>1-1-193-820</td>\n",
       "      <td>America/Los_Angeles</td>\n",
       "      <td>466.0</td>\n",
       "      <td>[[{'WhPerMile': 300, 'kWhRequested': 6.0, 'mil...</td>\n",
       "    </tr>\n",
       "  </tbody>\n",
       "</table>\n",
       "</div>"
      ],
      "text/plain": [
       "                            id      connectionTime      disconnectTime  \\\n",
       "3756  5ea3848df9af8b428bf97225 2020-04-08 09:36:53 2020-04-08 20:43:29   \n",
       "3757  5ea4d60df9af8b46573f1ee7 2020-04-09 06:23:52 2020-04-09 10:59:02   \n",
       "3758  5ea4d60df9af8b46573f1ee8 2020-04-09 06:40:03 2020-04-09 14:43:22   \n",
       "3759  5ea4d60df9af8b46573f1ee9 2020-04-09 07:01:53 2020-04-09 09:33:40   \n",
       "3760  5ea4d60df9af8b46573f1eea 2020-04-09 08:01:06 2020-04-09 16:38:08   \n",
       "\n",
       "     doneChargingTime  kWhDelivered                               sessionID  \\\n",
       "3756              NaT        25.183  1_1_194_822_2020-04-08 16:36:53.316264   \n",
       "3757              NaT        14.136  1_1_193_827_2020-04-09 13:23:51.689520   \n",
       "3758              NaT        14.203  1_1_178_823_2020-04-09 13:39:55.115497   \n",
       "3759              NaT        13.041  1_1_178_828_2020-04-09 14:01:53.467693   \n",
       "3760              NaT         5.797  1_1_193_820_2020-04-09 15:01:06.343454   \n",
       "\n",
       "      siteID  spaceID    stationID             timezone  userID  \\\n",
       "3756       1  AG-1F12  1-1-194-822  America/Los_Angeles   507.0   \n",
       "3757       1  AG-1F02  1-1-193-827  America/Los_Angeles   419.0   \n",
       "3758       1  AG-1F08  1-1-178-823  America/Los_Angeles  5065.0   \n",
       "3759       1  AG-1F10  1-1-178-828  America/Los_Angeles   651.0   \n",
       "3760       1  AG-1F04  1-1-193-820  America/Los_Angeles   466.0   \n",
       "\n",
       "                                             userInputs  \n",
       "3756  [[{'WhPerMile': 250, 'kWhRequested': 75.0, 'mi...  \n",
       "3757  [[{'WhPerMile': 400, 'kWhRequested': 40.0, 'mi...  \n",
       "3758  [[{'WhPerMile': 400, 'kWhRequested': 24.0, 'mi...  \n",
       "3759  [[{'WhPerMile': 400, 'kWhRequested': 20.0, 'mi...  \n",
       "3760  [[{'WhPerMile': 300, 'kWhRequested': 6.0, 'mil...  "
      ]
     },
     "execution_count": 11,
     "metadata": {},
     "output_type": "execute_result"
    }
   ],
   "source": [
    "# create Table with missing values in doneChargingTimeb\n",
    "miss_doneChargingTime = data_unique[data_unique['doneChargingTime'].isna()]\n",
    "miss_doneChargingTime.head()"
   ]
  },
  {
   "cell_type": "markdown",
   "metadata": {},
   "source": [
    "Upon closer analysis of the missing entries for the charging time (`miss_doneChargingTime`), we found that all of them have normal values for the attribute `kWhDelivered`, indicating that current flow was indeed present.\n",
    "\n",
    "(Removing this data from the dataframe would imply that the charging stations were free at those times, which is inaccurate and would skew predictions. Therefore, we decided to retain this data for now and, if necessary, exclude it during model training and predictions about parking space utilization after charging is complete.)\n",
    "\n",
    "We calculate the the percentage of missing (NaN) values for each column."
   ]
  },
  {
   "cell_type": "code",
   "execution_count": 12,
   "metadata": {},
   "outputs": [
    {
     "data": {
      "text/plain": [
       "id                   0.000000\n",
       "connectionTime       0.000000\n",
       "disconnectTime       0.000000\n",
       "doneChargingTime     6.284115\n",
       "kWhDelivered         0.000000\n",
       "sessionID            0.000000\n",
       "siteID               0.000000\n",
       "spaceID              0.000000\n",
       "stationID            0.000000\n",
       "timezone             0.000000\n",
       "userID              26.469548\n",
       "userInputs           0.000000\n",
       "dtype: float64"
      ]
     },
     "execution_count": 12,
     "metadata": {},
     "output_type": "execute_result"
    }
   ],
   "source": [
    "data_unique.isnull().mean() * 100"
   ]
  },
  {
   "cell_type": "markdown",
   "metadata": {},
   "source": [
    "Let's calculate the percentage of data left after removing the missing values."
   ]
  },
  {
   "cell_type": "code",
   "execution_count": 13,
   "metadata": {},
   "outputs": [
    {
     "data": {
      "text/plain": [
       "93.71588480403462"
      ]
     },
     "execution_count": 13,
     "metadata": {},
     "output_type": "execute_result"
    }
   ],
   "source": [
    "len(data_unique['doneChargingTime'].dropna())/len(data_unique['doneChargingTime']) * 100"
   ]
  },
  {
   "cell_type": "markdown",
   "metadata": {},
   "source": [
    "After removing the columns with missing values, around 94% of the data is still intact which seems to be sufficient. So we first create a copy of the data set in order to then remove the missing values from ‘doneChargingTime’."
   ]
  },
  {
   "cell_type": "code",
   "execution_count": 14,
   "metadata": {},
   "outputs": [
    {
     "name": "stdout",
     "output_type": "stream",
     "text": [
      "0\n"
     ]
    }
   ],
   "source": [
    "# Create a copy of the data before dropping NA values from doneChaargingTime\n",
    "data_with_NA = data_unique.copy()\n",
    "\n",
    "# Drop NA from doneChargingTime\n",
    "data_unique.dropna(subset=['doneChargingTime'], inplace=True)\n",
    "\n",
    "print(data_unique['doneChargingTime'].isnull().sum())"
   ]
  },
  {
   "cell_type": "markdown",
   "metadata": {},
   "source": [
    "We can explore how the data is distributed in each column before and after removing null values by plotting histograms. This approach will enable us to compare the distribution trends in both scenarios."
   ]
  },
  {
   "cell_type": "code",
   "execution_count": 15,
   "metadata": {},
   "outputs": [
    {
     "data": {
      "image/png": "[encoded data removed]",
      "text/plain": [
       "<Figure size 1500x500 with 1 Axes>"
      ]
     },
     "metadata": {},
     "output_type": "display_data"
    }
   ],
   "source": [
    "plt.figure(figsize=(15, 5))\n",
    "\n",
    "# Histogram: Data with doneChargingTime NaT values\n",
    "sns.histplot(data=data_with_NA, x='doneChargingTime', bins=50, color='red', alpha=1, kde=False, label='data_with_NA')\n",
    "\n",
    "# Histogram: Data with removed doneChargingTime NaT values\n",
    "sns.histplot(data=data_unique, x='doneChargingTime', bins=50, color='green', alpha=0.6, kde=False, label='data_unique')\n",
    "\n",
    "plt.legend()\n",
    "\n",
    "plt.title('Histogram Comparison: doneChargingTime')\n",
    "plt.xlabel('doneChargingTime')\n",
    "plt.ylabel('Count')\n",
    "\n",
    "plt.show()"
   ]
  },
  {
   "cell_type": "markdown",
   "metadata": {},
   "source": [
    "\n",
    "By comparing the histograms of the 'doneChargingTime' column before and after removing the null values, it is clear that the data distribution stays consistent. The overlapping histograms show that there is no major change in the distribution pattern after null values were removed."
   ]
  },
  {
   "cell_type": "code",
   "execution_count": 16,
   "metadata": {},
   "outputs": [
    {
     "name": "stdout",
     "output_type": "stream",
     "text": [
      "Average Difference: 56.02 seconds\n",
      "Average kWh (doneChargingTime > disconnectTime): 14.24 kWh\n",
      "Average kWh (doneChargingTime <= disconnectTime): 11.38 kWh\n"
     ]
    }
   ],
   "source": [
    "filtered_data = data_unique[data_unique['doneChargingTime'] > data_unique['disconnectTime']]\n",
    "\n",
    "filtered_data['time_difference'] = (filtered_data['doneChargingTime'] - filtered_data['disconnectTime']).dt.total_seconds()\n",
    "\n",
    "average_difference = filtered_data['time_difference'].mean()\n",
    "\n",
    "average_kwh_delivered = filtered_data['kWhDelivered'].mean()\n",
    "\n",
    "other_cases = data_unique[data_unique['doneChargingTime'] <= data_unique['disconnectTime']]\n",
    "\n",
    "average_kwh_delivered_other = other_cases['kWhDelivered'].mean()\n",
    "\n",
    "print(f\"Average Difference: {average_difference:.2f} seconds\")\n",
    "print(f\"Average kWh (doneChargingTime > disconnectTime): {average_kwh_delivered:.2f} kWh\")\n",
    "print(f\"Average kWh (doneChargingTime <= disconnectTime): {average_kwh_delivered_other:.2f} kWh\")"
   ]
  },
  {
   "cell_type": "code",
   "execution_count": 17,
   "metadata": {},
   "outputs": [
    {
     "data": {
      "text/html": [
       "<div>\n",
       "<style scoped>\n",
       "    .dataframe tbody tr th:only-of-type {\n",
       "        vertical-align: middle;\n",
       "    }\n",
       "\n",
       "    .dataframe tbody tr th {\n",
       "        vertical-align: top;\n",
       "    }\n",
       "\n",
       "    .dataframe thead th {\n",
       "        text-align: right;\n",
       "    }\n",
       "</style>\n",
       "<table border=\"1\" class=\"dataframe\">\n",
       "  <thead>\n",
       "    <tr style=\"text-align: right;\">\n",
       "      <th></th>\n",
       "      <th>id</th>\n",
       "      <th>connectionTime</th>\n",
       "      <th>disconnectTime</th>\n",
       "      <th>doneChargingTime</th>\n",
       "      <th>kWhDelivered</th>\n",
       "      <th>sessionID</th>\n",
       "      <th>siteID</th>\n",
       "      <th>spaceID</th>\n",
       "      <th>stationID</th>\n",
       "      <th>timezone</th>\n",
       "      <th>userID</th>\n",
       "      <th>userInputs</th>\n",
       "      <th>time_difference</th>\n",
       "    </tr>\n",
       "  </thead>\n",
       "  <tbody>\n",
       "    <tr>\n",
       "      <th>12</th>\n",
       "      <td>5e23b149f9af8b5fe4b973db</td>\n",
       "      <td>2020-01-02 07:04:38</td>\n",
       "      <td>2020-01-02 14:08:39</td>\n",
       "      <td>2020-01-02 14:09:36</td>\n",
       "      <td>25.567</td>\n",
       "      <td>1_1_178_824_2020-01-02 15:04:38.051735</td>\n",
       "      <td>1</td>\n",
       "      <td>AG-1F07</td>\n",
       "      <td>1-1-178-824</td>\n",
       "      <td>America/Los_Angeles</td>\n",
       "      <td>528.0</td>\n",
       "      <td>[[{'WhPerMile': 250, 'kWhRequested': 50.0, 'mi...</td>\n",
       "      <td>57.0</td>\n",
       "    </tr>\n",
       "    <tr>\n",
       "      <th>20</th>\n",
       "      <td>5e23b149f9af8b5fe4b973e3</td>\n",
       "      <td>2020-01-02 07:28:47</td>\n",
       "      <td>2020-01-02 11:01:54</td>\n",
       "      <td>2020-01-02 11:02:51</td>\n",
       "      <td>7.417</td>\n",
       "      <td>1_1_193_827_2020-01-02 15:28:46.685366</td>\n",
       "      <td>1</td>\n",
       "      <td>AG-1F02</td>\n",
       "      <td>1-1-193-827</td>\n",
       "      <td>America/Los_Angeles</td>\n",
       "      <td>1283.0</td>\n",
       "      <td>[[{'WhPerMile': 350, 'kWhRequested': 42.0, 'mi...</td>\n",
       "      <td>57.0</td>\n",
       "    </tr>\n",
       "    <tr>\n",
       "      <th>25</th>\n",
       "      <td>5e23b149f9af8b5fe4b973e8</td>\n",
       "      <td>2020-01-02 07:42:05</td>\n",
       "      <td>2020-01-02 13:58:45</td>\n",
       "      <td>2020-01-02 13:59:42</td>\n",
       "      <td>36.701</td>\n",
       "      <td>1_1_179_797_2020-01-02 15:42:05.217965</td>\n",
       "      <td>1</td>\n",
       "      <td>AG-3F23</td>\n",
       "      <td>1-1-179-797</td>\n",
       "      <td>America/Los_Angeles</td>\n",
       "      <td>474.0</td>\n",
       "      <td>[[{'WhPerMile': 400, 'kWhRequested': 32.0, 'mi...</td>\n",
       "      <td>57.0</td>\n",
       "    </tr>\n",
       "    <tr>\n",
       "      <th>26</th>\n",
       "      <td>5e23b149f9af8b5fe4b973e9</td>\n",
       "      <td>2020-01-02 07:57:24</td>\n",
       "      <td>2020-01-02 08:35:37</td>\n",
       "      <td>2020-01-02 08:36:34</td>\n",
       "      <td>3.689</td>\n",
       "      <td>1_1_179_781_2020-01-02 15:57:23.951170</td>\n",
       "      <td>1</td>\n",
       "      <td>AG-3F31</td>\n",
       "      <td>1-1-179-781</td>\n",
       "      <td>America/Los_Angeles</td>\n",
       "      <td>724.0</td>\n",
       "      <td>[[{'WhPerMile': 400, 'kWhRequested': 8.0, 'mil...</td>\n",
       "      <td>57.0</td>\n",
       "    </tr>\n",
       "    <tr>\n",
       "      <th>33</th>\n",
       "      <td>5e23b149f9af8b5fe4b973f0</td>\n",
       "      <td>2020-01-02 08:34:35</td>\n",
       "      <td>2020-01-02 10:49:41</td>\n",
       "      <td>2020-01-02 10:50:38</td>\n",
       "      <td>7.120</td>\n",
       "      <td>1_1_179_790_2020-01-02 16:34:34.999200</td>\n",
       "      <td>1</td>\n",
       "      <td>AG-3F19</td>\n",
       "      <td>1-1-179-790</td>\n",
       "      <td>America/Los_Angeles</td>\n",
       "      <td>2276.0</td>\n",
       "      <td>[[{'WhPerMile': 600, 'kWhRequested': 18.0, 'mi...</td>\n",
       "      <td>57.0</td>\n",
       "    </tr>\n",
       "    <tr>\n",
       "      <th>45</th>\n",
       "      <td>5e23b149f9af8b5fe4b973fc</td>\n",
       "      <td>2020-01-02 10:41:22</td>\n",
       "      <td>2020-01-02 11:38:24</td>\n",
       "      <td>2020-01-02 11:39:23</td>\n",
       "      <td>5.430</td>\n",
       "      <td>1_1_191_812_2020-01-02 18:41:22.082480</td>\n",
       "      <td>1</td>\n",
       "      <td>AG-4F46</td>\n",
       "      <td>1-1-191-812</td>\n",
       "      <td>America/Los_Angeles</td>\n",
       "      <td>741.0</td>\n",
       "      <td>[[{'WhPerMile': 400, 'kWhRequested': 32.0, 'mi...</td>\n",
       "      <td>59.0</td>\n",
       "    </tr>\n",
       "    <tr>\n",
       "      <th>49</th>\n",
       "      <td>5e23b149f9af8b5fe4b97400</td>\n",
       "      <td>2020-01-02 11:08:34</td>\n",
       "      <td>2020-01-02 14:52:36</td>\n",
       "      <td>2020-01-02 14:53:36</td>\n",
       "      <td>22.839</td>\n",
       "      <td>1_1_191_811_2020-01-02 19:08:34.209436</td>\n",
       "      <td>1</td>\n",
       "      <td>AG-4F42</td>\n",
       "      <td>1-1-191-811</td>\n",
       "      <td>America/Los_Angeles</td>\n",
       "      <td>1283.0</td>\n",
       "      <td>[[{'WhPerMile': 350, 'kWhRequested': 42.0, 'mi...</td>\n",
       "      <td>60.0</td>\n",
       "    </tr>\n",
       "    <tr>\n",
       "      <th>51</th>\n",
       "      <td>5e23b149f9af8b5fe4b97402</td>\n",
       "      <td>2020-01-02 11:30:53</td>\n",
       "      <td>2020-01-02 15:18:39</td>\n",
       "      <td>2020-01-02 15:19:36</td>\n",
       "      <td>4.405</td>\n",
       "      <td>1_1_179_810_2020-01-02 19:30:53.010234</td>\n",
       "      <td>1</td>\n",
       "      <td>AG-3F30</td>\n",
       "      <td>1-1-179-810</td>\n",
       "      <td>America/Los_Angeles</td>\n",
       "      <td>194.0</td>\n",
       "      <td>[[{'WhPerMile': 250, 'kWhRequested': 10.0, 'mi...</td>\n",
       "      <td>57.0</td>\n",
       "    </tr>\n",
       "    <tr>\n",
       "      <th>53</th>\n",
       "      <td>5e23b149f9af8b5fe4b97404</td>\n",
       "      <td>2020-01-02 12:31:37</td>\n",
       "      <td>2020-01-02 18:21:37</td>\n",
       "      <td>2020-01-02 18:22:34</td>\n",
       "      <td>33.645</td>\n",
       "      <td>1_1_178_823_2020-01-02 20:31:37.206013</td>\n",
       "      <td>1</td>\n",
       "      <td>AG-1F08</td>\n",
       "      <td>1-1-178-823</td>\n",
       "      <td>America/Los_Angeles</td>\n",
       "      <td>337.0</td>\n",
       "      <td>[[{'WhPerMile': 250, 'kWhRequested': 35.0, 'mi...</td>\n",
       "      <td>57.0</td>\n",
       "    </tr>\n",
       "    <tr>\n",
       "      <th>57</th>\n",
       "      <td>5e23b149f9af8b5fe4b97408</td>\n",
       "      <td>2020-01-02 14:46:56</td>\n",
       "      <td>2020-01-02 16:49:34</td>\n",
       "      <td>2020-01-02 16:50:34</td>\n",
       "      <td>13.005</td>\n",
       "      <td>1_1_179_809_2020-01-02 22:46:56.495691</td>\n",
       "      <td>1</td>\n",
       "      <td>AG-3F27</td>\n",
       "      <td>1-1-179-809</td>\n",
       "      <td>America/Los_Angeles</td>\n",
       "      <td>2276.0</td>\n",
       "      <td>[[{'WhPerMile': 600, 'kWhRequested': 18.0, 'mi...</td>\n",
       "      <td>60.0</td>\n",
       "    </tr>\n",
       "  </tbody>\n",
       "</table>\n",
       "</div>"
      ],
      "text/plain": [
       "                          id      connectionTime      disconnectTime  \\\n",
       "12  5e23b149f9af8b5fe4b973db 2020-01-02 07:04:38 2020-01-02 14:08:39   \n",
       "20  5e23b149f9af8b5fe4b973e3 2020-01-02 07:28:47 2020-01-02 11:01:54   \n",
       "25  5e23b149f9af8b5fe4b973e8 2020-01-02 07:42:05 2020-01-02 13:58:45   \n",
       "26  5e23b149f9af8b5fe4b973e9 2020-01-02 07:57:24 2020-01-02 08:35:37   \n",
       "33  5e23b149f9af8b5fe4b973f0 2020-01-02 08:34:35 2020-01-02 10:49:41   \n",
       "45  5e23b149f9af8b5fe4b973fc 2020-01-02 10:41:22 2020-01-02 11:38:24   \n",
       "49  5e23b149f9af8b5fe4b97400 2020-01-02 11:08:34 2020-01-02 14:52:36   \n",
       "51  5e23b149f9af8b5fe4b97402 2020-01-02 11:30:53 2020-01-02 15:18:39   \n",
       "53  5e23b149f9af8b5fe4b97404 2020-01-02 12:31:37 2020-01-02 18:21:37   \n",
       "57  5e23b149f9af8b5fe4b97408 2020-01-02 14:46:56 2020-01-02 16:49:34   \n",
       "\n",
       "      doneChargingTime  kWhDelivered                               sessionID  \\\n",
       "12 2020-01-02 14:09:36        25.567  1_1_178_824_2020-01-02 15:04:38.051735   \n",
       "20 2020-01-02 11:02:51         7.417  1_1_193_827_2020-01-02 15:28:46.685366   \n",
       "25 2020-01-02 13:59:42        36.701  1_1_179_797_2020-01-02 15:42:05.217965   \n",
       "26 2020-01-02 08:36:34         3.689  1_1_179_781_2020-01-02 15:57:23.951170   \n",
       "33 2020-01-02 10:50:38         7.120  1_1_179_790_2020-01-02 16:34:34.999200   \n",
       "45 2020-01-02 11:39:23         5.430  1_1_191_812_2020-01-02 18:41:22.082480   \n",
       "49 2020-01-02 14:53:36        22.839  1_1_191_811_2020-01-02 19:08:34.209436   \n",
       "51 2020-01-02 15:19:36         4.405  1_1_179_810_2020-01-02 19:30:53.010234   \n",
       "53 2020-01-02 18:22:34        33.645  1_1_178_823_2020-01-02 20:31:37.206013   \n",
       "57 2020-01-02 16:50:34        13.005  1_1_179_809_2020-01-02 22:46:56.495691   \n",
       "\n",
       "    siteID  spaceID    stationID             timezone  userID  \\\n",
       "12       1  AG-1F07  1-1-178-824  America/Los_Angeles   528.0   \n",
       "20       1  AG-1F02  1-1-193-827  America/Los_Angeles  1283.0   \n",
       "25       1  AG-3F23  1-1-179-797  America/Los_Angeles   474.0   \n",
       "26       1  AG-3F31  1-1-179-781  America/Los_Angeles   724.0   \n",
       "33       1  AG-3F19  1-1-179-790  America/Los_Angeles  2276.0   \n",
       "45       1  AG-4F46  1-1-191-812  America/Los_Angeles   741.0   \n",
       "49       1  AG-4F42  1-1-191-811  America/Los_Angeles  1283.0   \n",
       "51       1  AG-3F30  1-1-179-810  America/Los_Angeles   194.0   \n",
       "53       1  AG-1F08  1-1-178-823  America/Los_Angeles   337.0   \n",
       "57       1  AG-3F27  1-1-179-809  America/Los_Angeles  2276.0   \n",
       "\n",
       "                                           userInputs  time_difference  \n",
       "12  [[{'WhPerMile': 250, 'kWhRequested': 50.0, 'mi...             57.0  \n",
       "20  [[{'WhPerMile': 350, 'kWhRequested': 42.0, 'mi...             57.0  \n",
       "25  [[{'WhPerMile': 400, 'kWhRequested': 32.0, 'mi...             57.0  \n",
       "26  [[{'WhPerMile': 400, 'kWhRequested': 8.0, 'mil...             57.0  \n",
       "33  [[{'WhPerMile': 600, 'kWhRequested': 18.0, 'mi...             57.0  \n",
       "45  [[{'WhPerMile': 400, 'kWhRequested': 32.0, 'mi...             59.0  \n",
       "49  [[{'WhPerMile': 350, 'kWhRequested': 42.0, 'mi...             60.0  \n",
       "51  [[{'WhPerMile': 250, 'kWhRequested': 10.0, 'mi...             57.0  \n",
       "53  [[{'WhPerMile': 250, 'kWhRequested': 35.0, 'mi...             57.0  \n",
       "57  [[{'WhPerMile': 600, 'kWhRequested': 18.0, 'mi...             60.0  "
      ]
     },
     "execution_count": 17,
     "metadata": {},
     "output_type": "execute_result"
    }
   ],
   "source": [
    "filtered_data.head(10)"
   ]
  },
  {
   "cell_type": "markdown",
   "metadata": {},
   "source": [
    "#### Outlier Detection"
   ]
  },
  {
   "cell_type": "markdown",
   "metadata": {},
   "source": [
    "This analysis focuses on detecting outliers in the kWhDelivered column. We start by examining the statistical summary to understand the data distribution."
   ]
  },
  {
   "cell_type": "code",
   "execution_count": 18,
   "metadata": {},
   "outputs": [
    {
     "data": {
      "text/html": [
       "<div>\n",
       "<style scoped>\n",
       "    .dataframe tbody tr th:only-of-type {\n",
       "        vertical-align: middle;\n",
       "    }\n",
       "\n",
       "    .dataframe tbody tr th {\n",
       "        vertical-align: top;\n",
       "    }\n",
       "\n",
       "    .dataframe thead th {\n",
       "        text-align: right;\n",
       "    }\n",
       "</style>\n",
       "<table border=\"1\" class=\"dataframe\">\n",
       "  <thead>\n",
       "    <tr style=\"text-align: right;\">\n",
       "      <th></th>\n",
       "      <th>kWhDelivered</th>\n",
       "    </tr>\n",
       "  </thead>\n",
       "  <tbody>\n",
       "    <tr>\n",
       "      <th>count</th>\n",
       "      <td>60950.000000</td>\n",
       "    </tr>\n",
       "    <tr>\n",
       "      <th>mean</th>\n",
       "      <td>11.583268</td>\n",
       "    </tr>\n",
       "    <tr>\n",
       "      <th>min</th>\n",
       "      <td>0.501000</td>\n",
       "    </tr>\n",
       "    <tr>\n",
       "      <th>25%</th>\n",
       "      <td>5.013000</td>\n",
       "    </tr>\n",
       "    <tr>\n",
       "      <th>50%</th>\n",
       "      <td>8.991000</td>\n",
       "    </tr>\n",
       "    <tr>\n",
       "      <th>75%</th>\n",
       "      <td>13.984000</td>\n",
       "    </tr>\n",
       "    <tr>\n",
       "      <th>max</th>\n",
       "      <td>108.797242</td>\n",
       "    </tr>\n",
       "    <tr>\n",
       "      <th>std</th>\n",
       "      <td>10.153601</td>\n",
       "    </tr>\n",
       "  </tbody>\n",
       "</table>\n",
       "</div>"
      ],
      "text/plain": [
       "       kWhDelivered\n",
       "count  60950.000000\n",
       "mean      11.583268\n",
       "min        0.501000\n",
       "25%        5.013000\n",
       "50%        8.991000\n",
       "75%       13.984000\n",
       "max      108.797242\n",
       "std       10.153601"
      ]
     },
     "execution_count": 18,
     "metadata": {},
     "output_type": "execute_result"
    }
   ],
   "source": [
    "data_unique.describe()[['kWhDelivered']]"
   ]
  },
  {
   "cell_type": "markdown",
   "metadata": {},
   "source": [
    "Although the mean is relatively sensitive to outliers, the mean of kWhDelivered is 11.58 while the maximum is 108.8. This shows that the maximum is an outlier. We make use of a boxplot and a histogram to visually summarize the distribution and identify potential outliers."
   ]
  },
  {
   "cell_type": "code",
   "execution_count": 19,
   "metadata": {},
   "outputs": [
    {
     "data": {
      "image/png": "[encoded data removed]",
      "text/plain": [
       "<Figure size 1600x800 with 2 Axes>"
      ]
     },
     "metadata": {},
     "output_type": "display_data"
    }
   ],
   "source": [
    "plt.figure(figsize=(16, 8))\n",
    "\n",
    "q1 = data_unique['kWhDelivered'].quantile(0.25)\n",
    "q3 = data_unique['kWhDelivered'].quantile(0.75)\n",
    "iqr = q3 - q1\n",
    "upper_whisker = q3 + 1.5 * iqr\n",
    "\n",
    "# Boxplot\n",
    "plt.subplot(2, 2, 1)\n",
    "sns.boxplot(data=data_unique, y='kWhDelivered', flierprops={'alpha': 0.2})\n",
    "plt.title(\"Boxplot for kWh Delivered\", fontsize=15, fontweight='bold')\n",
    "plt.ylabel(\"kWh Delivered\", fontsize=12)\n",
    "plt.xlabel(\"\")\n",
    "plt.text(0.25, upper_whisker, f\"{upper_whisker:.2f}\", \n",
    "         ha='left', va='center', fontsize=12, color='black')\n",
    "\n",
    "# Histogram\n",
    "plt.subplot(2, 2, 2)\n",
    "sns.histplot(data_unique['kWhDelivered'], kde=True, binwidth=2.5)\n",
    "plt.title(\"Histogram for kWh Delivered\", fontsize=15, fontweight='bold')\n",
    "plt.xlabel(\"kWh Delivered\", fontsize=12)\n",
    "plt.ylabel(\"Count\", fontsize=12) \n",
    "plt.legend(labels=[\"Kernel Density Estimation\"], fontsize=13)\n",
    "\n",
    "plt.xlim(left=0)\n",
    "\n",
    "plt.xticks(fontsize=12)\n",
    "plt.yticks(fontsize=12)\n",
    "\n",
    "plt.tight_layout()\n",
    "plt.show()"
   ]
  },
  {
   "cell_type": "markdown",
   "metadata": {},
   "source": [
    "Based on the two visualizations, it is evident that the majority of the values are quite low. The upper whisker of the boxplot is at 27.44, meaning it represents the largest value in the dataset that is less than or equal to Q3 + 1.5 * IQR. Values above this threshold are considered outliers. These become more frequent up to approximately 60. Only three observations fall between 75 and 110. The distribution is highly positively right skewed."
   ]
  },
  {
   "cell_type": "markdown",
   "metadata": {},
   "source": [
    "The following function calculates the IQR to detect outliers above the upper whisker."
   ]
  },
  {
   "cell_type": "code",
   "execution_count": 20,
   "metadata": {},
   "outputs": [],
   "source": [
    "def find_outliers_IQR(df):\n",
    "\n",
    "   q1=df.quantile(0.25)\n",
    "\n",
    "   q3=df.quantile(0.75)\n",
    "\n",
    "   iqr=q3-q1\n",
    "\n",
    "   outliers = df[((df<(q1-1.5*iqr)) | (df>(q3+1.5*iqr)))]\n",
    "\n",
    "   return outliers"
   ]
  },
  {
   "cell_type": "code",
   "execution_count": 21,
   "metadata": {},
   "outputs": [
    {
     "name": "stdout",
     "output_type": "stream",
     "text": [
      "number of outliers: 5168\n",
      "max outlier value: 108.79724166666666\n",
      "min outlier value: 27.442\n"
     ]
    },
    {
     "data": {
      "text/plain": [
       "1        33.097\n",
       "6        43.477\n",
       "7        32.441\n",
       "13       39.806\n",
       "21       49.874\n",
       "          ...  \n",
       "65003    32.334\n",
       "65005    30.030\n",
       "65008    35.007\n",
       "65024    30.198\n",
       "65029    41.047\n",
       "Name: kWhDelivered, Length: 5168, dtype: float64"
      ]
     },
     "execution_count": 21,
     "metadata": {},
     "output_type": "execute_result"
    }
   ],
   "source": [
    "outliers = find_outliers_IQR(data_unique['kWhDelivered'])\n",
    "\n",
    "print(\"number of outliers: \"+ str(len(outliers)))\n",
    "\n",
    "print(\"max outlier value: \"+ str(outliers.max()))\n",
    "\n",
    "print(\"min outlier value: \"+ str(outliers.min()))\n",
    "\n",
    "outliers"
   ]
  },
  {
   "cell_type": "markdown",
   "metadata": {},
   "source": [
    "The summary indicates that there are 5,168 outliers. The lowest outlier value is 27.44, as previously mentioned, while the maximum is 108.8."
   ]
  },
  {
   "cell_type": "code",
   "execution_count": 22,
   "metadata": {},
   "outputs": [
    {
     "data": {
      "text/html": [
       "<div>\n",
       "<style scoped>\n",
       "    .dataframe tbody tr th:only-of-type {\n",
       "        vertical-align: middle;\n",
       "    }\n",
       "\n",
       "    .dataframe tbody tr th {\n",
       "        vertical-align: top;\n",
       "    }\n",
       "\n",
       "    .dataframe thead th {\n",
       "        text-align: right;\n",
       "    }\n",
       "</style>\n",
       "<table border=\"1\" class=\"dataframe\">\n",
       "  <thead>\n",
       "    <tr style=\"text-align: right;\">\n",
       "      <th></th>\n",
       "      <th>id</th>\n",
       "      <th>connectionTime</th>\n",
       "      <th>disconnectTime</th>\n",
       "      <th>doneChargingTime</th>\n",
       "      <th>kWhDelivered</th>\n",
       "      <th>sessionID</th>\n",
       "      <th>siteID</th>\n",
       "      <th>spaceID</th>\n",
       "      <th>stationID</th>\n",
       "      <th>timezone</th>\n",
       "      <th>userID</th>\n",
       "      <th>userInputs</th>\n",
       "    </tr>\n",
       "  </thead>\n",
       "  <tbody>\n",
       "    <tr>\n",
       "      <th>18641</th>\n",
       "      <td>610c829df9af8b0580e98730</td>\n",
       "      <td>2021-07-20 15:16:54</td>\n",
       "      <td>2021-07-21 08:18:03</td>\n",
       "      <td>2021-07-21 08:19:00</td>\n",
       "      <td>108.797242</td>\n",
       "      <td>1_1_193_829_2021-07-20 18:27:33.500144</td>\n",
       "      <td>1</td>\n",
       "      <td>AG-1F03</td>\n",
       "      <td>1-1-193-829</td>\n",
       "      <td>America/Los_Angeles</td>\n",
       "      <td>378.0</td>\n",
       "      <td>[[{'WhPerMile': 258, 'kWhRequested': 35.088, '...</td>\n",
       "    </tr>\n",
       "    <tr>\n",
       "      <th>18643</th>\n",
       "      <td>610c829df9af8b0580e98732</td>\n",
       "      <td>2021-07-20 15:16:56</td>\n",
       "      <td>2021-07-21 08:18:16</td>\n",
       "      <td>2021-07-21 08:19:13</td>\n",
       "      <td>89.362732</td>\n",
       "      <td>1_1_194_818_2021-07-20 13:54:47.875453</td>\n",
       "      <td>1</td>\n",
       "      <td>AG-1F14</td>\n",
       "      <td>1-1-194-818</td>\n",
       "      <td>America/Los_Angeles</td>\n",
       "      <td>481.0</td>\n",
       "      <td>[[{'WhPerMile': 360, 'kWhRequested': 86.4, 'mi...</td>\n",
       "    </tr>\n",
       "    <tr>\n",
       "      <th>20986</th>\n",
       "      <td>5c60d02df9af8b149d7da395</td>\n",
       "      <td>2019-01-25 19:40:20</td>\n",
       "      <td>2019-01-26 14:36:03</td>\n",
       "      <td>2019-01-26 06:45:12</td>\n",
       "      <td>75.528000</td>\n",
       "      <td>2_39_91_437_2019-01-26 03:40:20.383123</td>\n",
       "      <td>2</td>\n",
       "      <td>CA-317</td>\n",
       "      <td>2-39-91-437</td>\n",
       "      <td>America/Los_Angeles</td>\n",
       "      <td>1225.0</td>\n",
       "      <td>[[{'WhPerMile': 600, 'kWhRequested': 180.0, 'm...</td>\n",
       "    </tr>\n",
       "  </tbody>\n",
       "</table>\n",
       "</div>"
      ],
      "text/plain": [
       "                             id      connectionTime      disconnectTime  \\\n",
       "18641  610c829df9af8b0580e98730 2021-07-20 15:16:54 2021-07-21 08:18:03   \n",
       "18643  610c829df9af8b0580e98732 2021-07-20 15:16:56 2021-07-21 08:18:16   \n",
       "20986  5c60d02df9af8b149d7da395 2019-01-25 19:40:20 2019-01-26 14:36:03   \n",
       "\n",
       "         doneChargingTime  kWhDelivered  \\\n",
       "18641 2021-07-21 08:19:00    108.797242   \n",
       "18643 2021-07-21 08:19:13     89.362732   \n",
       "20986 2019-01-26 06:45:12     75.528000   \n",
       "\n",
       "                                    sessionID  siteID  spaceID    stationID  \\\n",
       "18641  1_1_193_829_2021-07-20 18:27:33.500144       1  AG-1F03  1-1-193-829   \n",
       "18643  1_1_194_818_2021-07-20 13:54:47.875453       1  AG-1F14  1-1-194-818   \n",
       "20986  2_39_91_437_2019-01-26 03:40:20.383123       2   CA-317  2-39-91-437   \n",
       "\n",
       "                  timezone  userID  \\\n",
       "18641  America/Los_Angeles   378.0   \n",
       "18643  America/Los_Angeles   481.0   \n",
       "20986  America/Los_Angeles  1225.0   \n",
       "\n",
       "                                              userInputs  \n",
       "18641  [[{'WhPerMile': 258, 'kWhRequested': 35.088, '...  \n",
       "18643  [[{'WhPerMile': 360, 'kWhRequested': 86.4, 'mi...  \n",
       "20986  [[{'WhPerMile': 600, 'kWhRequested': 180.0, 'm...  "
      ]
     },
     "execution_count": 22,
     "metadata": {},
     "output_type": "execute_result"
    }
   ],
   "source": [
    "data_unique[data_unique['kWhDelivered'] > 70]"
   ]
  },
  {
   "cell_type": "markdown",
   "metadata": {},
   "source": [
    "The high kWhDelivered values are rare but appear to be realistic given the long charging durations."
   ]
  },
  {
   "cell_type": "markdown",
   "metadata": {},
   "source": [
    "The following function replaces the outlier values that exceed the given upper limit with the median value of 'kWhDelivered'."
   ]
  },
  {
   "cell_type": "code",
   "execution_count": 23,
   "metadata": {},
   "outputs": [],
   "source": [
    "def cap_outliers(df, column, upper_limit):\n",
    "\n",
    "    median = df[column].median()\n",
    "    print(f\"Median: {median}\")\n",
    "\n",
    "    upper_limit = upper_limit\n",
    "    print(f\"Upper limit: {upper_limit}\")\n",
    "\n",
    "    df[column] = np.where(\n",
    "        df[column] > upper_limit,\n",
    "        median,\n",
    "        df[column]\n",
    "    )\n",
    "    return df\n"
   ]
  },
  {
   "cell_type": "code",
   "execution_count": 24,
   "metadata": {},
   "outputs": [
    {
     "name": "stdout",
     "output_type": "stream",
     "text": [
      "Median: 8.991\n",
      "Upper limit: 27\n"
     ]
    }
   ],
   "source": [
    "data_without_outliers = cap_outliers(data_unique, 'kWhDelivered', 27)"
   ]
  },
  {
   "cell_type": "markdown",
   "metadata": {},
   "source": [
    "Replotting the resulting distribution after capping the outliers at 27."
   ]
  },
  {
   "cell_type": "code",
   "execution_count": 25,
   "metadata": {},
   "outputs": [
    {
     "data": {
      "image/png": "[encoded data removed]",
      "text/plain": [
       "<Figure size 1600x800 with 2 Axes>"
      ]
     },
     "metadata": {},
     "output_type": "display_data"
    }
   ],
   "source": [
    "plt.figure(figsize=(16, 8))\n",
    "\n",
    "# Boxplot\n",
    "plt.subplot(2, 2, 1)\n",
    "sns.boxplot(data=data_without_outliers, y='kWhDelivered', flierprops={'alpha': 0.1})\n",
    "plt.title(\"Boxplot for kWh Delivered\", fontsize=15, fontweight='bold')\n",
    "plt.ylabel(\"kWh Delivered\", fontsize=12)\n",
    "plt.xlabel(\"\") \n",
    "\n",
    "# Histogram\n",
    "plt.subplot(2, 2, 2)\n",
    "sns.histplot(data_without_outliers['kWhDelivered'], kde=True, binwidth=2.5)\n",
    "plt.title(\"Histogram for kWh Delivered\", fontsize=15, fontweight='bold')\n",
    "plt.xlabel(\"kWh Delivered\", fontsize=12)\n",
    "plt.ylabel(\"Count\", fontsize=12)\n",
    "plt.legend(labels=[\"Kernel Density Estimation\"], fontsize=13)\n",
    "\n",
    "plt.xlim(left=0)\n",
    "\n",
    "plt.xticks(fontsize=12)\n",
    "plt.yticks(fontsize=12)\n",
    "\n",
    "plt.tight_layout()\n",
    "plt.show()"
   ]
  },
  {
   "cell_type": "markdown",
   "metadata": {},
   "source": [
    "By capping the outliers at the upper whisker to the median, the distribution becomes more stable and less influenced by extreme values. The values concentrate more closely around the median, making the distribution more compact."
   ]
  },
  {
   "cell_type": "markdown",
   "metadata": {},
   "source": [
    "#### Extracting \"userInputs\" into a Separate Table"
   ]
  },
  {
   "cell_type": "markdown",
   "metadata": {},
   "source": [
    "Process the column userInputs to ensure each entry is JSON-formatted and interpretable as a Python dictionary."
   ]
  },
  {
   "cell_type": "code",
   "execution_count": 26,
   "metadata": {},
   "outputs": [],
   "source": [
    "import json\n",
    "\n",
    "data_unique['userInputs'] = data_unique['userInputs'].astype(\"string\")\n",
    "\n",
    "def format_user_input(entry):\n",
    "    try:\n",
    "        entry = entry[2:-2]\n",
    "        entry = entry.replace(\"'\", \"\\\"\").replace(\"True\", \"true\").replace(\"False\", \"false\")  \n",
    "        return json.loads(entry)  \n",
    "    except json.JSONDecodeError:\n",
    "        return None  \n",
    "\n",
    "\n",
    "data_unique['userInputs']= data_unique['userInputs'].apply(format_user_input)"
   ]
  },
  {
   "cell_type": "markdown",
   "metadata": {},
   "source": [
    "This code extracts the contents of the userInputs column into a separate table for better clarity and organization of data. By splitting out userInputs, each nested entry can be analyzed individually, providing a more detailed view of the information stored within. This approach makes it easier to work with and understand the data structure, especially when userInputs contains multiple key-value pairs or complex JSON objects. By creating a dedicated table, each entry can be accessed, processed, and filtered independently, enhancing data readability and simplifying further analysis."
   ]
  },
  {
   "cell_type": "code",
   "execution_count": 27,
   "metadata": {},
   "outputs": [],
   "source": [
    "# Split nested lists in 'userInputs' into separate rows, resetting index for a clean DataFrame.\n",
    "data_unique_splitted = data_unique.explode('userInputs', ignore_index=True)\n",
    "\n",
    "# Select only specific columns 'id', 'userID', and 'userInputs' from the exploded DataFrame.\n",
    "userInputs_data = data_unique_splitted[['id', 'userID', 'userInputs']]\n",
    "\n",
    "# Rename the 'id' column to 'data_unique_id' for clarity.\n",
    "userInputs_data = userInputs_data.rename(columns={'id': 'data_unique_id'})\n",
    "\n",
    "# Add a new column 'id' with a unique sequential identifier for each row.\n",
    "userInputs_data['id'] = range(1, len(userInputs_data) + 1)\n",
    "\n",
    "# Expand the JSON data in 'userInputs' column to separate columns for each key-value pair.\n",
    "userInputs_expanded = pd.json_normalize(userInputs_data['userInputs'])\n",
    "\n",
    "# Concatenate the expanded data with the original DataFrame along columns (side by side).\n",
    "userInputs_data = pd.concat([userInputs_data, userInputs_expanded], axis=1)\n",
    "\n",
    "# Drop the original 'userInputs' column as it's no longer needed after expanding.\n",
    "userInputs_data = userInputs_data.drop('userInputs', axis=1)\n",
    "\n",
    "# Remove rows with missing values in critical columns 'userID', 'WhPerMile', and 'kWhRequested'.\n",
    "userInputs_data = userInputs_data.dropna(subset=['userID', 'WhPerMile', 'kWhRequested'])\n",
    "\n",
    "# Convert 'paymentRequired' column to a boolean type for correct data interpretation.\n",
    "userInputs_data['paymentRequired'] = userInputs_data['paymentRequired'].astype(bool)\n",
    "\n",
    "# Modify 'modifiedAt' column: extract only the date and time, convert to datetime in UTC, and localize to LA time.\n",
    "userInputs_data['modifiedAt'] = userInputs_data['modifiedAt'].apply(\n",
    "    lambda x: x.split(\", \")[1].replace(\" GMT\", \"\") if isinstance(x, str) else x\n",
    ")\n",
    "userInputs_data['modifiedAt'] = pd.to_datetime(userInputs_data['modifiedAt'], format=\"%d %b %Y %H:%M:%S\", utc=True, errors='coerce')\n",
    "userInputs_data['modifiedAt'] = userInputs_data['modifiedAt'].dt.tz_convert('America/Los_Angeles').dt.tz_localize(None)\n",
    "\n",
    "# Modify 'requestedDeparture' column: extract only the date and time, convert to datetime in UTC, and localize to LA time.\n",
    "userInputs_data['requestedDeparture'] = userInputs_data['requestedDeparture'].apply(\n",
    "    lambda x: x.split(\", \")[1].replace(\" GMT\", \"\") if isinstance(x, str) else x\n",
    ")\n",
    "userInputs_data['requestedDeparture'] = pd.to_datetime(userInputs_data['requestedDeparture'], format=\"%d %b %Y %H:%M:%S\", utc=True, errors='coerce')\n",
    "userInputs_data['requestedDeparture'] = userInputs_data['requestedDeparture'].dt.tz_convert('America/Los_Angeles').dt.tz_localize(None)\n",
    "\n",
    "#  drop userInputs in data_unique table since its not needed anymore\n",
    "data_unique = data_unique.drop('userInputs', axis=1)\n"
   ]
  },
  {
   "cell_type": "code",
   "execution_count": 28,
   "metadata": {},
   "outputs": [
    {
     "data": {
      "text/html": [
       "<div>\n",
       "<style scoped>\n",
       "    .dataframe tbody tr th:only-of-type {\n",
       "        vertical-align: middle;\n",
       "    }\n",
       "\n",
       "    .dataframe tbody tr th {\n",
       "        vertical-align: top;\n",
       "    }\n",
       "\n",
       "    .dataframe thead th {\n",
       "        text-align: right;\n",
       "    }\n",
       "</style>\n",
       "<table border=\"1\" class=\"dataframe\">\n",
       "  <thead>\n",
       "    <tr style=\"text-align: right;\">\n",
       "      <th></th>\n",
       "      <th>data_unique_id</th>\n",
       "      <th>userID</th>\n",
       "      <th>id</th>\n",
       "      <th>WhPerMile</th>\n",
       "      <th>kWhRequested</th>\n",
       "      <th>milesRequested</th>\n",
       "      <th>minutesAvailable</th>\n",
       "      <th>modifiedAt</th>\n",
       "      <th>paymentRequired</th>\n",
       "      <th>requestedDeparture</th>\n",
       "      <th>userID</th>\n",
       "    </tr>\n",
       "  </thead>\n",
       "  <tbody>\n",
       "    <tr>\n",
       "      <th>0</th>\n",
       "      <td>5e23b149f9af8b5fe4b973cf</td>\n",
       "      <td>194.0</td>\n",
       "      <td>1</td>\n",
       "      <td>250.0</td>\n",
       "      <td>25.0</td>\n",
       "      <td>100.0</td>\n",
       "      <td>463.0</td>\n",
       "      <td>2020-01-02 05:09:39</td>\n",
       "      <td>True</td>\n",
       "      <td>2020-01-02 12:51:54</td>\n",
       "      <td>194.0</td>\n",
       "    </tr>\n",
       "    <tr>\n",
       "      <th>1</th>\n",
       "      <td>5e23b149f9af8b5fe4b973d0</td>\n",
       "      <td>4275.0</td>\n",
       "      <td>2</td>\n",
       "      <td>280.0</td>\n",
       "      <td>70.0</td>\n",
       "      <td>250.0</td>\n",
       "      <td>595.0</td>\n",
       "      <td>2020-01-02 05:37:11</td>\n",
       "      <td>True</td>\n",
       "      <td>2020-01-02 15:31:50</td>\n",
       "      <td>4275.0</td>\n",
       "    </tr>\n",
       "    <tr>\n",
       "      <th>2</th>\n",
       "      <td>5e23b149f9af8b5fe4b973d1</td>\n",
       "      <td>344.0</td>\n",
       "      <td>3</td>\n",
       "      <td>400.0</td>\n",
       "      <td>8.0</td>\n",
       "      <td>20.0</td>\n",
       "      <td>60.0</td>\n",
       "      <td>2020-01-02 05:57:17</td>\n",
       "      <td>True</td>\n",
       "      <td>2020-01-02 06:56:35</td>\n",
       "      <td>344.0</td>\n",
       "    </tr>\n",
       "    <tr>\n",
       "      <th>3</th>\n",
       "      <td>5e23b149f9af8b5fe4b973d2</td>\n",
       "      <td>1117.0</td>\n",
       "      <td>4</td>\n",
       "      <td>400.0</td>\n",
       "      <td>8.0</td>\n",
       "      <td>20.0</td>\n",
       "      <td>65.0</td>\n",
       "      <td>2020-01-02 06:00:03</td>\n",
       "      <td>True</td>\n",
       "      <td>2020-01-02 07:04:58</td>\n",
       "      <td>1117.0</td>\n",
       "    </tr>\n",
       "    <tr>\n",
       "      <th>4</th>\n",
       "      <td>5e23b149f9af8b5fe4b973d2</td>\n",
       "      <td>1117.0</td>\n",
       "      <td>5</td>\n",
       "      <td>400.0</td>\n",
       "      <td>8.0</td>\n",
       "      <td>20.0</td>\n",
       "      <td>65.0</td>\n",
       "      <td>2020-01-02 06:00:19</td>\n",
       "      <td>True</td>\n",
       "      <td>2020-01-02 07:04:58</td>\n",
       "      <td>1117.0</td>\n",
       "    </tr>\n",
       "  </tbody>\n",
       "</table>\n",
       "</div>"
      ],
      "text/plain": [
       "             data_unique_id  userID  id  WhPerMile  kWhRequested  \\\n",
       "0  5e23b149f9af8b5fe4b973cf   194.0   1      250.0          25.0   \n",
       "1  5e23b149f9af8b5fe4b973d0  4275.0   2      280.0          70.0   \n",
       "2  5e23b149f9af8b5fe4b973d1   344.0   3      400.0           8.0   \n",
       "3  5e23b149f9af8b5fe4b973d2  1117.0   4      400.0           8.0   \n",
       "4  5e23b149f9af8b5fe4b973d2  1117.0   5      400.0           8.0   \n",
       "\n",
       "   milesRequested  minutesAvailable          modifiedAt  paymentRequired  \\\n",
       "0           100.0             463.0 2020-01-02 05:09:39             True   \n",
       "1           250.0             595.0 2020-01-02 05:37:11             True   \n",
       "2            20.0              60.0 2020-01-02 05:57:17             True   \n",
       "3            20.0              65.0 2020-01-02 06:00:03             True   \n",
       "4            20.0              65.0 2020-01-02 06:00:19             True   \n",
       "\n",
       "   requestedDeparture  userID  \n",
       "0 2020-01-02 12:51:54   194.0  \n",
       "1 2020-01-02 15:31:50  4275.0  \n",
       "2 2020-01-02 06:56:35   344.0  \n",
       "3 2020-01-02 07:04:58  1117.0  \n",
       "4 2020-01-02 07:04:58  1117.0  "
      ]
     },
     "execution_count": 28,
     "metadata": {},
     "output_type": "execute_result"
    }
   ],
   "source": [
    "userInputs_data.head()"
   ]
  },
  {
   "cell_type": "code",
   "execution_count": 29,
   "metadata": {},
   "outputs": [],
   "source": [
    "# split the dataset in two different. One for the station with siteID 1 and one for the station with the siteID 2 for further analysis\n",
    "data_1 = data_unique[data_unique['siteID']==1]\n",
    "data_2 = data_unique[data_unique['siteID']==2]"
   ]
  },
  {
   "cell_type": "markdown",
   "metadata": {},
   "source": [
    "#### Preprocessing Weather Burbank Dataset"
   ]
  },
  {
   "cell_type": "markdown",
   "metadata": {},
   "source": [
    "The weather dataset is also imported and duplicates are removed. Although there are none, we have carried out this step to be on the safe side.  \n",
    "The data was converted to the corresponding data types and the time was adjusted to the los-angeles time zone again.  \n",
    "There is some missing data in this data set for the `temperature` and the `cloud_cover`. However, these are difficult to reproduce and are therefore deleted from the data set."
   ]
  },
  {
   "cell_type": "code",
   "execution_count": 30,
   "metadata": {},
   "outputs": [
    {
     "name": "stdout",
     "output_type": "stream",
     "text": [
      "city                       string[python]\n",
      "timestamp                  datetime64[ns]\n",
      "temperature                       float64\n",
      "cloud_cover                       float64\n",
      "cloud_cover_description    string[python]\n",
      "pressure                          float64\n",
      "windspeed                         float64\n",
      "precipitation                     float64\n",
      "felt_temperature                  float64\n",
      "dtype: object\n"
     ]
    }
   ],
   "source": [
    "weather_raw=pd.read_csv(\"data/weather_burbank_airport.csv\")\n",
    "\n",
    "# delete duplicates\n",
    "columns = [\n",
    "    'city', 'timestamp', 'temperature', 'cloud_cover',\n",
    "    'cloud_cover_description', 'pressure', 'windspeed', 'precipitation', 'felt_temperature'\n",
    "]\n",
    "weather_unique = weather_raw.drop_duplicates(subset=columns)\n",
    "\n",
    "#Transform to correct Data Types\n",
    "weather_unique['city']=weather_raw['city'].astype('string')\n",
    "weather_unique['timestamp'] = pd.to_datetime(weather_raw['timestamp'], utc=True).dt.tz_convert('America/Los_Angeles').dt.tz_localize(None)\n",
    "weather_unique['cloud_cover_description']=weather_raw['cloud_cover_description'].astype('string')\n",
    "\n",
    "# drop with missing values\n",
    "weather_unique = weather_unique.dropna(subset=['temperature'])\n",
    "weather_unique = weather_unique.dropna(subset=['cloud_cover'])\n",
    "\n",
    "print(weather_unique.dtypes)"
   ]
  },
  {
   "cell_type": "markdown",
   "metadata": {},
   "source": [
    "#### Key Performance Indicators (KPIs)"
   ]
  },
  {
   "cell_type": "markdown",
   "metadata": {},
   "source": [
    ">\"What’s more, when a lot of users want to charge\n",
    "in the same spot (e.g. in a shopping center), they are capacity constrained, as usually not all charging\n",
    "stations in one hub can operate at full capacity at the same time. Thus, for operators of such charging\n",
    "hubs, it is of great importance to monitor, understand, plan, and potentially even steer the charging\n",
    "sessions of connected EV.\"\n",
    "\n",
    "Wir brauchen KPIs, die dem Betreiber die Auslastung des Ladehubs anzeigen: Average Hourly Utilization. Wir haben zwei Sites mit ca. 50 charging stations in jedem. Wir wollen die stündliche Auslastung durch die charging sessions in beiden Hubs angezeigt bekommen."
   ]
  },
  {
   "cell_type": "code",
   "execution_count": 49,
   "metadata": {},
   "outputs": [
    {
     "data": {
      "image/png": "[encoded data removed]",
      "text/plain": [
       "<Figure size 1200x600 with 1 Axes>"
      ]
     },
     "metadata": {},
     "output_type": "display_data"
    }
   ],
   "source": [
    "avg_charging_speed = []\n",
    "\n",
    "for site in data_unique['siteID'].unique():\n",
    "    hub_data = data_unique[data_unique['siteID'] == site]\n",
    "    \n",
    "    for _, session in hub_data.iterrows():\n",
    "        connection_time = session['connectionTime']\n",
    "        doneCharging_time = session['doneChargingTime']\n",
    "        kwh_delivered = session['kWhDelivered']\n",
    "        \n",
    "        start_hour = connection_time.hour\n",
    "        end_hour = doneCharging_time.hour\n",
    "        \n",
    "        if doneCharging_time < connection_time:\n",
    "            doneCharging_time += pd.Timedelta(days=1)\n",
    "        \n",
    "        total_duration_hours = (doneCharging_time - connection_time).total_seconds() / 3600\n",
    "\n",
    "        if total_duration_hours > 0:\n",
    "            for hour in range(start_hour, end_hour + 1) if start_hour <= end_hour else list(range(start_hour, 24)) + list(range(0, end_hour + 1)):\n",
    "                if hour == start_hour:\n",
    "                    partial_duration = 1 - (connection_time.minute / 60)\n",
    "                elif hour == end_hour:\n",
    "                    partial_duration = doneCharging_time.minute / 60\n",
    "                else:\n",
    "                    partial_duration = 1\n",
    "                \n",
    "                energy_for_hour = kwh_delivered * (partial_duration / total_duration_hours)\n",
    "                avg_charging_speed.append({'siteID': site, 'hour': hour, 'energyPerHour': energy_for_hour})\n",
    "\n",
    "avg_charging_speed_df = pd.DataFrame(avg_charging_speed)\n",
    "\n",
    "hourly_avg_speed = (\n",
    "    avg_charging_speed_df.groupby(['siteID', 'hour'])['energyPerHour']\n",
    "    .mean()\n",
    "    .reset_index()\n",
    ")\n",
    "\n",
    "plt.figure(figsize=(12, 6))\n",
    "sns.lineplot(\n",
    "    data=hourly_avg_speed,\n",
    "    x='hour',\n",
    "    y='energyPerHour',\n",
    "    hue='siteID',\n",
    "    palette=colors,\n",
    "    marker='o'\n",
    ")\n",
    "plt.title('Average charging speed per hour and hub (kWh/h)')\n",
    "plt.xlabel('Hour (0–24 h)')\n",
    "plt.ylabel('Average charging speed (kWh/h)')\n",
    "plt.xticks(ticks=range(0, 24), labels=range(0, 24))\n",
    "plt.ylim(0, 3.5)\n",
    "plt.grid(True)\n",
    "plt.tight_layout()\n",
    "plt.legend(fontsize=10, title_fontsize=12)\n",
    "plt.show()"
   ]
  }
 ],
 "metadata": {
  "kernelspec": {
   "display_name": "Python 3 (ipykernel)",
   "language": "python",
   "name": "python3"
  },
  "language_info": {
   "codemirror_mode": {
    "name": "ipython",
    "version": 3
   },
   "file_extension": ".py",
   "mimetype": "text/x-python",
   "name": "python",
   "nbconvert_exporter": "python",
   "pygments_lexer": "ipython3",
   "version": "3.12.7"
  }
 },
 "nbformat": 4,
 "nbformat_minor": 4
}
