{
 "cells": [
  {
   "cell_type": "markdown",
   "metadata": {},
   "source": [
    "# `DataDynamos`\n",
    "\n",
    "**Table of Contents:**\n",
    "1. [Data Collection and Preparation](#1-data-collection-and-preparation)  \n",
    "2. [Descriptive Analytics](#2-descriptive-analytics)\n",
    "    - [Temporal Patterns and Seasonality](#Temporal-patterns-and-Seasonality)\n",
    "    - [Key Performance Indicators (KPIs)](#key-performance-indicators-kpis)\n",
    "    - [Site Characteristics](#site-characteristics-identifying-the-public-charging-hub)\n",
    "3. [Cluster Analysis](#3-cluster-analysis)\n",
    "4. [Utilization Prediction](#4-utilization-prediction)"
   ]
  },
  {
   "cell_type": "markdown",
   "metadata": {},
   "source": [
    "------------------------------------------------"
   ]
  },
  {
   "cell_type": "markdown",
   "metadata": {},
   "source": [
    "## `1. Data Collection and Preparation`"
   ]
  },
  {
   "cell_type": "markdown",
   "metadata": {},
   "source": [
    "First, we import important libraries needed for the following tasks."
   ]
  },
  {
   "cell_type": "code",
   "execution_count": 1,
   "metadata": {},
   "outputs": [],
   "source": [
    "import warnings\n",
    "warnings.filterwarnings(\"ignore\")\n",
    "import pandas as pd\n",
    "import numpy as np\n",
    "import matplotlib.pyplot as plt\n",
    "import seaborn as sns\n",
    "import ast"
   ]
  },
  {
   "cell_type": "markdown",
   "metadata": {},
   "source": [
    "#### Preprocessing Charging Sessions Dataset"
   ]
  },
  {
   "cell_type": "markdown",
   "metadata": {},
   "source": [
    "We import the necessary dataset (charging sessions of EVs) with the data of charging garages in Los Angeles."
   ]
  },
  {
   "cell_type": "code",
   "execution_count": 2,
   "metadata": {},
   "outputs": [],
   "source": [
    "data_raw = pd.read_csv(\"data/charging_sessions.csv\")"
   ]
  },
  {
   "cell_type": "markdown",
   "metadata": {},
   "source": [
    "Getting a first sight of the data by displaying the first 5 observations."
   ]
  },
  {
   "cell_type": "code",
   "execution_count": 3,
   "metadata": {},
   "outputs": [
    {
     "data": {
      "text/html": [
       "<div>\n",
       "<style scoped>\n",
       "    .dataframe tbody tr th:only-of-type {\n",
       "        vertical-align: middle;\n",
       "    }\n",
       "\n",
       "    .dataframe tbody tr th {\n",
       "        vertical-align: top;\n",
       "    }\n",
       "\n",
       "    .dataframe thead th {\n",
       "        text-align: right;\n",
       "    }\n",
       "</style>\n",
       "<table border=\"1\" class=\"dataframe\">\n",
       "  <thead>\n",
       "    <tr style=\"text-align: right;\">\n",
       "      <th></th>\n",
       "      <th>Unnamed: 0</th>\n",
       "      <th>id</th>\n",
       "      <th>connectionTime</th>\n",
       "      <th>disconnectTime</th>\n",
       "      <th>doneChargingTime</th>\n",
       "      <th>kWhDelivered</th>\n",
       "      <th>sessionID</th>\n",
       "      <th>siteID</th>\n",
       "      <th>spaceID</th>\n",
       "      <th>stationID</th>\n",
       "      <th>timezone</th>\n",
       "      <th>userID</th>\n",
       "      <th>userInputs</th>\n",
       "    </tr>\n",
       "  </thead>\n",
       "  <tbody>\n",
       "    <tr>\n",
       "      <th>0</th>\n",
       "      <td>0</td>\n",
       "      <td>5e23b149f9af8b5fe4b973cf</td>\n",
       "      <td>2020-01-02 13:08:54+00:00</td>\n",
       "      <td>2020-01-02 19:11:15+00:00</td>\n",
       "      <td>2020-01-02 17:31:35+00:00</td>\n",
       "      <td>25.016</td>\n",
       "      <td>1_1_179_810_2020-01-02 13:08:53.870034</td>\n",
       "      <td>1</td>\n",
       "      <td>AG-3F30</td>\n",
       "      <td>1-1-179-810</td>\n",
       "      <td>America/Los_Angeles</td>\n",
       "      <td>194.0</td>\n",
       "      <td>[{'WhPerMile': 250, 'kWhRequested': 25.0, 'mil...</td>\n",
       "    </tr>\n",
       "    <tr>\n",
       "      <th>1</th>\n",
       "      <td>1</td>\n",
       "      <td>5e23b149f9af8b5fe4b973d0</td>\n",
       "      <td>2020-01-02 13:36:50+00:00</td>\n",
       "      <td>2020-01-02 22:38:21+00:00</td>\n",
       "      <td>2020-01-02 20:18:05+00:00</td>\n",
       "      <td>33.097</td>\n",
       "      <td>1_1_193_825_2020-01-02 13:36:49.599853</td>\n",
       "      <td>1</td>\n",
       "      <td>AG-1F01</td>\n",
       "      <td>1-1-193-825</td>\n",
       "      <td>America/Los_Angeles</td>\n",
       "      <td>4275.0</td>\n",
       "      <td>[{'WhPerMile': 280, 'kWhRequested': 70.0, 'mil...</td>\n",
       "    </tr>\n",
       "    <tr>\n",
       "      <th>2</th>\n",
       "      <td>2</td>\n",
       "      <td>5e23b149f9af8b5fe4b973d1</td>\n",
       "      <td>2020-01-02 13:56:35+00:00</td>\n",
       "      <td>2020-01-03 00:39:22+00:00</td>\n",
       "      <td>2020-01-02 16:35:06+00:00</td>\n",
       "      <td>6.521</td>\n",
       "      <td>1_1_193_829_2020-01-02 13:56:35.214993</td>\n",
       "      <td>1</td>\n",
       "      <td>AG-1F03</td>\n",
       "      <td>1-1-193-829</td>\n",
       "      <td>America/Los_Angeles</td>\n",
       "      <td>344.0</td>\n",
       "      <td>[{'WhPerMile': 400, 'kWhRequested': 8.0, 'mile...</td>\n",
       "    </tr>\n",
       "    <tr>\n",
       "      <th>3</th>\n",
       "      <td>3</td>\n",
       "      <td>5e23b149f9af8b5fe4b973d2</td>\n",
       "      <td>2020-01-02 13:59:58+00:00</td>\n",
       "      <td>2020-01-02 16:38:39+00:00</td>\n",
       "      <td>2020-01-02 15:18:45+00:00</td>\n",
       "      <td>2.355</td>\n",
       "      <td>1_1_193_820_2020-01-02 13:59:58.309319</td>\n",
       "      <td>1</td>\n",
       "      <td>AG-1F04</td>\n",
       "      <td>1-1-193-820</td>\n",
       "      <td>America/Los_Angeles</td>\n",
       "      <td>1117.0</td>\n",
       "      <td>[{'WhPerMile': 400, 'kWhRequested': 8.0, 'mile...</td>\n",
       "    </tr>\n",
       "    <tr>\n",
       "      <th>4</th>\n",
       "      <td>4</td>\n",
       "      <td>5e23b149f9af8b5fe4b973d3</td>\n",
       "      <td>2020-01-02 14:00:01+00:00</td>\n",
       "      <td>2020-01-02 22:08:40+00:00</td>\n",
       "      <td>2020-01-02 18:17:30+00:00</td>\n",
       "      <td>13.375</td>\n",
       "      <td>1_1_193_819_2020-01-02 14:00:00.779967</td>\n",
       "      <td>1</td>\n",
       "      <td>AG-1F06</td>\n",
       "      <td>1-1-193-819</td>\n",
       "      <td>America/Los_Angeles</td>\n",
       "      <td>334.0</td>\n",
       "      <td>[{'WhPerMile': 400, 'kWhRequested': 16.0, 'mil...</td>\n",
       "    </tr>\n",
       "  </tbody>\n",
       "</table>\n",
       "</div>"
      ],
      "text/plain": [
       "   Unnamed: 0                        id             connectionTime  \\\n",
       "0           0  5e23b149f9af8b5fe4b973cf  2020-01-02 13:08:54+00:00   \n",
       "1           1  5e23b149f9af8b5fe4b973d0  2020-01-02 13:36:50+00:00   \n",
       "2           2  5e23b149f9af8b5fe4b973d1  2020-01-02 13:56:35+00:00   \n",
       "3           3  5e23b149f9af8b5fe4b973d2  2020-01-02 13:59:58+00:00   \n",
       "4           4  5e23b149f9af8b5fe4b973d3  2020-01-02 14:00:01+00:00   \n",
       "\n",
       "              disconnectTime           doneChargingTime  kWhDelivered  \\\n",
       "0  2020-01-02 19:11:15+00:00  2020-01-02 17:31:35+00:00        25.016   \n",
       "1  2020-01-02 22:38:21+00:00  2020-01-02 20:18:05+00:00        33.097   \n",
       "2  2020-01-03 00:39:22+00:00  2020-01-02 16:35:06+00:00         6.521   \n",
       "3  2020-01-02 16:38:39+00:00  2020-01-02 15:18:45+00:00         2.355   \n",
       "4  2020-01-02 22:08:40+00:00  2020-01-02 18:17:30+00:00        13.375   \n",
       "\n",
       "                                sessionID  siteID  spaceID    stationID  \\\n",
       "0  1_1_179_810_2020-01-02 13:08:53.870034       1  AG-3F30  1-1-179-810   \n",
       "1  1_1_193_825_2020-01-02 13:36:49.599853       1  AG-1F01  1-1-193-825   \n",
       "2  1_1_193_829_2020-01-02 13:56:35.214993       1  AG-1F03  1-1-193-829   \n",
       "3  1_1_193_820_2020-01-02 13:59:58.309319       1  AG-1F04  1-1-193-820   \n",
       "4  1_1_193_819_2020-01-02 14:00:00.779967       1  AG-1F06  1-1-193-819   \n",
       "\n",
       "              timezone  userID  \\\n",
       "0  America/Los_Angeles   194.0   \n",
       "1  America/Los_Angeles  4275.0   \n",
       "2  America/Los_Angeles   344.0   \n",
       "3  America/Los_Angeles  1117.0   \n",
       "4  America/Los_Angeles   334.0   \n",
       "\n",
       "                                          userInputs  \n",
       "0  [{'WhPerMile': 250, 'kWhRequested': 25.0, 'mil...  \n",
       "1  [{'WhPerMile': 280, 'kWhRequested': 70.0, 'mil...  \n",
       "2  [{'WhPerMile': 400, 'kWhRequested': 8.0, 'mile...  \n",
       "3  [{'WhPerMile': 400, 'kWhRequested': 8.0, 'mile...  \n",
       "4  [{'WhPerMile': 400, 'kWhRequested': 16.0, 'mil...  "
      ]
     },
     "execution_count": 3,
     "metadata": {},
     "output_type": "execute_result"
    }
   ],
   "source": [
    "data_raw.head(5)"
   ]
  },
  {
   "cell_type": "code",
   "execution_count": 4,
   "metadata": {},
   "outputs": [
    {
     "name": "stdout",
     "output_type": "stream",
     "text": [
      "rows: 66450, columns: 13\n"
     ]
    }
   ],
   "source": [
    "num_rows, num_columns = data_raw.shape\n",
    "print(f\"rows: {num_rows}, columns: {num_columns}\")"
   ]
  },
  {
   "cell_type": "markdown",
   "metadata": {},
   "source": [
    "The data in the dataset contains 66.450 observation over 13 different variables. Next, we drop duplicates and have closer look at the different datatypes."
   ]
  },
  {
   "cell_type": "code",
   "execution_count": 5,
   "metadata": {},
   "outputs": [],
   "source": [
    "columns = [\n",
    "    'connectionTime', 'disconnectTime', 'doneChargingTime', 'kWhDelivered',\n",
    "    'sessionID', 'siteID', 'spaceID', 'stationID', 'timezone', 'userID', 'userInputs'\n",
    "]\n",
    "data_unique = data_raw.drop_duplicates(subset=columns)"
   ]
  },
  {
   "cell_type": "code",
   "execution_count": 6,
   "metadata": {},
   "outputs": [
    {
     "name": "stdout",
     "output_type": "stream",
     "text": [
      "                 Row Datetype\n",
      "0         Unnamed: 0    int64\n",
      "1                 id   object\n",
      "2     connectionTime   object\n",
      "3     disconnectTime   object\n",
      "4   doneChargingTime   object\n",
      "5       kWhDelivered  float64\n",
      "6          sessionID   object\n",
      "7             siteID    int64\n",
      "8            spaceID   object\n",
      "9          stationID   object\n",
      "10          timezone   object\n",
      "11            userID  float64\n",
      "12        userInputs   object\n"
     ]
    }
   ],
   "source": [
    "dtypes_data = data_unique.dtypes.reset_index()\n",
    "dtypes_data.columns = ['Row', 'Datetype']\n",
    "print(dtypes_data)"
   ]
  },
  {
   "cell_type": "markdown",
   "metadata": {},
   "source": [
    "We convert all the data into corresponding data types so that we can use them in the further analysis. \n",
    "The time-related data is given in the UTC time zone, but the garages are in Los Angeles. In order to obtain accurate information about the timestamps, the data must therefore be converted to the corresponding time zone (LosAngeles).  "
   ]
  },
  {
   "cell_type": "code",
   "execution_count": 7,
   "metadata": {},
   "outputs": [],
   "source": [
    "data_unique['id'] = data_unique['id'].astype(\"string\")\n",
    "data_unique['connectionTime'] = pd.to_datetime(data_unique['connectionTime'], utc=True).dt.tz_convert('America/Los_Angeles').dt.tz_localize(None)\n",
    "data_unique['disconnectTime'] = pd.to_datetime(data_unique['disconnectTime'], utc=True).dt.tz_convert('America/Los_Angeles').dt.tz_localize(None)\n",
    "data_unique['doneChargingTime'] = pd.to_datetime(data_unique['doneChargingTime'], utc=True).dt.tz_convert('America/Los_Angeles').dt.tz_localize(None)\n",
    "data_unique['sessionID'] = data_unique['sessionID'].astype(\"string\")\n",
    "data_unique['siteID'] = data_unique['siteID'].astype(\"int\")\n",
    "data_unique['spaceID'] = data_unique['spaceID'].astype(\"string\")\n",
    "data_unique['stationID'] = data_unique['stationID'].astype(\"string\")\n",
    "data_unique['timezone'] = data_unique['timezone'].astype(\"string\")\n",
    "data_unique['userID'] = data_unique['userID'].astype(\"string\")\n",
    "data_unique['sessionID'] = data_unique['sessionID'].astype(\"string\")\n",
    "data_unique['userInputs'] = data_unique['userInputs'].apply(lambda x: list(x) if isinstance(x, list) else [x])"
   ]
  },
  {
   "cell_type": "markdown",
   "metadata": {},
   "source": [
    "The `unnamed` column is presumably an index from the riginal DataFrame and gets transferred into a column when reading the CSV-file. Since our data contains a unique ID for each entry, the unnamed-numbering is not needed and can be deleted."
   ]
  },
  {
   "cell_type": "code",
   "execution_count": 8,
   "metadata": {},
   "outputs": [
    {
     "name": "stdout",
     "output_type": "stream",
     "text": [
      "id                  string[python]\n",
      "connectionTime      datetime64[ns]\n",
      "disconnectTime      datetime64[ns]\n",
      "doneChargingTime    datetime64[ns]\n",
      "kWhDelivered               float64\n",
      "sessionID           string[python]\n",
      "siteID                       int64\n",
      "spaceID             string[python]\n",
      "stationID           string[python]\n",
      "timezone            string[python]\n",
      "userID              string[python]\n",
      "userInputs                  object\n",
      "dtype: object\n"
     ]
    }
   ],
   "source": [
    "data_unique = data_unique.drop('Unnamed: 0', axis=1)\n",
    "\n",
    "print(data_unique.dtypes)"
   ]
  },
  {
   "cell_type": "code",
   "execution_count": 9,
   "metadata": {},
   "outputs": [
    {
     "name": "stdout",
     "output_type": "stream",
     "text": [
      "<class 'pandas.core.frame.DataFrame'>\n",
      "Index: 65037 entries, 0 to 65036\n",
      "Data columns (total 12 columns):\n",
      " #   Column            Non-Null Count  Dtype         \n",
      "---  ------            --------------  -----         \n",
      " 0   id                65037 non-null  string        \n",
      " 1   connectionTime    65037 non-null  datetime64[ns]\n",
      " 2   disconnectTime    65037 non-null  datetime64[ns]\n",
      " 3   doneChargingTime  60950 non-null  datetime64[ns]\n",
      " 4   kWhDelivered      65037 non-null  float64       \n",
      " 5   sessionID         65037 non-null  string        \n",
      " 6   siteID            65037 non-null  int64         \n",
      " 7   spaceID           65037 non-null  string        \n",
      " 8   stationID         65037 non-null  string        \n",
      " 9   timezone          65037 non-null  string        \n",
      " 10  userID            47822 non-null  string        \n",
      " 11  userInputs        65037 non-null  object        \n",
      "dtypes: datetime64[ns](3), float64(1), int64(1), object(1), string(6)\n",
      "memory usage: 6.5+ MB\n",
      "None\n"
     ]
    }
   ],
   "source": [
    "print(data_unique.info())"
   ]
  },
  {
   "cell_type": "code",
   "execution_count": 10,
   "metadata": {},
   "outputs": [
    {
     "name": "stdout",
     "output_type": "stream",
     "text": [
      "id                      0\n",
      "connectionTime          0\n",
      "disconnectTime          0\n",
      "doneChargingTime     4087\n",
      "kWhDelivered            0\n",
      "sessionID               0\n",
      "siteID                  0\n",
      "spaceID                 0\n",
      "stationID               0\n",
      "timezone                0\n",
      "userID              17215\n",
      "userInputs              0\n",
      "dtype: int64\n"
     ]
    }
   ],
   "source": [
    "missing_values_count = data_unique.isnull().sum()\n",
    "print(missing_values_count)"
   ]
  },
  {
   "cell_type": "markdown",
   "metadata": {},
   "source": [
    "By looking at the dataframe, you can see that `doneChargingTime` and `userID` have missing values.  \n",
    "\n",
    "The missing values in userID can be explained by the fact that not every garage user is registered; therefore, some accounts are naturally absent. However, the missing entries in `doneChargingTime` appear unusual."
   ]
  },
  {
   "cell_type": "code",
   "execution_count": 11,
   "metadata": {},
   "outputs": [
    {
     "data": {
      "text/html": [
       "<div>\n",
       "<style scoped>\n",
       "    .dataframe tbody tr th:only-of-type {\n",
       "        vertical-align: middle;\n",
       "    }\n",
       "\n",
       "    .dataframe tbody tr th {\n",
       "        vertical-align: top;\n",
       "    }\n",
       "\n",
       "    .dataframe thead th {\n",
       "        text-align: right;\n",
       "    }\n",
       "</style>\n",
       "<table border=\"1\" class=\"dataframe\">\n",
       "  <thead>\n",
       "    <tr style=\"text-align: right;\">\n",
       "      <th></th>\n",
       "      <th>id</th>\n",
       "      <th>connectionTime</th>\n",
       "      <th>disconnectTime</th>\n",
       "      <th>doneChargingTime</th>\n",
       "      <th>kWhDelivered</th>\n",
       "      <th>sessionID</th>\n",
       "      <th>siteID</th>\n",
       "      <th>spaceID</th>\n",
       "      <th>stationID</th>\n",
       "      <th>timezone</th>\n",
       "      <th>userID</th>\n",
       "      <th>userInputs</th>\n",
       "    </tr>\n",
       "  </thead>\n",
       "  <tbody>\n",
       "    <tr>\n",
       "      <th>3756</th>\n",
       "      <td>5ea3848df9af8b428bf97225</td>\n",
       "      <td>2020-04-08 09:36:53</td>\n",
       "      <td>2020-04-08 20:43:29</td>\n",
       "      <td>NaT</td>\n",
       "      <td>25.183</td>\n",
       "      <td>1_1_194_822_2020-04-08 16:36:53.316264</td>\n",
       "      <td>1</td>\n",
       "      <td>AG-1F12</td>\n",
       "      <td>1-1-194-822</td>\n",
       "      <td>America/Los_Angeles</td>\n",
       "      <td>507.0</td>\n",
       "      <td>[[{'WhPerMile': 250, 'kWhRequested': 75.0, 'mi...</td>\n",
       "    </tr>\n",
       "    <tr>\n",
       "      <th>3757</th>\n",
       "      <td>5ea4d60df9af8b46573f1ee7</td>\n",
       "      <td>2020-04-09 06:23:52</td>\n",
       "      <td>2020-04-09 10:59:02</td>\n",
       "      <td>NaT</td>\n",
       "      <td>14.136</td>\n",
       "      <td>1_1_193_827_2020-04-09 13:23:51.689520</td>\n",
       "      <td>1</td>\n",
       "      <td>AG-1F02</td>\n",
       "      <td>1-1-193-827</td>\n",
       "      <td>America/Los_Angeles</td>\n",
       "      <td>419.0</td>\n",
       "      <td>[[{'WhPerMile': 400, 'kWhRequested': 40.0, 'mi...</td>\n",
       "    </tr>\n",
       "    <tr>\n",
       "      <th>3758</th>\n",
       "      <td>5ea4d60df9af8b46573f1ee8</td>\n",
       "      <td>2020-04-09 06:40:03</td>\n",
       "      <td>2020-04-09 14:43:22</td>\n",
       "      <td>NaT</td>\n",
       "      <td>14.203</td>\n",
       "      <td>1_1_178_823_2020-04-09 13:39:55.115497</td>\n",
       "      <td>1</td>\n",
       "      <td>AG-1F08</td>\n",
       "      <td>1-1-178-823</td>\n",
       "      <td>America/Los_Angeles</td>\n",
       "      <td>5065.0</td>\n",
       "      <td>[[{'WhPerMile': 400, 'kWhRequested': 24.0, 'mi...</td>\n",
       "    </tr>\n",
       "    <tr>\n",
       "      <th>3759</th>\n",
       "      <td>5ea4d60df9af8b46573f1ee9</td>\n",
       "      <td>2020-04-09 07:01:53</td>\n",
       "      <td>2020-04-09 09:33:40</td>\n",
       "      <td>NaT</td>\n",
       "      <td>13.041</td>\n",
       "      <td>1_1_178_828_2020-04-09 14:01:53.467693</td>\n",
       "      <td>1</td>\n",
       "      <td>AG-1F10</td>\n",
       "      <td>1-1-178-828</td>\n",
       "      <td>America/Los_Angeles</td>\n",
       "      <td>651.0</td>\n",
       "      <td>[[{'WhPerMile': 400, 'kWhRequested': 20.0, 'mi...</td>\n",
       "    </tr>\n",
       "    <tr>\n",
       "      <th>3760</th>\n",
       "      <td>5ea4d60df9af8b46573f1eea</td>\n",
       "      <td>2020-04-09 08:01:06</td>\n",
       "      <td>2020-04-09 16:38:08</td>\n",
       "      <td>NaT</td>\n",
       "      <td>5.797</td>\n",
       "      <td>1_1_193_820_2020-04-09 15:01:06.343454</td>\n",
       "      <td>1</td>\n",
       "      <td>AG-1F04</td>\n",
       "      <td>1-1-193-820</td>\n",
       "      <td>America/Los_Angeles</td>\n",
       "      <td>466.0</td>\n",
       "      <td>[[{'WhPerMile': 300, 'kWhRequested': 6.0, 'mil...</td>\n",
       "    </tr>\n",
       "  </tbody>\n",
       "</table>\n",
       "</div>"
      ],
      "text/plain": [
       "                            id      connectionTime      disconnectTime  \\\n",
       "3756  5ea3848df9af8b428bf97225 2020-04-08 09:36:53 2020-04-08 20:43:29   \n",
       "3757  5ea4d60df9af8b46573f1ee7 2020-04-09 06:23:52 2020-04-09 10:59:02   \n",
       "3758  5ea4d60df9af8b46573f1ee8 2020-04-09 06:40:03 2020-04-09 14:43:22   \n",
       "3759  5ea4d60df9af8b46573f1ee9 2020-04-09 07:01:53 2020-04-09 09:33:40   \n",
       "3760  5ea4d60df9af8b46573f1eea 2020-04-09 08:01:06 2020-04-09 16:38:08   \n",
       "\n",
       "     doneChargingTime  kWhDelivered                               sessionID  \\\n",
       "3756              NaT        25.183  1_1_194_822_2020-04-08 16:36:53.316264   \n",
       "3757              NaT        14.136  1_1_193_827_2020-04-09 13:23:51.689520   \n",
       "3758              NaT        14.203  1_1_178_823_2020-04-09 13:39:55.115497   \n",
       "3759              NaT        13.041  1_1_178_828_2020-04-09 14:01:53.467693   \n",
       "3760              NaT         5.797  1_1_193_820_2020-04-09 15:01:06.343454   \n",
       "\n",
       "      siteID  spaceID    stationID             timezone  userID  \\\n",
       "3756       1  AG-1F12  1-1-194-822  America/Los_Angeles   507.0   \n",
       "3757       1  AG-1F02  1-1-193-827  America/Los_Angeles   419.0   \n",
       "3758       1  AG-1F08  1-1-178-823  America/Los_Angeles  5065.0   \n",
       "3759       1  AG-1F10  1-1-178-828  America/Los_Angeles   651.0   \n",
       "3760       1  AG-1F04  1-1-193-820  America/Los_Angeles   466.0   \n",
       "\n",
       "                                             userInputs  \n",
       "3756  [[{'WhPerMile': 250, 'kWhRequested': 75.0, 'mi...  \n",
       "3757  [[{'WhPerMile': 400, 'kWhRequested': 40.0, 'mi...  \n",
       "3758  [[{'WhPerMile': 400, 'kWhRequested': 24.0, 'mi...  \n",
       "3759  [[{'WhPerMile': 400, 'kWhRequested': 20.0, 'mi...  \n",
       "3760  [[{'WhPerMile': 300, 'kWhRequested': 6.0, 'mil...  "
      ]
     },
     "execution_count": 11,
     "metadata": {},
     "output_type": "execute_result"
    }
   ],
   "source": [
    "# create Table with missing values in doneChargingTimeb\n",
    "miss_doneChargingTime = data_unique[data_unique['doneChargingTime'].isna()]\n",
    "miss_doneChargingTime.head()"
   ]
  },
  {
   "cell_type": "markdown",
   "metadata": {},
   "source": [
    "Upon closer analysis of the missing entries for the charging time (`miss_doneChargingTime`), we found that all of them have normal values for the attribute `kWhDelivered`, indicating that current flow was indeed present.\n",
    "\n",
    "(Removing this data from the dataframe would imply that the charging stations were free at those times, which is inaccurate and would skew predictions. Therefore, we decided to retain this data for now and, if necessary, exclude it during model training and predictions about parking space utilization after charging is complete.)\n",
    "\n",
    "We calculate the the percentage of missing (NaN) values for each column."
   ]
  },
  {
   "cell_type": "code",
   "execution_count": 12,
   "metadata": {},
   "outputs": [
    {
     "data": {
      "text/plain": [
       "id                   0.000000\n",
       "connectionTime       0.000000\n",
       "disconnectTime       0.000000\n",
       "doneChargingTime     6.284115\n",
       "kWhDelivered         0.000000\n",
       "sessionID            0.000000\n",
       "siteID               0.000000\n",
       "spaceID              0.000000\n",
       "stationID            0.000000\n",
       "timezone             0.000000\n",
       "userID              26.469548\n",
       "userInputs           0.000000\n",
       "dtype: float64"
      ]
     },
     "execution_count": 12,
     "metadata": {},
     "output_type": "execute_result"
    }
   ],
   "source": [
    "data_unique.isnull().mean() * 100"
   ]
  },
  {
   "cell_type": "markdown",
   "metadata": {},
   "source": [
    "Let's calculate the percentage of data left after removing the missing values."
   ]
  },
  {
   "cell_type": "code",
   "execution_count": 13,
   "metadata": {},
   "outputs": [
    {
     "data": {
      "text/plain": [
       "93.71588480403462"
      ]
     },
     "execution_count": 13,
     "metadata": {},
     "output_type": "execute_result"
    }
   ],
   "source": [
    "len(data_unique['doneChargingTime'].dropna())/len(data_unique['doneChargingTime']) * 100"
   ]
  },
  {
   "cell_type": "markdown",
   "metadata": {},
   "source": [
    "After removing the columns with missing values, around 94% of the data is still intact which seems to be sufficient. So we first create a copy of the data set in order to then remove the missing values from ‘doneChargingTime’."
   ]
  },
  {
   "cell_type": "code",
   "execution_count": 14,
   "metadata": {},
   "outputs": [
    {
     "name": "stdout",
     "output_type": "stream",
     "text": [
      "0\n"
     ]
    }
   ],
   "source": [
    "# Create a copy of the data before dropping NA values from doneChaargingTime\n",
    "data_with_NA = data_unique.copy()\n",
    "\n",
    "# Drop NA from doneChargingTime\n",
    "data_unique.dropna(subset=['doneChargingTime'], inplace=True)\n",
    "\n",
    "print(data_unique['doneChargingTime'].isnull().sum())"
   ]
  },
  {
   "cell_type": "markdown",
   "metadata": {},
   "source": [
    "We can explore how the data is distributed in each column before and after removing null values by plotting histograms. This approach will enable us to compare the distribution trends in both scenarios."
   ]
  },
  {
   "cell_type": "code",
   "execution_count": 15,
   "metadata": {},
   "outputs": [
    {
     "data": {
      "image/png": "[encoded data removed]",
      "text/plain": [
       "<Figure size 1500x500 with 1 Axes>"
      ]
     },
     "metadata": {},
     "output_type": "display_data"
    }
   ],
   "source": [
    "plt.figure(figsize=(15, 5))\n",
    "\n",
    "# Histogram: Data with doneChargingTime NaT values\n",
    "sns.histplot(data=data_with_NA, x='doneChargingTime', bins=50, color='red', alpha=1, kde=False, label='data_with_NA')\n",
    "\n",
    "# Histogram: Data with removed doneChargingTime NaT values\n",
    "sns.histplot(data=data_unique, x='doneChargingTime', bins=50, color='green', alpha=0.6, kde=False, label='data_unique')\n",
    "\n",
    "plt.legend()\n",
    "\n",
    "plt.title('Histogram Comparison: doneChargingTime')\n",
    "plt.xlabel('doneChargingTime')\n",
    "plt.ylabel('Count')\n",
    "\n",
    "plt.show()"
   ]
  },
  {
   "cell_type": "markdown",
   "metadata": {},
   "source": [
    "\n",
    "By comparing the histograms of the 'doneChargingTime' column before and after removing the null values, it is clear that the data distribution stays consistent. The overlapping histograms show that there is no major change in the distribution pattern after null values were removed."
   ]
  },
  {
   "cell_type": "code",
   "execution_count": 16,
   "metadata": {},
   "outputs": [
    {
     "name": "stdout",
     "output_type": "stream",
     "text": [
      "Average Difference: 56.02 seconds\n",
      "Average kWh (doneChargingTime > disconnectTime): 14.24 kWh\n",
      "Average kWh (doneChargingTime <= disconnectTime): 11.38 kWh\n"
     ]
    }
   ],
   "source": [
    "filtered_data = data_unique[data_unique['doneChargingTime'] > data_unique['disconnectTime']]\n",
    "\n",
    "filtered_data['time_difference'] = (filtered_data['doneChargingTime'] - filtered_data['disconnectTime']).dt.total_seconds()\n",
    "\n",
    "average_difference = filtered_data['time_difference'].mean()\n",
    "\n",
    "average_kwh_delivered = filtered_data['kWhDelivered'].mean()\n",
    "\n",
    "other_cases = data_unique[data_unique['doneChargingTime'] <= data_unique['disconnectTime']]\n",
    "\n",
    "average_kwh_delivered_other = other_cases['kWhDelivered'].mean()\n",
    "\n",
    "print(f\"Average Difference: {average_difference:.2f} seconds\")\n",
    "print(f\"Average kWh (doneChargingTime > disconnectTime): {average_kwh_delivered:.2f} kWh\")\n",
    "print(f\"Average kWh (doneChargingTime <= disconnectTime): {average_kwh_delivered_other:.2f} kWh\")"
   ]
  },
  {
   "cell_type": "code",
   "execution_count": 17,
   "metadata": {},
   "outputs": [
    {
     "data": {
      "text/html": [
       "<div>\n",
       "<style scoped>\n",
       "    .dataframe tbody tr th:only-of-type {\n",
       "        vertical-align: middle;\n",
       "    }\n",
       "\n",
       "    .dataframe tbody tr th {\n",
       "        vertical-align: top;\n",
       "    }\n",
       "\n",
       "    .dataframe thead th {\n",
       "        text-align: right;\n",
       "    }\n",
       "</style>\n",
       "<table border=\"1\" class=\"dataframe\">\n",
       "  <thead>\n",
       "    <tr style=\"text-align: right;\">\n",
       "      <th></th>\n",
       "      <th>id</th>\n",
       "      <th>connectionTime</th>\n",
       "      <th>disconnectTime</th>\n",
       "      <th>doneChargingTime</th>\n",
       "      <th>kWhDelivered</th>\n",
       "      <th>sessionID</th>\n",
       "      <th>siteID</th>\n",
       "      <th>spaceID</th>\n",
       "      <th>stationID</th>\n",
       "      <th>timezone</th>\n",
       "      <th>userID</th>\n",
       "      <th>userInputs</th>\n",
       "      <th>time_difference</th>\n",
       "    </tr>\n",
       "  </thead>\n",
       "  <tbody>\n",
       "    <tr>\n",
       "      <th>12</th>\n",
       "      <td>5e23b149f9af8b5fe4b973db</td>\n",
       "      <td>2020-01-02 07:04:38</td>\n",
       "      <td>2020-01-02 14:08:39</td>\n",
       "      <td>2020-01-02 14:09:36</td>\n",
       "      <td>25.567</td>\n",
       "      <td>1_1_178_824_2020-01-02 15:04:38.051735</td>\n",
       "      <td>1</td>\n",
       "      <td>AG-1F07</td>\n",
       "      <td>1-1-178-824</td>\n",
       "      <td>America/Los_Angeles</td>\n",
       "      <td>528.0</td>\n",
       "      <td>[[{'WhPerMile': 250, 'kWhRequested': 50.0, 'mi...</td>\n",
       "      <td>57.0</td>\n",
       "    </tr>\n",
       "    <tr>\n",
       "      <th>20</th>\n",
       "      <td>5e23b149f9af8b5fe4b973e3</td>\n",
       "      <td>2020-01-02 07:28:47</td>\n",
       "      <td>2020-01-02 11:01:54</td>\n",
       "      <td>2020-01-02 11:02:51</td>\n",
       "      <td>7.417</td>\n",
       "      <td>1_1_193_827_2020-01-02 15:28:46.685366</td>\n",
       "      <td>1</td>\n",
       "      <td>AG-1F02</td>\n",
       "      <td>1-1-193-827</td>\n",
       "      <td>America/Los_Angeles</td>\n",
       "      <td>1283.0</td>\n",
       "      <td>[[{'WhPerMile': 350, 'kWhRequested': 42.0, 'mi...</td>\n",
       "      <td>57.0</td>\n",
       "    </tr>\n",
       "    <tr>\n",
       "      <th>25</th>\n",
       "      <td>5e23b149f9af8b5fe4b973e8</td>\n",
       "      <td>2020-01-02 07:42:05</td>\n",
       "      <td>2020-01-02 13:58:45</td>\n",
       "      <td>2020-01-02 13:59:42</td>\n",
       "      <td>36.701</td>\n",
       "      <td>1_1_179_797_2020-01-02 15:42:05.217965</td>\n",
       "      <td>1</td>\n",
       "      <td>AG-3F23</td>\n",
       "      <td>1-1-179-797</td>\n",
       "      <td>America/Los_Angeles</td>\n",
       "      <td>474.0</td>\n",
       "      <td>[[{'WhPerMile': 400, 'kWhRequested': 32.0, 'mi...</td>\n",
       "      <td>57.0</td>\n",
       "    </tr>\n",
       "    <tr>\n",
       "      <th>26</th>\n",
       "      <td>5e23b149f9af8b5fe4b973e9</td>\n",
       "      <td>2020-01-02 07:57:24</td>\n",
       "      <td>2020-01-02 08:35:37</td>\n",
       "      <td>2020-01-02 08:36:34</td>\n",
       "      <td>3.689</td>\n",
       "      <td>1_1_179_781_2020-01-02 15:57:23.951170</td>\n",
       "      <td>1</td>\n",
       "      <td>AG-3F31</td>\n",
       "      <td>1-1-179-781</td>\n",
       "      <td>America/Los_Angeles</td>\n",
       "      <td>724.0</td>\n",
       "      <td>[[{'WhPerMile': 400, 'kWhRequested': 8.0, 'mil...</td>\n",
       "      <td>57.0</td>\n",
       "    </tr>\n",
       "    <tr>\n",
       "      <th>33</th>\n",
       "      <td>5e23b149f9af8b5fe4b973f0</td>\n",
       "      <td>2020-01-02 08:34:35</td>\n",
       "      <td>2020-01-02 10:49:41</td>\n",
       "      <td>2020-01-02 10:50:38</td>\n",
       "      <td>7.120</td>\n",
       "      <td>1_1_179_790_2020-01-02 16:34:34.999200</td>\n",
       "      <td>1</td>\n",
       "      <td>AG-3F19</td>\n",
       "      <td>1-1-179-790</td>\n",
       "      <td>America/Los_Angeles</td>\n",
       "      <td>2276.0</td>\n",
       "      <td>[[{'WhPerMile': 600, 'kWhRequested': 18.0, 'mi...</td>\n",
       "      <td>57.0</td>\n",
       "    </tr>\n",
       "    <tr>\n",
       "      <th>45</th>\n",
       "      <td>5e23b149f9af8b5fe4b973fc</td>\n",
       "      <td>2020-01-02 10:41:22</td>\n",
       "      <td>2020-01-02 11:38:24</td>\n",
       "      <td>2020-01-02 11:39:23</td>\n",
       "      <td>5.430</td>\n",
       "      <td>1_1_191_812_2020-01-02 18:41:22.082480</td>\n",
       "      <td>1</td>\n",
       "      <td>AG-4F46</td>\n",
       "      <td>1-1-191-812</td>\n",
       "      <td>America/Los_Angeles</td>\n",
       "      <td>741.0</td>\n",
       "      <td>[[{'WhPerMile': 400, 'kWhRequested': 32.0, 'mi...</td>\n",
       "      <td>59.0</td>\n",
       "    </tr>\n",
       "    <tr>\n",
       "      <th>49</th>\n",
       "      <td>5e23b149f9af8b5fe4b97400</td>\n",
       "      <td>2020-01-02 11:08:34</td>\n",
       "      <td>2020-01-02 14:52:36</td>\n",
       "      <td>2020-01-02 14:53:36</td>\n",
       "      <td>22.839</td>\n",
       "      <td>1_1_191_811_2020-01-02 19:08:34.209436</td>\n",
       "      <td>1</td>\n",
       "      <td>AG-4F42</td>\n",
       "      <td>1-1-191-811</td>\n",
       "      <td>America/Los_Angeles</td>\n",
       "      <td>1283.0</td>\n",
       "      <td>[[{'WhPerMile': 350, 'kWhRequested': 42.0, 'mi...</td>\n",
       "      <td>60.0</td>\n",
       "    </tr>\n",
       "    <tr>\n",
       "      <th>51</th>\n",
       "      <td>5e23b149f9af8b5fe4b97402</td>\n",
       "      <td>2020-01-02 11:30:53</td>\n",
       "      <td>2020-01-02 15:18:39</td>\n",
       "      <td>2020-01-02 15:19:36</td>\n",
       "      <td>4.405</td>\n",
       "      <td>1_1_179_810_2020-01-02 19:30:53.010234</td>\n",
       "      <td>1</td>\n",
       "      <td>AG-3F30</td>\n",
       "      <td>1-1-179-810</td>\n",
       "      <td>America/Los_Angeles</td>\n",
       "      <td>194.0</td>\n",
       "      <td>[[{'WhPerMile': 250, 'kWhRequested': 10.0, 'mi...</td>\n",
       "      <td>57.0</td>\n",
       "    </tr>\n",
       "    <tr>\n",
       "      <th>53</th>\n",
       "      <td>5e23b149f9af8b5fe4b97404</td>\n",
       "      <td>2020-01-02 12:31:37</td>\n",
       "      <td>2020-01-02 18:21:37</td>\n",
       "      <td>2020-01-02 18:22:34</td>\n",
       "      <td>33.645</td>\n",
       "      <td>1_1_178_823_2020-01-02 20:31:37.206013</td>\n",
       "      <td>1</td>\n",
       "      <td>AG-1F08</td>\n",
       "      <td>1-1-178-823</td>\n",
       "      <td>America/Los_Angeles</td>\n",
       "      <td>337.0</td>\n",
       "      <td>[[{'WhPerMile': 250, 'kWhRequested': 35.0, 'mi...</td>\n",
       "      <td>57.0</td>\n",
       "    </tr>\n",
       "    <tr>\n",
       "      <th>57</th>\n",
       "      <td>5e23b149f9af8b5fe4b97408</td>\n",
       "      <td>2020-01-02 14:46:56</td>\n",
       "      <td>2020-01-02 16:49:34</td>\n",
       "      <td>2020-01-02 16:50:34</td>\n",
       "      <td>13.005</td>\n",
       "      <td>1_1_179_809_2020-01-02 22:46:56.495691</td>\n",
       "      <td>1</td>\n",
       "      <td>AG-3F27</td>\n",
       "      <td>1-1-179-809</td>\n",
       "      <td>America/Los_Angeles</td>\n",
       "      <td>2276.0</td>\n",
       "      <td>[[{'WhPerMile': 600, 'kWhRequested': 18.0, 'mi...</td>\n",
       "      <td>60.0</td>\n",
       "    </tr>\n",
       "  </tbody>\n",
       "</table>\n",
       "</div>"
      ],
      "text/plain": [
       "                          id      connectionTime      disconnectTime  \\\n",
       "12  5e23b149f9af8b5fe4b973db 2020-01-02 07:04:38 2020-01-02 14:08:39   \n",
       "20  5e23b149f9af8b5fe4b973e3 2020-01-02 07:28:47 2020-01-02 11:01:54   \n",
       "25  5e23b149f9af8b5fe4b973e8 2020-01-02 07:42:05 2020-01-02 13:58:45   \n",
       "26  5e23b149f9af8b5fe4b973e9 2020-01-02 07:57:24 2020-01-02 08:35:37   \n",
       "33  5e23b149f9af8b5fe4b973f0 2020-01-02 08:34:35 2020-01-02 10:49:41   \n",
       "45  5e23b149f9af8b5fe4b973fc 2020-01-02 10:41:22 2020-01-02 11:38:24   \n",
       "49  5e23b149f9af8b5fe4b97400 2020-01-02 11:08:34 2020-01-02 14:52:36   \n",
       "51  5e23b149f9af8b5fe4b97402 2020-01-02 11:30:53 2020-01-02 15:18:39   \n",
       "53  5e23b149f9af8b5fe4b97404 2020-01-02 12:31:37 2020-01-02 18:21:37   \n",
       "57  5e23b149f9af8b5fe4b97408 2020-01-02 14:46:56 2020-01-02 16:49:34   \n",
       "\n",
       "      doneChargingTime  kWhDelivered                               sessionID  \\\n",
       "12 2020-01-02 14:09:36        25.567  1_1_178_824_2020-01-02 15:04:38.051735   \n",
       "20 2020-01-02 11:02:51         7.417  1_1_193_827_2020-01-02 15:28:46.685366   \n",
       "25 2020-01-02 13:59:42        36.701  1_1_179_797_2020-01-02 15:42:05.217965   \n",
       "26 2020-01-02 08:36:34         3.689  1_1_179_781_2020-01-02 15:57:23.951170   \n",
       "33 2020-01-02 10:50:38         7.120  1_1_179_790_2020-01-02 16:34:34.999200   \n",
       "45 2020-01-02 11:39:23         5.430  1_1_191_812_2020-01-02 18:41:22.082480   \n",
       "49 2020-01-02 14:53:36        22.839  1_1_191_811_2020-01-02 19:08:34.209436   \n",
       "51 2020-01-02 15:19:36         4.405  1_1_179_810_2020-01-02 19:30:53.010234   \n",
       "53 2020-01-02 18:22:34        33.645  1_1_178_823_2020-01-02 20:31:37.206013   \n",
       "57 2020-01-02 16:50:34        13.005  1_1_179_809_2020-01-02 22:46:56.495691   \n",
       "\n",
       "    siteID  spaceID    stationID             timezone  userID  \\\n",
       "12       1  AG-1F07  1-1-178-824  America/Los_Angeles   528.0   \n",
       "20       1  AG-1F02  1-1-193-827  America/Los_Angeles  1283.0   \n",
       "25       1  AG-3F23  1-1-179-797  America/Los_Angeles   474.0   \n",
       "26       1  AG-3F31  1-1-179-781  America/Los_Angeles   724.0   \n",
       "33       1  AG-3F19  1-1-179-790  America/Los_Angeles  2276.0   \n",
       "45       1  AG-4F46  1-1-191-812  America/Los_Angeles   741.0   \n",
       "49       1  AG-4F42  1-1-191-811  America/Los_Angeles  1283.0   \n",
       "51       1  AG-3F30  1-1-179-810  America/Los_Angeles   194.0   \n",
       "53       1  AG-1F08  1-1-178-823  America/Los_Angeles   337.0   \n",
       "57       1  AG-3F27  1-1-179-809  America/Los_Angeles  2276.0   \n",
       "\n",
       "                                           userInputs  time_difference  \n",
       "12  [[{'WhPerMile': 250, 'kWhRequested': 50.0, 'mi...             57.0  \n",
       "20  [[{'WhPerMile': 350, 'kWhRequested': 42.0, 'mi...             57.0  \n",
       "25  [[{'WhPerMile': 400, 'kWhRequested': 32.0, 'mi...             57.0  \n",
       "26  [[{'WhPerMile': 400, 'kWhRequested': 8.0, 'mil...             57.0  \n",
       "33  [[{'WhPerMile': 600, 'kWhRequested': 18.0, 'mi...             57.0  \n",
       "45  [[{'WhPerMile': 400, 'kWhRequested': 32.0, 'mi...             59.0  \n",
       "49  [[{'WhPerMile': 350, 'kWhRequested': 42.0, 'mi...             60.0  \n",
       "51  [[{'WhPerMile': 250, 'kWhRequested': 10.0, 'mi...             57.0  \n",
       "53  [[{'WhPerMile': 250, 'kWhRequested': 35.0, 'mi...             57.0  \n",
       "57  [[{'WhPerMile': 600, 'kWhRequested': 18.0, 'mi...             60.0  "
      ]
     },
     "execution_count": 17,
     "metadata": {},
     "output_type": "execute_result"
    }
   ],
   "source": [
    "filtered_data.head(10)"
   ]
  },
  {
   "cell_type": "markdown",
   "metadata": {},
   "source": [
    "In the dataset, entries were identified where doneChargingTime exceeds disconnectTime. As the time difference in most cases is less than one minute, we assume a delayed timestamp for doneChargingTime. Therefore, we set doneChargingTime equal to disconnectTime wherever it exceeds the latter."
   ]
  },
  {
   "cell_type": "code",
   "execution_count": 18,
   "metadata": {},
   "outputs": [],
   "source": [
    "# Set doneChargingTime to disconnectTime if doneChargingTime is greater than disconnectTime\n",
    "data_unique.loc[data_unique['doneChargingTime'] > data_unique['disconnectTime'], 'doneChargingTime'] = data_unique['disconnectTime']"
   ]
  },
  {
   "cell_type": "markdown",
   "metadata": {},
   "source": [
    "#### Outlier Detection"
   ]
  },
  {
   "cell_type": "markdown",
   "metadata": {},
   "source": [
    "This analysis focuses on detecting outliers in the kWhDelivered column. We start by examining the statistical summary to understand the data distribution."
   ]
  },
  {
   "cell_type": "code",
   "execution_count": 19,
   "metadata": {},
   "outputs": [
    {
     "data": {
      "text/html": [
       "<div>\n",
       "<style scoped>\n",
       "    .dataframe tbody tr th:only-of-type {\n",
       "        vertical-align: middle;\n",
       "    }\n",
       "\n",
       "    .dataframe tbody tr th {\n",
       "        vertical-align: top;\n",
       "    }\n",
       "\n",
       "    .dataframe thead th {\n",
       "        text-align: right;\n",
       "    }\n",
       "</style>\n",
       "<table border=\"1\" class=\"dataframe\">\n",
       "  <thead>\n",
       "    <tr style=\"text-align: right;\">\n",
       "      <th></th>\n",
       "      <th>kWhDelivered</th>\n",
       "    </tr>\n",
       "  </thead>\n",
       "  <tbody>\n",
       "    <tr>\n",
       "      <th>count</th>\n",
       "      <td>60950.000000</td>\n",
       "    </tr>\n",
       "    <tr>\n",
       "      <th>mean</th>\n",
       "      <td>11.583268</td>\n",
       "    </tr>\n",
       "    <tr>\n",
       "      <th>min</th>\n",
       "      <td>0.501000</td>\n",
       "    </tr>\n",
       "    <tr>\n",
       "      <th>25%</th>\n",
       "      <td>5.013000</td>\n",
       "    </tr>\n",
       "    <tr>\n",
       "      <th>50%</th>\n",
       "      <td>8.991000</td>\n",
       "    </tr>\n",
       "    <tr>\n",
       "      <th>75%</th>\n",
       "      <td>13.984000</td>\n",
       "    </tr>\n",
       "    <tr>\n",
       "      <th>max</th>\n",
       "      <td>108.797242</td>\n",
       "    </tr>\n",
       "    <tr>\n",
       "      <th>std</th>\n",
       "      <td>10.153601</td>\n",
       "    </tr>\n",
       "  </tbody>\n",
       "</table>\n",
       "</div>"
      ],
      "text/plain": [
       "       kWhDelivered\n",
       "count  60950.000000\n",
       "mean      11.583268\n",
       "min        0.501000\n",
       "25%        5.013000\n",
       "50%        8.991000\n",
       "75%       13.984000\n",
       "max      108.797242\n",
       "std       10.153601"
      ]
     },
     "execution_count": 19,
     "metadata": {},
     "output_type": "execute_result"
    }
   ],
   "source": [
    "data_unique.describe()[['kWhDelivered']]"
   ]
  },
  {
   "cell_type": "markdown",
   "metadata": {},
   "source": [
    "Although the mean is relatively sensitive to outliers, the mean of kWhDelivered is 11.58 while the maximum is 108.8. This shows that the maximum is an outlier. We make use of a boxplot and a histogram to visually summarize the distribution and identify potential outliers."
   ]
  },
  {
   "cell_type": "code",
   "execution_count": 20,
   "metadata": {},
   "outputs": [
    {
     "data": {
      "image/png": "[encoded data removed]",
      "text/plain": [
       "<Figure size 1600x800 with 2 Axes>"
      ]
     },
     "metadata": {},
     "output_type": "display_data"
    }
   ],
   "source": [
    "plt.figure(figsize=(16, 8))\n",
    "\n",
    "q1 = data_unique['kWhDelivered'].quantile(0.25)\n",
    "q3 = data_unique['kWhDelivered'].quantile(0.75)\n",
    "iqr = q3 - q1\n",
    "upper_whisker = q3 + 1.5 * iqr\n",
    "\n",
    "# Boxplot\n",
    "plt.subplot(2, 2, 1)\n",
    "sns.boxplot(data=data_unique, y='kWhDelivered', flierprops={'alpha': 0.2})\n",
    "plt.title(\"Boxplot for kWh Delivered\", fontsize=15, fontweight='bold')\n",
    "plt.ylabel(\"kWh Delivered\", fontsize=12)\n",
    "plt.xlabel(\"\")\n",
    "plt.text(0.25, upper_whisker, f\"{upper_whisker:.2f}\", \n",
    "         ha='left', va='center', fontsize=12, color='black')\n",
    "\n",
    "# Histogram\n",
    "plt.subplot(2, 2, 2)\n",
    "sns.histplot(data_unique['kWhDelivered'], kde=True, binwidth=2.5)\n",
    "plt.title(\"Histogram for kWh Delivered\", fontsize=15, fontweight='bold')\n",
    "plt.xlabel(\"kWh Delivered\", fontsize=12)\n",
    "plt.ylabel(\"Count\", fontsize=12) \n",
    "plt.legend(labels=[\"Kernel Density Estimation\"], fontsize=13)\n",
    "\n",
    "plt.xlim(left=0)\n",
    "\n",
    "plt.xticks(fontsize=12)\n",
    "plt.yticks(fontsize=12)\n",
    "\n",
    "plt.tight_layout()\n",
    "plt.show()"
   ]
  },
  {
   "cell_type": "markdown",
   "metadata": {},
   "source": [
    "Based on the two visualizations, it is evident that the majority of the values are quite low. The upper whisker of the boxplot is at 27.44, meaning it represents the largest value in the dataset that is less than or equal to Q3 + 1.5 * IQR. Values above this threshold are considered outliers. These become more frequent up to approximately 60. Only three observations fall between 75 and 110. The distribution is highly positively right skewed."
   ]
  },
  {
   "cell_type": "markdown",
   "metadata": {},
   "source": [
    "The following function calculates the IQR to detect outliers above the upper whisker."
   ]
  },
  {
   "cell_type": "code",
   "execution_count": 21,
   "metadata": {},
   "outputs": [],
   "source": [
    "def find_outliers_IQR(df):\n",
    "\n",
    "   q1=df.quantile(0.25)\n",
    "\n",
    "   q3=df.quantile(0.75)\n",
    "\n",
    "   iqr=q3-q1\n",
    "\n",
    "   outliers = df[((df<(q1-1.5*iqr)) | (df>(q3+1.5*iqr)))]\n",
    "\n",
    "   return outliers"
   ]
  },
  {
   "cell_type": "code",
   "execution_count": 22,
   "metadata": {},
   "outputs": [
    {
     "name": "stdout",
     "output_type": "stream",
     "text": [
      "number of outliers: 5168\n",
      "max outlier value: 108.79724166666666\n",
      "min outlier value: 27.442\n"
     ]
    },
    {
     "data": {
      "text/plain": [
       "1        33.097\n",
       "6        43.477\n",
       "7        32.441\n",
       "13       39.806\n",
       "21       49.874\n",
       "          ...  \n",
       "65003    32.334\n",
       "65005    30.030\n",
       "65008    35.007\n",
       "65024    30.198\n",
       "65029    41.047\n",
       "Name: kWhDelivered, Length: 5168, dtype: float64"
      ]
     },
     "execution_count": 22,
     "metadata": {},
     "output_type": "execute_result"
    }
   ],
   "source": [
    "outliers = find_outliers_IQR(data_unique['kWhDelivered'])\n",
    "\n",
    "print(\"number of outliers: \"+ str(len(outliers)))\n",
    "\n",
    "print(\"max outlier value: \"+ str(outliers.max()))\n",
    "\n",
    "print(\"min outlier value: \"+ str(outliers.min()))\n",
    "\n",
    "outliers"
   ]
  },
  {
   "cell_type": "markdown",
   "metadata": {},
   "source": [
    "The summary indicates that there are 5,168 outliers. The lowest outlier value is 27.44, as previously mentioned, while the maximum is 108.8."
   ]
  },
  {
   "cell_type": "code",
   "execution_count": 23,
   "metadata": {},
   "outputs": [
    {
     "data": {
      "text/html": [
       "<div>\n",
       "<style scoped>\n",
       "    .dataframe tbody tr th:only-of-type {\n",
       "        vertical-align: middle;\n",
       "    }\n",
       "\n",
       "    .dataframe tbody tr th {\n",
       "        vertical-align: top;\n",
       "    }\n",
       "\n",
       "    .dataframe thead th {\n",
       "        text-align: right;\n",
       "    }\n",
       "</style>\n",
       "<table border=\"1\" class=\"dataframe\">\n",
       "  <thead>\n",
       "    <tr style=\"text-align: right;\">\n",
       "      <th></th>\n",
       "      <th>id</th>\n",
       "      <th>connectionTime</th>\n",
       "      <th>disconnectTime</th>\n",
       "      <th>doneChargingTime</th>\n",
       "      <th>kWhDelivered</th>\n",
       "      <th>sessionID</th>\n",
       "      <th>siteID</th>\n",
       "      <th>spaceID</th>\n",
       "      <th>stationID</th>\n",
       "      <th>timezone</th>\n",
       "      <th>userID</th>\n",
       "      <th>userInputs</th>\n",
       "    </tr>\n",
       "  </thead>\n",
       "  <tbody>\n",
       "    <tr>\n",
       "      <th>18641</th>\n",
       "      <td>610c829df9af8b0580e98730</td>\n",
       "      <td>2021-07-20 15:16:54</td>\n",
       "      <td>2021-07-21 08:18:03</td>\n",
       "      <td>2021-07-21 08:18:03</td>\n",
       "      <td>108.797242</td>\n",
       "      <td>1_1_193_829_2021-07-20 18:27:33.500144</td>\n",
       "      <td>1</td>\n",
       "      <td>AG-1F03</td>\n",
       "      <td>1-1-193-829</td>\n",
       "      <td>America/Los_Angeles</td>\n",
       "      <td>378.0</td>\n",
       "      <td>[[{'WhPerMile': 258, 'kWhRequested': 35.088, '...</td>\n",
       "    </tr>\n",
       "    <tr>\n",
       "      <th>18643</th>\n",
       "      <td>610c829df9af8b0580e98732</td>\n",
       "      <td>2021-07-20 15:16:56</td>\n",
       "      <td>2021-07-21 08:18:16</td>\n",
       "      <td>2021-07-21 08:18:16</td>\n",
       "      <td>89.362732</td>\n",
       "      <td>1_1_194_818_2021-07-20 13:54:47.875453</td>\n",
       "      <td>1</td>\n",
       "      <td>AG-1F14</td>\n",
       "      <td>1-1-194-818</td>\n",
       "      <td>America/Los_Angeles</td>\n",
       "      <td>481.0</td>\n",
       "      <td>[[{'WhPerMile': 360, 'kWhRequested': 86.4, 'mi...</td>\n",
       "    </tr>\n",
       "    <tr>\n",
       "      <th>20986</th>\n",
       "      <td>5c60d02df9af8b149d7da395</td>\n",
       "      <td>2019-01-25 19:40:20</td>\n",
       "      <td>2019-01-26 14:36:03</td>\n",
       "      <td>2019-01-26 06:45:12</td>\n",
       "      <td>75.528000</td>\n",
       "      <td>2_39_91_437_2019-01-26 03:40:20.383123</td>\n",
       "      <td>2</td>\n",
       "      <td>CA-317</td>\n",
       "      <td>2-39-91-437</td>\n",
       "      <td>America/Los_Angeles</td>\n",
       "      <td>1225.0</td>\n",
       "      <td>[[{'WhPerMile': 600, 'kWhRequested': 180.0, 'm...</td>\n",
       "    </tr>\n",
       "  </tbody>\n",
       "</table>\n",
       "</div>"
      ],
      "text/plain": [
       "                             id      connectionTime      disconnectTime  \\\n",
       "18641  610c829df9af8b0580e98730 2021-07-20 15:16:54 2021-07-21 08:18:03   \n",
       "18643  610c829df9af8b0580e98732 2021-07-20 15:16:56 2021-07-21 08:18:16   \n",
       "20986  5c60d02df9af8b149d7da395 2019-01-25 19:40:20 2019-01-26 14:36:03   \n",
       "\n",
       "         doneChargingTime  kWhDelivered  \\\n",
       "18641 2021-07-21 08:18:03    108.797242   \n",
       "18643 2021-07-21 08:18:16     89.362732   \n",
       "20986 2019-01-26 06:45:12     75.528000   \n",
       "\n",
       "                                    sessionID  siteID  spaceID    stationID  \\\n",
       "18641  1_1_193_829_2021-07-20 18:27:33.500144       1  AG-1F03  1-1-193-829   \n",
       "18643  1_1_194_818_2021-07-20 13:54:47.875453       1  AG-1F14  1-1-194-818   \n",
       "20986  2_39_91_437_2019-01-26 03:40:20.383123       2   CA-317  2-39-91-437   \n",
       "\n",
       "                  timezone  userID  \\\n",
       "18641  America/Los_Angeles   378.0   \n",
       "18643  America/Los_Angeles   481.0   \n",
       "20986  America/Los_Angeles  1225.0   \n",
       "\n",
       "                                              userInputs  \n",
       "18641  [[{'WhPerMile': 258, 'kWhRequested': 35.088, '...  \n",
       "18643  [[{'WhPerMile': 360, 'kWhRequested': 86.4, 'mi...  \n",
       "20986  [[{'WhPerMile': 600, 'kWhRequested': 180.0, 'm...  "
      ]
     },
     "execution_count": 23,
     "metadata": {},
     "output_type": "execute_result"
    }
   ],
   "source": [
    "data_unique[data_unique['kWhDelivered'] > 70]"
   ]
  },
  {
   "cell_type": "markdown",
   "metadata": {},
   "source": [
    "The high kWhDelivered values are rare but appear to be realistic given the long charging durations."
   ]
  },
  {
   "cell_type": "markdown",
   "metadata": {},
   "source": [
    "The following function replaces the outlier values that exceed the given upper limit with the median value of 'kWhDelivered'."
   ]
  },
  {
   "cell_type": "code",
   "execution_count": 24,
   "metadata": {},
   "outputs": [],
   "source": [
    "def cap_outliers(df, column, upper_limit):\n",
    "\n",
    "    median = df[column].median()\n",
    "    print(f\"Median: {median}\")\n",
    "\n",
    "    upper_limit = upper_limit\n",
    "    print(f\"Upper limit: {upper_limit}\")\n",
    "\n",
    "    df[column] = np.where(\n",
    "        df[column] > upper_limit,\n",
    "        median,\n",
    "        df[column]\n",
    "    )\n",
    "    return df\n"
   ]
  },
  {
   "cell_type": "code",
   "execution_count": 25,
   "metadata": {},
   "outputs": [
    {
     "name": "stdout",
     "output_type": "stream",
     "text": [
      "Median: 8.991\n",
      "Upper limit: 27\n"
     ]
    }
   ],
   "source": [
    "data_unique = cap_outliers(data_unique, 'kWhDelivered', 27)"
   ]
  },
  {
   "cell_type": "markdown",
   "metadata": {},
   "source": [
    "Replotting the resulting distribution after capping the outliers at 27."
   ]
  },
  {
   "cell_type": "code",
   "execution_count": 26,
   "metadata": {},
   "outputs": [
    {
     "data": {
      "image/png": "[encoded data removed]",
      "text/plain": [
       "<Figure size 1600x800 with 2 Axes>"
      ]
     },
     "metadata": {},
     "output_type": "display_data"
    }
   ],
   "source": [
    "plt.figure(figsize=(16, 8))\n",
    "\n",
    "# Boxplot\n",
    "plt.subplot(2, 2, 1)\n",
    "sns.boxplot(data=data_unique, y='kWhDelivered', flierprops={'alpha': 0.1})\n",
    "plt.title(\"Boxplot for kWh Delivered\", fontsize=15, fontweight='bold')\n",
    "plt.ylabel(\"kWh Delivered\", fontsize=12)\n",
    "plt.xlabel(\"\") \n",
    "\n",
    "# Histogram\n",
    "plt.subplot(2, 2, 2)\n",
    "sns.histplot(data_unique['kWhDelivered'], kde=True, binwidth=2.5)\n",
    "plt.title(\"Histogram for kWh Delivered\", fontsize=15, fontweight='bold')\n",
    "plt.xlabel(\"kWh Delivered\", fontsize=12)\n",
    "plt.ylabel(\"Count\", fontsize=12)\n",
    "plt.legend(labels=[\"Kernel Density Estimation\"], fontsize=13)\n",
    "\n",
    "plt.xlim(left=0)\n",
    "\n",
    "plt.xticks(fontsize=12)\n",
    "plt.yticks(fontsize=12)\n",
    "\n",
    "plt.tight_layout()\n",
    "plt.show()"
   ]
  },
  {
   "cell_type": "markdown",
   "metadata": {},
   "source": [
    "By capping the outliers at the upper whisker to the median, the distribution becomes more stable and less influenced by extreme values. The values concentrate more closely around the median, making the distribution more compact."
   ]
  },
  {
   "cell_type": "markdown",
   "metadata": {},
   "source": [
    "#### Extracting \"userInputs\" into a Separate Table"
   ]
  },
  {
   "cell_type": "markdown",
   "metadata": {},
   "source": [
    "Process the column userInputs to ensure each entry is JSON-formatted and interpretable as a Python dictionary."
   ]
  },
  {
   "cell_type": "code",
   "execution_count": 27,
   "metadata": {},
   "outputs": [],
   "source": [
    "import json\n",
    "\n",
    "data_unique['userInputs'] = data_unique['userInputs'].astype(\"string\")\n",
    "\n",
    "def format_user_input(entry):\n",
    "    try:\n",
    "        entry = entry[2:-2]\n",
    "        entry = entry.replace(\"'\", \"\\\"\").replace(\"True\", \"true\").replace(\"False\", \"false\")  \n",
    "        return json.loads(entry)  \n",
    "    except json.JSONDecodeError:\n",
    "        return None  \n",
    "\n",
    "\n",
    "data_unique['userInputs']= data_unique['userInputs'].apply(format_user_input)"
   ]
  },
  {
   "cell_type": "markdown",
   "metadata": {},
   "source": [
    "This code extracts the contents of the userInputs column into a separate table for better clarity and organization of data. By splitting out userInputs, each nested entry can be analyzed individually, providing a more detailed view of the information stored within. This approach makes it easier to work with and understand the data structure, especially when userInputs contains multiple key-value pairs or complex JSON objects. By creating a dedicated table, each entry can be accessed, processed, and filtered independently, enhancing data readability and simplifying further analysis."
   ]
  },
  {
   "cell_type": "code",
   "execution_count": 28,
   "metadata": {},
   "outputs": [],
   "source": [
    "# Split nested lists in 'userInputs' into separate rows, resetting index for a clean DataFrame.\n",
    "data_unique_splitted = data_unique.explode('userInputs', ignore_index=True)\n",
    "\n",
    "# Select only specific columns 'id', 'userID', and 'userInputs' from the exploded DataFrame.\n",
    "userInputs_data = data_unique_splitted[['id', 'userID', 'userInputs']]\n",
    "\n",
    "# Rename the 'id' column to 'data_unique_id' for clarity.\n",
    "userInputs_data = userInputs_data.rename(columns={'id': 'data_unique_id'})\n",
    "\n",
    "# Add a new column 'id' with a unique sequential identifier for each row.\n",
    "userInputs_data['id'] = range(1, len(userInputs_data) + 1)\n",
    "\n",
    "# Expand the JSON data in 'userInputs' column to separate columns for each key-value pair.\n",
    "userInputs_expanded = pd.json_normalize(userInputs_data['userInputs'])\n",
    "\n",
    "# Concatenate the expanded data with the original DataFrame along columns (side by side).\n",
    "userInputs_data = pd.concat([userInputs_data, userInputs_expanded], axis=1)\n",
    "\n",
    "# Drop the original 'userInputs' column as it's no longer needed after expanding.\n",
    "userInputs_data = userInputs_data.drop('userInputs', axis=1)\n",
    "\n",
    "# Remove rows with missing values in critical columns 'userID', 'WhPerMile', and 'kWhRequested'.\n",
    "userInputs_data = userInputs_data.dropna(subset=['userID', 'WhPerMile', 'kWhRequested'])\n",
    "\n",
    "# Convert 'paymentRequired' column to a boolean type for correct data interpretation.\n",
    "userInputs_data['paymentRequired'] = userInputs_data['paymentRequired'].astype(bool)\n",
    "\n",
    "# Modify 'modifiedAt' column: extract only the date and time, convert to datetime in UTC, and localize to LA time.\n",
    "userInputs_data['modifiedAt'] = userInputs_data['modifiedAt'].apply(\n",
    "    lambda x: x.split(\", \")[1].replace(\" GMT\", \"\") if isinstance(x, str) else x\n",
    ")\n",
    "userInputs_data['modifiedAt'] = pd.to_datetime(userInputs_data['modifiedAt'], format=\"%d %b %Y %H:%M:%S\", utc=True, errors='coerce')\n",
    "userInputs_data['modifiedAt'] = userInputs_data['modifiedAt'].dt.tz_convert('America/Los_Angeles').dt.tz_localize(None)\n",
    "\n",
    "# Modify 'requestedDeparture' column: extract only the date and time, convert to datetime in UTC, and localize to LA time.\n",
    "userInputs_data['requestedDeparture'] = userInputs_data['requestedDeparture'].apply(\n",
    "    lambda x: x.split(\", \")[1].replace(\" GMT\", \"\") if isinstance(x, str) else x\n",
    ")\n",
    "userInputs_data['requestedDeparture'] = pd.to_datetime(userInputs_data['requestedDeparture'], format=\"%d %b %Y %H:%M:%S\", utc=True, errors='coerce')\n",
    "userInputs_data['requestedDeparture'] = userInputs_data['requestedDeparture'].dt.tz_convert('America/Los_Angeles').dt.tz_localize(None)\n",
    "\n",
    "#  drop userInputs in data_unique table since its not needed anymore\n",
    "data_unique = data_unique.drop('userInputs', axis=1)\n"
   ]
  },
  {
   "cell_type": "code",
   "execution_count": 29,
   "metadata": {},
   "outputs": [],
   "source": [
    "# split the dataset in two different. One for the station with siteID 1 and one for the station with the siteID 2 for further analysis\n",
    "data_1 = data_unique[data_unique['siteID']==1]\n",
    "data_2 = data_unique[data_unique['siteID']==2]"
   ]
  },
  {
   "cell_type": "markdown",
   "metadata": {},
   "source": [
    "#### Preprocessing Weather Burbank Dataset"
   ]
  },
  {
   "cell_type": "markdown",
   "metadata": {},
   "source": [
    "The weather dataset is also imported and duplicates are removed. Although there are none, we have carried out this step to be on the safe side.  \n",
    "The data was converted to the corresponding data types and the time was adjusted to the los-angeles time zone again.  \n",
    "There is some missing data in this data set for the `temperature` and the `cloud_cover`. However, these are difficult to reproduce and are therefore deleted from the data set."
   ]
  },
  {
   "cell_type": "code",
   "execution_count": 30,
   "metadata": {},
   "outputs": [
    {
     "name": "stdout",
     "output_type": "stream",
     "text": [
      "city                       string[python]\n",
      "timestamp                  datetime64[ns]\n",
      "temperature                       float64\n",
      "cloud_cover                       float64\n",
      "cloud_cover_description    string[python]\n",
      "pressure                          float64\n",
      "windspeed                         float64\n",
      "precipitation                     float64\n",
      "felt_temperature                  float64\n",
      "dtype: object\n"
     ]
    }
   ],
   "source": [
    "weather_raw=pd.read_csv(\"data/weather_burbank_airport.csv\")\n",
    "\n",
    "# delete duplicates\n",
    "columns = [\n",
    "    'city', 'timestamp', 'temperature', 'cloud_cover',\n",
    "    'cloud_cover_description', 'pressure', 'windspeed', 'precipitation', 'felt_temperature'\n",
    "]\n",
    "weather_unique = weather_raw.drop_duplicates(subset=columns)\n",
    "\n",
    "#Transform to correct Data Types\n",
    "weather_unique['city']=weather_raw['city'].astype('string')\n",
    "weather_unique['timestamp'] = pd.to_datetime(weather_raw['timestamp'], utc=True).dt.tz_convert('America/Los_Angeles').dt.tz_localize(None)\n",
    "weather_unique['cloud_cover_description']=weather_raw['cloud_cover_description'].astype('string')\n",
    "\n",
    "# drop with missing values\n",
    "weather_unique = weather_unique.dropna(subset=['temperature'])\n",
    "weather_unique = weather_unique.dropna(subset=['cloud_cover'])\n",
    "\n",
    "print(weather_unique.dtypes)"
   ]
  },
  {
   "cell_type": "markdown",
   "metadata": {},
   "source": [
    "------------------------------------------------"
   ]
  },
  {
   "cell_type": "markdown",
   "metadata": {},
   "source": [
    "#  `2. Descriptive Analytics`"
   ]
  },
  {
   "cell_type": "markdown",
   "metadata": {},
   "source": [
    "### **Temporal patterns and Seasonality**"
   ]
  },
  {
   "cell_type": "markdown",
   "metadata": {},
   "source": [
    "We will begin by analyzing the temporal patterns and seasonality of charging events. This analysis will focus on understanding how charging behavior evolves over time and identifying any recurring seasonal trends. Our goal is to uncover initial patterns and propose possible hypotheses to explain these phenomena.\n",
    "\n",
    "It is important to note that a charging event is primarily considered as the duration from the connection time to the disconnection time. However, we will also examine the perspective where the event is measured from the connection time to the \"done charging\" time."
   ]
  },
  {
   "cell_type": "markdown",
   "metadata": {},
   "source": [
    "#### Daily patterns"
   ]
  },
  {
   "cell_type": "markdown",
   "metadata": {},
   "source": [
    "Histogram of charging sessions throughout the day, broken down by each hour of the day. The calculation spans from the connection time to the disconnection time."
   ]
  },
  {
   "cell_type": "code",
   "execution_count": 31,
   "metadata": {},
   "outputs": [
    {
     "data": {
      "image/png": "[encoded data removed]",
      "text/plain": [
       "<Figure size 1000x600 with 1 Axes>"
      ]
     },
     "metadata": {},
     "output_type": "display_data"
    }
   ],
   "source": [
    "# Initialize an array to store the number of active charging sessions for each hour\n",
    "active_sessions_by_hour = np.zeros(24)\n",
    "\n",
    "# Loop through each row to calculate active sessions for each hour\n",
    "for index, row in data_unique.iterrows():\n",
    "    # Extract the start and end hours of the charging session\n",
    "    start_hour = row['connectionTime'].hour\n",
    "    end_hour = row['disconnectTime'].hour\n",
    "\n",
    "    # Handle sessions that span across midnight\n",
    "    if row['disconnectTime'].date() > row['connectionTime'].date():\n",
    "        end_hour += 24  # Extend the end hour beyond midnight\n",
    "\n",
    "    # Increment the active sessions for each hour within the session's range\n",
    "    for hour in range(start_hour, end_hour + 1):\n",
    "        active_sessions_by_hour[hour % 24] += 1  # %24 to wrap around to 0–23 hours\n",
    "\n",
    "# Create time labels for the x-axis in \"HH:00\" format\n",
    "time_labels = [f\"{hour:02d}:00\" for hour in range(24)]\n",
    "\n",
    "# Visualization: Histogram of total active charging sessions per hour\n",
    "plt.figure(figsize=(10, 6))\n",
    "plt.bar(range(24), active_sessions_by_hour, tick_label=time_labels, width=0.8, edgecolor=\"black\")\n",
    "plt.title('Total Active Charging Sessions per Hour')\n",
    "plt.xlabel('Time of Day')\n",
    "plt.ylabel('Total Number of Active Sessions')\n",
    "plt.xticks(rotation=45)  # Rotate x-axis labels for better readability\n",
    "plt.grid(axis='y', linestyle='--', alpha=0.7)  # Add gridlines for the y-axis\n",
    "plt.ticklabel_format(style='plain', axis='y')  # Ensure plain format for y-axis\n",
    "plt.show()"
   ]
  },
  {
   "cell_type": "markdown",
   "metadata": {},
   "source": [
    "Histogram of the actual charging process required to fully charge a vehicle throughout the day, broken down by each hour of the day. The calculation spans from the connection time to the done charging time."
   ]
  },
  {
   "cell_type": "code",
   "execution_count": 32,
   "metadata": {},
   "outputs": [
    {
     "data": {
      "image/png": "[encoded data removed]",
      "text/plain": [
       "<Figure size 1000x600 with 1 Axes>"
      ]
     },
     "metadata": {},
     "output_type": "display_data"
    }
   ],
   "source": [
    "# Initialize an array to store the number of active charging sessions for each hour\n",
    "active_sessions_by_hour = np.zeros(24)\n",
    "\n",
    "# Loop through each row to calculate active sessions for each hour\n",
    "for index, row in data_unique.iterrows():\n",
    "    # Extract the start and end hours of the charging session\n",
    "    start_hour = row['connectionTime'].hour\n",
    "    end_hour = row['doneChargingTime'].hour\n",
    "\n",
    "    # Handle sessions that span across midnight\n",
    "    if row['doneChargingTime'].date() > row['connectionTime'].date():\n",
    "        end_hour += 24  # Extend the end hour beyond midnight\n",
    "\n",
    "    # Increment the active sessions for each hour within the session's range\n",
    "    for hour in range(start_hour, end_hour + 1):\n",
    "        active_sessions_by_hour[hour % 24] += 1  # %24 to wrap around to 0–23 hours\n",
    "\n",
    "# Create time labels for the x-axis in \"HH:00\" format\n",
    "time_labels = [f\"{hour:02d}:00\" for hour in range(24)]\n",
    "\n",
    "# Visualization: Histogram of total active charging sessions per hour\n",
    "plt.figure(figsize=(10, 6))\n",
    "plt.bar(range(24), active_sessions_by_hour, tick_label=time_labels, width=0.8, edgecolor=\"black\")\n",
    "plt.title('Total Active Charging Sessions per Hour')\n",
    "plt.xlabel('Time of Day')\n",
    "plt.ylabel('Total Number of Active Sessions')\n",
    "plt.xticks(rotation=45)  # Rotate x-axis labels for better readability\n",
    "plt.grid(axis='y', linestyle='--', alpha=0.7)  # Add gridlines for the y-axis\n",
    "plt.ticklabel_format(style='plain', axis='y')  # Ensure plain format for y-axis\n",
    "plt.show()"
   ]
  },
  {
   "cell_type": "markdown",
   "metadata": {},
   "source": [
    "Histogram of connection times throughout the day, categorized by each hour of the day."
   ]
  },
  {
   "cell_type": "code",
   "execution_count": 38,
   "metadata": {},
   "outputs": [
    {
     "data": {
      "image/png": "[encoded data removed]",
      "text/plain": [
       "<Figure size 1000x600 with 1 Axes>"
      ]
     },
     "metadata": {},
     "output_type": "display_data"
    }
   ],
   "source": [
    "# Plot a histogram to show the distribution of connection times over the day\n",
    "data_unique['connectionHour'] = data_unique['connectionTime'].dt.hour\n",
    "\n",
    "plt.figure(figsize=(10, 6))\n",
    "plt.hist(data_unique['connectionHour'], bins=24, range=(0, 24), edgecolor='black', alpha=0.7)\n",
    "plt.title('Distribution of Connection Times Over the Day')\n",
    "plt.xlabel('Hour of the Day (Connection Time)')\n",
    "plt.ylabel('Number of started Charging Sessions')\n",
    "plt.xticks(range(24), [f\"{hour:02d}:00\" for hour in range(24)], rotation=45)\n",
    "plt.grid(axis='y', linestyle='--', alpha=0.7)\n",
    "plt.show()"
   ]
  },
  {
   "cell_type": "markdown",
   "metadata": {},
   "source": [
    "Histogram of the disconnection times and done charging times throughout the day, categorized by each hour of the day."
   ]
  },
  {
   "cell_type": "code",
   "execution_count": 34,
   "metadata": {},
   "outputs": [
    {
     "data": {
      "image/png": "[encoded data removed]",
      "text/plain": [
       "<Figure size 1400x600 with 2 Axes>"
      ]
     },
     "metadata": {},
     "output_type": "display_data"
    }
   ],
   "source": [
    "# Extract hours from 'disconnectTime' and 'doneChargingTime' for distribution analysis\n",
    "disconnect_hours = data_unique['disconnectTime'].dt.hour\n",
    "done_charging_hours = data_unique['doneChargingTime'].dt.hour\n",
    "\n",
    "# Create subplots for the histograms\n",
    "fig, axes = plt.subplots(1, 2, figsize=(14, 6), sharey=True)\n",
    "\n",
    "# Plot histogram for disconnection times\n",
    "axes[0].hist(disconnect_hours, bins=24, range=(0, 24), edgecolor='black', alpha=0.7)\n",
    "axes[0].set_title('Distribution of Disconnection Times')\n",
    "axes[0].set_xlabel('Hour of Day')\n",
    "axes[0].set_ylabel('Frequency')\n",
    "axes[0].set_xticks(range(0, 24))\n",
    "axes[0].set_xticklabels([f\"{hour:02d}:00\" for hour in range(24)], rotation=45)\n",
    "\n",
    "# Plot histogram for done charging times\n",
    "axes[1].hist(done_charging_hours, bins=24, range=(0, 24), edgecolor='black', alpha=0.7, color='orange')\n",
    "axes[1].set_title('Distribution of Done Charging Times')\n",
    "axes[1].set_xlabel('Hour of Day')\n",
    "axes[1].set_xticks(range(0, 24))\n",
    "axes[1].set_xticklabels([f\"{hour:02d}:00\" for hour in range(24)], rotation=45)\n",
    "\n",
    "# Adjust layout and show the plot\n",
    "plt.tight_layout()\n",
    "plt.show()"
   ]
  },
  {
   "cell_type": "markdown",
   "metadata": {},
   "source": [
    "The analysis of daily patterns reveals that most charging sessions occur between 7:00 AM and 5:00 PM. Within the context of the data, this suggests that these times correspond to when most individuals are either at the university or at work. This observation is further supported by the detailed examination of connection times and disconnection times for each hour.\n",
    "\n",
    "Additionally, it is noteworthy that the charging sessions, measured from the connection time to the disconnection time, are generally longer than the actual charging process required to fully charge a vehicle (measured from the connection time to the done charging time). This indicates that vehicles often remain connected to the charging station well after they are fully charged."
   ]
  },
  {
   "cell_type": "markdown",
   "metadata": {},
   "source": [
    "#### Weekly patterns"
   ]
  },
  {
   "cell_type": "markdown",
   "metadata": {},
   "source": [
    "Bar chart of charging events distributed across the weekdays."
   ]
  },
  {
   "cell_type": "code",
   "execution_count": null,
   "metadata": {},
   "outputs": [],
   "source": [
    "# Extract weekdays (0=Monday, 6=Sunday) from 'connectionTime'\n",
    "data_unique['weekday'] = data_unique['connectionTime'].dt.dayofweek  # Add a weekday column\n",
    "\n",
    "# Create a list of weekday names for labeling\n",
    "weekday_labels = ['Monday', 'Tuesday', 'Wednesday', 'Thursday', 'Friday', 'Saturday', 'Sunday']\n",
    "\n",
    "# Initialize an array to count active sessions for each weekday\n",
    "active_sessions_by_weekday = np.zeros(7)\n",
    "\n",
    "# Calculate active charging sessions for each weekday\n",
    "for index, row in data_unique.iterrows():\n",
    "    # Get the range of days spanned by the charging event\n",
    "    start_date = row['connectionTime'].date()\n",
    "    end_date = row['disconnectTime'].date()\n",
    "    \n",
    "    # If the session spans multiple days\n",
    "    if start_date != end_date:\n",
    "        days_spanned = pd.date_range(start=start_date, end=end_date, freq='D')\n",
    "        for day in days_spanned:\n",
    "            active_sessions_by_weekday[day.weekday()] += 1\n",
    "    else:\n",
    "        # Single-day session\n",
    "        active_sessions_by_weekday[start_date.weekday()] += 1\n",
    "\n",
    "# Plot the distribution as a bar chart\n",
    "plt.figure(figsize=(10, 6))\n",
    "plt.bar(range(7), active_sessions_by_weekday, tick_label=weekday_labels, color='skyblue', edgecolor='black')\n",
    "plt.title('Distribution of Charging Events Across Weekdays')\n",
    "plt.xlabel('Weekday')\n",
    "plt.ylabel('Total Number of Charging Events')\n",
    "plt.grid(axis='y', linestyle='--', alpha=0.7)\n",
    "plt.show()"
   ]
  },
  {
   "cell_type": "markdown",
   "metadata": {},
   "source": [
    "Nominal analysis of total charging sessions differentiated between weekdays and weekends."
   ]
  },
  {
   "cell_type": "code",
   "execution_count": null,
   "metadata": {},
   "outputs": [],
   "source": [
    "# Extract weekday (0 = Monday, 6 = Sunday) from 'connectionTime'\n",
    "data_unique['weekday'] = data_unique['connectionTime'].dt.dayofweek\n",
    "\n",
    "# Filter sessions for weekdays (0-4) and weekends (5-6)\n",
    "weekday_sessions = data_unique[data_unique['weekday'] < 5]  # Monday to Friday\n",
    "weekend_sessions = data_unique[data_unique['weekday'] >= 5]  # Saturday and Sunday\n",
    "\n",
    "# Count sessions for weekdays and weekends\n",
    "weekday_count = len(weekday_sessions)\n",
    "weekend_count = len(weekend_sessions)\n",
    "total_count = weekday_count + weekend_count\n",
    "\n",
    "# Calculate the percentage of sessions on the weekend\n",
    "weekend_percentage = (weekend_count / total_count) * 100\n",
    "\n",
    "# Print results\n",
    "print(f\"Charging sessions during the week (Monday to Friday): {weekday_count}\")\n",
    "print(f\"Charging sessions during the weekend (Saturday and Sunday): {weekend_count}\")\n",
    "print(f\"Total charging sessions: {total_count}\")\n",
    "print(f\"The percentage of charging sessions on the weekend is {weekend_percentage:.2f}%.\")"
   ]
  },
  {
   "cell_type": "markdown",
   "metadata": {},
   "source": [
    "Heatmap for analyzing weekdays categorized by hours and the distribution of connection times."
   ]
  },
  {
   "cell_type": "code",
   "execution_count": null,
   "metadata": {},
   "outputs": [],
   "source": [
    "# Extract weekday and hour from connectionTime\n",
    "data_unique['weekday'] = data_unique['connectionTime'].dt.dayofweek  # 0=Monday, 6=Sunday\n",
    "data_unique['hour'] = data_unique['connectionTime'].dt.hour\n",
    "\n",
    "# Create a pivot table to count charging events for each combination of weekday and hour\n",
    "heatmap_data = data_unique.pivot_table(\n",
    "    index='weekday', \n",
    "    columns='hour', \n",
    "    values='connectionTime', \n",
    "    aggfunc='count', \n",
    "    fill_value=0\n",
    ")\n",
    "\n",
    "# Define weekday labels for the heatmap\n",
    "weekday_labels = ['Monday', 'Tuesday', 'Wednesday', 'Thursday', 'Friday', 'Saturday', 'Sunday']\n",
    "\n",
    "# Plot a heatmap\n",
    "plt.figure(figsize=(12, 6))\n",
    "sns.heatmap(heatmap_data, cmap='Blues', annot=False, fmt=\"d\", linewidths=0.5, cbar_kws={'label': 'Number of Conecctions'})\n",
    "plt.title('Connection Times by Hour and Weekday')\n",
    "plt.xlabel('Hour of Day')\n",
    "plt.ylabel('Weekday')\n",
    "plt.yticks(ticks=np.arange(7) + 0.5, labels=weekday_labels, rotation=0)\n",
    "plt.xticks(ticks=np.arange(24) + 0.5, labels=[f\"{h:02d}:00\" for h in range(24)], rotation=45)\n",
    "plt.tight_layout()\n",
    "plt.show()"
   ]
  },
  {
   "cell_type": "markdown",
   "metadata": {},
   "source": [
    "The analysis of weekly patterns in charging events reveals a clear trend: there are significantly more charging sessions on weekdays compared to weekends (only 8.53% of the total charging sessions are on Weekends). Starting from Friday, the number of sessions gradually declines, with a sharp drop on Saturday and Sunday. In the context of the data, this suggests that most individuals charge their vehicles during weekdays, while they are at work or university. This behavior aligns with the analysis of the daily patterns.\n"
   ]
  },
  {
   "cell_type": "markdown",
   "metadata": {},
   "source": [
    "#### Seasonal patterns"
   ]
  },
  {
   "cell_type": "markdown",
   "metadata": {},
   "source": [
    "Bar chart showing the distribution of charging sessions throughout the year, categorized by seasons."
   ]
  },
  {
   "cell_type": "code",
   "execution_count": null,
   "metadata": {},
   "outputs": [],
   "source": [
    "# Define a function to map months to seasons\n",
    "def get_season(month):\n",
    "    if month in [3, 4, 5]:\n",
    "        return 'Spring'\n",
    "    elif month in [6, 7, 8]:\n",
    "        return 'Summer'\n",
    "    elif month in [9, 10, 11]:\n",
    "        return 'Fall'\n",
    "    else:\n",
    "        return 'Winter'\n",
    "\n",
    "# Use groupby to count sessions by season\n",
    "sessions_by_season = (\n",
    "    data_unique['connectionTime']\n",
    "    .dt.month\n",
    "    .map(get_season)  # Map months to seasons\n",
    "    .value_counts()\n",
    "    .reindex(['Spring', 'Summer', 'Fall', 'Winter'])  # Sort seasons\n",
    ")\n",
    "\n",
    "# Plot the results\n",
    "plt.figure(figsize=(8, 6))\n",
    "plt.bar(sessions_by_season.index, sessions_by_season.values, color='skyblue', edgecolor='black')\n",
    "plt.title('Number of Charging Sessions by Season')\n",
    "plt.xlabel('Season')\n",
    "plt.ylabel('Number of Charging Sessions')\n",
    "plt.grid(axis='y', linestyle='--', alpha=0.7)\n",
    "plt.tight_layout()\n",
    "plt.show()"
   ]
  },
  {
   "cell_type": "markdown",
   "metadata": {},
   "source": [
    "Calculation of correlations between charging events and individual weather factors."
   ]
  },
  {
   "cell_type": "code",
   "execution_count": null,
   "metadata": {},
   "outputs": [],
   "source": [
    "# Extract month for grouping\n",
    "data_unique['month'] = data_unique['connectionTime'].dt.month\n",
    "weather_unique['month'] = weather_unique['timestamp'].dt.month\n",
    "\n",
    "# Aggregate monthly charging sessions\n",
    "monthly_sessions = data_unique.groupby('month').size().rename('charging_sessions')\n",
    "\n",
    "# Select only numeric columns for weather and aggregate monthly means\n",
    "numeric_weather_cols = weather_unique.select_dtypes(include=['float64', 'int64']).columns\n",
    "monthly_weather = weather_unique.groupby('month')[numeric_weather_cols].mean()\n",
    "\n",
    "# Merge weather data with charging sessions\n",
    "monthly_data = pd.merge(monthly_sessions, monthly_weather, left_index=True, right_index=True)\n",
    "\n",
    "# Calculate correlations\n",
    "correlations = monthly_data.corr()\n",
    "\n",
    "# Display the correlations for charging sessions\n",
    "charging_correlations = correlations['charging_sessions'].sort_values(ascending=False)\n",
    "print(\"Correlations with Charging Sessions:\\n\", charging_correlations)\n"
   ]
  },
  {
   "cell_type": "markdown",
   "metadata": {},
   "source": [
    "Diagrams for analyzing the correlation between weather factors, seasons, and charging sessions, divided into positively correlated and negatively correlated weather factors."
   ]
  },
  {
   "cell_type": "code",
   "execution_count": null,
   "metadata": {},
   "outputs": [],
   "source": [
    "# Assign seasons to weather and charging session data\n",
    "data_unique['season'] = data_unique['connectionTime'].dt.month.map(get_season)\n",
    "weather_unique['season'] = weather_unique['timestamp'].dt.month.map(get_season)\n",
    "\n",
    "# Aggregate Charging Sessions by Season\n",
    "charging_sessions_by_season = data_unique.groupby('season').size()\n",
    "\n",
    "# Select only numeric columns for weather data\n",
    "numeric_weather_cols = weather_unique.select_dtypes(include=['float64', 'int64']).columns\n",
    "\n",
    "# Aggregate Weather Data by Season (Average for numeric columns only)\n",
    "weather_by_season = weather_unique.groupby('season')[numeric_weather_cols].mean()\n",
    "\n",
    "# Combine Charging Sessions and Weather Data\n",
    "seasonal_data = pd.DataFrame({\n",
    "    'charging_sessions': charging_sessions_by_season,\n",
    "    'avg_temperature': weather_by_season['temperature'],\n",
    "    'avg_cloud_cover': weather_by_season['cloud_cover'],\n",
    "    'avg_precipitation': weather_by_season['precipitation'],\n",
    "    'avg_pressure': weather_by_season['pressure']\n",
    "}).reindex(['Spring', 'Summer', 'Fall', 'Winter'])\n",
    "\n",
    "# Create a figure with two side-by-side subplots\n",
    "fig, (ax1, ax2) = plt.subplots(1, 2, figsize=(16, 6))\n",
    "\n",
    "# --- First Plot: Charging Sessions, Temperature, and Cloud Cover ---\n",
    "ax1.bar(seasonal_data.index, seasonal_data['charging_sessions'], color='skyblue', label='Charging Sessions')\n",
    "ax1.set_ylabel('Charging Sessions', color='blue')\n",
    "ax1.set_xlabel('Season')\n",
    "ax1.tick_params(axis='y', labelcolor='blue')\n",
    "\n",
    "# Add Secondary Axis for Temperature and Cloud Cover\n",
    "ax1_2 = ax1.twinx()\n",
    "ax1_2.plot(seasonal_data.index, seasonal_data['avg_temperature'], color='red', marker='o', label='Avg Temperature')\n",
    "ax1_2.plot(seasonal_data.index, seasonal_data['avg_cloud_cover'], color='green', marker='s', linestyle='--', label='Avg Cloud Cover')\n",
    "ax1_2.set_ylabel('Temperature (°C) / Cloud Cover (%)', color='black')\n",
    "ax1_2.tick_params(axis='y', labelcolor='black')\n",
    "\n",
    "ax1.set_title('Charging Sessions, Temperature, and Cloud Cover')\n",
    "ax1_2.legend(loc='upper left', bbox_to_anchor=(0.1, 0.9))\n",
    "\n",
    "# --- Second Plot: Precipitation and Pressure ---\n",
    "ax2.bar(seasonal_data.index, seasonal_data['avg_precipitation'], color='purple', alpha=0.6, label='Avg Precipitation')\n",
    "ax2.set_ylabel('Precipitation (mm)', color='purple')\n",
    "ax2.set_xlabel('Season')\n",
    "ax2.tick_params(axis='y', labelcolor='purple')\n",
    "\n",
    "# Add Secondary Axis for Pressure\n",
    "ax2_2 = ax2.twinx()\n",
    "ax2_2.plot(seasonal_data.index, seasonal_data['avg_pressure'], color='orange', marker='d', label='Avg Pressure')\n",
    "ax2_2.set_ylabel('Pressure (hPa)', color='orange')\n",
    "ax2_2.tick_params(axis='y', labelcolor='orange')\n",
    "\n",
    "ax2.set_title('Precipitation and Pressure')\n",
    "ax2_2.legend(loc='upper left', bbox_to_anchor=(0.1, 0.9))\n",
    "\n",
    "# Adjust layout and show the plots\n",
    "plt.tight_layout()\n",
    "plt.show()"
   ]
  },
  {
   "cell_type": "markdown",
   "metadata": {},
   "source": [
    "Heatmaps for analyzing the daily connection and disconnection times categorized by seasons."
   ]
  },
  {
   "cell_type": "code",
   "execution_count": null,
   "metadata": {},
   "outputs": [],
   "source": [
    "# Map months to seasons\n",
    "data_unique['season'] = data_unique['connectionTime'].dt.month.map(get_season)\n",
    "data_unique['connection_hour'] = data_unique['connectionTime'].dt.hour\n",
    "data_unique['disconnection_hour'] = data_unique['disconnectTime'].dt.hour\n",
    "\n",
    "# Create pivot tables for the heatmaps\n",
    "connection_heatmap_data = data_unique.pivot_table(\n",
    "    index='season', \n",
    "    columns='connection_hour', \n",
    "    values='connectionTime', \n",
    "    aggfunc='count', \n",
    "    fill_value=0\n",
    ")\n",
    "\n",
    "disconnection_heatmap_data = data_unique.pivot_table(\n",
    "    index='season', \n",
    "    columns='disconnection_hour', \n",
    "    values='disconnectTime', \n",
    "    aggfunc='count', \n",
    "    fill_value=0\n",
    ")\n",
    "\n",
    "# Plot the heatmaps side by side\n",
    "fig, axes = plt.subplots(1, 2, figsize=(20, 8), sharey=True)\n",
    "\n",
    "# Connection Time Heatmap\n",
    "sns.heatmap(\n",
    "    connection_heatmap_data, \n",
    "    cmap='YlGnBu', \n",
    "    annot=False, \n",
    "    fmt=\"d\", \n",
    "    linewidths=0.5, \n",
    "    cbar_kws={'label': 'Number of Connections'}, \n",
    "    ax=axes[0]\n",
    ")\n",
    "axes[0].set_title('Connection Times by Hour and Season')\n",
    "axes[0].set_xlabel('Hour of Day')\n",
    "axes[0].set_ylabel('Season')\n",
    "axes[0].set_xticks(np.arange(24) + 0.5)\n",
    "axes[0].set_xticklabels([f\"{h:02d}:00\" for h in range(24)], rotation=45)\n",
    "\n",
    "# Disconnection Time Heatmap\n",
    "sns.heatmap(\n",
    "    disconnection_heatmap_data, \n",
    "    cmap='YlGnBu', \n",
    "    annot=False, \n",
    "    fmt=\"d\", \n",
    "    linewidths=0.5, \n",
    "    cbar_kws={'label': 'Number of Disconnections'}, \n",
    "    ax=axes[1]\n",
    ")\n",
    "axes[1].set_title('Disconnection Times by Hour and Season')\n",
    "axes[1].set_xlabel('Hour of Day')\n",
    "axes[1].set_ylabel('')  # Remove duplicate ylabel\n",
    "axes[1].set_xticks(np.arange(24) + 0.5)\n",
    "axes[1].set_xticklabels([f\"{h:02d}:00\" for h in range(24)], rotation=45)\n",
    "\n",
    "# Adjust layout\n",
    "plt.tight_layout()\n",
    "plt.show()"
   ]
  },
  {
   "cell_type": "markdown",
   "metadata": {},
   "source": [
    "The analysis of seasonal patterns reveals that the distribution of charging sessions varies across seasons. Charging sessions are most frequent in summer and fall, while winter and spring see the lowest activity levels. Further analysis indicates that this behavior correlates with weather factors: high temperatures and cloudy skies show a positive correlation with charging sessions, while precipitation and pressure have a negative correlation.\n",
    "\n",
    "A potential hypothesis to explain this pattern is that people engage in more outdoor activities during summer and fall, leading to increased vehicle usage and a greater need for charging.\n",
    "\n",
    "Moreover, connection and disconnection times are slightly more spread out during the summer compared to other seasons. This suggests a higher level of activity and flexibility in people’s schedules during the summer months. This seasonal variation in behavior highlights the importance of considering both weather conditions and human activity patterns when analyzing charging infrastructure usage."
   ]
  },
  {
   "cell_type": "markdown",
   "metadata": {},
   "source": [
    "### **Key Performance Indicators (KPIs)**"
   ]
  },
  {
   "cell_type": "markdown",
   "metadata": {},
   "source": [
    "First we need to filter Days in both Site IDs with 0 Charging Sessions and analyze whether the parking lot was closed or simply not used."
   ]
  },
  {
   "cell_type": "code",
   "execution_count": null,
   "metadata": {},
   "outputs": [],
   "source": [
    "# Filter data for SiteID 1 and SiteID 2\n",
    "data_kpi1_site_1 = data_with_NA[data_with_NA['siteID'] == 1].copy()\n",
    "data_kpi1_site_2 = data_with_NA[data_with_NA['siteID'] == 2].copy()\n",
    "\n",
    "# Convert time columns to date format, if not already converted\n",
    "data_kpi1_site_1['connectionDate'] = data_kpi1_site_1['connectionTime'].dt.date\n",
    "data_kpi1_site_1['disconnectDate'] = data_kpi1_site_1['disconnectTime'].dt.date\n",
    "\n",
    "data_kpi1_site_2['connectionDate'] = data_kpi1_site_2['connectionTime'].dt.date\n",
    "data_kpi1_site_2['disconnectDate'] = data_kpi1_site_2['disconnectTime'].dt.date\n",
    "\n",
    "# Determine the minimum and maximum date for SiteID 1\n",
    "min_date_1 = min(data_kpi1_site_1['connectionDate'].min(), data_kpi1_site_1['disconnectDate'].min())\n",
    "max_date_1 = max(data_kpi1_site_1['connectionDate'].max(), data_kpi1_site_1['disconnectDate'].max())\n",
    "\n",
    "# Determine the minimum and maximum date for SiteID 2\n",
    "min_date_2 = min(data_kpi1_site_2['connectionDate'].min(), data_kpi1_site_2['disconnectDate'].min())\n",
    "max_date_2 = max(data_kpi1_site_2['connectionDate'].max(), data_kpi1_site_2['disconnectDate'].max())\n",
    "\n",
    "# Create a complete list of all days in the range for SiteID 1\n",
    "all_days_1 = pd.date_range(start=min_date_1, end=max_date_1).date\n",
    "\n",
    "# Create a complete list of all days in the range for SiteID 2\n",
    "all_days_2 = pd.date_range(start=min_date_2, end=max_date_2).date\n",
    "\n",
    "# Find all days with at least one charging session for SiteID 1\n",
    "active_days_1 = pd.concat([data_kpi1_site_1['connectionDate'], data_kpi1_site_1['disconnectDate']]).unique()\n",
    "\n",
    "# Find all days with at least one charging session for SiteID 2\n",
    "active_days_2 = pd.concat([data_kpi1_site_2['connectionDate'], data_kpi1_site_2['disconnectDate']]).unique()\n",
    "\n",
    "# Identify days without any charging sessions for SiteID 1\n",
    "inactive_days_1 = set(all_days_1) - set(active_days_1)\n",
    "\n",
    "# Identify days without any charging sessions for SiteID 2\n",
    "inactive_days_2 = set(all_days_2) - set(active_days_2)\n",
    "\n",
    "# Function to identify consecutive days without charging sessions\n",
    "def find_consecutive_days(inactive_days_sorted):\n",
    "    # Convert the sorted days into a DataFrame\n",
    "    df = pd.DataFrame({\"date\": inactive_days_sorted})\n",
    "    df['diff'] = df['date'].diff().dt.days  # Calculate the difference in days\n",
    "\n",
    "    consecutive_days = []  # List to store consecutive day sequences\n",
    "    current_streak = []    # Temporary list to store the current streak of consecutive days\n",
    "\n",
    "    for i, row in df.iterrows():\n",
    "        if i > 0 and row['diff'] == 1:  # If the difference between two days is 1\n",
    "            current_streak.append(row['date'])  # Add the day to the current streak\n",
    "        else:\n",
    "            if current_streak:  # If a streak ends\n",
    "                consecutive_days.append(current_streak)  # Append the current streak to the list\n",
    "                current_streak = []  # Reset the current streak\n",
    "            current_streak.append(row['date'])  # Start a new streak\n",
    "\n",
    "    # Add the last streak if it exists\n",
    "    if current_streak:\n",
    "        consecutive_days.append(current_streak)\n",
    "\n",
    "    return consecutive_days\n",
    "\n",
    "# Sort the days\n",
    "inactive_days_sorted_1 = sorted(inactive_days_1)\n",
    "inactive_days_sorted_2 = sorted(inactive_days_2)\n",
    "\n",
    "# Find longer streaks for both sites\n",
    "long_streaks_1 = find_consecutive_days(inactive_days_sorted_1)\n",
    "long_streaks_2 = find_consecutive_days(inactive_days_sorted_2)\n",
    "\n",
    "# Print long periods without parking guests\n",
    "print(\"Longer Periods of consecutive days without charging sessions (Site 1):\")\n",
    "for streak in long_streaks_1:\n",
    "    if len(streak) > 2:  # Only print if streak is longer than 2 days\n",
    "        print(f\"{streak[0]} to {streak[-1]} ({len(streak)} days)\")\n",
    "\n",
    "print(\"\\nLonger Periods of consecutive days without charging sessions (Site 2):\")\n",
    "for streak in long_streaks_2:\n",
    "    if len(streak) > 2:  # Only print if streak is longer than 2 days\n",
    "        print(f\"{streak[0]} to {streak[-1]} ({len(streak)} days)\")\n",
    "\n",
    "# Streaks of more than 7 days without a parking guest are considered as closed \n",
    "streaks_longer_than_7_1 = [streak for streak in long_streaks_1 if len(streak) > 7]\n",
    "streaks_longer_than_7_2 = [streak for streak in long_streaks_2 if len(streak) > 7]\n",
    "\n",
    "# Sum the length of the streaks longer than 7 days. These are the number of days where the sites were closed\n",
    "sum_long_streaks_1 = sum(len(streak) for streak in streaks_longer_than_7_1)\n",
    "sum_long_streaks_2 = sum(len(streak) for streak in streaks_longer_than_7_2)\n",
    "\n",
    "# Print the long streaks length (just for reference)\n",
    "print(f\"\\nTotal number of days in streaks > 7 days (Site 1): {sum_long_streaks_1}\")\n",
    "print(f\"Total number of days in streaks > 7 days (Site 2): {sum_long_streaks_2}\")\n",
    "\n",
    "# Remove the days from the inactive days that are part of streaks longer than 7 days as here site isconsidered  as closed\n",
    "def remove_long_streaks(inactive_days, long_streaks, threshold=7):\n",
    "    # Create a set of days to remove\n",
    "    days_to_remove = set()\n",
    "    for streak in long_streaks:\n",
    "        if len(streak) > threshold:\n",
    "            days_to_remove.update(streak)\n",
    "\n",
    "    # Remove the days from the list\n",
    "    updated_inactive_days = [day for day in inactive_days if day not in days_to_remove]\n",
    "    return updated_inactive_days\n",
    "\n",
    "# Remove the long streaks from the inactive days\n",
    "inactive_days_siteid_1 = remove_long_streaks(inactive_days_1, long_streaks_1)\n",
    "inactive_days_siteid_2 = remove_long_streaks(inactive_days_2, long_streaks_2)\n",
    "\n",
    "# Output the updated inactive days\n",
    "print(\"\\nNumber of considered incative days for Site 1 after removing streaks >7:\")\n",
    "print(len(inactive_days_siteid_1))\n",
    "print(\"\\nNumber of considered incative days for Site 2 after removing long streaks >7:\")\n",
    "print(len(inactive_days_siteid_2))\n"
   ]
  },
  {
   "cell_type": "markdown",
   "metadata": {},
   "source": [
    "We assume that if there are more than 7 consecutive days without any guests, the site was closed during that period. For example, between 2020-08-04 and 2020-11-17, both sites experienced no parking activity, which we interpret as the site being closed for 106 days. If we have less than or equal to 7 consecutive days without guests, we assume that the parking lot was open but not used."
   ]
  },
  {
   "cell_type": "markdown",
   "metadata": {},
   "source": [
    "#### 1. Utilization Rate of Parking Spaces\n",
    "Definition: The utilization rate of parking spaces represents the percentage of parking spaces that are occupied per hour, on average. It reflects the overall usage of the charging station over a given period, indicating how efficiently the parking spaces are utilized.\n"
   ]
  },
  {
   "cell_type": "code",
   "execution_count": null,
   "metadata": {},
   "outputs": [],
   "source": [
    "# Function to calculate hourly utilization for a given siteID\n",
    "def calculate_utilization(site_id, data_with_NA, siteid_inactivedays, active_days):\n",
    "    \n",
    "    # Filter data for the specified siteID\n",
    "    data_kpi = data_with_NA[data_with_NA['siteID'] == site_id].copy()\n",
    "\n",
    "    # Parameters\n",
    "    num_stations = data_kpi['stationID'].nunique()  # Number of unique charging stations\n",
    "\n",
    "    # Create a list of hourly activity data\n",
    "    hourly_data = []\n",
    "\n",
    "    for _, row in data_kpi.iterrows():\n",
    "        start = row['connectionTime']\n",
    "        end = row['disconnectTime']\n",
    "        \n",
    "        current = start\n",
    "        while current < end:\n",
    "            next_hour = (current + pd.Timedelta(hours=1)).replace(minute=0, second=0, microsecond=0)\n",
    "            if next_hour > end:  \n",
    "                next_hour = end\n",
    "            \n",
    "            # calculate duration of current hour\n",
    "            duration_in_hour = (next_hour - current).total_seconds() / 3600  # Stunden\n",
    "            \n",
    "            hourly_data.append({\n",
    "                'hour': current.replace(minute=0, second=0, microsecond=0),\n",
    "                'active_charging': duration_in_hour  \n",
    "            })\n",
    "            \n",
    "            current = next_hour \n",
    "\n",
    "    # Create DataFrame for the hourly usage data\n",
    "    hourly_df = pd.DataFrame(hourly_data)\n",
    "\n",
    "    hourly_df['hour'] = hourly_df['hour'].dt.hour\n",
    "\n",
    "    # Calculate the total hourly usage per day\n",
    "    avg_hourly_usage = hourly_df.groupby('hour')['active_charging'].sum().reset_index()\n",
    "\n",
    "    # Calculate the utilization rate, using the unique connection dates in hourly_usage for the denominator\n",
    "    avg_hourly_usage['utilization_rate'] = (avg_hourly_usage['active_charging'] / (len(siteid_inactivedays)+len(active_days)) / num_stations) * 100\n",
    "\n",
    "    return avg_hourly_usage\n",
    "\n",
    "# Calculate utilization for siteID 1\n",
    "avg_hourly_usage_1 = calculate_utilization(1, data_with_NA,inactive_days_siteid_1,active_days_1)\n",
    "\n",
    "# Calculate utilization for siteID 2\n",
    "avg_hourly_usage_2 = calculate_utilization(2, data_with_NA,inactive_days_siteid_2,active_days_2)\n",
    "\n",
    "# Visualization\n",
    "plt.figure(figsize=(12, 6))\n",
    "\n",
    "# Plot utilization for siteID 1\n",
    "plt.plot(avg_hourly_usage_1['hour'], avg_hourly_usage_1['utilization_rate'], marker='o', label='Utilization Rate SiteID 1', color='blue')\n",
    "\n",
    "# Plot utilization for siteID 2\n",
    "plt.plot(avg_hourly_usage_2['hour'], avg_hourly_usage_2['utilization_rate'], marker='o', label='Utilization Rate SiteID 2', color='green')\n",
    "\n",
    "# Add horizontal line for max capacity (100%)\n",
    "plt.axhline(y=100, color='red', linestyle='--', label='Max Capacity (100%)')\n",
    "\n",
    "# Title and labels\n",
    "plt.title('Average Hourly Utilization of Charging Stations (Typical Day)')\n",
    "plt.xlabel('Hour of the Day')\n",
    "plt.ylabel('Utilization (%)')\n",
    "\n",
    "# Set X-axis to display each hour from 0 to 23\n",
    "plt.xticks(range(24))\n",
    "\n",
    "for i, row in avg_hourly_usage_1.iterrows():\n",
    "    if 6 <= row['hour'] <= 16:  # Check if the hour is between 6 and 16 (inclusive)\n",
    "        plt.text(row['hour'], row['utilization_rate'] + 2, f'{row[\"utilization_rate\"]:.0f}%', ha='center', va='bottom', fontsize=9)\n",
    "\n",
    "for i, row in avg_hourly_usage_2.iterrows():\n",
    "    if 6 <= row['hour'] <= 16:  # Check if the hour is between 6 and 16 (inclusive)\n",
    "        plt.text(row['hour'], row['utilization_rate'] + 2, f'{row[\"utilization_rate\"]:.0f}%', ha='center', va='bottom', fontsize=9)\n",
    "\n",
    "# Grid and legend\n",
    "plt.grid()\n",
    "plt.legend()\n",
    "\n",
    "# Show the plot\n",
    "plt.show()"
   ]
  },
  {
   "cell_type": "markdown",
   "metadata": {},
   "source": [
    "Key observations:\n",
    "\n",
    "+  SiteID 1 (blue line): Shows higher utilization rates, peaking at around 44% during the late morning (11:00 AM) and remaining steady until mid-afternoon before declining in the evening.\n",
    "\n",
    "+  SiteID 2 (green line): Displays lower utilization rates overall, peaking at around 26% during the afternoon (3:00 PM) and gradually declining afterward.\n",
    "\n",
    "Conclusion:\n",
    "SiteID 1 has significantly higher usage throughout the day, indicating a higher demand for charging, while SiteID 2 remains underutilized, reflecting either lower demand or fewer active vehicles. Both sites stay far below maximum capacity (100%)."
   ]
  },
  {
   "cell_type": "markdown",
   "metadata": {},
   "source": [
    "Now we are going to take a closer look at peak utilization days of the parking spaces to determine wether the sites are always \"underused\" or also have days of high utilization."
   ]
  },
  {
   "cell_type": "code",
   "execution_count": null,
   "metadata": {},
   "outputs": [],
   "source": [
    "from decimal import Decimal\n",
    "\n",
    "# Funktion zur Berechnung der stündlichen Auslastung für eine gegebene siteID und Rückgabe einer detaillierten Tabelle\n",
    "def calculate_utilization_table(site_id, data_with_NA, siteid_inactivedays, active_days):\n",
    "    # Filtere die Daten für die angegebene siteID\n",
    "    data_kpi = data_with_NA[data_with_NA['siteID'] == site_id].copy()\n",
    "\n",
    "    # Parameter\n",
    "    num_stations = data_kpi['stationID'].nunique()  # Anzahl der einzigartigen Ladestationen\n",
    "\n",
    "    # Liste der stündlichen Aktivitätsdaten erstellen\n",
    "    hourly_data = []\n",
    "\n",
    "    for _, row in data_kpi.iterrows():\n",
    "        start = row['connectionTime']\n",
    "        end = row['disconnectTime']\n",
    "        \n",
    "        current = start\n",
    "        while current < end:\n",
    "            next_hour = (current + pd.Timedelta(hours=1)).replace(minute=0, second=0, microsecond=0)\n",
    "            if next_hour > end:  \n",
    "                next_hour = end\n",
    "            \n",
    "            # Berechne die Dauer der aktuellen Stunde\n",
    "            duration_in_hour = (next_hour - current).total_seconds() / 3600  # Stunden\n",
    "            \n",
    "            hourly_data.append({\n",
    "                'date': current.date(),\n",
    "                'hour': current.hour,\n",
    "                'active_charging': duration_in_hour  \n",
    "            })\n",
    "            \n",
    "            current = next_hour \n",
    "\n",
    "    # Erstelle DataFrame für die stündlichen Nutzungsdaten\n",
    "    hourly_df = pd.DataFrame(hourly_data)\n",
    "\n",
    "    # Gruppiere nach Datum und Stunde, um die gesamte aktive Ladezeit pro Stunde zu berechnen\n",
    "    hourly_usage = hourly_df.groupby(['date', 'hour'])['active_charging'].sum().reset_index()\n",
    "\n",
    "    # Berechne die Auslastungsrate\n",
    "    hourly_usage['utilization_rate'] = ((hourly_usage['active_charging'] / num_stations) * 100).apply(Decimal)\n",
    "\n",
    "    return hourly_usage\n",
    "\n",
    "# Berechne die stündliche Auslastung für Site ID 1\n",
    "hourly_utilization_1 = calculate_utilization_table(1, data_with_NA, inactive_days_siteid_1, active_days_1)\n",
    "\n",
    "# Berechne die stündliche Auslastung für Site ID 2\n",
    "hourly_utilization_2 = calculate_utilization_table(2, data_with_NA, inactive_days_siteid_2, active_days_2)\n",
    "\n",
    "# Füge die Site-ID zu den Ergebnissen hinzu\n",
    "hourly_utilization_1['siteID'] = 1\n",
    "hourly_utilization_2['siteID'] = 2\n",
    "\n",
    "# Kombiniere die Ergebnisse beider Sites in ein einzelnes DataFrame\n",
    "hourly_utilization_combined = pd.concat([hourly_utilization_1, hourly_utilization_2], ignore_index=True)\n",
    "\n",
    "# Zähle die Tage, an denen die Auslastung größer als 80% ist, für jede Stunde und Site\n",
    "hourly_utilization_combined['high_utilization'] = hourly_utilization_combined['utilization_rate'] > 80\n",
    "\n",
    "# Gruppiere nach Stunde und Site und zähle die Tage mit hoher Auslastung\n",
    "high_utilization_counts = hourly_utilization_combined.groupby(['siteID', 'hour'])['high_utilization'].sum().reset_index()\n",
    "\n",
    "# Zeige das Ergebnis an\n",
    "high_utilization_counts.rename(columns={'high_utilization': 'days_with_utilization_above_80_percent'}, inplace=True)\n",
    "high_utilization_counts.sort_values(by=['siteID', 'hour']).reset_index(drop=True)"
   ]
  },
  {
   "cell_type": "markdown",
   "metadata": {},
   "source": [
    "It is important to note that this chart represents the average utilization on a \"typical day.\" There are days when the parking lot experiences higher demand. For example, over the observed period of approximately 3 years, Site ID 1 reached a utilization rate of over 80% at 11:00 AM on 324 days, indicating that there are regular occurrences of high demand. In contrast, Site ID 2 saw over 80% utilization at 10:00 AM on 42 days, which is considerably less frequent but still reflects occasional peak usage.\n"
   ]
  },
  {
   "cell_type": "markdown",
   "metadata": {},
   "source": [
    "#### 2. Inactive Utilization Rate of Parking Spaces\n",
    "Definition: The inactive utilization rate of parking spaces indicates the percentage of parking spaces occupied per hour where vehicles are connected to the charging station but are not actively charging. This metric highlights the proportion of time charging stations are used solely for parking, rather than for charging, reflecting inefficiencies in station utilization."
   ]
  },
  {
   "cell_type": "code",
   "execution_count": null,
   "metadata": {},
   "outputs": [],
   "source": [
    "# Function to calculate hourly inactive utilization for a given siteID\n",
    "def calculate_inactive_utilization(site_id, data_with_NA,inactive_days,active_days):\n",
    "\n",
    "    # Filter data for the specified siteID\n",
    "    data_kpi = data_with_NA[data_with_NA['siteID'] == site_id].copy()\n",
    "\n",
    "    # Parameters\n",
    "    num_spaces = data_kpi['stationID'].nunique()  # Number of unique parking spaces\n",
    "\n",
    "    # Create a list of hourly activity data for inactive (unoccupied) parking\n",
    "    hourly_data = []\n",
    "\n",
    "    # Iterate through each row in the dataset\n",
    "    for _, row in data_kpi.iterrows():\n",
    "        \n",
    "        # Check if doneParkingTime is not NaT and disconnectTime > doneParkingTime\n",
    "        if pd.notna(row['doneChargingTime']) and row['disconnectTime'] > row['doneChargingTime']:\n",
    "            start = row['doneChargingTime']\n",
    "            end = row['disconnectTime']\n",
    "            \n",
    "            current = start\n",
    "            while current < end:\n",
    "                next_hour = (current + pd.Timedelta(hours=1)).replace(minute=0, second=0, microsecond=0)\n",
    "                if next_hour > end:  \n",
    "                    next_hour = end\n",
    "                \n",
    "                # calculate duration of current hour\n",
    "                duration_in_hour = (next_hour - current).total_seconds() / 3600  # Stunden\n",
    "                \n",
    "                hourly_data.append({\n",
    "                    'hour': current.replace(minute=0, second=0, microsecond=0),\n",
    "                    'inactive_utilization': duration_in_hour  \n",
    "                })\n",
    "                \n",
    "                current = next_hour \n",
    "\n",
    "    # Create DataFrame for the hourly usage data\n",
    "    hourly_df = pd.DataFrame(hourly_data)\n",
    "\n",
    "    hourly_df['hour'] = hourly_df['hour'].dt.hour\n",
    "\n",
    "    # Calculate the total hourly usage per day (inactive utilization)\n",
    "    avg_hourly_usage = hourly_df.groupby('hour')['inactive_utilization'].sum().reset_index()\n",
    "\n",
    "    # Calculate the utilization rate, using the unique parking dates for the denominator\n",
    "    avg_hourly_usage['utilization_rate'] = (avg_hourly_usage['inactive_utilization'] / (len(inactive_days)+len(active_days)) / num_spaces) * 100\n",
    "\n",
    "    return avg_hourly_usage\n",
    "\n",
    "# Calculate inactive utilization for siteID 1\n",
    "avg_hourly_usage_1_inactive = calculate_inactive_utilization(1, data_with_NA,inactive_days_1,active_days_1)\n",
    "\n",
    "# Calculate inactive utilization for siteID 2\n",
    "avg_hourly_usage_2_inactive = calculate_inactive_utilization(2, data_with_NA, inactive_days_2,active_days_2)\n",
    "\n",
    "# Visualization\n",
    "plt.figure(figsize=(12, 6))\n",
    "\n",
    "# Plot inactive utilization for siteID 1\n",
    "plt.plot(avg_hourly_usage_1_inactive['hour'], avg_hourly_usage_1_inactive['utilization_rate'], marker='o', label='Inactive Utilization Rate SiteID 1', color='#D35400')\n",
    "\n",
    "# Plot inactive utilization for siteID 2\n",
    "plt.plot(avg_hourly_usage_2_inactive['hour'], avg_hourly_usage_2_inactive['utilization_rate'], marker='o', label='Inactive Utilization Rate SiteID 2', color='#F1C40F')\n",
    "\n",
    "# Add horizontal line for max capacity (100%)\n",
    "plt.axhline(y=100, color='red', linestyle='--', label='Max Capacity (100%)')\n",
    "\n",
    "# Title and labels\n",
    "plt.title('Average Hourly Inactive Utilization of Parking Spaces (Typical Day)')\n",
    "plt.xlabel('Hour of the Day')\n",
    "plt.ylabel('Utilization (%)')\n",
    "\n",
    "# Set X-axis to display each hour from 0 to 23\n",
    "plt.xticks(range(24))\n",
    "\n",
    "# Add percentage values above each point on the graph, but only for hours 7 to 16\n",
    "for i, row in avg_hourly_usage_1_inactive.iterrows():\n",
    "    if 10 <= row['hour'] <= 15:  # Check if the hour is between 7 and 16 (inclusive)\n",
    "        plt.text(row['hour'], row['utilization_rate'] + 2, f'{row[\"utilization_rate\"]:.0f}%', ha='center', va='bottom', fontsize=9)\n",
    "\n",
    "for i, row in avg_hourly_usage_2_inactive.iterrows():\n",
    "    if 10 <= row['hour'] <= 15:  # Check if the hour is between 7 and 16 (inclusive)\n",
    "        plt.text(row['hour'], row['utilization_rate'] + 2, f'{row[\"utilization_rate\"]:.0f}%', ha='center', va='bottom', fontsize=9)\n",
    "\n",
    "# Grid and legend\n",
    "plt.grid()\n",
    "plt.legend()\n",
    "\n",
    "# Show the plot\n",
    "plt.show()"
   ]
  },
  {
   "cell_type": "code",
   "execution_count": null,
   "metadata": {},
   "outputs": [],
   "source": [
    "# Create subplots: One for SiteID 1 and one for SiteID 2\n",
    "fig, axs = plt.subplots(2, 1, figsize=(12, 8), sharex=True)\n",
    "\n",
    "# Plot for SiteID 1\n",
    "axs[0].plot(avg_hourly_usage_1['hour'], avg_hourly_usage_1['utilization_rate'], marker='o', label='Utilization SiteID 1', color='blue')\n",
    "axs[0].plot(avg_hourly_usage_1_inactive['hour'], avg_hourly_usage_1_inactive['utilization_rate'], marker='o', label='Inactive Utilization SiteID 1', color='orange')\n",
    "\n",
    "# Fill the area under the active utilization curve for SiteID 1\n",
    "axs[0].fill_between(avg_hourly_usage_1['hour'], 0, avg_hourly_usage_1['utilization_rate'], color='blue', alpha=0.3)\n",
    "# Fill the area under the inactive utilization curve for SiteID 1\n",
    "axs[0].fill_between(avg_hourly_usage_1_inactive['hour'], 0, avg_hourly_usage_1_inactive['utilization_rate'], color='orange', alpha=0.3)\n",
    "\n",
    "# Title and labels for SiteID 1\n",
    "axs[0].set_title('Average Hourly Utilization and Inactive Utilization (SiteID 1)')\n",
    "axs[0].set_ylabel('Utilization (%)')  # Ensure ylabel is on the upper plot\n",
    "axs[0].set_xlabel('Hour of the Day')\n",
    "axs[0].axhline(y=100, color='red', linestyle='--', label='Max Capacity (100%)')  # Max capacity line\n",
    "\n",
    "# Add percentage values above each point on the graph, but only for hours 10 to 16\n",
    "for i, row in avg_hourly_usage_1.iterrows():\n",
    "    if 6 <= row['hour'] <= 15:\n",
    "        axs[0].text(row['hour'], row['utilization_rate'] + 2, f'{row[\"utilization_rate\"]:.0f}%', ha='center', va='bottom', fontsize=9)\n",
    "\n",
    "for i, row in avg_hourly_usage_1_inactive.iterrows():\n",
    "    if 6 <= row['hour'] <= 15:\n",
    "        axs[0].text(row['hour'], row['utilization_rate'] + 2, f'{row[\"utilization_rate\"]:.0f}%', ha='center', va='bottom', fontsize=9)\n",
    "\n",
    "# Plot for SiteID 2\n",
    "axs[1].plot(avg_hourly_usage_2['hour'], avg_hourly_usage_2['utilization_rate'], marker='o', label='Utilization SiteID 2', color='blue')\n",
    "axs[1].plot(avg_hourly_usage_2_inactive['hour'], avg_hourly_usage_2_inactive['utilization_rate'], marker='o', label='Inactive Utilization SiteID 2', color='orange')\n",
    "\n",
    "# Fill the area under the active utilization curve for SiteID 2\n",
    "axs[1].fill_between(avg_hourly_usage_2['hour'], 0, avg_hourly_usage_2['utilization_rate'], color='blue', alpha=0.3)\n",
    "# Fill the area under the inactive utilization curve for SiteID 2\n",
    "axs[1].fill_between(avg_hourly_usage_2_inactive['hour'], 0, avg_hourly_usage_2_inactive['utilization_rate'], color='orange', alpha=0.3)\n",
    "\n",
    "# Title and labels for SiteID 2\n",
    "axs[1].set_title('Average Hourly Utilization and Inactive Utilization (SiteID 2)')\n",
    "axs[1].set_xlabel('Hour of the Day')\n",
    "axs[1].set_ylabel('Utilization (%)')  # Make sure the ylabel is also on the second plot\n",
    "axs[1].axhline(y=100, color='red', linestyle='--', label='Max Capacity (100%)')  # Max capacity line\n",
    "\n",
    "# Add percentage values above each point on the graph, but only for hours 8 to 16\n",
    "for i, row in avg_hourly_usage_2.iterrows():\n",
    "    if 8 <= row['hour'] <= 15:\n",
    "        axs[1].text(row['hour'], row['utilization_rate'] + 2, f'{row[\"utilization_rate\"]:.0f}%', ha='center', va='bottom', fontsize=9)\n",
    "\n",
    "for i, row in avg_hourly_usage_2_inactive.iterrows():\n",
    "    if 8 <= row['hour'] <= 15:\n",
    "        axs[1].text(row['hour'], row['utilization_rate'] + 2, f'{row[\"utilization_rate\"]:.0f}%', ha='center', va='bottom', fontsize=9)\n",
    "\n",
    "# Set X-axis to display each hour from 0 to 23\n",
    "axs[1].set_xticks(range(24))\n",
    "\n",
    "# Grid and legend for both subplots\n",
    "axs[0].grid(True)\n",
    "axs[1].grid(True)\n",
    "\n",
    "axs[0].legend(loc='center right')\n",
    "axs[1].legend(loc='center right')\n",
    "\n",
    "# Adjust layout for better display\n",
    "plt.tight_layout()\n",
    "\n",
    "# Show the plot\n",
    "plt.show()"
   ]
  },
  {
   "cell_type": "markdown",
   "metadata": {},
   "source": [
    "An interesting observation is the noticeably high proportion of vehicles that remain connected to the charging stations without further charging. This idle time suggests a significant number of vehicles occupy charging spots even after the charging process has been completed, highlighting an opportunity to improve the overall efficiency of the charging infrastructure.\n",
    "\n",
    "However, at present, this idle time after charging does not pose a significant problem, as the overall utilization remains low. The available charging capacity is not being fully utilized, so there is no immediate concern regarding limited access for other vehicles in need of charging. Nonetheless, addressing this inefficiency could enhance the capacity and accessibility of the stations in the future."
   ]
  },
  {
   "cell_type": "markdown",
   "metadata": {},
   "source": [
    "#### 3. Average kWh Delivered\n",
    "Definition: The Average kWh Delivered shows the average amount of energy, in kilowatt-hours (kWh), delivered to electric vehicles across the entire site each hour. This metric helps identify peak demand times, indicating when most energy is needed/delivered, and provides insights into the overall energy usage patterns throughout the day."
   ]
  },
  {
   "cell_type": "code",
   "execution_count": null,
   "metadata": {},
   "outputs": [],
   "source": [
    "def calculate_kwh_delivered(site_id, data_with_NA, siteid_inactivedays, active_days):\n",
    "    \n",
    "    # Filter data for the specified siteID\n",
    "    data_kpi = data_with_NA[data_with_NA['siteID'] == site_id].copy()\n",
    "\n",
    "    # Create a list of hourly kWh delivery data\n",
    "    hourly_data = []\n",
    "\n",
    "    for _, row in data_kpi.iterrows():\n",
    "        start = row['connectionTime']\n",
    "        end = row['doneChargingTime']\n",
    "        total_energy = row['kWhDelivered']  # Total kWh delivered during the session\n",
    "        \n",
    "        current = start\n",
    "        while current < end:\n",
    "            next_hour = (current + pd.Timedelta(hours=1)).replace(minute=0, second=0, microsecond=0)\n",
    "            if next_hour > end:  \n",
    "                next_hour = end\n",
    "            \n",
    "            # Calculate the proportion of energy delivered in the current hour\n",
    "            duration_in_hour = (next_hour - current).total_seconds() / (end - start).total_seconds()\n",
    "            energy_in_hour = total_energy * duration_in_hour\n",
    "            \n",
    "            hourly_data.append({\n",
    "                'hour': current.replace(minute=0, second=0, microsecond=0),\n",
    "                'energy_delivered': energy_in_hour\n",
    "            })\n",
    "            \n",
    "            current = next_hour \n",
    "\n",
    "    # Create DataFrame for the hourly kWh data\n",
    "    hourly_df = pd.DataFrame(hourly_data)\n",
    "\n",
    "    # Extract the hour of the day\n",
    "    hourly_df['hour'] = hourly_df['hour'].dt.hour\n",
    "\n",
    "    # Calculate the total kWh delivered per hour\n",
    "    avg_hourly_kwh = hourly_df.groupby('hour')['energy_delivered'].sum().reset_index()\n",
    "\n",
    "    # Calculate the average kWh delivered per hour, normalized by the number of active days\n",
    "    avg_hourly_kwh['avg_kwh'] = avg_hourly_kwh['energy_delivered'] / (len(siteid_inactivedays) + len(active_days))\n",
    "\n",
    "    return avg_hourly_kwh\n",
    "\n",
    "# Calculate average kWh delivered for siteID 1\n",
    "avg_hourly_kwh_1 = calculate_kwh_delivered(1, data_unique, inactive_days_siteid_1, active_days_1)\n",
    "\n",
    "# Calculate average kWh delivered for siteID 2\n",
    "avg_hourly_kwh_2 = calculate_kwh_delivered(2, data_unique, inactive_days_siteid_2, active_days_2)\n",
    "\n",
    "# Visualization\n",
    "plt.figure(figsize=(12, 6))\n",
    "\n",
    "# Plot kWh delivered for siteID 1\n",
    "plt.plot(avg_hourly_kwh_1['hour'], avg_hourly_kwh_1['avg_kwh'], marker='o', label='Avg kWh Delivered SiteID 1', color='blue')\n",
    "\n",
    "# Plot kWh delivered for siteID 2\n",
    "plt.plot(avg_hourly_kwh_2['hour'], avg_hourly_kwh_2['avg_kwh'], marker='o', label='Avg kWh Delivered SiteID 2', color='green')\n",
    "\n",
    "# Title and labels\n",
    "plt.title('Average Hourly kWh Delivered (Typical Day)')\n",
    "plt.xlabel('Hour of the Day')\n",
    "plt.ylabel('kWh Delivered')\n",
    "\n",
    "# Set X-axis to display each hour from 0 to 23\n",
    "plt.xticks(range(24))\n",
    "\n",
    "# Annotate kWh values for specific hours (e.g., between 6 and 16)\n",
    "for i, row in avg_hourly_kwh_1.iterrows():\n",
    "    if 6 <= row['hour'] <= 16:  \n",
    "        plt.text(row['hour'], row['avg_kwh'] + 0.3, \n",
    "                 f'{row[\"avg_kwh\"]:.1f}', ha='center', va='bottom', fontsize=10)\n",
    "\n",
    "for i, row in avg_hourly_kwh_2.iterrows():\n",
    "    if 6 <= row['hour'] <= 16:  \n",
    "        plt.text(row['hour'], row['avg_kwh'] + 0.3,\n",
    "                 f'{row[\"avg_kwh\"]:.1f}', ha='center', va='bottom', fontsize=10)\n",
    "        \n",
    "# Grid and legend\n",
    "plt.grid()\n",
    "plt.legend()\n",
    "\n",
    "# Show the plot\n",
    "plt.show()"
   ]
  },
  {
   "cell_type": "markdown",
   "metadata": {},
   "source": [
    "The graph shows the average hourly kWh delivered for two sites on a typical day:\n",
    "\n",
    "* SiteID 1 (blue line): Energy usage at the company's parking lot starts to rise significantly at 6 AM, peaks sharply at 8 AM (45.2 kWh), and gradually decreases throughout the day, with a smaller peak at 4 PM (18 kWh), likely corresponding to employees leaving work. Usage drops significantly after 5 PM, reaching minimal levels in the late evening.\n",
    "\n",
    "* SiteID 2 (green line): The public parking lot near the university has a more gradual increase in energy usage, starting at 7 AM, peaking between 10 AM and 11 AM (24.6 kWh), and tapering off through the afternoon and evening. It stabilizes at a low level after 8 PM.\n",
    "\n",
    "Interpretation:\n",
    "* SiteID 1: Reflects a typical workday pattern. The morning peak corresponds to employees arriving at work, while the smaller afternoon peak is related to departure.\n",
    "* SiteID 2: The university parking lot shows consistent activity throughout the day, with a peak mid-morning likely due to lectures and activities. Evening activity decreases as students and staff leave.\n",
    "\n",
    "This comparison highlights the differing energy consumption patterns based on the primary user group and their daily routines.\n",
    "\n",
    "\n",
    "\n",
    "\n",
    "\n",
    "\n",
    "\n",
    "\n"
   ]
  },
  {
   "cell_type": "markdown",
   "metadata": {},
   "source": [
    "###  **Site Characteristics: Identifying the Public Charging Hub**"
   ]
  },
  {
   "cell_type": "markdown",
   "metadata": {},
   "source": [
    "In this section, we aim to determine which of the two sites is the public charging hub. By analyzing the provided data and combining insights from previous descriptive analytics with domain knowledge of how private company parking (reserved for employees) and public university charging stations typically operate, we will evaluate key characteristics to distinguish between the two sites."
   ]
  },
  {
   "cell_type": "markdown",
   "metadata": {},
   "source": [
    "We have a look at different criteria to make our decision:\n",
    "\n",
    "- Time distribution\n",
    "- User diversity\n",
    "- Session duration"
   ]
  },
  {
   "cell_type": "markdown",
   "metadata": {},
   "source": [
    "First we take a closer look at the stations. We want to know exactly how many charging stations are in the garages."
   ]
  },
  {
   "cell_type": "code",
   "execution_count": null,
   "metadata": {},
   "outputs": [],
   "source": [
    "def count_stations_per_site(df):\n",
    "    \"\"\"\n",
    "    Count the number of unique stations per site.\n",
    "\n",
    "    Parameters:\n",
    "        df (pd.DataFrame): Input DataFrame containing 'stationID' and 'siteID' columns.\n",
    "\n",
    "    Returns:\n",
    "        pd.Series: Number of unique stations per site.\n",
    "    \"\"\"\n",
    "    if 'stationID' not in df.columns or 'siteID' not in df.columns:\n",
    "        raise ValueError(\"The provided DataFrame must contain 'stationID' and 'siteID' columns.\")\n",
    "    \n",
    "    return df.groupby('siteID')['stationID'].nunique()\n",
    "\n",
    "# Count unique stations for each site\n",
    "station_counts = count_stations_per_site(data_unique)\n",
    "print(\"Number of unique stations per site:\")\n",
    "print(station_counts)"
   ]
  },
  {
   "cell_type": "markdown",
   "metadata": {},
   "source": [
    "There are 52 charging stations in the first garage (site_id=1) and 54 stations in the second garage (site_id=2)."
   ]
  },
  {
   "cell_type": "markdown",
   "metadata": {},
   "source": [
    "#### **Time distribution**\n",
    "To better understand how the charging stations are used, we analyze their temporal distribution. This involves examining patterns across days of the week and hours of the day to identify trends and peak usage periods.\n",
    "\n",
    "We extract the hour of the day and the weekday from the _connectionTime column_ in the dataset. This allows us to examine how usage varies throughout the day and the week. The hour is extracted using `.dt.hour`, while the weekday is derived using `.dt.day_name()`. These new columns enable us to visualize the usage patterns based on time of day and weekday, providing further insights into the site type."
   ]
  },
  {
   "cell_type": "code",
   "execution_count": null,
   "metadata": {},
   "outputs": [],
   "source": [
    "data_1['hour'] = data_1['connectionTime'].dt.hour\n",
    "data_1['weekday'] = data_1['connectionTime'].dt.day_name()\n",
    "\n",
    "data_2['hour'] = data_2['connectionTime'].dt.hour\n",
    "data_2['weekday'] = data_2['connectionTime'].dt.day_name()"
   ]
  },
  {
   "cell_type": "markdown",
   "metadata": {},
   "source": [
    "**1. Day Of the Week Analysis (weekly distribution):**\n",
    "This bar chart shows the number of charging events for each day of the week. This will help us understand if there are variations in usage between weekdays and weekends. At the university (public site), we expect higher usage during weekdays, aligning with academic schedules, and possibly lower usage on weekends. At the firm (private site), consistent weekday usage is expected, reflecting employee commutes, with little to no activity on weekends."
   ]
  },
  {
   "cell_type": "code",
   "execution_count": null,
   "metadata": {},
   "outputs": [],
   "source": [
    "# Bar chart of charging events per weekday\n",
    "\n",
    "fig, axes = plt.subplots(1, 2, figsize=(15, 6))\n",
    "\n",
    "sns.countplot(data=data_1, x='weekday', order=['Monday', 'Tuesday', 'Wednesday', 'Thursday', 'Friday', 'Saturday', 'Sunday'], color=\"skyblue\", ax=axes[0])\n",
    "axes[0].set_title('Number of Charging Events by Weekday for Site 1')\n",
    "axes[0].set_xlabel('Weekday')\n",
    "axes[0].set_ylabel('Number of Charging Events')\n",
    "\n",
    "sns.countplot(data=data_2, x='weekday', order=['Monday', 'Tuesday', 'Wednesday', 'Thursday', 'Friday', 'Saturday', 'Sunday'], color=\"lightgreen\", ax=axes[1])\n",
    "axes[1].set_title('Number of Charging Events by Weekday for Site 2')\n",
    "axes[1].set_xlabel('Weekday')\n",
    "axes[1].set_ylabel('Number of Charging Events')\n",
    "\n",
    "plt.tight_layout()\n",
    "plt.show()"
   ]
  },
  {
   "cell_type": "markdown",
   "metadata": {},
   "source": [
    "Both sites exhibit a general trend of higher usage on weekdays compared to weekends. However, there is a noticeable difference between the two sites. Site 2 shows more usage on weekends compared to Site 1, which aligns with the typical usage pattern for public charging stations. Public sites, like the one near the university, often experience higher demand on weekends, not only from students attending events or studying but also from other visitors who may need to use the public parking garage. In contrast, private sites, such as the company parking garage in Site 1, see much lower usage on weekends, as they are mainly used by employees during the working week. Less than a tenth of the charging sessions take place at weekends. At station 2, the figure is slightly higher. There, the utilization at weekends is about half as high as on a working day."
   ]
  },
  {
   "cell_type": "markdown",
   "metadata": {},
   "source": [
    "**2. Time of the Day Analysis (hourly distribution):**\n",
    "This histogram visualizes the number of charging events for each hour of the day. The x-axis represents the hours (0 to 23), and the y-axis shows the total number of charging events that occurred during each hour. This visualization helps us identify peak usage times throughout the day, which can provide insights into typical charging patterns."
   ]
  },
  {
   "cell_type": "code",
   "execution_count": null,
   "metadata": {},
   "outputs": [],
   "source": [
    "fig, axes = plt.subplots(1,2, figsize=(15,6), sharey=True)\n",
    "\n",
    "sns.histplot(data=data_1, x='hour', bins=24, color=\"skyblue\", ax=axes[0])\n",
    "\n",
    "# Histogram of charging events per hour with full hours on the X-axis\n",
    "#site 1\n",
    "axes[0].set_title('Number of Charging Events by Hour for Site 1')\n",
    "axes[0].set_xlabel('Hour')\n",
    "axes[0].set_ylabel('Number of Charging Events')\n",
    "axes[0].set_xticks(ticks=range(0, 24), labels=[f\"{hour}\" for hour in range(24)])  \n",
    "\n",
    "\n",
    "sns.histplot(data=data_2, x='hour', bins=24, color=\"lightgreen\", ax=axes[1])\n",
    "\n",
    "axes[1].set_title('Number of Charging Events by Hour for Site 2')\n",
    "axes[1].set_xlabel('Hour')\n",
    "axes[1].set_ylabel('Number of Charging Events')\n",
    "axes[1].set_xticks(ticks=range(0, 24), labels=[f\"{hour}\" for hour in range(24)])  \n",
    "\n",
    "plt.tight_layout()\n",
    "plt.show()"
   ]
  },
  {
   "cell_type": "markdown",
   "metadata": {},
   "source": [
    "If you look at the utilization for the specific times of the day, you can see patterns. For Site 1, there are clear peaks at **6:00 and 7:00 AM**, while the peaks for Site 2 are not so extreme and are at **8:00 and 9:00 AM**. respectively. \n",
    "\n",
    "For Site 1, the charging events primarily occur from around **5:00 AM to 5:00 PM**, with a significant decline in usage afterward. This pattern suggests that the site is most heavily used during business hours, which is often characteristic of sites serving a more specific user group, such as employees of a company.\n",
    "\n",
    "In contrast, for Site 2, the charging events occur throughout a longer period, from approximately **6:00 AM to 11:00 PM**. This extended period of usage may indicate that the site is open to a broader range of users, with charging events spanning both daytime and evening hours, which is a typical feature of public charging hubs."
   ]
  },
  {
   "cell_type": "markdown",
   "metadata": {},
   "source": [
    "&#8594;\n",
    "These insights strongly suggest that Site 2 is the public charging station, likely located at the university, while Site 1 is the private company parking garage, as the usage pattern matches the expected behavior for these types of locations."
   ]
  },
  {
   "cell_type": "markdown",
   "metadata": {},
   "source": [
    "#### **User Count and Diversity**"
   ]
  },
  {
   "cell_type": "markdown",
   "metadata": {},
   "source": [
    "In this step, we aim to determine whether the site is primarily used by repeat users or a diverse range of users. A public site is expected to have a higher number of unique users, as it serves a broader, more varied group. In contrast, a private site, like a company parking garage, might show repeated usage by the same set of users, as it is typically restricted to employees or specific individuals."
   ]
  },
  {
   "cell_type": "markdown",
   "metadata": {},
   "source": [
    "First, we count the unique user IDs (`userID`) for each site and determine the number of missing values in the userID column."
   ]
  },
  {
   "cell_type": "code",
   "execution_count": null,
   "metadata": {},
   "outputs": [],
   "source": [
    "# Count the unique userIDs for siteID 1\n",
    "unique_users_per_site_1 = data_1['userID'].nunique()\n",
    "\n",
    "# Display the result for verification\n",
    "print(f\"Number of unique (distinct) userIDs for Site 1: {unique_users_per_site_1}\")\n",
    "\n",
    "# Count the missing values in the 'userID' column\n",
    "missing_values_userID_1 = data_1['userID'].isnull().sum()\n",
    "\n",
    "# Output the number of missing values\n",
    "print(f\"Number of missing values in 'userID' for Site 1: {missing_values_userID_1}\")\n"
   ]
  },
  {
   "cell_type": "code",
   "execution_count": null,
   "metadata": {},
   "outputs": [],
   "source": [
    "# Count the unique userIDs for siteID 2\n",
    "unique_users_per_site_2 = data_2['userID'].nunique()\n",
    "\n",
    "# Display the result for verification\n",
    "print(f\"Number of unique (distinct) userIDs for SIte 2: {unique_users_per_site_2}\")\n",
    "\n",
    "# Count the missing values in the 'userID' column\n",
    "missing_values_userID_2 = data_2['userID'].isnull().sum()\n",
    "\n",
    "# Output the number of missing values\n",
    "print(f\"Number of missing values in 'userID' for Site 2: {missing_values_userID_2}\")"
   ]
  },
  {
   "cell_type": "markdown",
   "metadata": {},
   "source": [
    "Now we create a comparison DataFrame to visualize the number of unique users for Site 1 and Site 2, and generate a bar chart to display the comparison between the two sites."
   ]
  },
  {
   "cell_type": "code",
   "execution_count": null,
   "metadata": {},
   "outputs": [],
   "source": [
    "#compare number of unique user IDs per side\n",
    "comparison_unique_users = pd.DataFrame({\n",
    "    'siteID': ['site1', 'site2'],\n",
    "    'unique_users': [unique_users_per_site_1, unique_users_per_site_2]\n",
    "})"
   ]
  },
  {
   "cell_type": "code",
   "execution_count": null,
   "metadata": {},
   "outputs": [],
   "source": [
    "#compare number of missing user IDs per site\n",
    "comparison_missing_users = pd.DataFrame({\n",
    "    'siteID': ['site1', 'site2'],\n",
    "    'unique_users': [missing_values_userID_1, missing_values_userID_2]\n",
    "})"
   ]
  },
  {
   "cell_type": "code",
   "execution_count": null,
   "metadata": {},
   "outputs": [],
   "source": [
    "custom_palette = {'site1': 'skyblue', 'site2': 'lightgreen'}\n",
    "\n",
    "\n",
    "fig, axes = plt.subplots(1, 2, figsize=(16, 6))\n",
    "\n",
    "# Plot for the number of unique users per site\n",
    "sns.barplot(x='siteID', y='unique_users', data=comparison_unique_users, palette=custom_palette, ax=axes[0])\n",
    "axes[0].set_title('Comparison - Number of Unique Users Between Sites', fontsize=14)\n",
    "axes[0].set_xlabel('Site', fontsize=12)\n",
    "axes[0].set_ylabel('Number of Unique Users', fontsize=12)\n",
    "\n",
    "# Plot for the number of missing user IDs per site\n",
    "sns.barplot(x='siteID', y='unique_users', data=comparison_missing_users, palette=custom_palette, ax=axes[1])\n",
    "axes[1].set_title('Comparison - Missing User IDs Between Sites', fontsize=14)\n",
    "axes[1].set_xlabel('Site', fontsize=12)\n",
    "axes[1].set_ylabel('Number of Missing User IDs', fontsize=12)\n",
    "\n",
    "\n",
    "\n",
    "# Display the plots\n",
    "plt.show()"
   ]
  },
  {
   "cell_type": "markdown",
   "metadata": {},
   "source": [
    "The diagrams reveal several insights about the two sites, Site 1 and Site 2.\n",
    "- Unique Users: Both sites show a similar number of unique users, with values in the same range for both locations. This indicates that, in terms of unique user activity, both sites are relatively comparable.\n",
    "- Missing User IDs: However, the second diagram reveals a significant difference in the number of missing userID values. Site 2 has 14,873 missing values compared to only 1,433 for Site 1. "
   ]
  },
  {
   "cell_type": "markdown",
   "metadata": {},
   "source": [
    "Conclusion: The high number of missing user IDs at Site 2 suggests it is the public charging hub, likely at the university, where there is a mix of registered and non-registered users. In contrast, Site 1, with fewer missing IDs, is more consistent with a private site, such as a company parking garage, where the usage is mainly from registered employees and nearly everyone who uses the garage, is registred through the company."
   ]
  },
  {
   "cell_type": "code",
   "execution_count": null,
   "metadata": {},
   "outputs": [],
   "source": [
    "# Group by user ID and count the number of sessions per user\n",
    "user_frequency_1 = data_1.groupby('userID').size()\n",
    "user_frequency_2 = data_2.groupby('userID').size()\n",
    "\n",
    "fig, ax = plt.subplots(1, 1, figsize=(10, 6))\n",
    "\n",
    "\n",
    "# Create individual boxplots for each site with custom colors\n",
    "box_data = [user_frequency_1, user_frequency_2]\n",
    "box_colors = ['skyblue', 'lightgreen']\n",
    "box_labels = ['Site 1', 'Site 2']\n",
    "\n",
    "# Draw the boxplots\n",
    "bp = ax.boxplot(box_data, vert=False, patch_artist=True, labels=box_labels)\n",
    "\n",
    "# Set custom colors\n",
    "for patch, color in zip(bp['boxes'], box_colors):\n",
    "    patch.set_facecolor(color)\n",
    "\n",
    "# Box plot\n",
    "ax.set_title('User Frequency Comparison Between Sites')\n",
    "ax.set_xlabel('Number of Sessions per User')\n",
    "ax.set_ylabel('Site')\n",
    "ax.grid(axis='x', linestyle='--', alpha=0.7)\n",
    "\n",
    "plt.show()"
   ]
  },
  {
   "cell_type": "markdown",
   "metadata": {},
   "source": [
    "Site 1 seems to be a private charging station for company employees. The variety of frequent and regular users suggests many employees use it daily. A few users charge particularly often, likely because they commute every day.  \n",
    "On the other hand, Site 2 appears to be a public charging station at a university. Most users charge their vehicles only occasionally, typical for students or university visitors. A handful of users charge more frequently, but the majority use the station sporadically."
   ]
  },
  {
   "cell_type": "markdown",
   "metadata": {},
   "source": [
    "#### **Charging Duration and Energy Consumption**"
   ]
  },
  {
   "cell_type": "markdown",
   "metadata": {},
   "source": [
    "The goal of this analysis is to determine if charging durations and energy consumption patterns indicate a specific type of location."
   ]
  },
  {
   "cell_type": "markdown",
   "metadata": {},
   "source": [
    "This section calculates the charging duration for both datasets. The charging duration is derived by subtracting the connectionTime from the chargingTime and then converting the result from seconds to hours."
   ]
  },
  {
   "cell_type": "code",
   "execution_count": null,
   "metadata": {},
   "outputs": [],
   "source": [
    "# Calculate the charging duration in hours for both datasets\n",
    "data_1['chargingDuration'] = (data_1['doneChargingTime'] - data_1['connectionTime']).dt.total_seconds() / 3600\n",
    "data_2['chargingDuration'] = (data_2['doneChargingTime'] - data_2['connectionTime']).dt.total_seconds() / 3600"
   ]
  },
  {
   "cell_type": "markdown",
   "metadata": {},
   "source": [
    "In this step, summary statistics (mean and median) for the charging duration and kWh delivered are calculated for both sites (siteID=1 and siteID=2)."
   ]
  },
  {
   "cell_type": "code",
   "execution_count": null,
   "metadata": {},
   "outputs": [],
   "source": [
    "# Summary for siteID=1\n",
    "summary_stats_1 = data_1[['chargingDuration', 'kWhDelivered']].agg(['mean', 'median']).reset_index()\n",
    "summary_stats_1['siteID'] = 1\n",
    "\n",
    "# Summary for siteID=2\n",
    "summary_stats_2 = data_2[['chargingDuration', 'kWhDelivered']].agg(['mean', 'median']).reset_index()\n",
    "summary_stats_2['siteID'] = 2\n",
    "\n",
    "# Combine the statistics for both sites\n",
    "summary_stats = pd.concat([summary_stats_1, summary_stats_2])\n",
    "print(\"Summary of Charging Duration and Energy Consumption:\")\n",
    "print(summary_stats)\n"
   ]
  },
  {
   "cell_type": "markdown",
   "metadata": {},
   "source": [
    " The goal of these visualizations is to compare the charging duration and energy consumption for the two sites (siteID=1 and siteID=2). The first two plots are boxplots that show the distribution of charging duration and energy delivered for each site, while the last two plots are histograms that provide further insight into the distribution of charging durations and energy consumption."
   ]
  },
  {
   "cell_type": "code",
   "execution_count": null,
   "metadata": {},
   "outputs": [],
   "source": [
    "# Define the custom color palette\n",
    "custom_palette = {'site1': 'skyblue', 'site2': 'lightgreen'}\n",
    "\n",
    "# Prepare the data with site labels\n",
    "data_combined = pd.concat([\n",
    "    data_1.assign(siteID='site1'), \n",
    "    data_2.assign(siteID='site2')\n",
    "])\n",
    "\n",
    "# Create the figure and subplots\n",
    "fig, axes = plt.subplots(1, 2, figsize=(16, 6), sharey=False)\n",
    "\n",
    "# Boxplot for charging duration\n",
    "sns.boxplot(\n",
    "    data=data_combined, \n",
    "    x='siteID', \n",
    "    y='chargingDuration', \n",
    "    palette=custom_palette, \n",
    "    ax=axes[0]\n",
    ")\n",
    "axes[0].set_title(\"Charging Duration by Site\", fontsize=14)\n",
    "axes[0].set_xlabel(\"Site (siteID)\", fontsize=12)\n",
    "axes[0].set_ylabel(\"Charging Duration (Hours)\", fontsize=12)\n",
    "\n",
    "# Boxplot for energy consumption\n",
    "sns.boxplot(\n",
    "    data=data_combined, \n",
    "    x='siteID', \n",
    "    y='kWhDelivered', \n",
    "    palette=custom_palette, \n",
    "    ax=axes[1]\n",
    ")\n",
    "axes[1].set_title(\"Energy Consumption by Site\", fontsize=14)\n",
    "axes[1].set_xlabel(\"Site (siteID)\", fontsize=12)\n",
    "axes[1].set_ylabel(\"Energy Consumption (kWh)\", fontsize=12)\n",
    "\n",
    "# Adjust layout\n",
    "plt.tight_layout()\n",
    "plt.show()\n"
   ]
  },
  {
   "cell_type": "markdown",
   "metadata": {},
   "source": [
    "Key Statistics:\n",
    "\n",
    "| Metric                      | Site 1         | Site 2         |\n",
    "|-----------------------------|----------------|----------------|\n",
    "| Average Charging Duration   | 6.87 hours     | 5.85 hours     |\n",
    "| Median Charging Duration    | 7.60 hours     | 4.99 hours     |\n",
    "| Average Energy Consumption  | 14.16 kWh      | 8.81 kWh       |\n",
    "| Median Energy Consumption   | 11.29 kWh      | 6.59 kWh       |\n"
   ]
  },
  {
   "cell_type": "markdown",
   "metadata": {},
   "source": [
    "The boxplot for charging duration reveals that the distribution of charging times at Site 1 is slightly higher and broader than at Site 2. This suggests that vehicles tend to stay connected for longer periods at Site 1, aligning with predictable usage patterns by employees.\n",
    "\n",
    "The boxplot for energy consumption indicates that both the average and median energy consumption at Site 1 are higher than at Site 2. This could be attributed to longer charging durations and a controlled environment with regular users."
   ]
  },
  {
   "cell_type": "markdown",
   "metadata": {},
   "source": [
    "##### Conclusion"
   ]
  },
  {
   "cell_type": "markdown",
   "metadata": {},
   "source": [
    "The analysis confirms that **site 1 is likely a private charging station**, such as one at a company parking lot, while **site 2 corresponds to a public charging station** near the university.\n",
    "\n",
    "- Site 1 exhibits predictable weekday usage, longer charging durations, more equal users and higher energy consumption. These patterns align with employees charging their vehicles during fixed working hours in a controlled, private setting.\n",
    "\n",
    "- Site 2 shows more varied usage across the day and week, shorter charging, higher variety of users, and lower energy consumption. Although the total number of unique registered users is similar to site 1, the significantly higher volume of anonymous, unregistered users reflects the public access and transient visitors typical of a university setting.\n"
   ]
  },
  {
   "cell_type": "markdown",
   "metadata": {},
   "source": [
    "# `3. Cluster Analysis`"
   ]
  },
  {
   "cell_type": "code",
   "execution_count": null,
   "metadata": {},
   "outputs": [],
   "source": [
    "from sklearn.cluster import KMeans\n",
    "from sklearn.preprocessing import StandardScaler\n",
    "from sklearn.metrics import silhouette_score\n",
    "import matplotlib.pyplot as plt"
   ]
  },
  {
   "cell_type": "markdown",
   "metadata": {},
   "source": [
    "#### ParkingDuration - KWHDelivered\n",
    "\n",
    "We are going to cluster Parking Duration and kWh Delivered to identify groups based on parking and energy usage patterns. This will help us better understand different user behaviors and group them accordingly for more targeted insights and resource management."
   ]
  },
  {
   "cell_type": "code",
   "execution_count": null,
   "metadata": {},
   "outputs": [],
   "source": [
    "def cluster_charging_kwh(data, site_id):\n",
    "    # Filter data for the specific site ID\n",
    "    site_data = data[data['siteID'] == site_id]\n",
    "\n",
    "    # Calculate parkingTime and keep kWhDelivered\n",
    "    site_data['parkingTime'] = (site_data['disconnectTime'] - site_data['connectionTime']).dt.total_seconds() / 60\n",
    "    site_data['kWhDelivered'] = site_data['kWhDelivered']\n",
    "\n",
    "    # Calculate IQR for both features and remove outliers\n",
    "    Q1_charging = site_data['parkingTime'].quantile(0.25)\n",
    "    Q3_charging = site_data['parkingTime'].quantile(0.75)\n",
    "    IQR_charging = Q3_charging - Q1_charging\n",
    "    lower_bound_charging = Q1_charging - 1.5 * IQR_charging\n",
    "    upper_bound_charging = Q3_charging + 1.5 * IQR_charging\n",
    "\n",
    "    Q1_kwh = site_data['kWhDelivered'].quantile(0.25)\n",
    "    Q3_kwh = site_data['kWhDelivered'].quantile(0.75)\n",
    "    IQR_kwh = Q3_kwh - Q1_kwh\n",
    "    lower_bound_kwh = Q1_kwh - 1.5 * IQR_kwh\n",
    "    upper_bound_kwh = Q3_kwh + 1.5 * IQR_kwh\n",
    "\n",
    "    site_data_filtered = site_data[(site_data['parkingTime'] >= lower_bound_charging) & (site_data['parkingTime'] <= upper_bound_charging) &\n",
    "                                   (site_data['kWhDelivered'] >= lower_bound_kwh) & (site_data['kWhDelivered'] <= upper_bound_kwh)]\n",
    "\n",
    "    # Select and scale both features\n",
    "    features = site_data_filtered[['parkingTime', 'kWhDelivered']]\n",
    "    scaler = StandardScaler()\n",
    "    features_scaled = scaler.fit_transform(features)\n",
    "\n",
    "    # Determine optimal number of clusters using the Elbow method\n",
    "    inertia = []\n",
    "    range_n_clusters = range(1, 10)\n",
    "    for n_clusters in range_n_clusters:\n",
    "        kmeans = KMeans(n_clusters=n_clusters, random_state=42)\n",
    "        kmeans.fit(features_scaled)\n",
    "        inertia.append(kmeans.inertia_)\n",
    "\n",
    "    # Perform clustering\n",
    "    optimal_clusters = 4\n",
    "    kmeans = KMeans(n_clusters=optimal_clusters, random_state=42)\n",
    "    clusters = kmeans.fit_predict(features_scaled)\n",
    "\n",
    "    site_data_filtered['Cluster'] = clusters\n",
    "\n",
    "    # Evaluate silhouette score\n",
    "    silhouette_avg = silhouette_score(features_scaled, clusters)\n",
    "\n",
    "    # Aggregate cluster statistics\n",
    "    cluster_stats = site_data_filtered.groupby('Cluster').agg({\n",
    "        'parkingTime': ['count', 'mean', 'median'],\n",
    "        'kWhDelivered': ['mean', 'median']\n",
    "    }).sort_index().round(2)\n",
    "\n",
    "    return inertia, clusters, features, site_data_filtered, silhouette_avg, cluster_stats\n",
    "\n",
    "# Perform clustering for siteID 1 and siteID 2\n",
    "inertia_1, clusters_1, features_1, filtered_data_1, silhouette_1, stats_1 = cluster_charging_kwh(data_unique, site_id=1)\n",
    "inertia_2, clusters_2, features_2, filtered_data_2, silhouette_2, stats_2 = cluster_charging_kwh(data_unique, site_id=2)\n",
    "\n",
    "# Plot Elbow Method for both sites\n",
    "fig, axes = plt.subplots(1, 2, figsize=(16, 6))\n",
    "axes[0].plot(range(1, 10), inertia_1, marker='o')\n",
    "axes[0].set_title('Elbow Method - Site 1')\n",
    "axes[0].set_xlabel('Number of Clusters')\n",
    "axes[0].set_ylabel('Inertia')\n",
    "axes[0].grid()\n",
    "\n",
    "axes[1].plot(range(1, 10), inertia_2, marker='o')\n",
    "axes[1].set_title('Elbow Method - Site 2')\n",
    "axes[1].set_xlabel('Number of Clusters')\n",
    "axes[1].set_ylabel('Inertia')\n",
    "axes[1].grid()\n",
    "\n",
    "plt.tight_layout()\n",
    "plt.show()\n",
    "\n",
    "# Plot Clustering Results for both sites\n",
    "fig, axes = plt.subplots(1, 2, figsize=(16, 6))\n",
    "scatter1 = axes[0].scatter(features_1['parkingTime'], features_1['kWhDelivered'], c=clusters_1, cmap='viridis', s=50)\n",
    "axes[0].set_title('Clusters - Site 1')\n",
    "axes[0].set_xlabel('Parking Duration (minutes)')\n",
    "axes[0].set_ylabel('kWh Delivered')\n",
    "plt.colorbar(scatter1, ax=axes[0], label='Cluster')  # Corrected line\n",
    "\n",
    "scatter2 = axes[1].scatter(features_2['parkingTime'], features_2['kWhDelivered'], c=clusters_2, cmap='viridis', s=50)\n",
    "axes[1].set_title('Clusters - Site 2')\n",
    "axes[1].set_xlabel('Parking Duration (minutes)')\n",
    "axes[1].set_ylabel('kWh Delivered')\n",
    "plt.colorbar(scatter2, ax=axes[1], label='Cluster')  # Corrected line\n",
    "\n",
    "plt.tight_layout()\n",
    "plt.show()\n",
    "\n",
    "# Display Silhouette Scores and Cluster Statistics\n",
    "print(f\"Site 1 - Average Silhouette Coefficient: {silhouette_1:.2f}\")\n",
    "print(\"Site 1 - Cluster Statistics:\")\n",
    "print(stats_1)\n",
    "\n",
    "print(\"\\n\" + \"=\"*50 + \"\\n\")\n",
    "\n",
    "print(f\"Site 2 - Average Silhouette Coefficient: {silhouette_2:.2f}\")\n",
    "print(\"Site 2 - Cluster Statistics:\")\n",
    "print(stats_2)"
   ]
  },
  {
   "cell_type": "markdown",
   "metadata": {},
   "source": [
    "##### Cluster Names\n",
    "\n",
    "Site 1\n",
    "* Cluster 0 -> \"The Power Professionals\"\n",
    "    * Employees in this cluster park for longer durations (568 minutes on average) and deliver a moderate amount of energy (8.04 kWh). They likely spend significant time at the company, engaging in meetings or tasks, and use the charging stations consistently.\n",
    "* Cluster 1 -> \"The Quick Rechargers\"\n",
    "    * These employees park for shorter durations (247 minutes on average) and deliver a higher amount of energy (11.88 kWh). They likely use the charging stations during quick breaks or short visits, reflecting a dynamic workday with quick but efficient energy use.\n",
    "* Cluster 2 -> \"The Steady Chargers\"\n",
    "    * Employees in this cluster charge for a moderately long time (503 minutes on average) and deliver a substantial amount of energy (16.87 kWh). These workers may be on-site for full days, using the charging stations for consistent, longer sessions throughout their workday.\n",
    "* Cluster 3 -> \"The Short Hoppers\"\n",
    "    * These employees park for relatively short durations (168 minutes on average) and deliver the lowest amount of energy (4.67 kWh). They are likely making brief, quick stops for work-related tasks, using the charging stations only for short bursts of energy.\n",
    "\n",
    "Site 2\n",
    "* Cluster 0 -> \"The All-Day Learners\"\n",
    "    * Students in this cluster park for moderate periods (515 minutes on average) and deliver a small amount of energy (5.17 kWh). They likely stay on campus for extended periods for classes or studying, charging their vehicles over the course of the day.\n",
    "* Cluster 1 -> \"The Marathon Students\"\n",
    "    * These students park for long durations (568 minutes on average) and deliver a higher amount of energy (14.16 kWh). They are likely on campus for the whole day, attending multiple classes or engaging in university activities, relying heavily on the charging stations.\n",
    "* Cluster 2 -> \"The Quick Breakers\"\n",
    "    * Students in this cluster park for shorter durations (215 minutes on average) but deliver a relatively high amount of energy (12.22 kWh). Despite the brief parking time, they charge a significant amount, indicating that they use the charging stations efficiently during their quick visits to campus, likely between classes or other activities. This group may rely on the chargers for high-energy needs during their brief stops.\n",
    "* Cluster 3 -> \"The Casual Commuters\"\n",
    "    * These students park for the shortest periods (120 minutes on average) and deliver the least energy (3.51 kWh). They are likely making brief visits to campus, perhaps between classes, and only need minimal energy for quick stops.\n",
    " "
   ]
  },
  {
   "cell_type": "markdown",
   "metadata": {},
   "source": [
    "#### ChargingTime - PostChargingTime\n",
    "\n",
    "We are going to cluster Charging Time and Post-Charging Time to group users based on their charging and post-charging behaviors. This will help us understand whether users leave immediately after charging or stay for a while, providing insights into their charging habits and behavior after the charging session ends."
   ]
  },
  {
   "cell_type": "code",
   "execution_count": null,
   "metadata": {},
   "outputs": [],
   "source": [
    "def cluster_charging_postcharging(data, site_id):\n",
    "    # Filter data for the specific site ID\n",
    "    site_data = data[data['siteID'] == site_id]\n",
    "\n",
    "    # Calculate chargingTime and PostChargingTime\n",
    "    site_data['chargingTime'] = (site_data['disconnectTime'] - site_data['connectionTime']).dt.total_seconds() / 60\n",
    "    site_data['PostChargingTime'] = (site_data['disconnectTime'] - site_data['doneChargingTime']).dt.total_seconds() / 60 \n",
    "\n",
    "    # Calculate IQR for both features and remove outliers\n",
    "    Q1_charging = site_data['chargingTime'].quantile(0.25)\n",
    "    Q3_charging = site_data['chargingTime'].quantile(0.75)\n",
    "    IQR_charging = Q3_charging - Q1_charging\n",
    "    lower_bound_charging = Q1_charging - 1.5 * IQR_charging\n",
    "    upper_bound_charging = Q3_charging + 1.5 * IQR_charging\n",
    "\n",
    "    Q1_postcharging = site_data['PostChargingTime'].quantile(0.25)\n",
    "    Q3_postcharging = site_data['PostChargingTime'].quantile(0.75)\n",
    "    IQR_postcharging = Q3_postcharging - Q1_postcharging\n",
    "    lower_bound_postcharging = Q1_postcharging - 1.5 * IQR_postcharging\n",
    "    upper_bound_postcharging = Q3_postcharging + 1.5 * IQR_postcharging\n",
    "\n",
    "    site_data_filtered = site_data[(site_data['chargingTime'] >= lower_bound_charging) & \n",
    "                                   (site_data['chargingTime'] <= upper_bound_charging) & \n",
    "                                   (site_data['PostChargingTime'] >= lower_bound_postcharging) & \n",
    "                                   (site_data['PostChargingTime'] <= upper_bound_postcharging)]\n",
    "\n",
    "    # Select and scale both features\n",
    "    features = site_data_filtered[['chargingTime', 'PostChargingTime']]\n",
    "    scaler = StandardScaler()\n",
    "    features_scaled = scaler.fit_transform(features)\n",
    "\n",
    "    # Determine optimal number of clusters using the Elbow method\n",
    "    inertia = []\n",
    "    range_n_clusters = range(1, 10)\n",
    "    for n_clusters in range_n_clusters:\n",
    "        kmeans = KMeans(n_clusters=n_clusters, random_state=42)\n",
    "        kmeans.fit(features_scaled)\n",
    "        inertia.append(kmeans.inertia_)\n",
    "\n",
    "    # Perform clustering with the chosen number of clusters\n",
    "    optimal_clusters = 3\n",
    "    kmeans = KMeans(n_clusters=optimal_clusters, random_state=42)\n",
    "    clusters = kmeans.fit_predict(features_scaled)\n",
    "\n",
    "    site_data_filtered['Cluster'] = clusters\n",
    "\n",
    "    # Evaluate silhouette score\n",
    "    silhouette_avg = silhouette_score(features_scaled, clusters)\n",
    "\n",
    "    # Aggregate cluster statistics\n",
    "    cluster_stats = site_data_filtered.groupby('Cluster').agg({\n",
    "        'chargingTime': ['count', 'mean', 'median'],\n",
    "        'PostChargingTime': ['mean', 'median']\n",
    "    }).sort_index().round(2)\n",
    "\n",
    "    return inertia, clusters, features, site_data_filtered, silhouette_avg, cluster_stats\n",
    "\n",
    "# Perform clustering for siteID 1 and siteID 2\n",
    "inertia_1, clusters_1, features_1, filtered_data_1, silhouette_1, stats_1 = cluster_charging_postcharging(data_unique, site_id=1)\n",
    "inertia_2, clusters_2, features_2, filtered_data_2, silhouette_2, stats_2 = cluster_charging_postcharging(data_unique, site_id=2)\n",
    "\n",
    "# Plot Elbow Method for both sites\n",
    "fig, axes = plt.subplots(1, 2, figsize=(16, 6))\n",
    "axes[0].plot(range(1, 10), inertia_1, marker='o')\n",
    "axes[0].set_title('Elbow Method - Site 1')\n",
    "axes[0].set_xlabel('Number of Clusters')\n",
    "axes[0].set_ylabel('Inertia')\n",
    "axes[0].grid()\n",
    "\n",
    "axes[1].plot(range(1, 10), inertia_2, marker='o')\n",
    "axes[1].set_title('Elbow Method - Site 2')\n",
    "axes[1].set_xlabel('Number of Clusters')\n",
    "axes[1].set_ylabel('Inertia')\n",
    "axes[1].grid()\n",
    "\n",
    "plt.tight_layout()\n",
    "plt.show()\n",
    "\n",
    "# Plot Clustering Results for both sites\n",
    "fig, axes = plt.subplots(1, 2, figsize=(16, 6))\n",
    "scatter1 = axes[0].scatter(features_1['chargingTime'], features_1['PostChargingTime'], c=clusters_1, cmap='viridis', s=50)\n",
    "axes[0].set_title('Clusters - Site 1')\n",
    "axes[0].set_xlabel('Charging Time (minutes)')\n",
    "axes[0].set_ylabel('Post-Charging Time (minutes)')\n",
    "plt.colorbar(scatter1, ax=axes[0], label='Cluster')  # Corrected line\n",
    "\n",
    "scatter2 = axes[1].scatter(features_2['chargingTime'], features_2['PostChargingTime'], c=clusters_2, cmap='viridis', s=50)\n",
    "axes[1].set_title('Clusters - Site 2')\n",
    "axes[1].set_xlabel('Charging Time (minutes)')\n",
    "axes[1].set_ylabel('Post-Charging Time (minutes)')\n",
    "plt.colorbar(scatter2, ax=axes[1], label='Cluster')  # Corrected line\n",
    "\n",
    "plt.tight_layout()\n",
    "plt.show()\n",
    "\n",
    "# Display Silhouette Scores and Cluster Statistics\n",
    "print(f\"Site 1 - Average Silhouette Coefficient: {silhouette_1:.2f}\")\n",
    "print(\"Site 1 - Cluster Statistics:\")\n",
    "print(stats_1)\n",
    "\n",
    "print(\"\\n\" + \"=\"*50 + \"\\n\")\n",
    "\n",
    "print(f\"Site 2 - Average Silhouette Coefficient: {silhouette_2:.2f}\")\n",
    "print(\"Site 2 - Cluster Statistics:\")\n",
    "print(stats_2)"
   ]
  },
  {
   "cell_type": "markdown",
   "metadata": {},
   "source": [
    "##### Cluster Names\n",
    "\n",
    "Site 1\n",
    "* Cluster 0 -> \"The Quick Break\"\n",
    "    * This group represents employees who park for a moderate amount of time (around 199 minutes) and charge their vehicles before leaving shortly after the charging ends. These individuals likely use the charging station for a short, efficient stop during their workday. It is possible that some of these employees come to the parking lot specifically to charge their vehicles, perhaps for errands, meetings, or other brief work-related tasks. Their quick turnover suggests they don't spend extended time in the parking lot but still make use of the charging station during their on-site hours.\n",
    "* Cluster 1 -> \"The All-Day Worker\"\n",
    "    * This cluster includes employees who charge their vehicles for a long period (around 580 minutes) and stay at the parking lot for an extended time after the charging is complete. These are employees who likely work throughout the entire day, using the charging station during office hours and staying on-site for long stretches, perhaps in the parking lot or the building.\n",
    "* Cluster 2 -> \"The Mid-Day Recharge\"\n",
    "    * This group consists of employees who charge their vehicles for a moderate amount of time (around 508 minutes) and then spend additional time in the parking lot after their car is fully charged (around 111 minutes). These employees likely stay on-site for the majority of the day. The extended postChargingTime suggests that they may not immediately leave after charging, possibly using the extra time to relax, finish up work, or prepare for their next task.\n",
    "\n",
    "\n",
    "Site 2\n",
    "* Cluster 0 -> \"Single Class Attendees\"\n",
    "    * This cluster represents students who charge for a short period (around 131 minutes on average) and leave almost immediately after charging is complete, with a very brief post-charging time (around 26 minutes on average). These students likely attend a single class or activity for a couple of hours and then leave the campus, reflecting a quick stop for charging between classes.\n",
    "* Cluster 1 -> \"Full-Day Campus Attendees\"\n",
    "    * This cluster represents students who charge for a long period (around 566 minutes on average) and stay on the parking lot for an extended time after the charging session ends (with a post-charging time averaging 421.96 minutes, and a median of 408.28 minutes). These students likely spend the entire day on campus, from morning to evening, attending classes, studying, or participating in campus activities, and they use the charging station throughout the day.\n",
    "* Cluster 2 -> \"Extended Campus Stay\"\n",
    "    * This cluster represents students who charge for a long period (around 441 minutes on average) and stay on the parking lot for a moderate time after the charging session ends (with a post-charging time averaging 128.99 minutes, and a median of 133.32 minutes). These students likely spend significant time on campus, possibly attending multiple classes or study sessions, but do not stay as long as the full-day campus attendees in Cluster 1. They charge during their time on campus and leave after spending several hours on-site."
   ]
  },
  {
   "cell_type": "markdown",
   "metadata": {},
   "source": [
    "#### StartingHour - ParkingDuration\n",
    "\n",
    "We are going to cluster StartingHour and ParkingDuration to analyze when different groups arrive at the parking lot and how long they stay. By grouping vehicles based on their arrival times and the duration of their stay, we can identify patterns in parking behavior, such as peak arrival times and varying lengths of stay. This clustering will help in better understanding user behavior, enabling more effective management of parking resources and improving overall parking efficiency.\n",
    "\n",
    "\n",
    "\n",
    "\n",
    "\n",
    "\n"
   ]
  },
  {
   "cell_type": "code",
   "execution_count": null,
   "metadata": {},
   "outputs": [],
   "source": [
    "def cluster_minute_parkingtime(data, site_id, ncluster):\n",
    "    # Filter data for the specific site ID\n",
    "    site_data = data[data['siteID'] == site_id]\n",
    "\n",
    "    # Calculate parkingTime\n",
    "    site_data['parkingTime'] = (site_data['disconnectTime'] - site_data['connectionTime']).dt.total_seconds() / 60 \n",
    "\n",
    "    # Convert 'hour' to decimal format\n",
    "    site_data['connectionHour'] = site_data['connectionTime'].dt.hour + site_data['connectionTime'].dt.minute / 60\n",
    "   \n",
    "\n",
    "    # Do not remove outliers for 'hour_decimal'; only remove outliers for 'parkingTime'\n",
    "    Q1_parking = site_data['parkingTime'].quantile(0.25)\n",
    "    Q3_parking = site_data['parkingTime'].quantile(0.75)\n",
    "    IQR_parking = Q3_parking - Q1_parking\n",
    "    lower_bound_parking = Q1_parking - 1.5 * IQR_parking\n",
    "    upper_bound_parking = Q3_parking + 1.5 * IQR_parking\n",
    "\n",
    "    site_data_filtered = site_data[(site_data['parkingTime'] >= lower_bound_parking) & \n",
    "                                   (site_data['parkingTime'] <= upper_bound_parking)]\n",
    "\n",
    "    \n",
    "    site_data_filtered['hour_sin'] = np.sin(2 * np.pi * site_data_filtered['connectionHour'] / 24)\n",
    "    site_data_filtered['hour_cos'] = np.cos(2 * np.pi * site_data_filtered['connectionHour'] / 24)\n",
    "\n",
    "    # Select and scale features\n",
    "    features = site_data_filtered[['hour_sin', 'hour_cos', 'parkingTime']]\n",
    "    scaler = StandardScaler()\n",
    "    features_scaled = scaler.fit_transform(features)\n",
    "\n",
    "    # Determine optimal number of clusters using the Elbow method\n",
    "    inertia = []\n",
    "    range_n_clusters = range(1, 10)\n",
    "    for n_clusters in range_n_clusters:\n",
    "        kmeans = KMeans(n_clusters=n_clusters, random_state=42)\n",
    "        kmeans.fit(features_scaled)\n",
    "        inertia.append(kmeans.inertia_)\n",
    "\n",
    "    # Perform clustering with the chosen number of clusters\n",
    "    optimal_clusters = ncluster\n",
    "    kmeans = KMeans(n_clusters=optimal_clusters, random_state=42)\n",
    "    clusters = kmeans.fit_predict(features_scaled)\n",
    "\n",
    "    site_data_filtered['Cluster'] = clusters\n",
    "\n",
    "    # Evaluate silhouette score\n",
    "    silhouette_avg = silhouette_score(features_scaled, clusters)\n",
    "\n",
    "    # Function to calculate circular mean for 'hour_decimal'\n",
    "    def calculate_circular_mean(hour_series):\n",
    "        hour_sin = np.sin(2 * np.pi * hour_series / 24)\n",
    "        hour_cos = np.cos(2 * np.pi * hour_series / 24)\n",
    "        mean_sin = np.mean(hour_sin)\n",
    "        mean_cos = np.mean(hour_cos)\n",
    "        mean_angle = np.arctan2(mean_sin, mean_cos)\n",
    "        mean_hour = (mean_angle * 24 / (2 * np.pi)) % 24\n",
    "        return mean_hour\n",
    "\n",
    "    # Aggregate cluster statistics\n",
    "    cluster_stats = site_data_filtered.groupby('Cluster').agg({\n",
    "        'connectionHour': ['count', calculate_circular_mean],\n",
    "        'parkingTime': ['mean', 'median']\n",
    "    }).sort_index().round(2)\n",
    "\n",
    "    # Rename columns for clarity\n",
    "    cluster_stats.columns = ['count', 'circular_mean_hour_decimal', 'mean_parkingTime', 'median_parkingTime']\n",
    "\n",
    "    return inertia, clusters, features, site_data_filtered, silhouette_avg, cluster_stats\n",
    "\n",
    "# Perform clustering for siteID 1 and siteID 2\n",
    "inertia_1, clusters_1, features_1, filtered_data_1, silhouette_1, stats_1 = cluster_minute_parkingtime(data_with_NA, site_id=1, ncluster=5)\n",
    "inertia_2, clusters_2, features_2, filtered_data_2, silhouette_2, stats_2 = cluster_minute_parkingtime(data_with_NA, site_id=2, ncluster=5)\n",
    "\n",
    "# Plot Elbow Method for both sites\n",
    "fig, axes = plt.subplots(1, 2, figsize=(16, 6))\n",
    "axes[0].plot(range(1, 10), inertia_1, marker='o')\n",
    "axes[0].set_title('Elbow Method - Site 1')\n",
    "axes[0].set_xlabel('Number of Clusters')\n",
    "axes[0].set_ylabel('Inertia')\n",
    "axes[0].grid()\n",
    "\n",
    "axes[1].plot(range(1, 10), inertia_2, marker='o')\n",
    "axes[1].set_title('Elbow Method - Site 2')\n",
    "axes[1].set_xlabel('Number of Clusters')\n",
    "axes[1].set_ylabel('Inertia')\n",
    "axes[1].grid()\n",
    "\n",
    "plt.tight_layout()\n",
    "plt.show()\n",
    "\n",
    "# Plot Clustering Results for both sites\n",
    "fig, axes = plt.subplots(1, 2, figsize=(16, 6))\n",
    "scatter1 = axes[0].scatter(filtered_data_1['connectionHour'], filtered_data_1['parkingTime'], c=clusters_1, cmap='viridis', s=50)\n",
    "axes[0].set_title('Clusters - Site 1')\n",
    "axes[0].set_xlabel('Hour of Day (Decimal)')\n",
    "axes[0].set_ylabel('Parking Time (minutes)')\n",
    "plt.colorbar(scatter1, ax=axes[0], label='Cluster')\n",
    "\n",
    "scatter2 = axes[1].scatter(filtered_data_2['connectionHour'], filtered_data_2['parkingTime'], c=clusters_2, cmap='viridis', s=50)\n",
    "axes[1].set_title('Clusters - Site 2')\n",
    "axes[1].set_xlabel('Hour of Day (Decimal)')\n",
    "axes[1].set_ylabel('Parking Time (minutes)')\n",
    "plt.colorbar(scatter2, ax=axes[1], label='Cluster')\n",
    "\n",
    "plt.tight_layout()\n",
    "plt.show()\n",
    "\n",
    "# Display Silhouette Scores and Cluster Statistics\n",
    "print(f\"Site 1 - Average Silhouette Coefficient: {silhouette_1:.2f}\")\n",
    "print(\"Site 1 - Cluster Statistics:\")\n",
    "print(stats_1)\n",
    "\n",
    "print(\"\\n\" + \"=\"*50 + \"\\n\")\n",
    "\n",
    "print(f\"Site 2 - Average Silhouette Coefficient: {silhouette_2:.2f}\")\n",
    "print(\"Site 2 - Cluster Statistics:\")\n",
    "print(stats_2)\n",
    "    "
   ]
  },
  {
   "cell_type": "markdown",
   "metadata": {},
   "source": [
    "##### Cluster Names\n",
    "\n",
    "Site 1\n",
    "* Cluster 0 -> \"The Early hard working Birds\"\n",
    "    * Starting very early at 7:00 AM and parking for an extended period (576 minutes), this group likely includes employees who arrive early to start their workday, often parking for most of the day. This cluster is by far the biggest.\n",
    "* Cluster 1 -> \"The Quick Stops\"\n",
    "    * Starting quite late at 4:00 PM, with a shorter parking duration (150 minutes), these individuals are likely making quick stops, possibly finishing up their workday or stopping by for brief tasks.\n",
    "* Cluster 2 -> \"The Late Night Crew\"\n",
    "    * These workers begin their shifts around 9:00 PM and typically work for approximately 3,5 hours. They are part of a late-evening schedule, often covering specific tasks that require attention during off-peak hours. This Cluster is the smallest.\n",
    "* Cluster 3 -> \"The Late Arrivals\"\n",
    "    * With a later start at around 12:00 PM and a moderate parking time (283 minutes), these individuals may have a midday shift or flexible schedules, staying a few hours during the afternoon.\n",
    "* Cluster 4 -> \"The Morning Steady-Stayers\"\n",
    "    * This group arrives early at around 7:30 AM and parks for a moderate duration (280 minutes), indicating that they likely start their day early and stay for a few hours, possibly for morning tasks or meetings. These individuals could potentially be part-time workers who have flexible or shorter work schedules.\n",
    "\n",
    "Site 2\n",
    "* Cluster 0 -> \"The Evening Students\"\n",
    "    * This group of students begins parking around 7:00 PM and stays for an average of 107 minutes. They likely arrive for short evening classes or activities.\n",
    "* Cluster 1 -> \"The Campus Lifers\"\n",
    "    * This group of students parks around 9:00 AM and stays for an average of 523 minutes (around 8.5 hours). These Campus Lifers spend the entire day on campus, immersed in classes, studying, and engaging in various activities from morning to evening. This Cluster is the biggest.\n",
    "* Cluster 2 -> \"The Morning Class Attendees\"\n",
    "    * This group of students arrives around 9:00 AM and parks for an average duration of 164 minutes. They likely come for a morning class or a short session and leave after approximately 3 hours, reflecting their brief stay on campus.\n",
    "* Cluster 3 -> \"The Midday Scholars\"\n",
    "    * This group of students parks around 14:00 PM and stays for an average of 185 minutes. They likely attend afternoon classes or engage in campus activities, staying for about 3 hours during the midday period.\n",
    "* Cluster 4 -> \"The Night Owls\"\n",
    "    * This group of students parks around 9:00 PM and stays for an extended period of about 728 minutes. These night owls likely park overnight, staying on campus for late-night study sessions, social activities, or events like partying. This Cluster is the smallest."
   ]
  },
  {
   "cell_type": "markdown",
   "metadata": {},
   "source": [
    "Identifying different types of charging sessions is valuable for several reasons:\n",
    "\n",
    "1. Optimized Resource Management: By understanding the patterns of charging sessions, such as peak usage times, duration, and energy delivered, parking lot operators can better allocate charging stations, ensuring availability during high-demand periods and reducing wait times.\n",
    "\n",
    "2. User Behavior Insights: Identifying different charging behaviors (e.g., quick charges vs. long-term parking) helps understand how users interact with the infrastructure. This can inform strategies to improve customer experience, such as offering different types of charging services (e.g., fast charging for short visits, regular charging for long stays).\n",
    "\n",
    "3. Improved Infrastructure Planning: Understanding charging patterns helps in planning the capacity and locations of charging stations. For example, areas with higher usage of long-duration charging sessions might need more chargers or higher-capacity ones.\n",
    "\n",
    "4. Energy Efficiency and Cost Management: By categorizing charging sessions, energy providers can predict demand more accurately and plan for energy distribution. They can optimize load balancing and adjust pricing strategies, potentially offering dynamic pricing to encourage charging during off-peak hours, leading to cost savings.\n",
    "\n",
    "5. Targeted Marketing and Services: Recognizing different user types enables tailored marketing. For instance, users who frequently engage in short, quick charging sessions might be interested in loyalty programs or promotions for regular users, while long-stay parkers may benefit from discounts or subscription plans.\n",
    "\n",
    "6. Sustainability Efforts: Understanding the different types of charging sessions can help in promoting eco-friendly practices. For example, offering incentives for using renewable energy sources during certain times of the day can help reduce the environmental impact."
   ]
  },
  {
   "cell_type": "markdown",
   "metadata": {},
   "source": [
    "#### ConnectionTime - ChargingDuration - IsWeekday\n",
    "\n",
    "We are clustering ConnectionTime, ChargingDuration, and IsWeekday to analyze the charging behavior of users based on the time of day, duration of charging sessions, and whether the session occurred on a weekday or weekend. By incorporating sine and cosine transformations of the connection hour, we can better capture cyclical patterns of user behavior. Including the IsWeekday feature allows differentiation between workday and weekend usage to better explain the behavioral patterns."
   ]
  },
  {
   "cell_type": "code",
   "execution_count": null,
   "metadata": {},
   "outputs": [],
   "source": [
    "import pandas as pd\n",
    "import numpy as np\n",
    "from sklearn.preprocessing import StandardScaler\n",
    "from sklearn.cluster import KMeans\n",
    "from sklearn.metrics import silhouette_score\n",
    "import matplotlib.pyplot as plt\n",
    "\n",
    "# Function for data preparation and feature engineering\n",
    "def prepare_features_with_weekday(data, site_id):\n",
    "    # Filter the data for the given siteID\n",
    "    data_site = data[data['siteID'] == site_id].copy()\n",
    "    \n",
    "    # Feature engineering: Calculate charging duration\n",
    "    data_site['charging_duration'] = (data_site['disconnectTime'] - data_site['connectionTime']).dt.total_seconds() / 3600\n",
    "\n",
    "    # Extract start time (connection time)\n",
    "    data_site['connection_hour'] = data_site['connectionTime'].dt.hour  # Start time (hour)\n",
    "    \n",
    "    # Sine-cosine transformation of the hour\n",
    "    data_site['sin_connection_hour'] = np.sin(2 * np.pi * data_site['connection_hour'] / 24)\n",
    "    data_site['cos_connection_hour'] = np.cos(2 * np.pi * data_site['connection_hour'] / 24)\n",
    "    \n",
    "    # Weekday feature: Is it a weekday? (1 = Yes, 0 = No)\n",
    "    if 'is_weekday' not in data_site.columns:\n",
    "        data_site['is_weekday'] = data_site['connectionTime'].dt.weekday < 5\n",
    "\n",
    "    # Select the most important features (including is_weekday)\n",
    "    selected_features = data_site[['charging_duration', 'sin_connection_hour', 'cos_connection_hour', 'is_weekday']]\n",
    "    combined_data = selected_features.dropna()\n",
    "\n",
    "    # Standardize the data\n",
    "    scaler = StandardScaler()\n",
    "    data_scaled = scaler.fit_transform(combined_data)\n",
    "\n",
    "    return combined_data, data_scaled\n",
    "\n",
    "# Function to perform clustering analysis\n",
    "def perform_clustering(data_scaled, combined_data, site_id, optimal_clusters):\n",
    "    # K-Means clustering\n",
    "    kmeans = KMeans(n_clusters=optimal_clusters, random_state=42)\n",
    "    combined_data['cluster'] = kmeans.fit_predict(data_scaled)  # Add cluster labels\n",
    "\n",
    "    # Calculate the silhouette score\n",
    "    silhouette_avg = silhouette_score(data_scaled, combined_data['cluster'])\n",
    "    print(f\"Silhouette Score for siteID = {site_id} with {optimal_clusters} clusters: {silhouette_avg:.4f}\")\n",
    "\n",
    "    # Output cluster centers\n",
    "    cluster_centers = pd.DataFrame(\n",
    "        kmeans.cluster_centers_,\n",
    "        columns=combined_data.columns[:-1]\n",
    "    )\n",
    "    print(f\"Cluster Centers for siteID = {site_id}:\\n\", cluster_centers)\n",
    "\n",
    "    return combined_data, cluster_centers, silhouette_avg\n",
    "\n",
    "# Cluster analysis for siteID = 1 with a specific number of clusters\n",
    "optimal_clusters_1 = 3  # Number of clusters for siteID = 1\n",
    "combined_data_1, data_scaled_1 = prepare_features_with_weekday(data_unique, site_id=1)\n",
    "clustered_data_1, cluster_centers_1, silhouette_1 = perform_clustering(data_scaled_1, combined_data_1, site_id=1, optimal_clusters=optimal_clusters_1)\n",
    "\n",
    "# Cluster analysis for siteID = 2 with a specific number of clusters\n",
    "optimal_clusters_2 = 3  # Number of clusters for siteID = 2\n",
    "combined_data_2, data_scaled_2 = prepare_features_with_weekday(data_unique, site_id=2)\n",
    "clustered_data_2, cluster_centers_2, silhouette_2 = perform_clustering(data_scaled_2, combined_data_2, site_id=2, optimal_clusters=optimal_clusters_2)\n"
   ]
  },
  {
   "cell_type": "code",
   "execution_count": null,
   "metadata": {},
   "outputs": [],
   "source": [
    "from mpl_toolkits.mplot3d import Axes3D\n",
    "import pandas as pd\n",
    "\n",
    "# Function to create a 3D scatter plot\n",
    "def plot_3d_clusters(clustered_data, site_id):\n",
    "    fig = plt.figure(figsize=(12, 10))\n",
    "    ax = fig.add_subplot(111, projection='3d')\n",
    "\n",
    "    # Scatterplot\n",
    "    scatter = ax.scatter(\n",
    "        clustered_data['charging_duration'],\n",
    "        clustered_data['connection_hour'],\n",
    "        clustered_data['is_weekday'],\n",
    "        c=clustered_data['cluster'],\n",
    "        cmap='viridis',  # Colors for the clusters\n",
    "        s=50,\n",
    "        alpha=0.8\n",
    "    )\n",
    "\n",
    "    # Axis labels and plot title\n",
    "    ax.set_title(f'3D Cluster Visualization for siteID = {site_id}')\n",
    "    ax.set_xlabel('Charging Duration (hours)')\n",
    "    ax.set_ylabel('Connection Hour (Start Time)')\n",
    "    ax.set_zlabel('Is Weekday')\n",
    "\n",
    "    # Add color bar\n",
    "    cbar = fig.colorbar(scatter, ax=ax, label='Cluster')\n",
    "    plt.show()\n",
    "\n",
    "# Convert sine and cosine values back to hours of the day\n",
    "def inverse_sin_cos(sin_val, cos_val):\n",
    "    angle = np.arctan2(sin_val, cos_val)\n",
    "    hour = (angle % (2 * np.pi)) / (2 * np.pi) * 24\n",
    "    return hour\n",
    "\n",
    "clustered_data_1['connection_hour'] = clustered_data_1.apply(\n",
    "    lambda row: inverse_sin_cos(row['sin_connection_hour'], row['cos_connection_hour']), axis=1\n",
    ")\n",
    "\n",
    "clustered_data_2['connection_hour'] = clustered_data_2.apply(\n",
    "    lambda row: inverse_sin_cos(row['sin_connection_hour'], row['cos_connection_hour']), axis=1\n",
    ")\n",
    "\n",
    "# 3D scatter plot for siteID = 1\n",
    "plot_3d_clusters(clustered_data_1, site_id=1)\n",
    "\n",
    "# 3D scatter plot for siteID = 2\n",
    "plot_3d_clusters(clustered_data_2, site_id=2)\n",
    "\n",
    "# Calculate mean, median, and count of data points per cluster\n",
    "def calculate_cluster_statistics(clustered_data, site_id):\n",
    "    print(f\"\\nCluster Statistics for siteID = {site_id}:\")\n",
    "    cluster_stats = []\n",
    "    for cluster in sorted(clustered_data['cluster'].unique()):\n",
    "        cluster_data = clustered_data[clustered_data['cluster'] == cluster]\n",
    "        mean_vals = cluster_data[['charging_duration', 'connection_hour', 'is_weekday']].mean()\n",
    "        median_vals = cluster_data[['charging_duration', 'connection_hour', 'is_weekday']].median()\n",
    "        count = len(cluster_data)\n",
    "        cluster_stats.append({\n",
    "            'Cluster': cluster,\n",
    "            'Count': count,\n",
    "            'Charging Duration Mean': mean_vals['charging_duration'],\n",
    "            'Charging Duration Median': median_vals['charging_duration'],\n",
    "            'Connection Hour Mean': mean_vals['connection_hour'],\n",
    "            'Connection Hour Median': median_vals['connection_hour'],\n",
    "            'Is Weekday Mean': mean_vals['is_weekday'],\n",
    "            'Is Weekday Median': median_vals['is_weekday']\n",
    "        })\n",
    "\n",
    "    stats_df = pd.DataFrame(cluster_stats)\n",
    "    print(stats_df.to_string(index=False))\n",
    "\n",
    "# Statistics for siteID = 1\n",
    "calculate_cluster_statistics(clustered_data_1, site_id=1)\n",
    "\n",
    "# Statistics for siteID = 2\n",
    "calculate_cluster_statistics(clustered_data_2, site_id=2)"
   ]
  },
  {
   "cell_type": "code",
   "execution_count": null,
   "metadata": {},
   "outputs": [],
   "source": [
    "# Separate code section for individual boxplots\n",
    "def plot_individual_boxplots(clustered_data, site_id):\n",
    "    features = ['charging_duration', 'connection_hour']\n",
    "    for feature in features:\n",
    "        plt.figure(figsize=(8, 6))\n",
    "        sns.boxplot(data=clustered_data, x='cluster', y=feature, palette='Set3')\n",
    "        plt.title(f'Individual Boxplot of {feature.replace(\"_\", \" \").title()} by Cluster (siteID = {site_id})')\n",
    "        plt.xlabel('Cluster')\n",
    "        plt.ylabel(feature.replace(\"_\", \" \").title())\n",
    "        if feature == 'charging_duration':\n",
    "            plt.ylim(0, 12)  # Adjust y-axis scale for charging duration\n",
    "        plt.grid()\n",
    "        plt.show()\n",
    "\n",
    "# Individual boxplots for siteID = 1\n",
    "plot_individual_boxplots(clustered_data_1, site_id=1)\n",
    "\n",
    "# Individual boxplots for siteID = 2\n",
    "plot_individual_boxplots(clustered_data_2, site_id=2)"
   ]
  },
  {
   "cell_type": "markdown",
   "metadata": {},
   "source": [
    "#### Cluster Descriptions for SiteID = 1:\n",
    "\n",
    "##### Cluster 0: \"Part-Time Workers\"\n",
    "\n",
    "This cluster consists of people who arrive later in the day and use the parking lot for shorter durations. They are likely part-time workers or individuals running quick errands at the office or in the vicinity. Usage is exclusively on weekdays.\n",
    "Cluster 1: \"Full-Time Workers\"\n",
    "\n",
    "* Characteristics:\n",
    "    * Count: 9,928\n",
    "    * Average Charging Duration: ~3.63 hours\n",
    "    * Mean Connection Time: ~1:00 PM (afternoon)\n",
    "    * Usage Days: Weekdays only\n",
    "      \n",
    "##### Cluster 1: \"Full-Time Workers\"\n",
    "\n",
    "This cluster represents full-time employees who arrive early in the morning and park for the entire workday, approximately 7 hours. Usage occurs exclusively on weekdays.\n",
    "\n",
    "* Characteristics:\n",
    "    * Count: 20,837\n",
    "    * Average Charging Duration: ~8.5 hours\n",
    "    * Mean Connection Time: ~7:00 AM (early morning)\n",
    "    * Usage Days: Weekdays only\n",
    "\n",
    "##### Cluster 2: \"Weekend Parkers\"\n",
    "\n",
    "These users primarily charge their vehicles on weekends, often for short errands in the vicinity or office visits. The moderate charging duration suggests shorter stays.\n",
    "\n",
    "* Characteristics:\n",
    "    * Count: 827\n",
    "    * Average Charging Duration: ~4.74 hours\n",
    "    * Mean Connection Time: ~10:30 AM (late morning)\n",
    "    * Usage Days: Weekends only\n",
    "\n",
    "#### Cluster Descriptions for SiteID = 2:\n",
    "\n",
    "##### Cluster 0: \"Full-Time Students and Professors\"\n",
    "\n",
    "This cluster represents full-time students and professors who arrive early in the morning and park for most of the day. They primarily use the parking lot on weekdays, likely for long work or study sessions.\n",
    "\n",
    "* Characteristics:\n",
    "    * Count: 18,936\n",
    "    * Average Charging Duration: ~6.77 hours\n",
    "    * Median Connection Time: 9:00 AM\n",
    "    * Usage Days: Weekdays only\n",
    "\n",
    "##### Cluster 1: “Weekend Parkers”\n",
    "\n",
    "This cluster includes users who park exclusively on weekends, typically arriving in the early afternoon. These parkers may be running errands in the vicinity or utilizing the parking lot for flexible activities at the university.\n",
    "\n",
    "* Characteristics:\n",
    "    * Count: 4,373\n",
    "    * Average Charging Duration: ~4.32 hours\n",
    "    * Median Connection Time: 1:00 PM\n",
    "    * Usage Days: Weekends only\n",
    "\n",
    "##### Cluster 2: \"Short-Stay Parkers\"\n",
    "\n",
    "This cluster represents weekday users who park in the evenings for shorter durations. They likely use the parking lot for quick visits,  meetings, or errands either on campus or nearby. Their parking behavior indicates shorter weekday stays.\n",
    "\n",
    "* Characteristics:\n",
    "    * Count: 6,049\n",
    "    * Average Charging Duration: ~4.07 hours\n",
    "    * Median Connection Time: 6:00 PM\n",
    "    * Usage Days: Weekdays only\n",
    "\n"
   ]
  },
  {
   "cell_type": "markdown",
   "metadata": {},
   "source": [
    "-------------------------------------------------------------------------------------------"
   ]
  },
  {
   "cell_type": "markdown",
   "metadata": {},
   "source": [
    "# `4. Utilization Prediction`"
   ]
  },
  {
   "cell_type": "code",
   "execution_count": null,
   "metadata": {},
   "outputs": [],
   "source": [
    "def hourly_utilization_prediction(data):\n",
    "    rows = []\n",
    "\n",
    "    # Iteriere über alle eindeutigen Site-IDs\n",
    "    for site_id in data['siteID'].unique():\n",
    "        # Filtere Daten für die aktuelle Site-ID\n",
    "        data_prediction = data[data['siteID'] == site_id].copy()\n",
    "\n",
    "        for _, row in data_prediction.iterrows():\n",
    "            start = row['connectionTime']\n",
    "            end = row['disconnectTime']\n",
    "\n",
    "            current = start\n",
    "            while current < end:\n",
    "                next_hour = (current + pd.Timedelta(hours=1)).replace(minute=0, second=0, microsecond=0)\n",
    "                if next_hour > end:\n",
    "                    next_hour = end\n",
    "\n",
    "                # Berechne die Dauer innerhalb der aktuellen Stunde\n",
    "                duration_in_hour = (next_hour - current).total_seconds() / 3600\n",
    "\n",
    "                # Füge die Daten der Liste hinzu\n",
    "                rows.append({\n",
    "                    'siteID': site_id,\n",
    "                    'hour': current.replace(minute=0, second=0, microsecond=0),\n",
    "                    'session_duration_in_hour': duration_in_hour\n",
    "                })\n",
    "\n",
    "                current = next_hour\n",
    "\n",
    "    # Erstelle einen DataFrame aus den gesammelten Daten\n",
    "    result_df = pd.DataFrame(rows)\n",
    "\n",
    "    # Gruppiere nach Site-ID und Stunde, berechne die Summen und die Auslastung\n",
    "    utilization_df = (\n",
    "        result_df.groupby(['siteID', 'hour'])\n",
    "        .agg(total_session_duration=('session_duration_in_hour', 'sum'))\n",
    "        .reset_index()\n",
    "    )\n",
    "\n",
    "    # Anzahl der Stationen hinzufügen\n",
    "    station_counts = data.groupby('siteID')['stationID'].nunique().reset_index()\n",
    "    station_counts.rename(columns={'stationID': 'num_stations'}, inplace=True)\n",
    "\n",
    "    # Merge mit Stationenanzahl\n",
    "    utilization_df = utilization_df.merge(station_counts, on='siteID', how='left')\n",
    "\n",
    "    # Berechne die Auslastung\n",
    "    utilization_df['hourly_utilization'] = (\n",
    "        utilization_df['total_session_duration'] / utilization_df['num_stations'] * 100\n",
    "    )\n",
    "\n",
    "    return utilization_df"
   ]
  },
  {
   "cell_type": "code",
   "execution_count": null,
   "metadata": {},
   "outputs": [],
   "source": [
    "hourly_utilization = hourly_utilization_prediction(data_unique)\n",
    "\n",
    "hourly_utilization['day_of_week'] = hourly_utilization['hour'].dt.dayofweek\n",
    "hourly_utilization['date'] = hourly_utilization['hour'].dt.date\n",
    "hourly_utilization['hour'] = hourly_utilization['hour'].dt.hour\n",
    "\n",
    "columns_order = ['siteID', 'date', 'hour', 'day_of_week', 'total_session_duration', 'num_stations', 'hourly_utilization']\n",
    "hourly_utilization = hourly_utilization[columns_order]\n",
    "hourly_utilization.head(5)"
   ]
  },
  {
   "cell_type": "code",
   "execution_count": null,
   "metadata": {},
   "outputs": [],
   "source": [
    "# Group by site_id and calculate mean utilization\n",
    "utilization_by_type = hourly_utilization.groupby(['siteID'])['hourly_utilization'].describe()\n",
    "print(utilization_by_type)"
   ]
  },
  {
   "cell_type": "code",
   "execution_count": null,
   "metadata": {},
   "outputs": [],
   "source": [
    "hourly_utilization_1 = hourly_utilization[hourly_utilization['siteID']==1]\n",
    "hourly_utilization_2 = hourly_utilization[hourly_utilization['siteID']==2]\n",
    "hourly_utilization_1.head()"
   ]
  },
  {
   "cell_type": "markdown",
   "metadata": {},
   "source": [
    "Add weather data to prediction. Therefore we choose relevant data from the weather dataset."
   ]
  },
  {
   "cell_type": "code",
   "execution_count": null,
   "metadata": {},
   "outputs": [],
   "source": [
    "weather_unique.head()"
   ]
  },
  {
   "cell_type": "code",
   "execution_count": null,
   "metadata": {},
   "outputs": [],
   "source": [
    "weather_unique['timestamp'] = weather_unique['timestamp'].dt.ceil('H')\n",
    "\n",
    "weather_unique['date'] = weather_unique['timestamp'].dt.date\n",
    "weather_unique['hour'] = weather_unique['timestamp'].dt.hour\n",
    "\n",
    "weather_unique = weather_unique.drop(columns=['timestamp'])\n",
    "\n",
    "columns_order_weather = ['date', 'hour', 'city', 'temperature', 'cloud_cover', 'pressure', 'windspeed', 'precipitation', 'felt_temperature', 'month', 'season']\n",
    "weather_unique = weather_unique[columns_order_weather]\n",
    "weather_unique.head(5)"
   ]
  },
  {
   "cell_type": "markdown",
   "metadata": {},
   "source": [
    "Merge weather data to the prediction-data."
   ]
  },
  {
   "cell_type": "code",
   "execution_count": null,
   "metadata": {},
   "outputs": [],
   "source": [
    "merged_prediction_df_1= pd.merge(hourly_utilization_1, weather_unique, on=['date', 'hour'], how='left')\n",
    "print(merged_prediction_df_1.info())"
   ]
  },
  {
   "cell_type": "code",
   "execution_count": null,
   "metadata": {},
   "outputs": [],
   "source": [
    "merged_prediction_df_2= pd.merge(hourly_utilization_2, weather_unique, on=['date', 'hour'], how='left')\n",
    "print(merged_prediction_df_2.info())"
   ]
  },
  {
   "cell_type": "markdown",
   "metadata": {},
   "source": [
    "Features entfernen, die für das Lernen des Models nicht nützlich sind"
   ]
  },
  {
   "cell_type": "code",
   "execution_count": null,
   "metadata": {},
   "outputs": [],
   "source": [
    "# Droppen von nicht-numerischen Spalten\n",
    "df_prediction_1 = merged_prediction_df_1.select_dtypes(include=['float64', 'int32', 'int64'])\n",
    "df_prediction_2 = merged_prediction_df_2.select_dtypes(include=['float64', 'int32', 'int64'])\n",
    "\n",
    "# Korrelationsmatrix berechnen\n",
    "correlation_matrix_1 = df_prediction_1.corr()\n",
    "correlation_matrix_2 = df_prediction_2.corr()\n",
    "\n",
    "# Korrelation von Features mit `hourly_utilization`\n",
    "correlation_with_target_1 = correlation_matrix_1['hourly_utilization'].sort_values(ascending=False)\n",
    "correlation_with_target_2 = correlation_matrix_2['hourly_utilization'].sort_values(ascending=False)\n",
    "\n",
    "# Ausgabe\n",
    "print(\"Correlation of siteID 1 dataframe with hourly_utilization:\")\n",
    "print(correlation_with_target_1)\n",
    "print(\"-------------------------------------------------\")\n",
    "print(\"Correlation of siteID 2 dataframe with hourly_utilization:\")\n",
    "print(correlation_with_target_2)"
   ]
  },
  {
   "cell_type": "markdown",
   "metadata": {},
   "source": [
    "We drop the Features with a low correlation to minimize our features for the prediction training."
   ]
  },
  {
   "cell_type": "code",
   "execution_count": null,
   "metadata": {},
   "outputs": [],
   "source": [
    "merged_prediction_df_1.drop(columns=['total_session_duration', 'num_stations', 'city', 'felt_temperature', 'windspeed', 'cloud_cover', 'precipitation', 'pressure', 'season'], inplace=True)\n",
    "merged_prediction_df_2.drop(columns=['total_session_duration', 'num_stations', 'city', 'felt_temperature', 'windspeed', 'cloud_cover', 'precipitation', 'pressure', 'season'], inplace=True)"
   ]
  },
  {
   "cell_type": "code",
   "execution_count": null,
   "metadata": {},
   "outputs": [],
   "source": [
    "merged_prediction_df_1.head(5)"
   ]
  },
  {
   "cell_type": "code",
   "execution_count": null,
   "metadata": {},
   "outputs": [],
   "source": [
    "rows_with_NA_1 = merged_prediction_df_1[merged_prediction_df_1.isnull().any(axis=1)]\n",
    "\n",
    "rows_with_NA_1.head(5)"
   ]
  },
  {
   "cell_type": "code",
   "execution_count": null,
   "metadata": {},
   "outputs": [],
   "source": [
    "# Zeilen direkt im DataFrame entfernen\n",
    "merged_prediction_df_1.dropna(inplace=True)\n",
    "merged_prediction_df_2.dropna(inplace=True)\n",
    "merged_prediction_df_1.info()"
   ]
  },
  {
   "cell_type": "code",
   "execution_count": null,
   "metadata": {},
   "outputs": [],
   "source": [
    "merged_prediction_df_1['month'] = merged_prediction_df_1['month'].astype(int)\n",
    "merged_prediction_df_2['month'] = merged_prediction_df_2['month'].astype(int)"
   ]
  },
  {
   "cell_type": "code",
   "execution_count": null,
   "metadata": {},
   "outputs": [],
   "source": [
    "# additional imports for modeling\n",
    "\n",
    "from sklearn.tree import DecisionTreeRegressor\n",
    "from sklearn.ensemble import RandomForestRegressor\n",
    "from sklearn.model_selection import GridSearchCV\n",
    "from sklearn.linear_model import LinearRegression\n",
    "from sklearn.linear_model import Ridge\n",
    "from sklearn.preprocessing import PolynomialFeatures\n",
    "from sklearn.model_selection import train_test_split\n",
    "from sklearn.metrics import mean_absolute_error\n",
    "from sklearn.metrics import mean_squared_error\n",
    "from sklearn.metrics import r2_score\n",
    "from sklearn.preprocessing import StandardScaler"
   ]
  },
  {
   "cell_type": "markdown",
   "metadata": {},
   "source": [
    "We split our data in three: 50% training data, 20% validation data, 30% test data.  \n",
    "We will\n",
    "- *train* the model on df_train\n",
    "- *validate* the model with df_hold\n",
    "- and *test* the model with df_test"
   ]
  },
  {
   "cell_type": "code",
   "execution_count": null,
   "metadata": {},
   "outputs": [],
   "source": [
    "df_train_1, df_test_1 = train_test_split(merged_prediction_df_1, test_size=0.3, random_state=32)\n",
    "df_train_1, df_hold_1 = train_test_split(df_train_1, test_size=(0.2/0.7), random_state=32)"
   ]
  },
  {
   "cell_type": "code",
   "execution_count": null,
   "metadata": {},
   "outputs": [],
   "source": [
    "df_train_2, df_test_2 = train_test_split(merged_prediction_df_2, test_size=0.3, random_state=32)\n",
    "df_train_2, df_hold_2 = train_test_split(df_train_2, test_size=(0.2/0.7), random_state=32)"
   ]
  },
  {
   "cell_type": "markdown",
   "metadata": {},
   "source": [
    "### **MODEL PREPROCESSING**"
   ]
  },
  {
   "cell_type": "code",
   "execution_count": null,
   "metadata": {},
   "outputs": [],
   "source": [
    "def preprocess_model(train, hold, test, prediction_df):\n",
    "    \n",
    "    # Define target and feature variables\n",
    "    trainX, trainY = train[['hour', 'day_of_week', 'temperature', 'month']], train['hourly_utilization']\n",
    "    holdX, holdY = hold[['hour', 'day_of_week', 'temperature', 'month']], hold['hourly_utilization']\n",
    "    testX, testY = test[['hour', 'day_of_week', 'temperature', 'month']], test['hourly_utilization']\n",
    "\n",
    "    # Add lagged_utilization feature to train, hold, and test sets\n",
    "    prediction_df['lagged_utilization'] = prediction_df['hourly_utilization'].shift(1).fillna(0)\n",
    "    trainX['lagged_utilization'] = prediction_df.loc[trainX.index, 'lagged_utilization']\n",
    "    holdX['lagged_utilization'] = prediction_df.loc[holdX.index, 'lagged_utilization']\n",
    "    testX['lagged_utilization'] = prediction_df.loc[testX.index, 'lagged_utilization']\n",
    "    # Add periodic features for train set\n",
    "    trainX['hour_sin'] = np.sin(2 * np.pi * trainX['hour'] / 24)\n",
    "    trainX['hour_cos'] = np.cos(2 * np.pi * trainX['hour'] / 24)\n",
    "    trainX['day_of_week_sin'] = np.sin(2 * np.pi * trainX['day_of_week'] / 7)\n",
    "    trainX['day_of_week_cos'] = np.cos(2 * np.pi * trainX['day_of_week'] / 7)\n",
    "    trainX['hour_day_interaction'] = trainX['hour_sin'] * trainX['day_of_week_sin']\n",
    "\n",
    "     # Add periodic features for holdout set\n",
    "    holdX['hour_sin'] = np.sin(2 * np.pi * holdX['hour'] / 24)\n",
    "    holdX['hour_cos'] = np.cos(2 * np.pi * holdX['hour'] / 24)\n",
    "    holdX['day_of_week_sin'] = np.sin(2 * np.pi * holdX['day_of_week'] / 7)\n",
    "    holdX['day_of_week_cos'] = np.cos(2 * np.pi * holdX['day_of_week'] / 7)\n",
    "    holdX['hour_day_interaction'] = holdX['hour_sin'] * holdX['day_of_week_sin']\n",
    "\n",
    "     # Add periodic features for test set\n",
    "    testX['hour_sin'] = np.sin(2 * np.pi * testX['hour'] / 24)\n",
    "    testX['hour_cos'] = np.cos(2 * np.pi * testX['hour'] / 24)\n",
    "    testX['day_of_week_sin'] = np.sin(2 * np.pi * testX['day_of_week'] / 7)\n",
    "    testX['day_of_week_cos'] = np.cos(2 * np.pi * testX['day_of_week'] / 7)\n",
    "    testX['hour_day_interaction'] = testX['hour_sin'] * testX['day_of_week_sin']\n",
    "\n",
    "    # Add hour_day_interaction before scaling\n",
    "    trainX['hour_day_interaction'] = trainX['hour_sin'] * trainX['day_of_week_sin']\n",
    "    holdX['hour_day_interaction'] = holdX['hour_sin'] * holdX['day_of_week_sin']\n",
    "    testX['hour_day_interaction'] = testX['hour_sin'] * testX['day_of_week_sin']\n",
    "\n",
    "    # drop original columns\n",
    "    trainX = trainX.drop(['hour', 'day_of_week'], axis = 1)\n",
    "    holdX = holdX.drop(['hour', 'day_of_week'], axis = 1)\n",
    "    testX = testX.drop(['hour', 'day_of_week'], axis = 1)\n",
    "\n",
    "    #scale the features\n",
    "    scaler = StandardScaler()\n",
    "    trainX_scaled = scaler.fit_transform(trainX)\n",
    "    holdX_scaled = scaler.fit_transform(holdX)\n",
    "    testX_scaled = scaler.fit_transform(testX)\n",
    "\n",
    "    return trainX_scaled, holdX_scaled, testX_scaled, trainY, holdY, testY"
   ]
  },
  {
   "cell_type": "markdown",
   "metadata": {},
   "source": [
    "#### **1. Random Forest Model**"
   ]
  },
  {
   "cell_type": "code",
   "execution_count": null,
   "metadata": {},
   "outputs": [],
   "source": [
    "def RandomForest_with_GridSearch(trainX_scaled, holdX_scaled, testX_scaled, trainY, holdY, testY):\n",
    "    \n",
    "    #log-transform the target value\n",
    "    trainY_log = np.log1p(trainY)\n",
    "    holdY_log = np.log1p(holdY)\n",
    "    testY_log = np.log1p(testY)\n",
    "\n",
    "    # hyperparameter tuning for Random Forest\n",
    "    param_grid = {\n",
    "        'n_estimators': [100, 200],\n",
    "        'max_depth': [10, 20, None],\n",
    "        'min_samples_split': [2, 5, 10],\n",
    "        'min_samples_leaf': [1, 2],\n",
    "        'max_features': ['sqrt', 'log2']\n",
    "    }\n",
    "\n",
    "    grid_search = GridSearchCV(\n",
    "        RandomForestRegressor(random_state=32), param_grid, cv=3, scoring='r2', n_jobs=-1\n",
    "    )\n",
    "\n",
    "    # train the model using GridSearchCV to find best parameters\n",
    "    grid_search.fit(trainX_scaled, trainY_log)\n",
    "    best_model = grid_search.best_estimator_\n",
    "    print(f\"Best Parameters: {grid_search.best_params_}\")\n",
    "\n",
    "    # evaluate the model\n",
    "    print(\"\\nModel Evaluation\")\n",
    "\n",
    "    predicted_log_train = best_model.predict(trainX_scaled)\n",
    "    predicted_train = np.expm1(predicted_log_train) # back log with exp\n",
    "    rmse_train = np.sqrt(mean_squared_error(np.expm1(trainY_log), predicted_train))\n",
    "    r2_train = r2_score(np.expm1(trainY_log), predicted_train)\n",
    "    print(f\"Training Set RMSE: {rmse_train:.4f} | R²: {r2_train:.4f}\")\n",
    "\n",
    "    predicted_log_hold = best_model.predict(holdX_scaled)\n",
    "    predicted_hold = np.expm1(predicted_log_hold) # back log with exp\n",
    "    rmse_hold = np.sqrt(mean_squared_error(np.expm1(holdY_log), predicted_hold))\n",
    "    r2_hold = r2_score(np.expm1(holdY_log), predicted_hold)\n",
    "    print(f\"Holdout Set RMSE: {rmse_hold:.4f} | R²: {r2_hold:.4f}\")\n",
    "\n",
    "    predicted_log_test = best_model.predict(testX_scaled)\n",
    "    predicted_test = np.expm1(predicted_log_test) # back log with exp\n",
    "    rmse_test = np.sqrt(mean_squared_error(np.expm1(testY_log), predicted_test))\n",
    "    r2_test = r2_score(np.expm1(testY_log), predicted_test)\n",
    "    print(f\"Test Set RMSE: {rmse_test:.4f} | R²: {r2_test:.4f}\")"
   ]
  },
  {
   "cell_type": "code",
   "execution_count": null,
   "metadata": {},
   "outputs": [],
   "source": [
    "trainX_scaled_1, holdX_scaled_1, testX_scaled_1, trainY_1, holdY_1, testY_1 = preprocess_model(df_train_1, df_hold_1, df_test_1, merged_prediction_df_1)"
   ]
  },
  {
   "cell_type": "code",
   "execution_count": null,
   "metadata": {},
   "outputs": [],
   "source": [
    "RandomForest_with_GridSearch(trainX_scaled_1, holdX_scaled_1, testX_scaled_1, trainY_1, holdY_1, testY_1)"
   ]
  },
  {
   "cell_type": "code",
   "execution_count": null,
   "metadata": {},
   "outputs": [],
   "source": [
    "trainX_scaled_2, holdX_scaled_2, testX_scaled_2, trainY_2, holdY_2, testY_2 = preprocess_model(df_train_2, df_hold_2, df_test_2, merged_prediction_df_2)"
   ]
  },
  {
   "cell_type": "code",
   "execution_count": null,
   "metadata": {},
   "outputs": [],
   "source": [
    "RandomForest_with_GridSearch(trainX_scaled_2, holdX_scaled_2, testX_scaled_2, trainY_2, holdY_2, testY_2)"
   ]
  },
  {
   "cell_type": "markdown",
   "metadata": {},
   "source": [
    "### **2. Polynomial Regression Model**"
   ]
  },
  {
   "cell_type": "code",
   "execution_count": null,
   "metadata": {},
   "outputs": [],
   "source": [
    "def Polynomial_Model(s, degr, trainX_scaled, holdX_scaled, testX_scaled, trainY, holdY, testY):\n",
    "\n",
    "    # Log-transform the target variable to handle skewness\n",
    "    trainY_log = np.log1p(trainY)\n",
    "    holdY_log = np.log1p(holdY)\n",
    "    testY_log = np.log1p(testY)\n",
    "\n",
    " # Fehlerlisten initialisieren\n",
    "    err_train = []\n",
    "    err_hold = []\n",
    "    min_dim = 1\n",
    "    best_model = None\n",
    "\n",
    "    for d in np.arange(s, degr + 1):\n",
    "        \n",
    "        # PolynomialFeatures für den aktuellen Grad erstellen\n",
    "        poly = PolynomialFeatures(degree=d, include_bias=False)\n",
    "        poly_features_train = poly.fit_transform(trainX_scaled)\n",
    "\n",
    "        # Lineare Regression verwenden\n",
    "        poly_reg_model = Ridge(alpha=215.0)\n",
    "        poly_reg_model.fit(poly_features_train, trainY_log)  # Trainiere mit log-transformierten Y-Werten\n",
    "\n",
    "        # Trainingsfehler berechnen\n",
    "        train_predicted_log = poly_reg_model.predict(poly_features_train)\n",
    "        train_predicted = np.expm1(train_predicted_log)  # Rücktransformation der Vorhersage\n",
    "        train_rmse = np.sqrt(mean_squared_error(np.expm1(trainY_log), train_predicted))  # Log-transformierte Y-Werte zurücktransformieren\n",
    "        err_train.append(train_rmse)\n",
    "\n",
    "        # Validierungsfehler berechnen\n",
    "        poly_features_hold = poly.transform(holdX_scaled)\n",
    "        hold_predicted_log = poly_reg_model.predict(poly_features_hold)\n",
    "        hold_predicted = np.expm1(hold_predicted_log)  # Rücktransformation der Vorhersage\n",
    "        hold_rmse = np.sqrt(mean_squared_error(np.expm1(holdY_log), hold_predicted))  # Log-transformierte Y-Werte zurücktransformieren\n",
    "        err_hold.append(hold_rmse)\n",
    "\n",
    "        # Ausgabe der Zwischenergebnisse\n",
    "        print(f\"Degree: {d} | Train RMSE: {train_rmse:.4f} | Holdout RMSE: {hold_rmse:.4f}\")\n",
    "        \n",
    "        # Wähle den besten Grad basierend auf dem Holdout-Fehler\n",
    "        if d - s > 1 and err_hold[min_dim - 1] > hold_rmse:\n",
    "            min_dim = d\n",
    "            best_model = (poly_reg_model, poly)\n",
    "\n",
    " # Bestes Modell mit dem optimalen Grad trainieren\n",
    "    final_model, final_poly = best_model\n",
    "    poly_features_test = final_poly.transform(testX_scaled)\n",
    "    test_predicted_log = final_model.predict(poly_features_test)\n",
    "    test_predicted = np.expm1(test_predicted_log)  # Rücktransformation der Vorhersage\n",
    "    test_rmse = np.sqrt(mean_squared_error(np.expm1(testY_log), test_predicted))  # Log-transformierte Y-Werte zurücktransformieren\n",
    "    \n",
    "    r2 = r2_score(np.expm1(testY_log), test_predicted)\n",
    "\n",
    "    print(f\"\\nBest Degree: {min_dim} | Test RMSE: {test_rmse:.4f} | Test R²: {r2:.4f}\")\n",
    "\n",
    "    if degr >= s:\n",
    "        plt.figure(figsize=(8,6))\n",
    "        plt.plot(range(s, degr+1), err_train, color='blue', label='Training')\n",
    "        plt.plot(range(s, degr + 1), err_hold, color='orange', label='Validation')\n",
    "        plt.title(\"Training vs Validation Error by Polynomial Degree\")\n",
    "        plt.xlabel(\"Polynomial Degree\")\n",
    "        plt.ylabel(\"Root Mean Squared Error (RMSE)\")\n",
    "        plt.xlim([s, degr])\n",
    "        plt.ylim([0, max(max(err_train), max(err_hold)) * 1.1]) # dynamischer y-Bereich\n",
    "        plt.legend()\n",
    "        plt.show()"
   ]
  },
  {
   "cell_type": "code",
   "execution_count": null,
   "metadata": {},
   "outputs": [],
   "source": [
    "Polynomial_Model(1, 9, trainX_scaled_1, holdX_scaled_1, testX_scaled_1, trainY_1, holdY_1, testY_1)"
   ]
  },
  {
   "cell_type": "code",
   "execution_count": null,
   "metadata": {},
   "outputs": [],
   "source": [
    "Polynomial_Model(1, 9, trainX_scaled_2, holdX_scaled_2, testX_scaled_2, trainY_2, holdY_2, testY_2)"
   ]
  },
  {
   "cell_type": "markdown",
   "metadata": {},
   "source": [
    "### **3. Neural Network Model**"
   ]
  },
  {
   "cell_type": "code",
   "execution_count": null,
   "metadata": {},
   "outputs": [],
   "source": [
    "import os\n",
    "os.environ[\"KERAS_BACKEND\"] = \"torch\"\n",
    "import keras\n",
    "from keras import Sequential # sequential model: https://keras.io/guides/sequential_model/\n",
    "from keras.layers import Dense, Dropout\n",
    "\n",
    "trainX_scaled, holdX_scaled, testX_scaled, trainY, holdY, testY = preprocess_model(df_train_1, df_hold_1, df_test_1, merged_prediction_df_1)\n",
    "\n",
    "# Log-transform the target variable\n",
    "trainY_nn = trainY / 100\n",
    "holdY_nn = holdY / 100\n",
    "testY_nn = testY / 100\n",
    "\n",
    "    # initializig artificial neural network\n",
    "    # one hidden layer\n",
    "model = Sequential([\n",
    "    Dense(64, activation='relu', input_shape=(trainX_scaled.shape[1],)),\n",
    "    Dropout(rate=0.2),\n",
    "    Dense(32, activation='relu'),\n",
    "    Dropout(rate=0.2),\n",
    "    Dense(1, activation='sigmoid')  # Output layer for regression\n",
    "])\n",
    "\n",
    "    #compiling the ANN\n",
    "model.compile(optimizer='adam', loss='mse', metrics=['mae', 'mse'])\n",
    "\n",
    "    #train the model\n",
    "history = model.fit(\n",
    "    trainX_scaled, trainY_nn,\n",
    "    validation_data=(testX_scaled, testY_nn),\n",
    "    epochs=100,\n",
    "    batch_size=64,\n",
    "    verbose=1\n",
    ")\n",
    "\n",
    "history_df = pd.DataFrame(history.history)\n",
    "root_metrics_df = history_df[[\"mse\", \"val_mse\"]].apply(np.sqrt)\n",
    "root_metrics_df.rename({\"mse\":\"rmse\", \"val_mse\":\"val_rmse\"}, axis=1, inplace=True)"
   ]
  },
  {
   "cell_type": "code",
   "execution_count": null,
   "metadata": {},
   "outputs": [],
   "source": [
    "y_pred_scaled = model.predict(testX_scaled)\n",
    "y_pred = y_pred_scaled * 100\n",
    "y_pred_nn = np.clip(y_pred, 0 , 100)"
   ]
  },
  {
   "cell_type": "code",
   "execution_count": null,
   "metadata": {},
   "outputs": [],
   "source": [
    "mse_nn = mean_squared_error(testY, y_pred_nn)  \n",
    "r2_nn = r2_score(testY, y_pred_nn)\n",
    "print(\"Neural Network - Mean Squared Error:\", mse_nn)\n",
    "print(\"Neural Network - R-squared Score:\", r2_nn)"
   ]
  },
  {
   "cell_type": "code",
   "execution_count": null,
   "metadata": {},
   "outputs": [],
   "source": [
    "# Plotting ground truth vs predictions\n",
    "plt.figure(figsize=(10, 6))\n",
    "plt.scatter(testY, y_pred_nn, alpha=0.6, color='dodgerblue', label='Predictions')\n",
    "plt.plot([0, 100], [0, 100], color='red', linestyle='--', label='Perfect Fit (y=x)')\n",
    "plt.title(\"Prediction Accuracy of Neural Network\")\n",
    "plt.xlabel(\"True Values (testY)\")\n",
    "plt.ylabel(\"Predicted Values (y_pred_nn)\")\n",
    "plt.legend()\n",
    "plt.grid(alpha=0.3)\n",
    "plt.show()"
   ]
  },
  {
   "cell_type": "code",
   "execution_count": null,
   "metadata": {},
   "outputs": [],
   "source": [
    "# Plot Actual vs Predicted Utilization\n",
    "plt.figure(figsize=(10, 6))\n",
    "plt.scatter(range(len(testY)), testY , label=\"Actual Utilization\", alpha=0.6)\n",
    "plt.scatter(range(len(y_pred_nn)), y_pred_nn, label=\"Predicted Utilization (NN)\", alpha=0.6, color='orange')\n",
    "plt.legend()\n",
    "plt.xlabel(\"Sample Index\")\n",
    "plt.ylabel(\"Utilization\")\n",
    "plt.title(\"Actual vs. Predicted Utilization (Neural Network)\")\n",
    "plt.show()"
   ]
  },
  {
   "cell_type": "code",
   "execution_count": null,
   "metadata": {},
   "outputs": [],
   "source": [
    "testY = testY.values.ravel()  # Converts to 1D array\n",
    "y_pred_nn = y_pred_nn.ravel()  # Converts to 1D array\n",
    "residuals = testY - y_pred_nn\n",
    "\n",
    "# Residuals Plot\n",
    "plt.figure(figsize=(9, 6))\n",
    "sns.scatterplot(x=testY, y=residuals, alpha=0.6, color='purple')\n",
    "plt.axhline(0, color='red', linestyle='--', label='Zero Error Line')\n",
    "plt.title(\"Residuals Plot: Prediction Errors\")\n",
    "plt.xlabel(\"True Values (testY)\")\n",
    "plt.ylabel(\"Residuals (testY - y_pred_nn)\")\n",
    "plt.legend()\n",
    "plt.grid(alpha=0.3)\n",
    "plt.show()"
   ]
  }
 ],
 "metadata": {
  "kernelspec": {
   "display_name": "Python 3 (ipykernel)",
   "language": "python",
   "name": "python3"
  },
  "language_info": {
   "codemirror_mode": {
    "name": "ipython",
    "version": 3
   },
   "file_extension": ".py",
   "mimetype": "text/x-python",
   "name": "python",
   "nbconvert_exporter": "python",
   "pygments_lexer": "ipython3",
   "version": "3.12.2"
  }
 },
 "nbformat": 4,
 "nbformat_minor": 4
}
