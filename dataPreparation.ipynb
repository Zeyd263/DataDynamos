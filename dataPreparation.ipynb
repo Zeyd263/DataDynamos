{
 "cells": [
  {
   "cell_type": "markdown",
   "metadata": {},
   "source": [
    "Importing necessary libraries"
   ]
  },
  {
   "cell_type": "code",
   "execution_count": null,
   "metadata": {},
   "outputs": [],
   "source": [
    "import matplotlib.pyplot as plt\n",
    "import numpy as np \n",
    "import pandas as pd\n",
    "\n"
   ]
  },
  {
   "cell_type": "markdown",
   "metadata": {},
   "source": [
    "The first step in exploratory analysis is reading in the data and then exploring \n",
    "the variables. It is important to get a sense of how many variables and cases there are, \n",
    "the data types of the variables and the range of values they take on."
   ]
  },
  {
   "cell_type": "code",
   "execution_count": 2,
   "metadata": {},
   "outputs": [],
   "source": [
    "weather_airport = pd.read_csv('~/Documents/AA_Test/input/weather_burbank_airport.csv') \n",
    "charging_session = pd.read_csv('~/Documents/AA_Test/input/charging_sessions.csv')"
   ]
  },
  {
   "cell_type": "markdown",
   "metadata": {},
   "source": [
    "---------------------------------------------------------------------------------------------"
   ]
  },
  {
   "cell_type": "markdown",
   "metadata": {},
   "source": [
    "checking the dimensions with shape and the variable data types with dtypes - weather"
   ]
  },
  {
   "cell_type": "code",
   "execution_count": 3,
   "metadata": {},
   "outputs": [
    {
     "data": {
      "text/plain": [
       "(29244, 9)"
      ]
     },
     "execution_count": 3,
     "metadata": {},
     "output_type": "execute_result"
    }
   ],
   "source": [
    "weather_airport.shape "
   ]
  },
  {
   "cell_type": "code",
   "execution_count": 4,
   "metadata": {},
   "outputs": [
    {
     "data": {
      "text/plain": [
       "city                        object\n",
       "timestamp                   object\n",
       "temperature                float64\n",
       "cloud_cover                float64\n",
       "cloud_cover_description     object\n",
       "pressure                   float64\n",
       "windspeed                  float64\n",
       "precipitation              float64\n",
       "felt_temperature           float64\n",
       "dtype: object"
      ]
     },
     "execution_count": 4,
     "metadata": {},
     "output_type": "execute_result"
    }
   ],
   "source": [
    "weather_airport.dtypes "
   ]
  },
  {
   "cell_type": "markdown",
   "metadata": {},
   "source": [
    "checking the dimensions with shape and the variable data types with dtypes - charging "
   ]
  },
  {
   "cell_type": "code",
   "execution_count": 5,
   "metadata": {},
   "outputs": [
    {
     "data": {
      "text/plain": [
       "(66450, 13)"
      ]
     },
     "execution_count": 5,
     "metadata": {},
     "output_type": "execute_result"
    }
   ],
   "source": [
    "charging_session.shape "
   ]
  },
  {
   "cell_type": "code",
   "execution_count": 6,
   "metadata": {},
   "outputs": [
    {
     "data": {
      "text/plain": [
       "Unnamed: 0            int64\n",
       "id                   object\n",
       "connectionTime       object\n",
       "disconnectTime       object\n",
       "doneChargingTime     object\n",
       "kWhDelivered        float64\n",
       "sessionID            object\n",
       "siteID                int64\n",
       "spaceID              object\n",
       "stationID            object\n",
       "timezone             object\n",
       "userID              float64\n",
       "userInputs           object\n",
       "dtype: object"
      ]
     },
     "execution_count": 6,
     "metadata": {},
     "output_type": "execute_result"
    }
   ],
   "source": [
    "charging_session.dtypes "
   ]
  },
  {
   "cell_type": "markdown",
   "metadata": {},
   "source": [
    "the output shows us that we are working with a set of 29244 records and 9 columns (weather dataset). Several of the column variables are encoded as numeric data (floats) but a few of them are encoded as \"object\"."
   ]
  },
  {
   "cell_type": "markdown",
   "metadata": {},
   "source": [
    "the output shows us that we are working with a set of 66450 records and 13 columns (charging dataset). Several of the column variables are encoded as \"object\" data (floats) but a few of them are encoded as numeric data (float)."
   ]
  },
  {
   "cell_type": "markdown",
   "metadata": {},
   "source": [
    "---------------------------------------------------------------------------------------------"
   ]
  },
  {
   "cell_type": "markdown",
   "metadata": {},
   "source": [
    "Checking the first 15 rows "
   ]
  },
  {
   "cell_type": "code",
   "execution_count": 7,
   "metadata": {},
   "outputs": [
    {
     "data": {
      "text/html": [
       "<div>\n",
       "<style scoped>\n",
       "    .dataframe tbody tr th:only-of-type {\n",
       "        vertical-align: middle;\n",
       "    }\n",
       "\n",
       "    .dataframe tbody tr th {\n",
       "        vertical-align: top;\n",
       "    }\n",
       "\n",
       "    .dataframe thead th {\n",
       "        text-align: right;\n",
       "    }\n",
       "</style>\n",
       "<table border=\"1\" class=\"dataframe\">\n",
       "  <thead>\n",
       "    <tr style=\"text-align: right;\">\n",
       "      <th></th>\n",
       "      <th>city</th>\n",
       "      <th>timestamp</th>\n",
       "      <th>temperature</th>\n",
       "      <th>cloud_cover</th>\n",
       "      <th>cloud_cover_description</th>\n",
       "      <th>pressure</th>\n",
       "      <th>windspeed</th>\n",
       "      <th>precipitation</th>\n",
       "      <th>felt_temperature</th>\n",
       "    </tr>\n",
       "  </thead>\n",
       "  <tbody>\n",
       "    <tr>\n",
       "      <th>0</th>\n",
       "      <td>Burbank</td>\n",
       "      <td>2018-01-01 08:53:00</td>\n",
       "      <td>9.0</td>\n",
       "      <td>33.0</td>\n",
       "      <td>Fair</td>\n",
       "      <td>991.75</td>\n",
       "      <td>9.0</td>\n",
       "      <td>0.0</td>\n",
       "      <td>8.0</td>\n",
       "    </tr>\n",
       "    <tr>\n",
       "      <th>1</th>\n",
       "      <td>Burbank</td>\n",
       "      <td>2018-01-01 09:53:00</td>\n",
       "      <td>9.0</td>\n",
       "      <td>33.0</td>\n",
       "      <td>Fair</td>\n",
       "      <td>992.08</td>\n",
       "      <td>0.0</td>\n",
       "      <td>0.0</td>\n",
       "      <td>9.0</td>\n",
       "    </tr>\n",
       "    <tr>\n",
       "      <th>2</th>\n",
       "      <td>Burbank</td>\n",
       "      <td>2018-01-01 10:53:00</td>\n",
       "      <td>9.0</td>\n",
       "      <td>21.0</td>\n",
       "      <td>Haze</td>\n",
       "      <td>992.08</td>\n",
       "      <td>0.0</td>\n",
       "      <td>0.0</td>\n",
       "      <td>9.0</td>\n",
       "    </tr>\n",
       "    <tr>\n",
       "      <th>3</th>\n",
       "      <td>Burbank</td>\n",
       "      <td>2018-01-01 11:53:00</td>\n",
       "      <td>9.0</td>\n",
       "      <td>29.0</td>\n",
       "      <td>Partly Cloudy</td>\n",
       "      <td>992.08</td>\n",
       "      <td>0.0</td>\n",
       "      <td>0.0</td>\n",
       "      <td>9.0</td>\n",
       "    </tr>\n",
       "    <tr>\n",
       "      <th>4</th>\n",
       "      <td>Burbank</td>\n",
       "      <td>2018-01-01 12:53:00</td>\n",
       "      <td>8.0</td>\n",
       "      <td>33.0</td>\n",
       "      <td>Fair</td>\n",
       "      <td>992.08</td>\n",
       "      <td>0.0</td>\n",
       "      <td>0.0</td>\n",
       "      <td>8.0</td>\n",
       "    </tr>\n",
       "    <tr>\n",
       "      <th>5</th>\n",
       "      <td>Burbank</td>\n",
       "      <td>2018-01-01 13:53:00</td>\n",
       "      <td>8.0</td>\n",
       "      <td>33.0</td>\n",
       "      <td>Fair</td>\n",
       "      <td>992.08</td>\n",
       "      <td>0.0</td>\n",
       "      <td>0.0</td>\n",
       "      <td>8.0</td>\n",
       "    </tr>\n",
       "    <tr>\n",
       "      <th>6</th>\n",
       "      <td>Burbank</td>\n",
       "      <td>2018-01-01 14:53:00</td>\n",
       "      <td>7.0</td>\n",
       "      <td>30.0</td>\n",
       "      <td>Partly Cloudy</td>\n",
       "      <td>992.08</td>\n",
       "      <td>0.0</td>\n",
       "      <td>0.0</td>\n",
       "      <td>7.0</td>\n",
       "    </tr>\n",
       "    <tr>\n",
       "      <th>7</th>\n",
       "      <td>Burbank</td>\n",
       "      <td>2018-01-01 15:53:00</td>\n",
       "      <td>8.0</td>\n",
       "      <td>34.0</td>\n",
       "      <td>Fair</td>\n",
       "      <td>992.41</td>\n",
       "      <td>0.0</td>\n",
       "      <td>0.0</td>\n",
       "      <td>8.0</td>\n",
       "    </tr>\n",
       "    <tr>\n",
       "      <th>8</th>\n",
       "      <td>Burbank</td>\n",
       "      <td>2018-01-01 16:53:00</td>\n",
       "      <td>12.0</td>\n",
       "      <td>34.0</td>\n",
       "      <td>Fair</td>\n",
       "      <td>993.39</td>\n",
       "      <td>0.0</td>\n",
       "      <td>0.0</td>\n",
       "      <td>12.0</td>\n",
       "    </tr>\n",
       "    <tr>\n",
       "      <th>9</th>\n",
       "      <td>Burbank</td>\n",
       "      <td>2018-01-01 17:53:00</td>\n",
       "      <td>16.0</td>\n",
       "      <td>34.0</td>\n",
       "      <td>Fair</td>\n",
       "      <td>994.05</td>\n",
       "      <td>0.0</td>\n",
       "      <td>0.0</td>\n",
       "      <td>16.0</td>\n",
       "    </tr>\n",
       "    <tr>\n",
       "      <th>10</th>\n",
       "      <td>Burbank</td>\n",
       "      <td>2018-01-01 18:53:00</td>\n",
       "      <td>19.0</td>\n",
       "      <td>34.0</td>\n",
       "      <td>Fair</td>\n",
       "      <td>993.72</td>\n",
       "      <td>0.0</td>\n",
       "      <td>0.0</td>\n",
       "      <td>19.0</td>\n",
       "    </tr>\n",
       "    <tr>\n",
       "      <th>11</th>\n",
       "      <td>Burbank</td>\n",
       "      <td>2018-01-01 19:53:00</td>\n",
       "      <td>21.0</td>\n",
       "      <td>34.0</td>\n",
       "      <td>Fair</td>\n",
       "      <td>992.41</td>\n",
       "      <td>7.0</td>\n",
       "      <td>0.0</td>\n",
       "      <td>21.0</td>\n",
       "    </tr>\n",
       "    <tr>\n",
       "      <th>12</th>\n",
       "      <td>Burbank</td>\n",
       "      <td>2018-01-01 20:53:00</td>\n",
       "      <td>22.0</td>\n",
       "      <td>34.0</td>\n",
       "      <td>Fair</td>\n",
       "      <td>991.09</td>\n",
       "      <td>0.0</td>\n",
       "      <td>0.0</td>\n",
       "      <td>22.0</td>\n",
       "    </tr>\n",
       "    <tr>\n",
       "      <th>13</th>\n",
       "      <td>Burbank</td>\n",
       "      <td>2018-01-01 21:53:00</td>\n",
       "      <td>23.0</td>\n",
       "      <td>34.0</td>\n",
       "      <td>Fair</td>\n",
       "      <td>990.10</td>\n",
       "      <td>6.0</td>\n",
       "      <td>0.0</td>\n",
       "      <td>23.0</td>\n",
       "    </tr>\n",
       "    <tr>\n",
       "      <th>14</th>\n",
       "      <td>Burbank</td>\n",
       "      <td>2018-01-01 22:53:00</td>\n",
       "      <td>23.0</td>\n",
       "      <td>34.0</td>\n",
       "      <td>Fair</td>\n",
       "      <td>990.43</td>\n",
       "      <td>7.0</td>\n",
       "      <td>0.0</td>\n",
       "      <td>23.0</td>\n",
       "    </tr>\n",
       "  </tbody>\n",
       "</table>\n",
       "</div>"
      ],
      "text/plain": [
       "       city            timestamp  temperature  cloud_cover  \\\n",
       "0   Burbank  2018-01-01 08:53:00          9.0         33.0   \n",
       "1   Burbank  2018-01-01 09:53:00          9.0         33.0   \n",
       "2   Burbank  2018-01-01 10:53:00          9.0         21.0   \n",
       "3   Burbank  2018-01-01 11:53:00          9.0         29.0   \n",
       "4   Burbank  2018-01-01 12:53:00          8.0         33.0   \n",
       "5   Burbank  2018-01-01 13:53:00          8.0         33.0   \n",
       "6   Burbank  2018-01-01 14:53:00          7.0         30.0   \n",
       "7   Burbank  2018-01-01 15:53:00          8.0         34.0   \n",
       "8   Burbank  2018-01-01 16:53:00         12.0         34.0   \n",
       "9   Burbank  2018-01-01 17:53:00         16.0         34.0   \n",
       "10  Burbank  2018-01-01 18:53:00         19.0         34.0   \n",
       "11  Burbank  2018-01-01 19:53:00         21.0         34.0   \n",
       "12  Burbank  2018-01-01 20:53:00         22.0         34.0   \n",
       "13  Burbank  2018-01-01 21:53:00         23.0         34.0   \n",
       "14  Burbank  2018-01-01 22:53:00         23.0         34.0   \n",
       "\n",
       "   cloud_cover_description  pressure  windspeed  precipitation  \\\n",
       "0                     Fair    991.75        9.0            0.0   \n",
       "1                     Fair    992.08        0.0            0.0   \n",
       "2                     Haze    992.08        0.0            0.0   \n",
       "3            Partly Cloudy    992.08        0.0            0.0   \n",
       "4                     Fair    992.08        0.0            0.0   \n",
       "5                     Fair    992.08        0.0            0.0   \n",
       "6            Partly Cloudy    992.08        0.0            0.0   \n",
       "7                     Fair    992.41        0.0            0.0   \n",
       "8                     Fair    993.39        0.0            0.0   \n",
       "9                     Fair    994.05        0.0            0.0   \n",
       "10                    Fair    993.72        0.0            0.0   \n",
       "11                    Fair    992.41        7.0            0.0   \n",
       "12                    Fair    991.09        0.0            0.0   \n",
       "13                    Fair    990.10        6.0            0.0   \n",
       "14                    Fair    990.43        7.0            0.0   \n",
       "\n",
       "    felt_temperature  \n",
       "0                8.0  \n",
       "1                9.0  \n",
       "2                9.0  \n",
       "3                9.0  \n",
       "4                8.0  \n",
       "5                8.0  \n",
       "6                7.0  \n",
       "7                8.0  \n",
       "8               12.0  \n",
       "9               16.0  \n",
       "10              19.0  \n",
       "11              21.0  \n",
       "12              22.0  \n",
       "13              23.0  \n",
       "14              23.0  "
      ]
     },
     "execution_count": 7,
     "metadata": {},
     "output_type": "execute_result"
    }
   ],
   "source": [
    "weather_airport.head(15)"
   ]
  },
  {
   "cell_type": "code",
   "execution_count": 8,
   "metadata": {},
   "outputs": [
    {
     "data": {
      "text/html": [
       "<div>\n",
       "<style scoped>\n",
       "    .dataframe tbody tr th:only-of-type {\n",
       "        vertical-align: middle;\n",
       "    }\n",
       "\n",
       "    .dataframe tbody tr th {\n",
       "        vertical-align: top;\n",
       "    }\n",
       "\n",
       "    .dataframe thead th {\n",
       "        text-align: right;\n",
       "    }\n",
       "</style>\n",
       "<table border=\"1\" class=\"dataframe\">\n",
       "  <thead>\n",
       "    <tr style=\"text-align: right;\">\n",
       "      <th></th>\n",
       "      <th>Unnamed: 0</th>\n",
       "      <th>id</th>\n",
       "      <th>connectionTime</th>\n",
       "      <th>disconnectTime</th>\n",
       "      <th>doneChargingTime</th>\n",
       "      <th>kWhDelivered</th>\n",
       "      <th>sessionID</th>\n",
       "      <th>siteID</th>\n",
       "      <th>spaceID</th>\n",
       "      <th>stationID</th>\n",
       "      <th>timezone</th>\n",
       "      <th>userID</th>\n",
       "      <th>userInputs</th>\n",
       "    </tr>\n",
       "  </thead>\n",
       "  <tbody>\n",
       "    <tr>\n",
       "      <th>0</th>\n",
       "      <td>0</td>\n",
       "      <td>5e23b149f9af8b5fe4b973cf</td>\n",
       "      <td>2020-01-02 13:08:54+00:00</td>\n",
       "      <td>2020-01-02 19:11:15+00:00</td>\n",
       "      <td>2020-01-02 17:31:35+00:00</td>\n",
       "      <td>25.016</td>\n",
       "      <td>1_1_179_810_2020-01-02 13:08:53.870034</td>\n",
       "      <td>1</td>\n",
       "      <td>AG-3F30</td>\n",
       "      <td>1-1-179-810</td>\n",
       "      <td>America/Los_Angeles</td>\n",
       "      <td>194.0</td>\n",
       "      <td>[{'WhPerMile': 250, 'kWhRequested': 25.0, 'mil...</td>\n",
       "    </tr>\n",
       "    <tr>\n",
       "      <th>1</th>\n",
       "      <td>1</td>\n",
       "      <td>5e23b149f9af8b5fe4b973d0</td>\n",
       "      <td>2020-01-02 13:36:50+00:00</td>\n",
       "      <td>2020-01-02 22:38:21+00:00</td>\n",
       "      <td>2020-01-02 20:18:05+00:00</td>\n",
       "      <td>33.097</td>\n",
       "      <td>1_1_193_825_2020-01-02 13:36:49.599853</td>\n",
       "      <td>1</td>\n",
       "      <td>AG-1F01</td>\n",
       "      <td>1-1-193-825</td>\n",
       "      <td>America/Los_Angeles</td>\n",
       "      <td>4275.0</td>\n",
       "      <td>[{'WhPerMile': 280, 'kWhRequested': 70.0, 'mil...</td>\n",
       "    </tr>\n",
       "    <tr>\n",
       "      <th>2</th>\n",
       "      <td>2</td>\n",
       "      <td>5e23b149f9af8b5fe4b973d1</td>\n",
       "      <td>2020-01-02 13:56:35+00:00</td>\n",
       "      <td>2020-01-03 00:39:22+00:00</td>\n",
       "      <td>2020-01-02 16:35:06+00:00</td>\n",
       "      <td>6.521</td>\n",
       "      <td>1_1_193_829_2020-01-02 13:56:35.214993</td>\n",
       "      <td>1</td>\n",
       "      <td>AG-1F03</td>\n",
       "      <td>1-1-193-829</td>\n",
       "      <td>America/Los_Angeles</td>\n",
       "      <td>344.0</td>\n",
       "      <td>[{'WhPerMile': 400, 'kWhRequested': 8.0, 'mile...</td>\n",
       "    </tr>\n",
       "    <tr>\n",
       "      <th>3</th>\n",
       "      <td>3</td>\n",
       "      <td>5e23b149f9af8b5fe4b973d2</td>\n",
       "      <td>2020-01-02 13:59:58+00:00</td>\n",
       "      <td>2020-01-02 16:38:39+00:00</td>\n",
       "      <td>2020-01-02 15:18:45+00:00</td>\n",
       "      <td>2.355</td>\n",
       "      <td>1_1_193_820_2020-01-02 13:59:58.309319</td>\n",
       "      <td>1</td>\n",
       "      <td>AG-1F04</td>\n",
       "      <td>1-1-193-820</td>\n",
       "      <td>America/Los_Angeles</td>\n",
       "      <td>1117.0</td>\n",
       "      <td>[{'WhPerMile': 400, 'kWhRequested': 8.0, 'mile...</td>\n",
       "    </tr>\n",
       "    <tr>\n",
       "      <th>4</th>\n",
       "      <td>4</td>\n",
       "      <td>5e23b149f9af8b5fe4b973d3</td>\n",
       "      <td>2020-01-02 14:00:01+00:00</td>\n",
       "      <td>2020-01-02 22:08:40+00:00</td>\n",
       "      <td>2020-01-02 18:17:30+00:00</td>\n",
       "      <td>13.375</td>\n",
       "      <td>1_1_193_819_2020-01-02 14:00:00.779967</td>\n",
       "      <td>1</td>\n",
       "      <td>AG-1F06</td>\n",
       "      <td>1-1-193-819</td>\n",
       "      <td>America/Los_Angeles</td>\n",
       "      <td>334.0</td>\n",
       "      <td>[{'WhPerMile': 400, 'kWhRequested': 16.0, 'mil...</td>\n",
       "    </tr>\n",
       "    <tr>\n",
       "      <th>5</th>\n",
       "      <td>5</td>\n",
       "      <td>5e23b149f9af8b5fe4b973d4</td>\n",
       "      <td>2020-01-02 14:00:13+00:00</td>\n",
       "      <td>2020-01-02 23:00:41+00:00</td>\n",
       "      <td>2020-01-02 20:13:21+00:00</td>\n",
       "      <td>13.370</td>\n",
       "      <td>1_1_194_821_2020-01-02 14:00:05.241573</td>\n",
       "      <td>1</td>\n",
       "      <td>AG-1F13</td>\n",
       "      <td>1-1-194-821</td>\n",
       "      <td>America/Los_Angeles</td>\n",
       "      <td>3519.0</td>\n",
       "      <td>[{'WhPerMile': 600, 'kWhRequested': 24.0, 'mil...</td>\n",
       "    </tr>\n",
       "    <tr>\n",
       "      <th>6</th>\n",
       "      <td>6</td>\n",
       "      <td>5e23b149f9af8b5fe4b973d5</td>\n",
       "      <td>2020-01-02 14:09:14+00:00</td>\n",
       "      <td>2020-01-03 01:57:58+00:00</td>\n",
       "      <td>2020-01-03 00:59:21+00:00</td>\n",
       "      <td>43.477</td>\n",
       "      <td>1_1_178_817_2020-01-02 14:09:14.451827</td>\n",
       "      <td>1</td>\n",
       "      <td>AG-1F09</td>\n",
       "      <td>1-1-178-817</td>\n",
       "      <td>America/Los_Angeles</td>\n",
       "      <td>933.0</td>\n",
       "      <td>[{'WhPerMile': 385, 'kWhRequested': 65.45, 'mi...</td>\n",
       "    </tr>\n",
       "    <tr>\n",
       "      <th>7</th>\n",
       "      <td>7</td>\n",
       "      <td>5e23b149f9af8b5fe4b973d6</td>\n",
       "      <td>2020-01-02 14:17:32+00:00</td>\n",
       "      <td>2020-01-03 00:44:54+00:00</td>\n",
       "      <td>2020-01-02 20:22:40+00:00</td>\n",
       "      <td>32.441</td>\n",
       "      <td>1_1_191_804_2020-01-02 14:17:32.329535</td>\n",
       "      <td>1</td>\n",
       "      <td>AG-4F34</td>\n",
       "      <td>1-1-191-804</td>\n",
       "      <td>America/Los_Angeles</td>\n",
       "      <td>3737.0</td>\n",
       "      <td>[{'WhPerMile': 300, 'kWhRequested': 45.0, 'mil...</td>\n",
       "    </tr>\n",
       "    <tr>\n",
       "      <th>8</th>\n",
       "      <td>8</td>\n",
       "      <td>5e23b149f9af8b5fe4b973d7</td>\n",
       "      <td>2020-01-02 14:25:38+00:00</td>\n",
       "      <td>2020-01-02 19:36:05+00:00</td>\n",
       "      <td>2020-01-02 18:38:39+00:00</td>\n",
       "      <td>13.264</td>\n",
       "      <td>1_1_194_826_2020-01-02 14:25:37.578692</td>\n",
       "      <td>1</td>\n",
       "      <td>AG-1F11</td>\n",
       "      <td>1-1-194-826</td>\n",
       "      <td>America/Los_Angeles</td>\n",
       "      <td>419.0</td>\n",
       "      <td>[{'WhPerMile': 400, 'kWhRequested': 40.0, 'mil...</td>\n",
       "    </tr>\n",
       "    <tr>\n",
       "      <th>9</th>\n",
       "      <td>9</td>\n",
       "      <td>5e23b149f9af8b5fe4b973d8</td>\n",
       "      <td>2020-01-02 14:27:40+00:00</td>\n",
       "      <td>2020-01-02 20:01:48+00:00</td>\n",
       "      <td>2020-01-02 19:17:46+00:00</td>\n",
       "      <td>13.285</td>\n",
       "      <td>1_1_178_823_2020-01-02 14:27:39.582337</td>\n",
       "      <td>1</td>\n",
       "      <td>AG-1F08</td>\n",
       "      <td>1-1-178-823</td>\n",
       "      <td>America/Los_Angeles</td>\n",
       "      <td>651.0</td>\n",
       "      <td>[{'WhPerMile': 400, 'kWhRequested': 20.0, 'mil...</td>\n",
       "    </tr>\n",
       "    <tr>\n",
       "      <th>10</th>\n",
       "      <td>10</td>\n",
       "      <td>5e23b149f9af8b5fe4b973d9</td>\n",
       "      <td>2020-01-02 14:30:45+00:00</td>\n",
       "      <td>2020-01-03 00:06:42+00:00</td>\n",
       "      <td>2020-01-02 17:33:07+00:00</td>\n",
       "      <td>11.633</td>\n",
       "      <td>1_1_179_788_2020-01-02 14:30:45.474776</td>\n",
       "      <td>1</td>\n",
       "      <td>AG-3F22</td>\n",
       "      <td>1-1-179-788</td>\n",
       "      <td>America/Los_Angeles</td>\n",
       "      <td>2020.0</td>\n",
       "      <td>[{'WhPerMile': 400, 'kWhRequested': 32.0, 'mil...</td>\n",
       "    </tr>\n",
       "    <tr>\n",
       "      <th>11</th>\n",
       "      <td>11</td>\n",
       "      <td>5e23b149f9af8b5fe4b973da</td>\n",
       "      <td>2020-01-02 15:04:38+00:00</td>\n",
       "      <td>2020-01-02 23:33:26+00:00</td>\n",
       "      <td>2020-01-02 22:48:48+00:00</td>\n",
       "      <td>0.812</td>\n",
       "      <td>1_1_194_818_2020-01-02 15:04:37.511153</td>\n",
       "      <td>1</td>\n",
       "      <td>AG-1F14</td>\n",
       "      <td>1-1-194-818</td>\n",
       "      <td>America/Los_Angeles</td>\n",
       "      <td>NaN</td>\n",
       "      <td>NaN</td>\n",
       "    </tr>\n",
       "    <tr>\n",
       "      <th>12</th>\n",
       "      <td>12</td>\n",
       "      <td>5e23b149f9af8b5fe4b973db</td>\n",
       "      <td>2020-01-02 15:04:38+00:00</td>\n",
       "      <td>2020-01-02 22:08:39+00:00</td>\n",
       "      <td>2020-01-02 22:09:36+00:00</td>\n",
       "      <td>25.567</td>\n",
       "      <td>1_1_178_824_2020-01-02 15:04:38.051735</td>\n",
       "      <td>1</td>\n",
       "      <td>AG-1F07</td>\n",
       "      <td>1-1-178-824</td>\n",
       "      <td>America/Los_Angeles</td>\n",
       "      <td>528.0</td>\n",
       "      <td>[{'WhPerMile': 250, 'kWhRequested': 50.0, 'mil...</td>\n",
       "    </tr>\n",
       "    <tr>\n",
       "      <th>13</th>\n",
       "      <td>13</td>\n",
       "      <td>5e23b149f9af8b5fe4b973dc</td>\n",
       "      <td>2020-01-02 15:15:27+00:00</td>\n",
       "      <td>2020-01-02 23:55:10+00:00</td>\n",
       "      <td>2020-01-02 22:01:53+00:00</td>\n",
       "      <td>39.806</td>\n",
       "      <td>1_1_194_822_2020-01-02 15:15:26.800815</td>\n",
       "      <td>1</td>\n",
       "      <td>AG-1F12</td>\n",
       "      <td>1-1-194-822</td>\n",
       "      <td>America/Los_Angeles</td>\n",
       "      <td>500.0</td>\n",
       "      <td>[{'WhPerMile': 400, 'kWhRequested': 64.0, 'mil...</td>\n",
       "    </tr>\n",
       "    <tr>\n",
       "      <th>14</th>\n",
       "      <td>14</td>\n",
       "      <td>5e23b149f9af8b5fe4b973dd</td>\n",
       "      <td>2020-01-02 15:19:05+00:00</td>\n",
       "      <td>2020-01-02 20:23:34+00:00</td>\n",
       "      <td>2020-01-02 18:12:46+00:00</td>\n",
       "      <td>17.268</td>\n",
       "      <td>1_1_179_783_2020-01-02 15:19:05.085113</td>\n",
       "      <td>1</td>\n",
       "      <td>AG-3F29</td>\n",
       "      <td>1-1-179-783</td>\n",
       "      <td>America/Los_Angeles</td>\n",
       "      <td>2678.0</td>\n",
       "      <td>[{'WhPerMile': 250, 'kWhRequested': 42.5, 'mil...</td>\n",
       "    </tr>\n",
       "  </tbody>\n",
       "</table>\n",
       "</div>"
      ],
      "text/plain": [
       "    Unnamed: 0                        id             connectionTime  \\\n",
       "0            0  5e23b149f9af8b5fe4b973cf  2020-01-02 13:08:54+00:00   \n",
       "1            1  5e23b149f9af8b5fe4b973d0  2020-01-02 13:36:50+00:00   \n",
       "2            2  5e23b149f9af8b5fe4b973d1  2020-01-02 13:56:35+00:00   \n",
       "3            3  5e23b149f9af8b5fe4b973d2  2020-01-02 13:59:58+00:00   \n",
       "4            4  5e23b149f9af8b5fe4b973d3  2020-01-02 14:00:01+00:00   \n",
       "5            5  5e23b149f9af8b5fe4b973d4  2020-01-02 14:00:13+00:00   \n",
       "6            6  5e23b149f9af8b5fe4b973d5  2020-01-02 14:09:14+00:00   \n",
       "7            7  5e23b149f9af8b5fe4b973d6  2020-01-02 14:17:32+00:00   \n",
       "8            8  5e23b149f9af8b5fe4b973d7  2020-01-02 14:25:38+00:00   \n",
       "9            9  5e23b149f9af8b5fe4b973d8  2020-01-02 14:27:40+00:00   \n",
       "10          10  5e23b149f9af8b5fe4b973d9  2020-01-02 14:30:45+00:00   \n",
       "11          11  5e23b149f9af8b5fe4b973da  2020-01-02 15:04:38+00:00   \n",
       "12          12  5e23b149f9af8b5fe4b973db  2020-01-02 15:04:38+00:00   \n",
       "13          13  5e23b149f9af8b5fe4b973dc  2020-01-02 15:15:27+00:00   \n",
       "14          14  5e23b149f9af8b5fe4b973dd  2020-01-02 15:19:05+00:00   \n",
       "\n",
       "               disconnectTime           doneChargingTime  kWhDelivered  \\\n",
       "0   2020-01-02 19:11:15+00:00  2020-01-02 17:31:35+00:00        25.016   \n",
       "1   2020-01-02 22:38:21+00:00  2020-01-02 20:18:05+00:00        33.097   \n",
       "2   2020-01-03 00:39:22+00:00  2020-01-02 16:35:06+00:00         6.521   \n",
       "3   2020-01-02 16:38:39+00:00  2020-01-02 15:18:45+00:00         2.355   \n",
       "4   2020-01-02 22:08:40+00:00  2020-01-02 18:17:30+00:00        13.375   \n",
       "5   2020-01-02 23:00:41+00:00  2020-01-02 20:13:21+00:00        13.370   \n",
       "6   2020-01-03 01:57:58+00:00  2020-01-03 00:59:21+00:00        43.477   \n",
       "7   2020-01-03 00:44:54+00:00  2020-01-02 20:22:40+00:00        32.441   \n",
       "8   2020-01-02 19:36:05+00:00  2020-01-02 18:38:39+00:00        13.264   \n",
       "9   2020-01-02 20:01:48+00:00  2020-01-02 19:17:46+00:00        13.285   \n",
       "10  2020-01-03 00:06:42+00:00  2020-01-02 17:33:07+00:00        11.633   \n",
       "11  2020-01-02 23:33:26+00:00  2020-01-02 22:48:48+00:00         0.812   \n",
       "12  2020-01-02 22:08:39+00:00  2020-01-02 22:09:36+00:00        25.567   \n",
       "13  2020-01-02 23:55:10+00:00  2020-01-02 22:01:53+00:00        39.806   \n",
       "14  2020-01-02 20:23:34+00:00  2020-01-02 18:12:46+00:00        17.268   \n",
       "\n",
       "                                 sessionID  siteID  spaceID    stationID  \\\n",
       "0   1_1_179_810_2020-01-02 13:08:53.870034       1  AG-3F30  1-1-179-810   \n",
       "1   1_1_193_825_2020-01-02 13:36:49.599853       1  AG-1F01  1-1-193-825   \n",
       "2   1_1_193_829_2020-01-02 13:56:35.214993       1  AG-1F03  1-1-193-829   \n",
       "3   1_1_193_820_2020-01-02 13:59:58.309319       1  AG-1F04  1-1-193-820   \n",
       "4   1_1_193_819_2020-01-02 14:00:00.779967       1  AG-1F06  1-1-193-819   \n",
       "5   1_1_194_821_2020-01-02 14:00:05.241573       1  AG-1F13  1-1-194-821   \n",
       "6   1_1_178_817_2020-01-02 14:09:14.451827       1  AG-1F09  1-1-178-817   \n",
       "7   1_1_191_804_2020-01-02 14:17:32.329535       1  AG-4F34  1-1-191-804   \n",
       "8   1_1_194_826_2020-01-02 14:25:37.578692       1  AG-1F11  1-1-194-826   \n",
       "9   1_1_178_823_2020-01-02 14:27:39.582337       1  AG-1F08  1-1-178-823   \n",
       "10  1_1_179_788_2020-01-02 14:30:45.474776       1  AG-3F22  1-1-179-788   \n",
       "11  1_1_194_818_2020-01-02 15:04:37.511153       1  AG-1F14  1-1-194-818   \n",
       "12  1_1_178_824_2020-01-02 15:04:38.051735       1  AG-1F07  1-1-178-824   \n",
       "13  1_1_194_822_2020-01-02 15:15:26.800815       1  AG-1F12  1-1-194-822   \n",
       "14  1_1_179_783_2020-01-02 15:19:05.085113       1  AG-3F29  1-1-179-783   \n",
       "\n",
       "               timezone  userID  \\\n",
       "0   America/Los_Angeles   194.0   \n",
       "1   America/Los_Angeles  4275.0   \n",
       "2   America/Los_Angeles   344.0   \n",
       "3   America/Los_Angeles  1117.0   \n",
       "4   America/Los_Angeles   334.0   \n",
       "5   America/Los_Angeles  3519.0   \n",
       "6   America/Los_Angeles   933.0   \n",
       "7   America/Los_Angeles  3737.0   \n",
       "8   America/Los_Angeles   419.0   \n",
       "9   America/Los_Angeles   651.0   \n",
       "10  America/Los_Angeles  2020.0   \n",
       "11  America/Los_Angeles     NaN   \n",
       "12  America/Los_Angeles   528.0   \n",
       "13  America/Los_Angeles   500.0   \n",
       "14  America/Los_Angeles  2678.0   \n",
       "\n",
       "                                           userInputs  \n",
       "0   [{'WhPerMile': 250, 'kWhRequested': 25.0, 'mil...  \n",
       "1   [{'WhPerMile': 280, 'kWhRequested': 70.0, 'mil...  \n",
       "2   [{'WhPerMile': 400, 'kWhRequested': 8.0, 'mile...  \n",
       "3   [{'WhPerMile': 400, 'kWhRequested': 8.0, 'mile...  \n",
       "4   [{'WhPerMile': 400, 'kWhRequested': 16.0, 'mil...  \n",
       "5   [{'WhPerMile': 600, 'kWhRequested': 24.0, 'mil...  \n",
       "6   [{'WhPerMile': 385, 'kWhRequested': 65.45, 'mi...  \n",
       "7   [{'WhPerMile': 300, 'kWhRequested': 45.0, 'mil...  \n",
       "8   [{'WhPerMile': 400, 'kWhRequested': 40.0, 'mil...  \n",
       "9   [{'WhPerMile': 400, 'kWhRequested': 20.0, 'mil...  \n",
       "10  [{'WhPerMile': 400, 'kWhRequested': 32.0, 'mil...  \n",
       "11                                                NaN  \n",
       "12  [{'WhPerMile': 250, 'kWhRequested': 50.0, 'mil...  \n",
       "13  [{'WhPerMile': 400, 'kWhRequested': 64.0, 'mil...  \n",
       "14  [{'WhPerMile': 250, 'kWhRequested': 42.5, 'mil...  "
      ]
     },
     "execution_count": 8,
     "metadata": {},
     "output_type": "execute_result"
    }
   ],
   "source": [
    "charging_session.head(15)"
   ]
  },
  {
   "cell_type": "markdown",
   "metadata": {},
   "source": [
    "---------------------------------------------------------------------------------------------"
   ]
  },
  {
   "cell_type": "markdown",
   "metadata": {},
   "source": [
    "Statistical summary of the variables with describe()"
   ]
  },
  {
   "cell_type": "code",
   "execution_count": 9,
   "metadata": {},
   "outputs": [
    {
     "data": {
      "text/html": [
       "<div>\n",
       "<style scoped>\n",
       "    .dataframe tbody tr th:only-of-type {\n",
       "        vertical-align: middle;\n",
       "    }\n",
       "\n",
       "    .dataframe tbody tr th {\n",
       "        vertical-align: top;\n",
       "    }\n",
       "\n",
       "    .dataframe thead th {\n",
       "        text-align: right;\n",
       "    }\n",
       "</style>\n",
       "<table border=\"1\" class=\"dataframe\">\n",
       "  <thead>\n",
       "    <tr style=\"text-align: right;\">\n",
       "      <th></th>\n",
       "      <th>temperature</th>\n",
       "      <th>cloud_cover</th>\n",
       "      <th>pressure</th>\n",
       "      <th>windspeed</th>\n",
       "      <th>precipitation</th>\n",
       "      <th>felt_temperature</th>\n",
       "    </tr>\n",
       "  </thead>\n",
       "  <tbody>\n",
       "    <tr>\n",
       "      <th>count</th>\n",
       "      <td>29219.000000</td>\n",
       "      <td>29224.000000</td>\n",
       "      <td>29236.000000</td>\n",
       "      <td>29158.000000</td>\n",
       "      <td>29244.000000</td>\n",
       "      <td>29218.000000</td>\n",
       "    </tr>\n",
       "    <tr>\n",
       "      <th>mean</th>\n",
       "      <td>17.885622</td>\n",
       "      <td>30.107993</td>\n",
       "      <td>986.879400</td>\n",
       "      <td>8.566568</td>\n",
       "      <td>0.059360</td>\n",
       "      <td>17.731433</td>\n",
       "    </tr>\n",
       "    <tr>\n",
       "      <th>std</th>\n",
       "      <td>6.454604</td>\n",
       "      <td>5.400388</td>\n",
       "      <td>3.607065</td>\n",
       "      <td>6.699889</td>\n",
       "      <td>0.471682</td>\n",
       "      <td>6.321100</td>\n",
       "    </tr>\n",
       "    <tr>\n",
       "      <th>min</th>\n",
       "      <td>2.000000</td>\n",
       "      <td>4.000000</td>\n",
       "      <td>971.000000</td>\n",
       "      <td>0.000000</td>\n",
       "      <td>0.000000</td>\n",
       "      <td>0.000000</td>\n",
       "    </tr>\n",
       "    <tr>\n",
       "      <th>25%</th>\n",
       "      <td>13.000000</td>\n",
       "      <td>26.000000</td>\n",
       "      <td>984.500000</td>\n",
       "      <td>6.000000</td>\n",
       "      <td>0.000000</td>\n",
       "      <td>13.000000</td>\n",
       "    </tr>\n",
       "    <tr>\n",
       "      <th>50%</th>\n",
       "      <td>17.000000</td>\n",
       "      <td>33.000000</td>\n",
       "      <td>986.480000</td>\n",
       "      <td>7.000000</td>\n",
       "      <td>0.000000</td>\n",
       "      <td>17.000000</td>\n",
       "    </tr>\n",
       "    <tr>\n",
       "      <th>75%</th>\n",
       "      <td>22.000000</td>\n",
       "      <td>34.000000</td>\n",
       "      <td>989.110000</td>\n",
       "      <td>13.000000</td>\n",
       "      <td>0.000000</td>\n",
       "      <td>22.000000</td>\n",
       "    </tr>\n",
       "    <tr>\n",
       "      <th>max</th>\n",
       "      <td>46.000000</td>\n",
       "      <td>47.000000</td>\n",
       "      <td>999.650000</td>\n",
       "      <td>57.000000</td>\n",
       "      <td>18.540000</td>\n",
       "      <td>42.000000</td>\n",
       "    </tr>\n",
       "  </tbody>\n",
       "</table>\n",
       "</div>"
      ],
      "text/plain": [
       "        temperature   cloud_cover      pressure     windspeed  precipitation  \\\n",
       "count  29219.000000  29224.000000  29236.000000  29158.000000   29244.000000   \n",
       "mean      17.885622     30.107993    986.879400      8.566568       0.059360   \n",
       "std        6.454604      5.400388      3.607065      6.699889       0.471682   \n",
       "min        2.000000      4.000000    971.000000      0.000000       0.000000   \n",
       "25%       13.000000     26.000000    984.500000      6.000000       0.000000   \n",
       "50%       17.000000     33.000000    986.480000      7.000000       0.000000   \n",
       "75%       22.000000     34.000000    989.110000     13.000000       0.000000   \n",
       "max       46.000000     47.000000    999.650000     57.000000      18.540000   \n",
       "\n",
       "       felt_temperature  \n",
       "count      29218.000000  \n",
       "mean          17.731433  \n",
       "std            6.321100  \n",
       "min            0.000000  \n",
       "25%           13.000000  \n",
       "50%           17.000000  \n",
       "75%           22.000000  \n",
       "max           42.000000  "
      ]
     },
     "execution_count": 9,
     "metadata": {},
     "output_type": "execute_result"
    }
   ],
   "source": [
    "weather_airport.describe()"
   ]
  },
  {
   "cell_type": "markdown",
   "metadata": {},
   "source": [
    "In weather_airport, variables like temperature and wind speed show the average values, variability, and range, indicating common weather patterns and potential outliers, such as high wind speeds."
   ]
  },
  {
   "cell_type": "code",
   "execution_count": 10,
   "metadata": {},
   "outputs": [
    {
     "data": {
      "text/html": [
       "<div>\n",
       "<style scoped>\n",
       "    .dataframe tbody tr th:only-of-type {\n",
       "        vertical-align: middle;\n",
       "    }\n",
       "\n",
       "    .dataframe tbody tr th {\n",
       "        vertical-align: top;\n",
       "    }\n",
       "\n",
       "    .dataframe thead th {\n",
       "        text-align: right;\n",
       "    }\n",
       "</style>\n",
       "<table border=\"1\" class=\"dataframe\">\n",
       "  <thead>\n",
       "    <tr style=\"text-align: right;\">\n",
       "      <th></th>\n",
       "      <th>Unnamed: 0</th>\n",
       "      <th>kWhDelivered</th>\n",
       "      <th>siteID</th>\n",
       "      <th>userID</th>\n",
       "    </tr>\n",
       "  </thead>\n",
       "  <tbody>\n",
       "    <tr>\n",
       "      <th>count</th>\n",
       "      <td>66450.000000</td>\n",
       "      <td>66450.000000</td>\n",
       "      <td>66450.000000</td>\n",
       "      <td>49187.000000</td>\n",
       "    </tr>\n",
       "    <tr>\n",
       "      <th>mean</th>\n",
       "      <td>4726.102062</td>\n",
       "      <td>11.787916</td>\n",
       "      <td>1.472656</td>\n",
       "      <td>1800.494582</td>\n",
       "    </tr>\n",
       "    <tr>\n",
       "      <th>std</th>\n",
       "      <td>3568.025394</td>\n",
       "      <td>10.314789</td>\n",
       "      <td>0.499256</td>\n",
       "      <td>2617.548614</td>\n",
       "    </tr>\n",
       "    <tr>\n",
       "      <th>min</th>\n",
       "      <td>0.000000</td>\n",
       "      <td>0.501000</td>\n",
       "      <td>1.000000</td>\n",
       "      <td>1.000000</td>\n",
       "    </tr>\n",
       "    <tr>\n",
       "      <th>25%</th>\n",
       "      <td>1845.000000</td>\n",
       "      <td>5.097000</td>\n",
       "      <td>1.000000</td>\n",
       "      <td>431.000000</td>\n",
       "    </tr>\n",
       "    <tr>\n",
       "      <th>50%</th>\n",
       "      <td>3960.000000</td>\n",
       "      <td>9.140000</td>\n",
       "      <td>1.000000</td>\n",
       "      <td>818.000000</td>\n",
       "    </tr>\n",
       "    <tr>\n",
       "      <th>75%</th>\n",
       "      <td>7027.000000</td>\n",
       "      <td>14.183000</td>\n",
       "      <td>2.000000</td>\n",
       "      <td>1805.000000</td>\n",
       "    </tr>\n",
       "    <tr>\n",
       "      <th>max</th>\n",
       "      <td>15291.000000</td>\n",
       "      <td>108.797242</td>\n",
       "      <td>2.000000</td>\n",
       "      <td>19923.000000</td>\n",
       "    </tr>\n",
       "  </tbody>\n",
       "</table>\n",
       "</div>"
      ],
      "text/plain": [
       "         Unnamed: 0  kWhDelivered        siteID        userID\n",
       "count  66450.000000  66450.000000  66450.000000  49187.000000\n",
       "mean    4726.102062     11.787916      1.472656   1800.494582\n",
       "std     3568.025394     10.314789      0.499256   2617.548614\n",
       "min        0.000000      0.501000      1.000000      1.000000\n",
       "25%     1845.000000      5.097000      1.000000    431.000000\n",
       "50%     3960.000000      9.140000      1.000000    818.000000\n",
       "75%     7027.000000     14.183000      2.000000   1805.000000\n",
       "max    15291.000000    108.797242      2.000000  19923.000000"
      ]
     },
     "execution_count": 10,
     "metadata": {},
     "output_type": "execute_result"
    }
   ],
   "source": [
    "charging_session.describe()"
   ]
  },
  {
   "cell_type": "markdown",
   "metadata": {},
   "source": [
    "In charging_session, the kWhDelivered column shows an average of 11.79 kWh per session with considerable variability, suggesting some high-energy sessions. Additionally, userID is missing for 26% of the sessions, highlighting a significant portion of anonymous or incomplete data."
   ]
  },
  {
   "cell_type": "markdown",
   "metadata": {},
   "source": [
    "Data types"
   ]
  },
  {
   "cell_type": "code",
   "execution_count": 33,
   "metadata": {},
   "outputs": [],
   "source": [
    "charging_session[['id', 'sessionID', 'siteID', 'spaceID', 'stationID', 'timezone', 'userID']] = charging_session[['id', 'sessionID', 'siteID', 'spaceID', 'stationID', 'timezone', 'userID']].astype(\"string\")"
   ]
  },
  {
   "cell_type": "code",
   "execution_count": 34,
   "metadata": {},
   "outputs": [],
   "source": [
    "# Convert multiple columns to datetime format at once\n",
    "charging_session[['connectionTime', 'disconnectTime', 'doneChargingTime']] = charging_session[['connectionTime', 'disconnectTime', 'doneChargingTime']].apply(pd.to_datetime, errors='coerce')"
   ]
  },
  {
   "cell_type": "markdown",
   "metadata": {},
   "source": [
    "What does error =' coerce' do in Python?\n",
    "If the error argument is passed as coerce , then invalid parsing will be set as NaN . If the error argument is passed as ignore , then invalid parsing will return the input.  "
   ]
  },
  {
   "cell_type": "code",
   "execution_count": 35,
   "metadata": {},
   "outputs": [
    {
     "name": "stdout",
     "output_type": "stream",
     "text": [
      "<class 'str'>\n",
      "<class 'str'>\n",
      "<class 'numpy.float64'>\n",
      "<class 'numpy.float64'>\n",
      "<class 'str'>\n",
      "<class 'numpy.float64'>\n",
      "<class 'numpy.float64'>\n",
      "<class 'numpy.float64'>\n",
      "<class 'numpy.float64'>\n"
     ]
    }
   ],
   "source": [
    "for col in weather_airport:\n",
    "    print (type(weather_airport[col][1]))"
   ]
  },
  {
   "cell_type": "code",
   "execution_count": 32,
   "metadata": {},
   "outputs": [
    {
     "name": "stdout",
     "output_type": "stream",
     "text": [
      "<class 'numpy.int64'>\n",
      "<class 'str'>\n",
      "<class 'pandas._libs.tslibs.timestamps.Timestamp'>\n",
      "<class 'pandas._libs.tslibs.timestamps.Timestamp'>\n",
      "<class 'pandas._libs.tslibs.timestamps.Timestamp'>\n",
      "<class 'numpy.float64'>\n",
      "<class 'str'>\n",
      "<class 'str'>\n",
      "<class 'str'>\n",
      "<class 'str'>\n",
      "<class 'str'>\n",
      "<class 'str'>\n",
      "<class 'str'>\n"
     ]
    }
   ],
   "source": [
    "for col in charging_session:\n",
    "    print (type(charging_session[col][1]))"
   ]
  },
  {
   "cell_type": "markdown",
   "metadata": {},
   "source": [
    "Missing data"
   ]
  },
  {
   "cell_type": "markdown",
   "metadata": {},
   "source": [
    "Checking for missing data in both datasets by counting null values in each column\n"
   ]
  },
  {
   "cell_type": "code",
   "execution_count": null,
   "metadata": {},
   "outputs": [
    {
     "name": "stdout",
     "output_type": "stream",
     "text": [
      "Unnamed: 0              0\n",
      "id                      0\n",
      "connectionTime          0\n",
      "disconnectTime          0\n",
      "doneChargingTime     4088\n",
      "kWhDelivered            0\n",
      "sessionID               0\n",
      "siteID                  0\n",
      "spaceID                 0\n",
      "stationID               0\n",
      "timezone                0\n",
      "userID              17263\n",
      "userInputs          17263\n",
      "dtype: int64\n"
     ]
    }
   ],
   "source": [
    "missing_data_c = charging_session.isnull().sum()\n",
    "print(missing_data_c)"
   ]
  },
  {
   "cell_type": "markdown",
   "metadata": {},
   "source": [
    "In the `charging_session` dataset:\n",
    "The `doneChargingTime` column has 4,088 missing values.\n",
    "The `userID` and `userInputs` columns each have 17,263 missing values, indicating a significant amount of missing data in user-related fields.\n",
    "All other columns have no missing values."
   ]
  },
  {
   "cell_type": "code",
   "execution_count": 37,
   "metadata": {},
   "outputs": [
    {
     "name": "stdout",
     "output_type": "stream",
     "text": [
      "city                        0\n",
      "timestamp                   0\n",
      "temperature                25\n",
      "cloud_cover                20\n",
      "cloud_cover_description    20\n",
      "pressure                    8\n",
      "windspeed                  86\n",
      "precipitation               0\n",
      "felt_temperature           26\n",
      "dtype: int64\n"
     ]
    }
   ],
   "source": [
    "missing_data_w = weather_airport.isnull().sum()\n",
    "print(missing_data_w)"
   ]
  },
  {
   "cell_type": "markdown",
   "metadata": {},
   "source": [
    "In the `weather_airport` dataset:\n",
    "`temperature`, `cloud_cover`, `cloud_cover_description`, `pressure`, `windspeed`, and `felt_temperature` have a small number of missing values (up to 86 in `windspeed`).\n",
    "Columns like `city`, `timestamp`, and `precipitation` are fully populated."
   ]
  },
  {
   "cell_type": "markdown",
   "metadata": {},
   "source": [
    "Duplicates"
   ]
  },
  {
   "cell_type": "markdown",
   "metadata": {},
   "source": [
    "Detect and display duplicates"
   ]
  },
  {
   "cell_type": "code",
   "execution_count": null,
   "metadata": {},
   "outputs": [
    {
     "name": "stdout",
     "output_type": "stream",
     "text": [
      "Duplicate rows:\n",
      "Empty DataFrame\n",
      "Columns: [Unnamed: 0, id, connectionTime, disconnectTime, doneChargingTime, kWhDelivered, sessionID, siteID, spaceID, stationID, timezone, userID, userInputs]\n",
      "Index: []\n"
     ]
    }
   ],
   "source": [
    "duplicates_c = charging_session[charging_session.duplicated()]\n",
    "print(\"Duplicate rows:\")\n",
    "print(duplicates_c)"
   ]
  },
  {
   "cell_type": "markdown",
   "metadata": {},
   "source": [
    "Remove duplicates from the DataFrame"
   ]
  },
  {
   "cell_type": "code",
   "execution_count": null,
   "metadata": {},
   "outputs": [
    {
     "name": "stdout",
     "output_type": "stream",
     "text": [
      "Duplicates removed. New shape: (66450, 13)\n"
     ]
    }
   ],
   "source": [
    "charging_session_cleaned = charging_session.drop_duplicates()\n",
    "print(\"Duplicates removed. New shape:\", charging_session_cleaned.shape)"
   ]
  },
  {
   "cell_type": "code",
   "execution_count": 40,
   "metadata": {},
   "outputs": [
    {
     "name": "stdout",
     "output_type": "stream",
     "text": [
      "Duplicate rows:\n",
      "Empty DataFrame\n",
      "Columns: [city, timestamp, temperature, cloud_cover, cloud_cover_description, pressure, windspeed, precipitation, felt_temperature]\n",
      "Index: []\n"
     ]
    }
   ],
   "source": [
    "duplicates_w = weather_airport[weather_airport.duplicated()]\n",
    "print(\"Duplicate rows:\")\n",
    "print(duplicates_w)"
   ]
  },
  {
   "cell_type": "code",
   "execution_count": 41,
   "metadata": {},
   "outputs": [
    {
     "name": "stdout",
     "output_type": "stream",
     "text": [
      "Duplicates removed. New shape: (29244, 9)\n"
     ]
    }
   ],
   "source": [
    "weather_airport_cleaned = weather_airport.drop_duplicates()\n",
    "print(\"Duplicates removed. New shape:\", weather_airport_cleaned.shape)"
   ]
  },
  {
   "cell_type": "markdown",
   "metadata": {},
   "source": [
    "No duplicate rows present in the datasets"
   ]
  }
 ],
 "metadata": {
  "kernelspec": {
   "display_name": "Python 3 (ipykernel)",
   "language": "python",
   "name": "python3"
  },
  "language_info": {
   "codemirror_mode": {
    "name": "ipython",
    "version": 3
   },
   "file_extension": ".py",
   "mimetype": "text/x-python",
   "name": "python",
   "nbconvert_exporter": "python",
   "pygments_lexer": "ipython3",
   "version": "3.12.4"
  }
 },
 "nbformat": 4,
 "nbformat_minor": 2
}
