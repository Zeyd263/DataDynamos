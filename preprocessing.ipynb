{
 "cells": [
  {
   "cell_type": "markdown",
   "id": "02f9b801-7214-4852-b418-4b2d2b148cbb",
   "metadata": {},
   "source": [
    "**Data Collection & Preparation**"
   ]
  },
  {
   "cell_type": "markdown",
   "id": "953f9f41-44fb-488d-bcab-5e63a36683f3",
   "metadata": {},
   "source": [
    "First, we import some libraries that are useful and needed for the following tasks."
   ]
  },
  {
   "cell_type": "code",
   "execution_count": 50,
   "id": "46cfab9e-612c-4830-8d6d-e5a4e921d738",
   "metadata": {},
   "outputs": [],
   "source": [
    "import pandas as pd\n",
    "import numpy as np\n",
    "import ast"
   ]
  },
  {
   "cell_type": "markdown",
   "id": "40ffba5a-9562-40c1-9564-b328cb90d104",
   "metadata": {},
   "source": [
    "Then, we import the necessary data set."
   ]
  },
  {
   "cell_type": "code",
   "execution_count": 17,
   "id": "d1cbf963-0457-4941-98b2-30ec3e99a748",
   "metadata": {},
   "outputs": [],
   "source": [
    "file_path = './data/'\n",
    "df_raw = pd.read_csv(f\"{file_path}charging_sessions.csv\", sep=\",\")"
   ]
  },
  {
   "cell_type": "markdown",
   "id": "1a78dff0-92c1-408a-acfd-fe17171657a1",
   "metadata": {},
   "source": [
    "Getting a first sight of the data by displaying the first 5 entries."
   ]
  },
  {
   "cell_type": "code",
   "execution_count": 4,
   "id": "bcbf5181-0a21-4454-be47-787dec7edbf3",
   "metadata": {
    "scrolled": true
   },
   "outputs": [
    {
     "data": {
      "text/html": [
       "<div>\n",
       "<style scoped>\n",
       "    .dataframe tbody tr th:only-of-type {\n",
       "        vertical-align: middle;\n",
       "    }\n",
       "\n",
       "    .dataframe tbody tr th {\n",
       "        vertical-align: top;\n",
       "    }\n",
       "\n",
       "    .dataframe thead th {\n",
       "        text-align: right;\n",
       "    }\n",
       "</style>\n",
       "<table border=\"1\" class=\"dataframe\">\n",
       "  <thead>\n",
       "    <tr style=\"text-align: right;\">\n",
       "      <th></th>\n",
       "      <th>Unnamed: 0</th>\n",
       "      <th>id</th>\n",
       "      <th>connectionTime</th>\n",
       "      <th>disconnectTime</th>\n",
       "      <th>doneChargingTime</th>\n",
       "      <th>kWhDelivered</th>\n",
       "      <th>sessionID</th>\n",
       "      <th>siteID</th>\n",
       "      <th>spaceID</th>\n",
       "      <th>stationID</th>\n",
       "      <th>timezone</th>\n",
       "      <th>userID</th>\n",
       "      <th>userInputs</th>\n",
       "    </tr>\n",
       "  </thead>\n",
       "  <tbody>\n",
       "    <tr>\n",
       "      <th>0</th>\n",
       "      <td>0</td>\n",
       "      <td>5e23b149f9af8b5fe4b973cf</td>\n",
       "      <td>2020-01-02 13:08:54+00:00</td>\n",
       "      <td>2020-01-02 19:11:15+00:00</td>\n",
       "      <td>2020-01-02 17:31:35+00:00</td>\n",
       "      <td>25.016</td>\n",
       "      <td>1_1_179_810_2020-01-02 13:08:53.870034</td>\n",
       "      <td>1</td>\n",
       "      <td>AG-3F30</td>\n",
       "      <td>1-1-179-810</td>\n",
       "      <td>America/Los_Angeles</td>\n",
       "      <td>194.0</td>\n",
       "      <td>[{'WhPerMile': 250, 'kWhRequested': 25.0, 'mil...</td>\n",
       "    </tr>\n",
       "    <tr>\n",
       "      <th>1</th>\n",
       "      <td>1</td>\n",
       "      <td>5e23b149f9af8b5fe4b973d0</td>\n",
       "      <td>2020-01-02 13:36:50+00:00</td>\n",
       "      <td>2020-01-02 22:38:21+00:00</td>\n",
       "      <td>2020-01-02 20:18:05+00:00</td>\n",
       "      <td>33.097</td>\n",
       "      <td>1_1_193_825_2020-01-02 13:36:49.599853</td>\n",
       "      <td>1</td>\n",
       "      <td>AG-1F01</td>\n",
       "      <td>1-1-193-825</td>\n",
       "      <td>America/Los_Angeles</td>\n",
       "      <td>4275.0</td>\n",
       "      <td>[{'WhPerMile': 280, 'kWhRequested': 70.0, 'mil...</td>\n",
       "    </tr>\n",
       "    <tr>\n",
       "      <th>2</th>\n",
       "      <td>2</td>\n",
       "      <td>5e23b149f9af8b5fe4b973d1</td>\n",
       "      <td>2020-01-02 13:56:35+00:00</td>\n",
       "      <td>2020-01-03 00:39:22+00:00</td>\n",
       "      <td>2020-01-02 16:35:06+00:00</td>\n",
       "      <td>6.521</td>\n",
       "      <td>1_1_193_829_2020-01-02 13:56:35.214993</td>\n",
       "      <td>1</td>\n",
       "      <td>AG-1F03</td>\n",
       "      <td>1-1-193-829</td>\n",
       "      <td>America/Los_Angeles</td>\n",
       "      <td>344.0</td>\n",
       "      <td>[{'WhPerMile': 400, 'kWhRequested': 8.0, 'mile...</td>\n",
       "    </tr>\n",
       "    <tr>\n",
       "      <th>3</th>\n",
       "      <td>3</td>\n",
       "      <td>5e23b149f9af8b5fe4b973d2</td>\n",
       "      <td>2020-01-02 13:59:58+00:00</td>\n",
       "      <td>2020-01-02 16:38:39+00:00</td>\n",
       "      <td>2020-01-02 15:18:45+00:00</td>\n",
       "      <td>2.355</td>\n",
       "      <td>1_1_193_820_2020-01-02 13:59:58.309319</td>\n",
       "      <td>1</td>\n",
       "      <td>AG-1F04</td>\n",
       "      <td>1-1-193-820</td>\n",
       "      <td>America/Los_Angeles</td>\n",
       "      <td>1117.0</td>\n",
       "      <td>[{'WhPerMile': 400, 'kWhRequested': 8.0, 'mile...</td>\n",
       "    </tr>\n",
       "    <tr>\n",
       "      <th>4</th>\n",
       "      <td>4</td>\n",
       "      <td>5e23b149f9af8b5fe4b973d3</td>\n",
       "      <td>2020-01-02 14:00:01+00:00</td>\n",
       "      <td>2020-01-02 22:08:40+00:00</td>\n",
       "      <td>2020-01-02 18:17:30+00:00</td>\n",
       "      <td>13.375</td>\n",
       "      <td>1_1_193_819_2020-01-02 14:00:00.779967</td>\n",
       "      <td>1</td>\n",
       "      <td>AG-1F06</td>\n",
       "      <td>1-1-193-819</td>\n",
       "      <td>America/Los_Angeles</td>\n",
       "      <td>334.0</td>\n",
       "      <td>[{'WhPerMile': 400, 'kWhRequested': 16.0, 'mil...</td>\n",
       "    </tr>\n",
       "  </tbody>\n",
       "</table>\n",
       "</div>"
      ],
      "text/plain": [
       "   Unnamed: 0                        id             connectionTime  \\\n",
       "0           0  5e23b149f9af8b5fe4b973cf  2020-01-02 13:08:54+00:00   \n",
       "1           1  5e23b149f9af8b5fe4b973d0  2020-01-02 13:36:50+00:00   \n",
       "2           2  5e23b149f9af8b5fe4b973d1  2020-01-02 13:56:35+00:00   \n",
       "3           3  5e23b149f9af8b5fe4b973d2  2020-01-02 13:59:58+00:00   \n",
       "4           4  5e23b149f9af8b5fe4b973d3  2020-01-02 14:00:01+00:00   \n",
       "\n",
       "              disconnectTime           doneChargingTime  kWhDelivered  \\\n",
       "0  2020-01-02 19:11:15+00:00  2020-01-02 17:31:35+00:00        25.016   \n",
       "1  2020-01-02 22:38:21+00:00  2020-01-02 20:18:05+00:00        33.097   \n",
       "2  2020-01-03 00:39:22+00:00  2020-01-02 16:35:06+00:00         6.521   \n",
       "3  2020-01-02 16:38:39+00:00  2020-01-02 15:18:45+00:00         2.355   \n",
       "4  2020-01-02 22:08:40+00:00  2020-01-02 18:17:30+00:00        13.375   \n",
       "\n",
       "                                sessionID  siteID  spaceID    stationID  \\\n",
       "0  1_1_179_810_2020-01-02 13:08:53.870034       1  AG-3F30  1-1-179-810   \n",
       "1  1_1_193_825_2020-01-02 13:36:49.599853       1  AG-1F01  1-1-193-825   \n",
       "2  1_1_193_829_2020-01-02 13:56:35.214993       1  AG-1F03  1-1-193-829   \n",
       "3  1_1_193_820_2020-01-02 13:59:58.309319       1  AG-1F04  1-1-193-820   \n",
       "4  1_1_193_819_2020-01-02 14:00:00.779967       1  AG-1F06  1-1-193-819   \n",
       "\n",
       "              timezone  userID  \\\n",
       "0  America/Los_Angeles   194.0   \n",
       "1  America/Los_Angeles  4275.0   \n",
       "2  America/Los_Angeles   344.0   \n",
       "3  America/Los_Angeles  1117.0   \n",
       "4  America/Los_Angeles   334.0   \n",
       "\n",
       "                                          userInputs  \n",
       "0  [{'WhPerMile': 250, 'kWhRequested': 25.0, 'mil...  \n",
       "1  [{'WhPerMile': 280, 'kWhRequested': 70.0, 'mil...  \n",
       "2  [{'WhPerMile': 400, 'kWhRequested': 8.0, 'mile...  \n",
       "3  [{'WhPerMile': 400, 'kWhRequested': 8.0, 'mile...  \n",
       "4  [{'WhPerMile': 400, 'kWhRequested': 16.0, 'mil...  "
      ]
     },
     "execution_count": 4,
     "metadata": {},
     "output_type": "execute_result"
    }
   ],
   "source": [
    "df_raw.head(5)"
   ]
  },
  {
   "cell_type": "code",
   "execution_count": 18,
   "id": "98764fec-5070-4f16-9561-441c87162095",
   "metadata": {
    "scrolled": true
   },
   "outputs": [
    {
     "name": "stdout",
     "output_type": "stream",
     "text": [
      "rows: 66450, columns: 13\n"
     ]
    }
   ],
   "source": [
    "num_rows, num_columns = df_raw.shape\n",
    "print(f\"rows: {num_rows}, columns: {num_columns}\")"
   ]
  },
  {
   "cell_type": "markdown",
   "id": "b0c19a04-4214-4341-8ecd-f80052c74f29",
   "metadata": {},
   "source": [
    "The data set contains 66450 observations over 13 variables."
   ]
  },
  {
   "cell_type": "code",
   "execution_count": 19,
   "id": "cff9517f-ea22-499e-92e3-6a1d54611b70",
   "metadata": {},
   "outputs": [
    {
     "name": "stdout",
     "output_type": "stream",
     "text": [
      "                 Row Datetype\n",
      "0         Unnamed: 0    int64\n",
      "1                 id   object\n",
      "2     connectionTime   object\n",
      "3     disconnectTime   object\n",
      "4   doneChargingTime   object\n",
      "5       kWhDelivered  float64\n",
      "6          sessionID   object\n",
      "7             siteID    int64\n",
      "8            spaceID   object\n",
      "9          stationID   object\n",
      "10          timezone   object\n",
      "11            userID  float64\n",
      "12        userInputs   object\n"
     ]
    }
   ],
   "source": [
    "dtypes_df = df_raw.dtypes.reset_index()\n",
    "dtypes_df.columns = ['Row', 'Datetype']\n",
    "print(dtypes_df)"
   ]
  },
  {
   "cell_type": "markdown",
   "id": "e3567935-c2b0-438f-903d-0306aab33a8b",
   "metadata": {},
   "source": [
    "Convert 'id' into string; 'connectionTime', 'disconnectTime', and 'doneChargingTime' into date format;"
   ]
  },
  {
   "cell_type": "markdown",
   "id": "8ff17ab6-fe18-4121-aac1-daca6dbb6c57",
   "metadata": {},
   "source": [
    "Now we check for missing or erroneous data.\n",
    "To do this, we start by checking if there are empty strings."
   ]
  },
  {
   "cell_type": "code",
   "execution_count": 20,
   "id": "dd8dac0b-1528-4c68-9879-3f103e6f4709",
   "metadata": {},
   "outputs": [
    {
     "name": "stdout",
     "output_type": "stream",
     "text": [
      "Unnamed: 0          0\n",
      "id                  0\n",
      "connectionTime      0\n",
      "disconnectTime      0\n",
      "doneChargingTime    0\n",
      "kWhDelivered        0\n",
      "sessionID           0\n",
      "siteID              0\n",
      "spaceID             0\n",
      "stationID           0\n",
      "timezone            0\n",
      "userID              0\n",
      "userInputs          0\n",
      "dtype: int64\n"
     ]
    }
   ],
   "source": [
    "empty_strings_count = (df_raw == \"\").sum()\n",
    "print(empty_strings_count)"
   ]
  },
  {
   "cell_type": "markdown",
   "id": "a2e7e909-0c5c-457f-aa41-f3c194e3da2a",
   "metadata": {},
   "source": [
    "There are no empty strings. So in the next step, we are checking for NaN values."
   ]
  },
  {
   "cell_type": "code",
   "execution_count": 13,
   "id": "26a9f3df-3ffe-473b-bc67-0fc8af992345",
   "metadata": {},
   "outputs": [
    {
     "name": "stdout",
     "output_type": "stream",
     "text": [
      "Unnamed: 0              0\n",
      "id                      0\n",
      "connectionTime          0\n",
      "disconnectTime          0\n",
      "doneChargingTime     4088\n",
      "kWhDelivered            0\n",
      "sessionID               0\n",
      "siteID                  0\n",
      "spaceID                 0\n",
      "stationID               0\n",
      "timezone                0\n",
      "userID              17263\n",
      "userInputs          17263\n",
      "dtype: int64\n"
     ]
    }
   ],
   "source": [
    "missing_values_count = df_raw.isnull().sum()\n",
    "print(missing_values_count)"
   ]
  },
  {
   "cell_type": "markdown",
   "id": "091b3e8c-bcae-4273-b563-dfe4348177ad",
   "metadata": {},
   "source": [
    "\"doneChargingTime\" has got 4088 entries with NaN values. NaN values in 'userInputs' and 'userID' are obvious as these variables are optional."
   ]
  },
  {
   "cell_type": "markdown",
   "id": "9de0299c-6276-4b59-8cd0-b2a5bee10a0b",
   "metadata": {},
   "source": [
    "Checking for invalid dates within the date related columns."
   ]
  },
  {
   "cell_type": "code",
   "execution_count": 14,
   "id": "f2c73077-ca7d-4536-88ee-eb510d3675ce",
   "metadata": {},
   "outputs": [
    {
     "name": "stdout",
     "output_type": "stream",
     "text": [
      "{'connectionTime': 0, 'disconnectTime': 0, 'doneChargingTime': 4088}\n"
     ]
    }
   ],
   "source": [
    "invalid_dates_summary = {\n",
    "    'connectionTime': pd.to_datetime(df_raw['connectionTime'], errors='coerce').isna().sum(),\n",
    "    'disconnectTime': pd.to_datetime(df_raw['disconnectTime'], errors='coerce').isna().sum(),\n",
    "    'doneChargingTime': pd.to_datetime(df_raw['doneChargingTime'], errors='coerce').isna().sum()\n",
    "}\n",
    "print(invalid_dates_summary)"
   ]
  },
  {
   "cell_type": "markdown",
   "id": "8e3a742b-8d22-4028-9ef4-c112b7c4e705",
   "metadata": {},
   "source": [
    "It shows that there are no invalid dates such as '33.12.2020', but the 4088 NaN values within 'doneChargingTime' from the code above."
   ]
  },
  {
   "cell_type": "markdown",
   "id": "2373b63b-829d-4358-8e4e-400a6cc911ae",
   "metadata": {},
   "source": [
    "Next up, we check if ‘timezone’ has different values in order to convert its respective timezone correctly. In addition, we also check which timezones the variables ‘connectionTime’, ‘disconnectTime’, and ‘doneChargingTime’  contain."
   ]
  },
  {
   "cell_type": "code",
   "execution_count": 15,
   "id": "a4d99f4d-72c8-4b33-899b-0a0c0f3d65f9",
   "metadata": {},
   "outputs": [
    {
     "name": "stdout",
     "output_type": "stream",
     "text": [
      "timezone\n",
      "America/Los_Angeles    66450\n",
      "Name: count, dtype: int64\n"
     ]
    }
   ],
   "source": [
    "timezone_counts = df_raw['timezone'].value_counts()\n",
    "print(timezone_counts)"
   ]
  },
  {
   "cell_type": "code",
   "execution_count": 16,
   "id": "e82b2c2a-5b8a-451b-9c88-750211c39481",
   "metadata": {},
   "outputs": [
    {
     "name": "stdout",
     "output_type": "stream",
     "text": [
      "connectionTime: UTC\n",
      "disconnectTime: UTC\n",
      "doneChargingTime: UTC\n"
     ]
    }
   ],
   "source": [
    "connectionTime_tz = pd.to_datetime(df_raw['connectionTime']).dt.tz\n",
    "disconnectTime_tz = pd.to_datetime(df_raw['disconnectTime']).dt.tz\n",
    "doneChargingTime_tz = pd.to_datetime(df_raw['doneChargingTime']).dt.tz\n",
    "\n",
    "print(f\"connectionTime: {connectionTime_tz}\\ndisconnectTime: {disconnectTime_tz}\\ndoneChargingTime: {doneChargingTime_tz}\")"
   ]
  },
  {
   "cell_type": "markdown",
   "id": "d8dbbb8b-1ba6-4756-9a46-a565983339ab",
   "metadata": {},
   "source": [
    "From this we know that we need to convert the 3 variables from UTC to PST."
   ]
  },
  {
   "cell_type": "markdown",
   "id": "1c5b3a33-809b-438f-94b5-514d840601d2",
   "metadata": {},
   "source": [
    "After analysing the raw data set, we write a function to clean up the data."
   ]
  },
  {
   "cell_type": "code",
   "execution_count": 57,
   "id": "381c9a30-6924-4c47-8a26-d7a9d7594d4e",
   "metadata": {},
   "outputs": [],
   "source": [
    "def preprocess_data(df_raw):\n",
    "    # Make a copy of the raw dataframe\n",
    "    df_cleaned = df_raw.copy()\n",
    "\n",
    "    # Drop the column 'Unnamed: 0' \n",
    "    df_cleaned = df_cleaned.drop(columns=['Unnamed: 0'])\n",
    "\n",
    "    # Convert the date columns into date format, convert timezone into PST & remove the timezone information\n",
    "    df_cleaned['connectionTime'] = pd.to_datetime(df_cleaned['connectionTime']).dt.tz_convert('America/Los_Angeles').dt.tz_localize(None)\n",
    "    df_cleaned['disconnectTime'] = pd.to_datetime(df_cleaned['disconnectTime']).dt.tz_convert('America/Los_Angeles').dt.tz_localize(None)\n",
    "    df_cleaned['doneChargingTime'] = pd.to_datetime(df_cleaned['doneChargingTime']).dt.tz_convert('America/Los_Angeles').dt.tz_localize(None)\n",
    "\n",
    "    # Define the expected columns to extract from 'userInput'\n",
    "    userInput_cols_to_extract = ['WhPerMile', 'kWhRequested', 'milesRequested', 'minutesAvailable', 'modifiedAt', 'paymentRequired', 'requestedDeparture']\n",
    "\n",
    "    # Extract each field dynamically & add it as new column\n",
    "    for column in userInput_cols_to_extract:\n",
    "        df_cleaned[column] = df_cleaned['userInputs'].apply(\n",
    "            lambda x: ast.literal_eval(x)[0].get(column) if isinstance(x, str) and len(x) > 0 else np.nan\n",
    "        )\n",
    "\n",
    "    # Remove the 'userInputs' column afterwards\n",
    "    df_cleaned = df_cleaned.drop(columns=['userInputs'])\n",
    "    \n",
    "    # Return the preprocessed and cleaned data frame\n",
    "    return df_cleaned"
   ]
  },
  {
   "cell_type": "code",
   "execution_count": 58,
   "id": "5715430f-33d6-4cb8-a494-2a75ca4b8c4e",
   "metadata": {},
   "outputs": [],
   "source": [
    "df = preprocess_data(df_raw)"
   ]
  },
  {
   "cell_type": "markdown",
   "id": "e6c0ecb2-4881-459e-983f-e86de02918d9",
   "metadata": {},
   "source": [
    "Check the structure and datatypes to see whether the function cleaned our data correctly"
   ]
  },
  {
   "cell_type": "code",
   "execution_count": 59,
   "id": "e7ee7136-a9af-4a70-bff7-9d5b22ec9194",
   "metadata": {},
   "outputs": [
    {
     "data": {
      "text/html": [
       "<div>\n",
       "<style scoped>\n",
       "    .dataframe tbody tr th:only-of-type {\n",
       "        vertical-align: middle;\n",
       "    }\n",
       "\n",
       "    .dataframe tbody tr th {\n",
       "        vertical-align: top;\n",
       "    }\n",
       "\n",
       "    .dataframe thead th {\n",
       "        text-align: right;\n",
       "    }\n",
       "</style>\n",
       "<table border=\"1\" class=\"dataframe\">\n",
       "  <thead>\n",
       "    <tr style=\"text-align: right;\">\n",
       "      <th></th>\n",
       "      <th>id</th>\n",
       "      <th>connectionTime</th>\n",
       "      <th>disconnectTime</th>\n",
       "      <th>doneChargingTime</th>\n",
       "      <th>kWhDelivered</th>\n",
       "      <th>sessionID</th>\n",
       "      <th>siteID</th>\n",
       "      <th>spaceID</th>\n",
       "      <th>stationID</th>\n",
       "      <th>timezone</th>\n",
       "      <th>userID</th>\n",
       "      <th>WhPerMile</th>\n",
       "      <th>kWhRequested</th>\n",
       "      <th>milesRequested</th>\n",
       "      <th>minutesAvailable</th>\n",
       "      <th>modifiedAt</th>\n",
       "      <th>paymentRequired</th>\n",
       "      <th>requestedDeparture</th>\n",
       "    </tr>\n",
       "  </thead>\n",
       "  <tbody>\n",
       "    <tr>\n",
       "      <th>0</th>\n",
       "      <td>5e23b149f9af8b5fe4b973cf</td>\n",
       "      <td>2020-01-02 05:08:54</td>\n",
       "      <td>2020-01-02 11:11:15</td>\n",
       "      <td>2020-01-02 09:31:35</td>\n",
       "      <td>25.016</td>\n",
       "      <td>1_1_179_810_2020-01-02 13:08:53.870034</td>\n",
       "      <td>1</td>\n",
       "      <td>AG-3F30</td>\n",
       "      <td>1-1-179-810</td>\n",
       "      <td>America/Los_Angeles</td>\n",
       "      <td>194.0</td>\n",
       "      <td>250.0</td>\n",
       "      <td>25.00</td>\n",
       "      <td>100.0</td>\n",
       "      <td>463.0</td>\n",
       "      <td>Thu, 02 Jan 2020 13:09:39 GMT</td>\n",
       "      <td>True</td>\n",
       "      <td>Thu, 02 Jan 2020 20:51:54 GMT</td>\n",
       "    </tr>\n",
       "    <tr>\n",
       "      <th>1</th>\n",
       "      <td>5e23b149f9af8b5fe4b973d0</td>\n",
       "      <td>2020-01-02 05:36:50</td>\n",
       "      <td>2020-01-02 14:38:21</td>\n",
       "      <td>2020-01-02 12:18:05</td>\n",
       "      <td>33.097</td>\n",
       "      <td>1_1_193_825_2020-01-02 13:36:49.599853</td>\n",
       "      <td>1</td>\n",
       "      <td>AG-1F01</td>\n",
       "      <td>1-1-193-825</td>\n",
       "      <td>America/Los_Angeles</td>\n",
       "      <td>4275.0</td>\n",
       "      <td>280.0</td>\n",
       "      <td>70.00</td>\n",
       "      <td>250.0</td>\n",
       "      <td>595.0</td>\n",
       "      <td>Thu, 02 Jan 2020 13:37:11 GMT</td>\n",
       "      <td>True</td>\n",
       "      <td>Thu, 02 Jan 2020 23:31:50 GMT</td>\n",
       "    </tr>\n",
       "    <tr>\n",
       "      <th>2</th>\n",
       "      <td>5e23b149f9af8b5fe4b973d1</td>\n",
       "      <td>2020-01-02 05:56:35</td>\n",
       "      <td>2020-01-02 16:39:22</td>\n",
       "      <td>2020-01-02 08:35:06</td>\n",
       "      <td>6.521</td>\n",
       "      <td>1_1_193_829_2020-01-02 13:56:35.214993</td>\n",
       "      <td>1</td>\n",
       "      <td>AG-1F03</td>\n",
       "      <td>1-1-193-829</td>\n",
       "      <td>America/Los_Angeles</td>\n",
       "      <td>344.0</td>\n",
       "      <td>400.0</td>\n",
       "      <td>8.00</td>\n",
       "      <td>20.0</td>\n",
       "      <td>60.0</td>\n",
       "      <td>Thu, 02 Jan 2020 13:57:17 GMT</td>\n",
       "      <td>True</td>\n",
       "      <td>Thu, 02 Jan 2020 14:56:35 GMT</td>\n",
       "    </tr>\n",
       "    <tr>\n",
       "      <th>3</th>\n",
       "      <td>5e23b149f9af8b5fe4b973d2</td>\n",
       "      <td>2020-01-02 05:59:58</td>\n",
       "      <td>2020-01-02 08:38:39</td>\n",
       "      <td>2020-01-02 07:18:45</td>\n",
       "      <td>2.355</td>\n",
       "      <td>1_1_193_820_2020-01-02 13:59:58.309319</td>\n",
       "      <td>1</td>\n",
       "      <td>AG-1F04</td>\n",
       "      <td>1-1-193-820</td>\n",
       "      <td>America/Los_Angeles</td>\n",
       "      <td>1117.0</td>\n",
       "      <td>400.0</td>\n",
       "      <td>8.00</td>\n",
       "      <td>20.0</td>\n",
       "      <td>65.0</td>\n",
       "      <td>Thu, 02 Jan 2020 14:00:03 GMT</td>\n",
       "      <td>True</td>\n",
       "      <td>Thu, 02 Jan 2020 15:04:58 GMT</td>\n",
       "    </tr>\n",
       "    <tr>\n",
       "      <th>4</th>\n",
       "      <td>5e23b149f9af8b5fe4b973d3</td>\n",
       "      <td>2020-01-02 06:00:01</td>\n",
       "      <td>2020-01-02 14:08:40</td>\n",
       "      <td>2020-01-02 10:17:30</td>\n",
       "      <td>13.375</td>\n",
       "      <td>1_1_193_819_2020-01-02 14:00:00.779967</td>\n",
       "      <td>1</td>\n",
       "      <td>AG-1F06</td>\n",
       "      <td>1-1-193-819</td>\n",
       "      <td>America/Los_Angeles</td>\n",
       "      <td>334.0</td>\n",
       "      <td>400.0</td>\n",
       "      <td>16.00</td>\n",
       "      <td>40.0</td>\n",
       "      <td>504.0</td>\n",
       "      <td>Thu, 02 Jan 2020 14:00:13 GMT</td>\n",
       "      <td>True</td>\n",
       "      <td>Thu, 02 Jan 2020 22:24:01 GMT</td>\n",
       "    </tr>\n",
       "    <tr>\n",
       "      <th>5</th>\n",
       "      <td>5e23b149f9af8b5fe4b973d4</td>\n",
       "      <td>2020-01-02 06:00:13</td>\n",
       "      <td>2020-01-02 15:00:41</td>\n",
       "      <td>2020-01-02 12:13:21</td>\n",
       "      <td>13.370</td>\n",
       "      <td>1_1_194_821_2020-01-02 14:00:05.241573</td>\n",
       "      <td>1</td>\n",
       "      <td>AG-1F13</td>\n",
       "      <td>1-1-194-821</td>\n",
       "      <td>America/Los_Angeles</td>\n",
       "      <td>3519.0</td>\n",
       "      <td>600.0</td>\n",
       "      <td>24.00</td>\n",
       "      <td>40.0</td>\n",
       "      <td>624.0</td>\n",
       "      <td>Thu, 02 Jan 2020 14:00:12 GMT</td>\n",
       "      <td>True</td>\n",
       "      <td>Fri, 03 Jan 2020 00:24:13 GMT</td>\n",
       "    </tr>\n",
       "    <tr>\n",
       "      <th>6</th>\n",
       "      <td>5e23b149f9af8b5fe4b973d5</td>\n",
       "      <td>2020-01-02 06:09:14</td>\n",
       "      <td>2020-01-02 17:57:58</td>\n",
       "      <td>2020-01-02 16:59:21</td>\n",
       "      <td>43.477</td>\n",
       "      <td>1_1_178_817_2020-01-02 14:09:14.451827</td>\n",
       "      <td>1</td>\n",
       "      <td>AG-1F09</td>\n",
       "      <td>1-1-178-817</td>\n",
       "      <td>America/Los_Angeles</td>\n",
       "      <td>933.0</td>\n",
       "      <td>385.0</td>\n",
       "      <td>65.45</td>\n",
       "      <td>170.0</td>\n",
       "      <td>647.0</td>\n",
       "      <td>Thu, 02 Jan 2020 14:09:33 GMT</td>\n",
       "      <td>True</td>\n",
       "      <td>Fri, 03 Jan 2020 00:56:14 GMT</td>\n",
       "    </tr>\n",
       "    <tr>\n",
       "      <th>7</th>\n",
       "      <td>5e23b149f9af8b5fe4b973d6</td>\n",
       "      <td>2020-01-02 06:17:32</td>\n",
       "      <td>2020-01-02 16:44:54</td>\n",
       "      <td>2020-01-02 12:22:40</td>\n",
       "      <td>32.441</td>\n",
       "      <td>1_1_191_804_2020-01-02 14:17:32.329535</td>\n",
       "      <td>1</td>\n",
       "      <td>AG-4F34</td>\n",
       "      <td>1-1-191-804</td>\n",
       "      <td>America/Los_Angeles</td>\n",
       "      <td>3737.0</td>\n",
       "      <td>300.0</td>\n",
       "      <td>45.00</td>\n",
       "      <td>150.0</td>\n",
       "      <td>126.0</td>\n",
       "      <td>Thu, 02 Jan 2020 14:17:40 GMT</td>\n",
       "      <td>True</td>\n",
       "      <td>Thu, 02 Jan 2020 16:23:32 GMT</td>\n",
       "    </tr>\n",
       "    <tr>\n",
       "      <th>8</th>\n",
       "      <td>5e23b149f9af8b5fe4b973d7</td>\n",
       "      <td>2020-01-02 06:25:38</td>\n",
       "      <td>2020-01-02 11:36:05</td>\n",
       "      <td>2020-01-02 10:38:39</td>\n",
       "      <td>13.264</td>\n",
       "      <td>1_1_194_826_2020-01-02 14:25:37.578692</td>\n",
       "      <td>1</td>\n",
       "      <td>AG-1F11</td>\n",
       "      <td>1-1-194-826</td>\n",
       "      <td>America/Los_Angeles</td>\n",
       "      <td>419.0</td>\n",
       "      <td>400.0</td>\n",
       "      <td>40.00</td>\n",
       "      <td>100.0</td>\n",
       "      <td>491.0</td>\n",
       "      <td>Thu, 02 Jan 2020 14:25:45 GMT</td>\n",
       "      <td>True</td>\n",
       "      <td>Thu, 02 Jan 2020 22:36:38 GMT</td>\n",
       "    </tr>\n",
       "    <tr>\n",
       "      <th>9</th>\n",
       "      <td>5e23b149f9af8b5fe4b973d8</td>\n",
       "      <td>2020-01-02 06:27:40</td>\n",
       "      <td>2020-01-02 12:01:48</td>\n",
       "      <td>2020-01-02 11:17:46</td>\n",
       "      <td>13.285</td>\n",
       "      <td>1_1_178_823_2020-01-02 14:27:39.582337</td>\n",
       "      <td>1</td>\n",
       "      <td>AG-1F08</td>\n",
       "      <td>1-1-178-823</td>\n",
       "      <td>America/Los_Angeles</td>\n",
       "      <td>651.0</td>\n",
       "      <td>400.0</td>\n",
       "      <td>20.00</td>\n",
       "      <td>50.0</td>\n",
       "      <td>226.0</td>\n",
       "      <td>Thu, 02 Jan 2020 14:27:48 GMT</td>\n",
       "      <td>True</td>\n",
       "      <td>Thu, 02 Jan 2020 18:13:40 GMT</td>\n",
       "    </tr>\n",
       "  </tbody>\n",
       "</table>\n",
       "</div>"
      ],
      "text/plain": [
       "                         id      connectionTime      disconnectTime  \\\n",
       "0  5e23b149f9af8b5fe4b973cf 2020-01-02 05:08:54 2020-01-02 11:11:15   \n",
       "1  5e23b149f9af8b5fe4b973d0 2020-01-02 05:36:50 2020-01-02 14:38:21   \n",
       "2  5e23b149f9af8b5fe4b973d1 2020-01-02 05:56:35 2020-01-02 16:39:22   \n",
       "3  5e23b149f9af8b5fe4b973d2 2020-01-02 05:59:58 2020-01-02 08:38:39   \n",
       "4  5e23b149f9af8b5fe4b973d3 2020-01-02 06:00:01 2020-01-02 14:08:40   \n",
       "5  5e23b149f9af8b5fe4b973d4 2020-01-02 06:00:13 2020-01-02 15:00:41   \n",
       "6  5e23b149f9af8b5fe4b973d5 2020-01-02 06:09:14 2020-01-02 17:57:58   \n",
       "7  5e23b149f9af8b5fe4b973d6 2020-01-02 06:17:32 2020-01-02 16:44:54   \n",
       "8  5e23b149f9af8b5fe4b973d7 2020-01-02 06:25:38 2020-01-02 11:36:05   \n",
       "9  5e23b149f9af8b5fe4b973d8 2020-01-02 06:27:40 2020-01-02 12:01:48   \n",
       "\n",
       "     doneChargingTime  kWhDelivered                               sessionID  \\\n",
       "0 2020-01-02 09:31:35        25.016  1_1_179_810_2020-01-02 13:08:53.870034   \n",
       "1 2020-01-02 12:18:05        33.097  1_1_193_825_2020-01-02 13:36:49.599853   \n",
       "2 2020-01-02 08:35:06         6.521  1_1_193_829_2020-01-02 13:56:35.214993   \n",
       "3 2020-01-02 07:18:45         2.355  1_1_193_820_2020-01-02 13:59:58.309319   \n",
       "4 2020-01-02 10:17:30        13.375  1_1_193_819_2020-01-02 14:00:00.779967   \n",
       "5 2020-01-02 12:13:21        13.370  1_1_194_821_2020-01-02 14:00:05.241573   \n",
       "6 2020-01-02 16:59:21        43.477  1_1_178_817_2020-01-02 14:09:14.451827   \n",
       "7 2020-01-02 12:22:40        32.441  1_1_191_804_2020-01-02 14:17:32.329535   \n",
       "8 2020-01-02 10:38:39        13.264  1_1_194_826_2020-01-02 14:25:37.578692   \n",
       "9 2020-01-02 11:17:46        13.285  1_1_178_823_2020-01-02 14:27:39.582337   \n",
       "\n",
       "   siteID  spaceID    stationID             timezone  userID  WhPerMile  \\\n",
       "0       1  AG-3F30  1-1-179-810  America/Los_Angeles   194.0      250.0   \n",
       "1       1  AG-1F01  1-1-193-825  America/Los_Angeles  4275.0      280.0   \n",
       "2       1  AG-1F03  1-1-193-829  America/Los_Angeles   344.0      400.0   \n",
       "3       1  AG-1F04  1-1-193-820  America/Los_Angeles  1117.0      400.0   \n",
       "4       1  AG-1F06  1-1-193-819  America/Los_Angeles   334.0      400.0   \n",
       "5       1  AG-1F13  1-1-194-821  America/Los_Angeles  3519.0      600.0   \n",
       "6       1  AG-1F09  1-1-178-817  America/Los_Angeles   933.0      385.0   \n",
       "7       1  AG-4F34  1-1-191-804  America/Los_Angeles  3737.0      300.0   \n",
       "8       1  AG-1F11  1-1-194-826  America/Los_Angeles   419.0      400.0   \n",
       "9       1  AG-1F08  1-1-178-823  America/Los_Angeles   651.0      400.0   \n",
       "\n",
       "   kWhRequested  milesRequested  minutesAvailable  \\\n",
       "0         25.00           100.0             463.0   \n",
       "1         70.00           250.0             595.0   \n",
       "2          8.00            20.0              60.0   \n",
       "3          8.00            20.0              65.0   \n",
       "4         16.00            40.0             504.0   \n",
       "5         24.00            40.0             624.0   \n",
       "6         65.45           170.0             647.0   \n",
       "7         45.00           150.0             126.0   \n",
       "8         40.00           100.0             491.0   \n",
       "9         20.00            50.0             226.0   \n",
       "\n",
       "                      modifiedAt paymentRequired  \\\n",
       "0  Thu, 02 Jan 2020 13:09:39 GMT            True   \n",
       "1  Thu, 02 Jan 2020 13:37:11 GMT            True   \n",
       "2  Thu, 02 Jan 2020 13:57:17 GMT            True   \n",
       "3  Thu, 02 Jan 2020 14:00:03 GMT            True   \n",
       "4  Thu, 02 Jan 2020 14:00:13 GMT            True   \n",
       "5  Thu, 02 Jan 2020 14:00:12 GMT            True   \n",
       "6  Thu, 02 Jan 2020 14:09:33 GMT            True   \n",
       "7  Thu, 02 Jan 2020 14:17:40 GMT            True   \n",
       "8  Thu, 02 Jan 2020 14:25:45 GMT            True   \n",
       "9  Thu, 02 Jan 2020 14:27:48 GMT            True   \n",
       "\n",
       "              requestedDeparture  \n",
       "0  Thu, 02 Jan 2020 20:51:54 GMT  \n",
       "1  Thu, 02 Jan 2020 23:31:50 GMT  \n",
       "2  Thu, 02 Jan 2020 14:56:35 GMT  \n",
       "3  Thu, 02 Jan 2020 15:04:58 GMT  \n",
       "4  Thu, 02 Jan 2020 22:24:01 GMT  \n",
       "5  Fri, 03 Jan 2020 00:24:13 GMT  \n",
       "6  Fri, 03 Jan 2020 00:56:14 GMT  \n",
       "7  Thu, 02 Jan 2020 16:23:32 GMT  \n",
       "8  Thu, 02 Jan 2020 22:36:38 GMT  \n",
       "9  Thu, 02 Jan 2020 18:13:40 GMT  "
      ]
     },
     "execution_count": 59,
     "metadata": {},
     "output_type": "execute_result"
    }
   ],
   "source": [
    "df.head(10)"
   ]
  },
  {
   "cell_type": "code",
   "execution_count": 60,
   "id": "eec843a7-700e-4251-ab66-55fcafe1772b",
   "metadata": {},
   "outputs": [
    {
     "data": {
      "text/plain": [
       "id                            object\n",
       "connectionTime        datetime64[ns]\n",
       "disconnectTime        datetime64[ns]\n",
       "doneChargingTime      datetime64[ns]\n",
       "kWhDelivered                 float64\n",
       "sessionID                     object\n",
       "siteID                         int64\n",
       "spaceID                       object\n",
       "stationID                     object\n",
       "timezone                      object\n",
       "userID                       float64\n",
       "WhPerMile                    float64\n",
       "kWhRequested                 float64\n",
       "milesRequested               float64\n",
       "minutesAvailable             float64\n",
       "modifiedAt                    object\n",
       "paymentRequired               object\n",
       "requestedDeparture            object\n",
       "dtype: object"
      ]
     },
     "execution_count": 60,
     "metadata": {},
     "output_type": "execute_result"
    }
   ],
   "source": [
    "df.dtypes"
   ]
  }
 ],
 "metadata": {
  "kernelspec": {
   "display_name": "Python 3 (ipykernel)",
   "language": "python",
   "name": "python3"
  },
  "language_info": {
   "codemirror_mode": {
    "name": "ipython",
    "version": 3
   },
   "file_extension": ".py",
   "mimetype": "text/x-python",
   "name": "python",
   "nbconvert_exporter": "python",
   "pygments_lexer": "ipython3",
   "version": "3.9.20"
  }
 },
 "nbformat": 4,
 "nbformat_minor": 5
}
