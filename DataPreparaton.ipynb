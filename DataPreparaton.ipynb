{
 "cells": [
  {
   "cell_type": "markdown",
   "metadata": {},
   "source": [
    "### DataDynamos"
   ]
  },
  {
   "cell_type": "code",
   "execution_count": 1,
   "metadata": {},
   "outputs": [],
   "source": [
    "import pandas as pd"
   ]
  },
  {
   "cell_type": "markdown",
   "metadata": {},
   "source": [
    "We import the necessary data set (charging sessions data set) with the data from the Chrárging Garages. "
   ]
  },
  {
   "cell_type": "code",
   "execution_count": 223,
   "metadata": {},
   "outputs": [],
   "source": [
    "file_path = './data/'\n",
    "data = pd.read_csv(f\"{file_path}charging_sessions.csv\", sep=\",\")"
   ]
  },
  {
   "cell_type": "markdown",
   "metadata": {},
   "source": [
    "#### 1. Data Preparation"
   ]
  },
  {
   "cell_type": "code",
   "execution_count": 224,
   "metadata": {},
   "outputs": [
    {
     "data": {
      "text/html": [
       "<div>\n",
       "<style scoped>\n",
       "    .dataframe tbody tr th:only-of-type {\n",
       "        vertical-align: middle;\n",
       "    }\n",
       "\n",
       "    .dataframe tbody tr th {\n",
       "        vertical-align: top;\n",
       "    }\n",
       "\n",
       "    .dataframe thead th {\n",
       "        text-align: right;\n",
       "    }\n",
       "</style>\n",
       "<table border=\"1\" class=\"dataframe\">\n",
       "  <thead>\n",
       "    <tr style=\"text-align: right;\">\n",
       "      <th></th>\n",
       "      <th>Unnamed: 0</th>\n",
       "      <th>id</th>\n",
       "      <th>connectionTime</th>\n",
       "      <th>disconnectTime</th>\n",
       "      <th>doneChargingTime</th>\n",
       "      <th>kWhDelivered</th>\n",
       "      <th>sessionID</th>\n",
       "      <th>siteID</th>\n",
       "      <th>spaceID</th>\n",
       "      <th>stationID</th>\n",
       "      <th>timezone</th>\n",
       "      <th>userID</th>\n",
       "      <th>userInputs</th>\n",
       "    </tr>\n",
       "  </thead>\n",
       "  <tbody>\n",
       "    <tr>\n",
       "      <th>0</th>\n",
       "      <td>0</td>\n",
       "      <td>5e23b149f9af8b5fe4b973cf</td>\n",
       "      <td>2020-01-02 13:08:54+00:00</td>\n",
       "      <td>2020-01-02 19:11:15+00:00</td>\n",
       "      <td>2020-01-02 17:31:35+00:00</td>\n",
       "      <td>25.016</td>\n",
       "      <td>1_1_179_810_2020-01-02 13:08:53.870034</td>\n",
       "      <td>1</td>\n",
       "      <td>AG-3F30</td>\n",
       "      <td>1-1-179-810</td>\n",
       "      <td>America/Los_Angeles</td>\n",
       "      <td>194.0</td>\n",
       "      <td>[{'WhPerMile': 250, 'kWhRequested': 25.0, 'mil...</td>\n",
       "    </tr>\n",
       "    <tr>\n",
       "      <th>1</th>\n",
       "      <td>1</td>\n",
       "      <td>5e23b149f9af8b5fe4b973d0</td>\n",
       "      <td>2020-01-02 13:36:50+00:00</td>\n",
       "      <td>2020-01-02 22:38:21+00:00</td>\n",
       "      <td>2020-01-02 20:18:05+00:00</td>\n",
       "      <td>33.097</td>\n",
       "      <td>1_1_193_825_2020-01-02 13:36:49.599853</td>\n",
       "      <td>1</td>\n",
       "      <td>AG-1F01</td>\n",
       "      <td>1-1-193-825</td>\n",
       "      <td>America/Los_Angeles</td>\n",
       "      <td>4275.0</td>\n",
       "      <td>[{'WhPerMile': 280, 'kWhRequested': 70.0, 'mil...</td>\n",
       "    </tr>\n",
       "    <tr>\n",
       "      <th>2</th>\n",
       "      <td>2</td>\n",
       "      <td>5e23b149f9af8b5fe4b973d1</td>\n",
       "      <td>2020-01-02 13:56:35+00:00</td>\n",
       "      <td>2020-01-03 00:39:22+00:00</td>\n",
       "      <td>2020-01-02 16:35:06+00:00</td>\n",
       "      <td>6.521</td>\n",
       "      <td>1_1_193_829_2020-01-02 13:56:35.214993</td>\n",
       "      <td>1</td>\n",
       "      <td>AG-1F03</td>\n",
       "      <td>1-1-193-829</td>\n",
       "      <td>America/Los_Angeles</td>\n",
       "      <td>344.0</td>\n",
       "      <td>[{'WhPerMile': 400, 'kWhRequested': 8.0, 'mile...</td>\n",
       "    </tr>\n",
       "    <tr>\n",
       "      <th>3</th>\n",
       "      <td>3</td>\n",
       "      <td>5e23b149f9af8b5fe4b973d2</td>\n",
       "      <td>2020-01-02 13:59:58+00:00</td>\n",
       "      <td>2020-01-02 16:38:39+00:00</td>\n",
       "      <td>2020-01-02 15:18:45+00:00</td>\n",
       "      <td>2.355</td>\n",
       "      <td>1_1_193_820_2020-01-02 13:59:58.309319</td>\n",
       "      <td>1</td>\n",
       "      <td>AG-1F04</td>\n",
       "      <td>1-1-193-820</td>\n",
       "      <td>America/Los_Angeles</td>\n",
       "      <td>1117.0</td>\n",
       "      <td>[{'WhPerMile': 400, 'kWhRequested': 8.0, 'mile...</td>\n",
       "    </tr>\n",
       "    <tr>\n",
       "      <th>4</th>\n",
       "      <td>4</td>\n",
       "      <td>5e23b149f9af8b5fe4b973d3</td>\n",
       "      <td>2020-01-02 14:00:01+00:00</td>\n",
       "      <td>2020-01-02 22:08:40+00:00</td>\n",
       "      <td>2020-01-02 18:17:30+00:00</td>\n",
       "      <td>13.375</td>\n",
       "      <td>1_1_193_819_2020-01-02 14:00:00.779967</td>\n",
       "      <td>1</td>\n",
       "      <td>AG-1F06</td>\n",
       "      <td>1-1-193-819</td>\n",
       "      <td>America/Los_Angeles</td>\n",
       "      <td>334.0</td>\n",
       "      <td>[{'WhPerMile': 400, 'kWhRequested': 16.0, 'mil...</td>\n",
       "    </tr>\n",
       "  </tbody>\n",
       "</table>\n",
       "</div>"
      ],
      "text/plain": [
       "   Unnamed: 0                        id             connectionTime             disconnectTime           doneChargingTime  kWhDelivered                               sessionID  siteID  spaceID    stationID             timezone  userID                                         userInputs\n",
       "0           0  5e23b149f9af8b5fe4b973cf  2020-01-02 13:08:54+00:00  2020-01-02 19:11:15+00:00  2020-01-02 17:31:35+00:00        25.016  1_1_179_810_2020-01-02 13:08:53.870034       1  AG-3F30  1-1-179-810  America/Los_Angeles   194.0  [{'WhPerMile': 250, 'kWhRequested': 25.0, 'mil...\n",
       "1           1  5e23b149f9af8b5fe4b973d0  2020-01-02 13:36:50+00:00  2020-01-02 22:38:21+00:00  2020-01-02 20:18:05+00:00        33.097  1_1_193_825_2020-01-02 13:36:49.599853       1  AG-1F01  1-1-193-825  America/Los_Angeles  4275.0  [{'WhPerMile': 280, 'kWhRequested': 70.0, 'mil...\n",
       "2           2  5e23b149f9af8b5fe4b973d1  2020-01-02 13:56:35+00:00  2020-01-03 00:39:22+00:00  2020-01-02 16:35:06+00:00         6.521  1_1_193_829_2020-01-02 13:56:35.214993       1  AG-1F03  1-1-193-829  America/Los_Angeles   344.0  [{'WhPerMile': 400, 'kWhRequested': 8.0, 'mile...\n",
       "3           3  5e23b149f9af8b5fe4b973d2  2020-01-02 13:59:58+00:00  2020-01-02 16:38:39+00:00  2020-01-02 15:18:45+00:00         2.355  1_1_193_820_2020-01-02 13:59:58.309319       1  AG-1F04  1-1-193-820  America/Los_Angeles  1117.0  [{'WhPerMile': 400, 'kWhRequested': 8.0, 'mile...\n",
       "4           4  5e23b149f9af8b5fe4b973d3  2020-01-02 14:00:01+00:00  2020-01-02 22:08:40+00:00  2020-01-02 18:17:30+00:00        13.375  1_1_193_819_2020-01-02 14:00:00.779967       1  AG-1F06  1-1-193-819  America/Los_Angeles   334.0  [{'WhPerMile': 400, 'kWhRequested': 16.0, 'mil..."
      ]
     },
     "execution_count": 224,
     "metadata": {},
     "output_type": "execute_result"
    }
   ],
   "source": [
    "data.head(5)"
   ]
  },
  {
   "cell_type": "code",
   "execution_count": 225,
   "metadata": {},
   "outputs": [],
   "source": [
    "#data.tail(10)"
   ]
  },
  {
   "cell_type": "markdown",
   "metadata": {},
   "source": [
    "The data in the dataset contains different attributes. Lets have a look at the different attributes."
   ]
  },
  {
   "cell_type": "code",
   "execution_count": 226,
   "metadata": {},
   "outputs": [
    {
     "data": {
      "text/plain": [
       "Index(['Unnamed: 0', 'id', 'connectionTime', 'disconnectTime', 'doneChargingTime', 'kWhDelivered', 'sessionID', 'siteID', 'spaceID', 'stationID', 'timezone', 'userID', 'userInputs'], dtype='object')"
      ]
     },
     "execution_count": 226,
     "metadata": {},
     "output_type": "execute_result"
    }
   ],
   "source": [
    "data.columns"
   ]
  },
  {
   "cell_type": "markdown",
   "metadata": {},
   "source": [
    "What does 'unnamed' mean? \n",
    "Presumably, the column is an index from the original DataFrame and gets transferred into a column when reading the CSV file. Since our dataset contains a unique ID for each entry, the 'Unnamed' numbering is not needed and can be deleted."
   ]
  },
  {
   "cell_type": "code",
   "execution_count": 227,
   "metadata": {},
   "outputs": [
    {
     "data": {
      "text/html": [
       "<div>\n",
       "<style scoped>\n",
       "    .dataframe tbody tr th:only-of-type {\n",
       "        vertical-align: middle;\n",
       "    }\n",
       "\n",
       "    .dataframe tbody tr th {\n",
       "        vertical-align: top;\n",
       "    }\n",
       "\n",
       "    .dataframe thead th {\n",
       "        text-align: right;\n",
       "    }\n",
       "</style>\n",
       "<table border=\"1\" class=\"dataframe\">\n",
       "  <thead>\n",
       "    <tr style=\"text-align: right;\">\n",
       "      <th></th>\n",
       "      <th>id</th>\n",
       "      <th>connectionTime</th>\n",
       "      <th>disconnectTime</th>\n",
       "      <th>doneChargingTime</th>\n",
       "      <th>kWhDelivered</th>\n",
       "      <th>sessionID</th>\n",
       "      <th>siteID</th>\n",
       "      <th>spaceID</th>\n",
       "      <th>stationID</th>\n",
       "      <th>timezone</th>\n",
       "      <th>userID</th>\n",
       "      <th>userInputs</th>\n",
       "    </tr>\n",
       "  </thead>\n",
       "  <tbody>\n",
       "    <tr>\n",
       "      <th>0</th>\n",
       "      <td>5e23b149f9af8b5fe4b973cf</td>\n",
       "      <td>2020-01-02 13:08:54+00:00</td>\n",
       "      <td>2020-01-02 19:11:15+00:00</td>\n",
       "      <td>2020-01-02 17:31:35+00:00</td>\n",
       "      <td>25.016</td>\n",
       "      <td>1_1_179_810_2020-01-02 13:08:53.870034</td>\n",
       "      <td>1</td>\n",
       "      <td>AG-3F30</td>\n",
       "      <td>1-1-179-810</td>\n",
       "      <td>America/Los_Angeles</td>\n",
       "      <td>194.0</td>\n",
       "      <td>[{'WhPerMile': 250, 'kWhRequested': 25.0, 'mil...</td>\n",
       "    </tr>\n",
       "    <tr>\n",
       "      <th>1</th>\n",
       "      <td>5e23b149f9af8b5fe4b973d0</td>\n",
       "      <td>2020-01-02 13:36:50+00:00</td>\n",
       "      <td>2020-01-02 22:38:21+00:00</td>\n",
       "      <td>2020-01-02 20:18:05+00:00</td>\n",
       "      <td>33.097</td>\n",
       "      <td>1_1_193_825_2020-01-02 13:36:49.599853</td>\n",
       "      <td>1</td>\n",
       "      <td>AG-1F01</td>\n",
       "      <td>1-1-193-825</td>\n",
       "      <td>America/Los_Angeles</td>\n",
       "      <td>4275.0</td>\n",
       "      <td>[{'WhPerMile': 280, 'kWhRequested': 70.0, 'mil...</td>\n",
       "    </tr>\n",
       "    <tr>\n",
       "      <th>2</th>\n",
       "      <td>5e23b149f9af8b5fe4b973d1</td>\n",
       "      <td>2020-01-02 13:56:35+00:00</td>\n",
       "      <td>2020-01-03 00:39:22+00:00</td>\n",
       "      <td>2020-01-02 16:35:06+00:00</td>\n",
       "      <td>6.521</td>\n",
       "      <td>1_1_193_829_2020-01-02 13:56:35.214993</td>\n",
       "      <td>1</td>\n",
       "      <td>AG-1F03</td>\n",
       "      <td>1-1-193-829</td>\n",
       "      <td>America/Los_Angeles</td>\n",
       "      <td>344.0</td>\n",
       "      <td>[{'WhPerMile': 400, 'kWhRequested': 8.0, 'mile...</td>\n",
       "    </tr>\n",
       "    <tr>\n",
       "      <th>3</th>\n",
       "      <td>5e23b149f9af8b5fe4b973d2</td>\n",
       "      <td>2020-01-02 13:59:58+00:00</td>\n",
       "      <td>2020-01-02 16:38:39+00:00</td>\n",
       "      <td>2020-01-02 15:18:45+00:00</td>\n",
       "      <td>2.355</td>\n",
       "      <td>1_1_193_820_2020-01-02 13:59:58.309319</td>\n",
       "      <td>1</td>\n",
       "      <td>AG-1F04</td>\n",
       "      <td>1-1-193-820</td>\n",
       "      <td>America/Los_Angeles</td>\n",
       "      <td>1117.0</td>\n",
       "      <td>[{'WhPerMile': 400, 'kWhRequested': 8.0, 'mile...</td>\n",
       "    </tr>\n",
       "    <tr>\n",
       "      <th>4</th>\n",
       "      <td>5e23b149f9af8b5fe4b973d3</td>\n",
       "      <td>2020-01-02 14:00:01+00:00</td>\n",
       "      <td>2020-01-02 22:08:40+00:00</td>\n",
       "      <td>2020-01-02 18:17:30+00:00</td>\n",
       "      <td>13.375</td>\n",
       "      <td>1_1_193_819_2020-01-02 14:00:00.779967</td>\n",
       "      <td>1</td>\n",
       "      <td>AG-1F06</td>\n",
       "      <td>1-1-193-819</td>\n",
       "      <td>America/Los_Angeles</td>\n",
       "      <td>334.0</td>\n",
       "      <td>[{'WhPerMile': 400, 'kWhRequested': 16.0, 'mil...</td>\n",
       "    </tr>\n",
       "    <tr>\n",
       "      <th>5</th>\n",
       "      <td>5e23b149f9af8b5fe4b973d4</td>\n",
       "      <td>2020-01-02 14:00:13+00:00</td>\n",
       "      <td>2020-01-02 23:00:41+00:00</td>\n",
       "      <td>2020-01-02 20:13:21+00:00</td>\n",
       "      <td>13.370</td>\n",
       "      <td>1_1_194_821_2020-01-02 14:00:05.241573</td>\n",
       "      <td>1</td>\n",
       "      <td>AG-1F13</td>\n",
       "      <td>1-1-194-821</td>\n",
       "      <td>America/Los_Angeles</td>\n",
       "      <td>3519.0</td>\n",
       "      <td>[{'WhPerMile': 600, 'kWhRequested': 24.0, 'mil...</td>\n",
       "    </tr>\n",
       "    <tr>\n",
       "      <th>6</th>\n",
       "      <td>5e23b149f9af8b5fe4b973d5</td>\n",
       "      <td>2020-01-02 14:09:14+00:00</td>\n",
       "      <td>2020-01-03 01:57:58+00:00</td>\n",
       "      <td>2020-01-03 00:59:21+00:00</td>\n",
       "      <td>43.477</td>\n",
       "      <td>1_1_178_817_2020-01-02 14:09:14.451827</td>\n",
       "      <td>1</td>\n",
       "      <td>AG-1F09</td>\n",
       "      <td>1-1-178-817</td>\n",
       "      <td>America/Los_Angeles</td>\n",
       "      <td>933.0</td>\n",
       "      <td>[{'WhPerMile': 385, 'kWhRequested': 65.45, 'mi...</td>\n",
       "    </tr>\n",
       "    <tr>\n",
       "      <th>7</th>\n",
       "      <td>5e23b149f9af8b5fe4b973d6</td>\n",
       "      <td>2020-01-02 14:17:32+00:00</td>\n",
       "      <td>2020-01-03 00:44:54+00:00</td>\n",
       "      <td>2020-01-02 20:22:40+00:00</td>\n",
       "      <td>32.441</td>\n",
       "      <td>1_1_191_804_2020-01-02 14:17:32.329535</td>\n",
       "      <td>1</td>\n",
       "      <td>AG-4F34</td>\n",
       "      <td>1-1-191-804</td>\n",
       "      <td>America/Los_Angeles</td>\n",
       "      <td>3737.0</td>\n",
       "      <td>[{'WhPerMile': 300, 'kWhRequested': 45.0, 'mil...</td>\n",
       "    </tr>\n",
       "    <tr>\n",
       "      <th>8</th>\n",
       "      <td>5e23b149f9af8b5fe4b973d7</td>\n",
       "      <td>2020-01-02 14:25:38+00:00</td>\n",
       "      <td>2020-01-02 19:36:05+00:00</td>\n",
       "      <td>2020-01-02 18:38:39+00:00</td>\n",
       "      <td>13.264</td>\n",
       "      <td>1_1_194_826_2020-01-02 14:25:37.578692</td>\n",
       "      <td>1</td>\n",
       "      <td>AG-1F11</td>\n",
       "      <td>1-1-194-826</td>\n",
       "      <td>America/Los_Angeles</td>\n",
       "      <td>419.0</td>\n",
       "      <td>[{'WhPerMile': 400, 'kWhRequested': 40.0, 'mil...</td>\n",
       "    </tr>\n",
       "    <tr>\n",
       "      <th>9</th>\n",
       "      <td>5e23b149f9af8b5fe4b973d8</td>\n",
       "      <td>2020-01-02 14:27:40+00:00</td>\n",
       "      <td>2020-01-02 20:01:48+00:00</td>\n",
       "      <td>2020-01-02 19:17:46+00:00</td>\n",
       "      <td>13.285</td>\n",
       "      <td>1_1_178_823_2020-01-02 14:27:39.582337</td>\n",
       "      <td>1</td>\n",
       "      <td>AG-1F08</td>\n",
       "      <td>1-1-178-823</td>\n",
       "      <td>America/Los_Angeles</td>\n",
       "      <td>651.0</td>\n",
       "      <td>[{'WhPerMile': 400, 'kWhRequested': 20.0, 'mil...</td>\n",
       "    </tr>\n",
       "  </tbody>\n",
       "</table>\n",
       "</div>"
      ],
      "text/plain": [
       "                         id             connectionTime             disconnectTime           doneChargingTime  kWhDelivered                               sessionID  siteID  spaceID    stationID             timezone  userID                                         userInputs\n",
       "0  5e23b149f9af8b5fe4b973cf  2020-01-02 13:08:54+00:00  2020-01-02 19:11:15+00:00  2020-01-02 17:31:35+00:00        25.016  1_1_179_810_2020-01-02 13:08:53.870034       1  AG-3F30  1-1-179-810  America/Los_Angeles   194.0  [{'WhPerMile': 250, 'kWhRequested': 25.0, 'mil...\n",
       "1  5e23b149f9af8b5fe4b973d0  2020-01-02 13:36:50+00:00  2020-01-02 22:38:21+00:00  2020-01-02 20:18:05+00:00        33.097  1_1_193_825_2020-01-02 13:36:49.599853       1  AG-1F01  1-1-193-825  America/Los_Angeles  4275.0  [{'WhPerMile': 280, 'kWhRequested': 70.0, 'mil...\n",
       "2  5e23b149f9af8b5fe4b973d1  2020-01-02 13:56:35+00:00  2020-01-03 00:39:22+00:00  2020-01-02 16:35:06+00:00         6.521  1_1_193_829_2020-01-02 13:56:35.214993       1  AG-1F03  1-1-193-829  America/Los_Angeles   344.0  [{'WhPerMile': 400, 'kWhRequested': 8.0, 'mile...\n",
       "3  5e23b149f9af8b5fe4b973d2  2020-01-02 13:59:58+00:00  2020-01-02 16:38:39+00:00  2020-01-02 15:18:45+00:00         2.355  1_1_193_820_2020-01-02 13:59:58.309319       1  AG-1F04  1-1-193-820  America/Los_Angeles  1117.0  [{'WhPerMile': 400, 'kWhRequested': 8.0, 'mile...\n",
       "4  5e23b149f9af8b5fe4b973d3  2020-01-02 14:00:01+00:00  2020-01-02 22:08:40+00:00  2020-01-02 18:17:30+00:00        13.375  1_1_193_819_2020-01-02 14:00:00.779967       1  AG-1F06  1-1-193-819  America/Los_Angeles   334.0  [{'WhPerMile': 400, 'kWhRequested': 16.0, 'mil...\n",
       "5  5e23b149f9af8b5fe4b973d4  2020-01-02 14:00:13+00:00  2020-01-02 23:00:41+00:00  2020-01-02 20:13:21+00:00        13.370  1_1_194_821_2020-01-02 14:00:05.241573       1  AG-1F13  1-1-194-821  America/Los_Angeles  3519.0  [{'WhPerMile': 600, 'kWhRequested': 24.0, 'mil...\n",
       "6  5e23b149f9af8b5fe4b973d5  2020-01-02 14:09:14+00:00  2020-01-03 01:57:58+00:00  2020-01-03 00:59:21+00:00        43.477  1_1_178_817_2020-01-02 14:09:14.451827       1  AG-1F09  1-1-178-817  America/Los_Angeles   933.0  [{'WhPerMile': 385, 'kWhRequested': 65.45, 'mi...\n",
       "7  5e23b149f9af8b5fe4b973d6  2020-01-02 14:17:32+00:00  2020-01-03 00:44:54+00:00  2020-01-02 20:22:40+00:00        32.441  1_1_191_804_2020-01-02 14:17:32.329535       1  AG-4F34  1-1-191-804  America/Los_Angeles  3737.0  [{'WhPerMile': 300, 'kWhRequested': 45.0, 'mil...\n",
       "8  5e23b149f9af8b5fe4b973d7  2020-01-02 14:25:38+00:00  2020-01-02 19:36:05+00:00  2020-01-02 18:38:39+00:00        13.264  1_1_194_826_2020-01-02 14:25:37.578692       1  AG-1F11  1-1-194-826  America/Los_Angeles   419.0  [{'WhPerMile': 400, 'kWhRequested': 40.0, 'mil...\n",
       "9  5e23b149f9af8b5fe4b973d8  2020-01-02 14:27:40+00:00  2020-01-02 20:01:48+00:00  2020-01-02 19:17:46+00:00        13.285  1_1_178_823_2020-01-02 14:27:39.582337       1  AG-1F08  1-1-178-823  America/Los_Angeles   651.0  [{'WhPerMile': 400, 'kWhRequested': 20.0, 'mil..."
      ]
     },
     "execution_count": 227,
     "metadata": {},
     "output_type": "execute_result"
    }
   ],
   "source": [
    "data_clean = data.drop(columns=['Unnamed: 0'])\n",
    "data_clean.head(10)"
   ]
  },
  {
   "cell_type": "code",
   "execution_count": 228,
   "metadata": {},
   "outputs": [
    {
     "name": "stdout",
     "output_type": "stream",
     "text": [
      "<class 'pandas.core.frame.DataFrame'>\n",
      "RangeIndex: 66450 entries, 0 to 66449\n",
      "Data columns (total 13 columns):\n",
      " #   Column            Non-Null Count  Dtype  \n",
      "---  ------            --------------  -----  \n",
      " 0   Unnamed: 0        66450 non-null  int64  \n",
      " 1   id                66450 non-null  object \n",
      " 2   connectionTime    66450 non-null  object \n",
      " 3   disconnectTime    66450 non-null  object \n",
      " 4   doneChargingTime  62362 non-null  object \n",
      " 5   kWhDelivered      66450 non-null  float64\n",
      " 6   sessionID         66450 non-null  object \n",
      " 7   siteID            66450 non-null  int64  \n",
      " 8   spaceID           66450 non-null  object \n",
      " 9   stationID         66450 non-null  object \n",
      " 10  timezone          66450 non-null  object \n",
      " 11  userID            49187 non-null  float64\n",
      " 12  userInputs        49187 non-null  object \n",
      "dtypes: float64(2), int64(2), object(9)\n",
      "memory usage: 6.6+ MB\n",
      "None\n"
     ]
    }
   ],
   "source": [
    "print(data.info())"
   ]
  },
  {
   "cell_type": "markdown",
   "metadata": {},
   "source": [
    "Here you can see that 'doneChargingTime', 'userID', and 'userInputs' have missing values. For the userId and inputs it can be explained through missing user accounts. Not every user of the garage needs to be registred. But for the missing values of the charging-end we need a solution."
   ]
  },
  {
   "cell_type": "code",
   "execution_count": 229,
   "metadata": {},
   "outputs": [
    {
     "name": "stdout",
     "output_type": "stream",
     "text": [
      "The charging dataset contains 66450 entries\n"
     ]
    }
   ],
   "source": [
    "print(f\"The charging dataset contains {len(data)} entries\")"
   ]
  },
  {
   "cell_type": "markdown",
   "metadata": {},
   "source": [
    "The missing values of the finished chargingTime could mean, that the EV is not finished loading during the parking slot and may needs some more time to finish."
   ]
  },
  {
   "cell_type": "markdown",
   "metadata": {},
   "source": [
    "But before using the time-data we have to convert them into timestamps:\n",
    "1. Check the time columns and transfer them into datetime to further be able to work with them.\n",
    "2. We also do not want the information on the timezone, so we exclude it from the timestamp"
   ]
  },
  {
   "cell_type": "code",
   "execution_count": 230,
   "metadata": {},
   "outputs": [
    {
     "name": "stdout",
     "output_type": "stream",
     "text": [
      "object\n"
     ]
    }
   ],
   "source": [
    "print(data['connectionTime'].dtype)"
   ]
  },
  {
   "cell_type": "code",
   "execution_count": 231,
   "metadata": {},
   "outputs": [
    {
     "data": {
      "text/html": [
       "<div>\n",
       "<style scoped>\n",
       "    .dataframe tbody tr th:only-of-type {\n",
       "        vertical-align: middle;\n",
       "    }\n",
       "\n",
       "    .dataframe tbody tr th {\n",
       "        vertical-align: top;\n",
       "    }\n",
       "\n",
       "    .dataframe thead th {\n",
       "        text-align: right;\n",
       "    }\n",
       "</style>\n",
       "<table border=\"1\" class=\"dataframe\">\n",
       "  <thead>\n",
       "    <tr style=\"text-align: right;\">\n",
       "      <th></th>\n",
       "      <th>id</th>\n",
       "      <th>connectionTime</th>\n",
       "      <th>disconnectTime</th>\n",
       "      <th>doneChargingTime</th>\n",
       "      <th>kWhDelivered</th>\n",
       "      <th>sessionID</th>\n",
       "      <th>siteID</th>\n",
       "      <th>spaceID</th>\n",
       "      <th>stationID</th>\n",
       "      <th>timezone</th>\n",
       "      <th>userID</th>\n",
       "      <th>userInputs</th>\n",
       "    </tr>\n",
       "  </thead>\n",
       "  <tbody>\n",
       "    <tr>\n",
       "      <th>0</th>\n",
       "      <td>5e23b149f9af8b5fe4b973cf</td>\n",
       "      <td>2020-01-02 13:08:54</td>\n",
       "      <td>2020-01-02 19:11:15</td>\n",
       "      <td>2020-01-02 17:31:35</td>\n",
       "      <td>25.016</td>\n",
       "      <td>1_1_179_810_2020-01-02 13:08:53.870034</td>\n",
       "      <td>1</td>\n",
       "      <td>AG-3F30</td>\n",
       "      <td>1-1-179-810</td>\n",
       "      <td>America/Los_Angeles</td>\n",
       "      <td>194.0</td>\n",
       "      <td>[{'WhPerMile': 250, 'kWhRequested': 25.0, 'mil...</td>\n",
       "    </tr>\n",
       "    <tr>\n",
       "      <th>1</th>\n",
       "      <td>5e23b149f9af8b5fe4b973d0</td>\n",
       "      <td>2020-01-02 13:36:50</td>\n",
       "      <td>2020-01-02 22:38:21</td>\n",
       "      <td>2020-01-02 20:18:05</td>\n",
       "      <td>33.097</td>\n",
       "      <td>1_1_193_825_2020-01-02 13:36:49.599853</td>\n",
       "      <td>1</td>\n",
       "      <td>AG-1F01</td>\n",
       "      <td>1-1-193-825</td>\n",
       "      <td>America/Los_Angeles</td>\n",
       "      <td>4275.0</td>\n",
       "      <td>[{'WhPerMile': 280, 'kWhRequested': 70.0, 'mil...</td>\n",
       "    </tr>\n",
       "    <tr>\n",
       "      <th>2</th>\n",
       "      <td>5e23b149f9af8b5fe4b973d1</td>\n",
       "      <td>2020-01-02 13:56:35</td>\n",
       "      <td>2020-01-03 00:39:22</td>\n",
       "      <td>2020-01-02 16:35:06</td>\n",
       "      <td>6.521</td>\n",
       "      <td>1_1_193_829_2020-01-02 13:56:35.214993</td>\n",
       "      <td>1</td>\n",
       "      <td>AG-1F03</td>\n",
       "      <td>1-1-193-829</td>\n",
       "      <td>America/Los_Angeles</td>\n",
       "      <td>344.0</td>\n",
       "      <td>[{'WhPerMile': 400, 'kWhRequested': 8.0, 'mile...</td>\n",
       "    </tr>\n",
       "    <tr>\n",
       "      <th>3</th>\n",
       "      <td>5e23b149f9af8b5fe4b973d2</td>\n",
       "      <td>2020-01-02 13:59:58</td>\n",
       "      <td>2020-01-02 16:38:39</td>\n",
       "      <td>2020-01-02 15:18:45</td>\n",
       "      <td>2.355</td>\n",
       "      <td>1_1_193_820_2020-01-02 13:59:58.309319</td>\n",
       "      <td>1</td>\n",
       "      <td>AG-1F04</td>\n",
       "      <td>1-1-193-820</td>\n",
       "      <td>America/Los_Angeles</td>\n",
       "      <td>1117.0</td>\n",
       "      <td>[{'WhPerMile': 400, 'kWhRequested': 8.0, 'mile...</td>\n",
       "    </tr>\n",
       "    <tr>\n",
       "      <th>4</th>\n",
       "      <td>5e23b149f9af8b5fe4b973d3</td>\n",
       "      <td>2020-01-02 14:00:01</td>\n",
       "      <td>2020-01-02 22:08:40</td>\n",
       "      <td>2020-01-02 18:17:30</td>\n",
       "      <td>13.375</td>\n",
       "      <td>1_1_193_819_2020-01-02 14:00:00.779967</td>\n",
       "      <td>1</td>\n",
       "      <td>AG-1F06</td>\n",
       "      <td>1-1-193-819</td>\n",
       "      <td>America/Los_Angeles</td>\n",
       "      <td>334.0</td>\n",
       "      <td>[{'WhPerMile': 400, 'kWhRequested': 16.0, 'mil...</td>\n",
       "    </tr>\n",
       "  </tbody>\n",
       "</table>\n",
       "</div>"
      ],
      "text/plain": [
       "                         id      connectionTime      disconnectTime    doneChargingTime  kWhDelivered                               sessionID  siteID  spaceID    stationID             timezone  userID                                         userInputs\n",
       "0  5e23b149f9af8b5fe4b973cf 2020-01-02 13:08:54 2020-01-02 19:11:15 2020-01-02 17:31:35        25.016  1_1_179_810_2020-01-02 13:08:53.870034       1  AG-3F30  1-1-179-810  America/Los_Angeles   194.0  [{'WhPerMile': 250, 'kWhRequested': 25.0, 'mil...\n",
       "1  5e23b149f9af8b5fe4b973d0 2020-01-02 13:36:50 2020-01-02 22:38:21 2020-01-02 20:18:05        33.097  1_1_193_825_2020-01-02 13:36:49.599853       1  AG-1F01  1-1-193-825  America/Los_Angeles  4275.0  [{'WhPerMile': 280, 'kWhRequested': 70.0, 'mil...\n",
       "2  5e23b149f9af8b5fe4b973d1 2020-01-02 13:56:35 2020-01-03 00:39:22 2020-01-02 16:35:06         6.521  1_1_193_829_2020-01-02 13:56:35.214993       1  AG-1F03  1-1-193-829  America/Los_Angeles   344.0  [{'WhPerMile': 400, 'kWhRequested': 8.0, 'mile...\n",
       "3  5e23b149f9af8b5fe4b973d2 2020-01-02 13:59:58 2020-01-02 16:38:39 2020-01-02 15:18:45         2.355  1_1_193_820_2020-01-02 13:59:58.309319       1  AG-1F04  1-1-193-820  America/Los_Angeles  1117.0  [{'WhPerMile': 400, 'kWhRequested': 8.0, 'mile...\n",
       "4  5e23b149f9af8b5fe4b973d3 2020-01-02 14:00:01 2020-01-02 22:08:40 2020-01-02 18:17:30        13.375  1_1_193_819_2020-01-02 14:00:00.779967       1  AG-1F06  1-1-193-819  America/Los_Angeles   334.0  [{'WhPerMile': 400, 'kWhRequested': 16.0, 'mil..."
      ]
     },
     "execution_count": 231,
     "metadata": {},
     "output_type": "execute_result"
    }
   ],
   "source": [
    "data_clean['connectionTime'] = pd.to_datetime(data_clean['connectionTime']).dt.tz_localize(None)\n",
    "data_clean['disconnectTime'] = pd.to_datetime(data_clean['disconnectTime']).dt.tz_localize(None)\n",
    "data_clean['doneChargingTime'] = pd.to_datetime(data_clean['doneChargingTime']).dt.tz_localize(None)\n",
    "data_clean.head()"
   ]
  },
  {
   "cell_type": "code",
   "execution_count": 232,
   "metadata": {},
   "outputs": [
    {
     "data": {
      "text/html": [
       "<div>\n",
       "<style scoped>\n",
       "    .dataframe tbody tr th:only-of-type {\n",
       "        vertical-align: middle;\n",
       "    }\n",
       "\n",
       "    .dataframe tbody tr th {\n",
       "        vertical-align: top;\n",
       "    }\n",
       "\n",
       "    .dataframe thead th {\n",
       "        text-align: right;\n",
       "    }\n",
       "</style>\n",
       "<table border=\"1\" class=\"dataframe\">\n",
       "  <thead>\n",
       "    <tr style=\"text-align: right;\">\n",
       "      <th></th>\n",
       "      <th>id</th>\n",
       "      <th>connectionTime</th>\n",
       "      <th>disconnectTime</th>\n",
       "      <th>doneChargingTime</th>\n",
       "      <th>kWhDelivered</th>\n",
       "      <th>sessionID</th>\n",
       "      <th>siteID</th>\n",
       "      <th>spaceID</th>\n",
       "      <th>stationID</th>\n",
       "      <th>timezone</th>\n",
       "      <th>userID</th>\n",
       "      <th>userInputs</th>\n",
       "    </tr>\n",
       "  </thead>\n",
       "  <tbody>\n",
       "    <tr>\n",
       "      <th>3756</th>\n",
       "      <td>5ea3848df9af8b428bf97225</td>\n",
       "      <td>2020-04-08 16:36:53</td>\n",
       "      <td>2020-04-09 03:43:29</td>\n",
       "      <td>NaT</td>\n",
       "      <td>25.183</td>\n",
       "      <td>1_1_194_822_2020-04-08 16:36:53.316264</td>\n",
       "      <td>1</td>\n",
       "      <td>AG-1F12</td>\n",
       "      <td>1-1-194-822</td>\n",
       "      <td>America/Los_Angeles</td>\n",
       "      <td>507.0</td>\n",
       "      <td>[{'WhPerMile': 250, 'kWhRequested': 75.0, 'mil...</td>\n",
       "    </tr>\n",
       "    <tr>\n",
       "      <th>3757</th>\n",
       "      <td>5ea4d60df9af8b46573f1ee7</td>\n",
       "      <td>2020-04-09 13:23:52</td>\n",
       "      <td>2020-04-09 17:59:02</td>\n",
       "      <td>NaT</td>\n",
       "      <td>14.136</td>\n",
       "      <td>1_1_193_827_2020-04-09 13:23:51.689520</td>\n",
       "      <td>1</td>\n",
       "      <td>AG-1F02</td>\n",
       "      <td>1-1-193-827</td>\n",
       "      <td>America/Los_Angeles</td>\n",
       "      <td>419.0</td>\n",
       "      <td>[{'WhPerMile': 400, 'kWhRequested': 40.0, 'mil...</td>\n",
       "    </tr>\n",
       "    <tr>\n",
       "      <th>3758</th>\n",
       "      <td>5ea4d60df9af8b46573f1ee8</td>\n",
       "      <td>2020-04-09 13:40:03</td>\n",
       "      <td>2020-04-09 21:43:22</td>\n",
       "      <td>NaT</td>\n",
       "      <td>14.203</td>\n",
       "      <td>1_1_178_823_2020-04-09 13:39:55.115497</td>\n",
       "      <td>1</td>\n",
       "      <td>AG-1F08</td>\n",
       "      <td>1-1-178-823</td>\n",
       "      <td>America/Los_Angeles</td>\n",
       "      <td>5065.0</td>\n",
       "      <td>[{'WhPerMile': 400, 'kWhRequested': 24.0, 'mil...</td>\n",
       "    </tr>\n",
       "    <tr>\n",
       "      <th>3759</th>\n",
       "      <td>5ea4d60df9af8b46573f1ee9</td>\n",
       "      <td>2020-04-09 14:01:53</td>\n",
       "      <td>2020-04-09 16:33:40</td>\n",
       "      <td>NaT</td>\n",
       "      <td>13.041</td>\n",
       "      <td>1_1_178_828_2020-04-09 14:01:53.467693</td>\n",
       "      <td>1</td>\n",
       "      <td>AG-1F10</td>\n",
       "      <td>1-1-178-828</td>\n",
       "      <td>America/Los_Angeles</td>\n",
       "      <td>651.0</td>\n",
       "      <td>[{'WhPerMile': 400, 'kWhRequested': 20.0, 'mil...</td>\n",
       "    </tr>\n",
       "    <tr>\n",
       "      <th>3760</th>\n",
       "      <td>5ea4d60df9af8b46573f1eea</td>\n",
       "      <td>2020-04-09 15:01:06</td>\n",
       "      <td>2020-04-09 23:38:08</td>\n",
       "      <td>NaT</td>\n",
       "      <td>5.797</td>\n",
       "      <td>1_1_193_820_2020-04-09 15:01:06.343454</td>\n",
       "      <td>1</td>\n",
       "      <td>AG-1F04</td>\n",
       "      <td>1-1-193-820</td>\n",
       "      <td>America/Los_Angeles</td>\n",
       "      <td>466.0</td>\n",
       "      <td>[{'WhPerMile': 300, 'kWhRequested': 6.0, 'mile...</td>\n",
       "    </tr>\n",
       "  </tbody>\n",
       "</table>\n",
       "</div>"
      ],
      "text/plain": [
       "                            id      connectionTime      disconnectTime doneChargingTime  kWhDelivered                               sessionID  siteID  spaceID    stationID             timezone  userID                                         userInputs\n",
       "3756  5ea3848df9af8b428bf97225 2020-04-08 16:36:53 2020-04-09 03:43:29              NaT        25.183  1_1_194_822_2020-04-08 16:36:53.316264       1  AG-1F12  1-1-194-822  America/Los_Angeles   507.0  [{'WhPerMile': 250, 'kWhRequested': 75.0, 'mil...\n",
       "3757  5ea4d60df9af8b46573f1ee7 2020-04-09 13:23:52 2020-04-09 17:59:02              NaT        14.136  1_1_193_827_2020-04-09 13:23:51.689520       1  AG-1F02  1-1-193-827  America/Los_Angeles   419.0  [{'WhPerMile': 400, 'kWhRequested': 40.0, 'mil...\n",
       "3758  5ea4d60df9af8b46573f1ee8 2020-04-09 13:40:03 2020-04-09 21:43:22              NaT        14.203  1_1_178_823_2020-04-09 13:39:55.115497       1  AG-1F08  1-1-178-823  America/Los_Angeles  5065.0  [{'WhPerMile': 400, 'kWhRequested': 24.0, 'mil...\n",
       "3759  5ea4d60df9af8b46573f1ee9 2020-04-09 14:01:53 2020-04-09 16:33:40              NaT        13.041  1_1_178_828_2020-04-09 14:01:53.467693       1  AG-1F10  1-1-178-828  America/Los_Angeles   651.0  [{'WhPerMile': 400, 'kWhRequested': 20.0, 'mil...\n",
       "3760  5ea4d60df9af8b46573f1eea 2020-04-09 15:01:06 2020-04-09 23:38:08              NaT         5.797  1_1_193_820_2020-04-09 15:01:06.343454       1  AG-1F04  1-1-193-820  America/Los_Angeles   466.0  [{'WhPerMile': 300, 'kWhRequested': 6.0, 'mile..."
      ]
     },
     "execution_count": 232,
     "metadata": {},
     "output_type": "execute_result"
    }
   ],
   "source": [
    "no_doneCharging = data_clean[data_clean['doneChargingTime'].isna()]\n",
    "no_doneCharging.head()"
   ]
  },
  {
   "cell_type": "markdown",
   "metadata": {},
   "source": [
    "I first thought that the error occurs when the loading procedure is very long, but the duration says different..."
   ]
  },
  {
   "cell_type": "code",
   "execution_count": 233,
   "metadata": {},
   "outputs": [
    {
     "name": "stdout",
     "output_type": "stream",
     "text": [
      "           connectionTime      disconnectTime   duration\n",
      "3756  2020-04-08 16:36:53 2020-04-09 03:43:29  11.110000\n",
      "3757  2020-04-09 13:23:52 2020-04-09 17:59:02   4.586111\n",
      "3758  2020-04-09 13:40:03 2020-04-09 21:43:22   8.055278\n",
      "3759  2020-04-09 14:01:53 2020-04-09 16:33:40   2.529722\n",
      "3760  2020-04-09 15:01:06 2020-04-09 23:38:08   8.617222\n",
      "...                   ...                 ...        ...\n",
      "60411 2019-03-30 00:32:10 2019-03-30 02:23:14   1.851111\n",
      "61097 2019-04-14 16:19:12 2019-04-14 20:38:39   4.324167\n",
      "61103 2019-04-15 13:00:59 2019-04-15 13:55:25   0.907222\n",
      "61117 2019-04-15 13:52:45 2019-04-15 14:47:01   0.904444\n",
      "65530 2019-07-13 20:13:18 2019-07-13 20:37:40   0.406111\n",
      "\n",
      "[4088 rows x 3 columns]\n"
     ]
    },
    {
     "name": "stderr",
     "output_type": "stream",
     "text": [
      "C:\\Users\\carlo\\AppData\\Local\\Temp\\ipykernel_53756\\1641337212.py:1: SettingWithCopyWarning: \n",
      "A value is trying to be set on a copy of a slice from a DataFrame.\n",
      "Try using .loc[row_indexer,col_indexer] = value instead\n",
      "\n",
      "See the caveats in the documentation: https://pandas.pydata.org/pandas-docs/stable/user_guide/indexing.html#returning-a-view-versus-a-copy\n",
      "  no_doneCharging['duration'] = (no_doneCharging['disconnectTime'] - no_doneCharging['connectionTime']).dt.total_seconds() /3600 # in hours\n"
     ]
    }
   ],
   "source": [
    "no_doneCharging['duration'] = (no_doneCharging['disconnectTime'] - no_doneCharging['connectionTime']).dt.total_seconds() /3600 # in hours\n",
    "print(no_doneCharging[['connectionTime', 'disconnectTime', 'duration']])"
   ]
  },
  {
   "cell_type": "markdown",
   "metadata": {},
   "source": [
    "One consideration to solve this issue is to set the doneChargingTime = disconnectTime, as this would mean that the EVs were not fully charged and were charging the whole time from the start to the end of the parking (connection) time. however, it could also mean that some data was not recorded correctly."
   ]
  },
  {
   "cell_type": "code",
   "execution_count": 234,
   "metadata": {},
   "outputs": [],
   "source": [
    "# Fill NaN values in 'doneChargingTime' with corresponding values from 'disconnectTime'\n",
    "data_clean['doneChargingTime'] = data_clean['doneChargingTime'].fillna(data_clean['disconnectTime'])\n",
    "# from further analysis we know, that this entries f.e. had a missing 'doneChargingTime' so display some of the specific rows to verify the fill\n",
    "#print(data_clean.loc[[3760, 61097, 65530], :])"
   ]
  },
  {
   "cell_type": "markdown",
   "metadata": {},
   "source": [
    "They are shown weird so we transposed the dataset to have a better overview. Here you can see, that the time is set correctly."
   ]
  },
  {
   "cell_type": "code",
   "execution_count": 235,
   "metadata": {},
   "outputs": [
    {
     "name": "stdout",
     "output_type": "stream",
     "text": [
      "                                                              3760                                               61097                                              65530\n",
      "id                                         5ea4d60df9af8b46573f1eea                           5cc8e891f9af8b45d975b819                           5d3f8f96f9af8b7f97666a55\n",
      "connectionTime                                  2020-04-09 15:01:06                                2019-04-14 16:19:12                                2019-07-13 20:13:18\n",
      "disconnectTime                                  2020-04-09 23:38:08                                2019-04-14 20:38:39                                2019-07-13 20:37:40\n",
      "doneChargingTime                                2020-04-09 23:38:08                                2019-04-14 20:38:39                                2019-07-13 20:37:40\n",
      "kWhDelivered                                                  5.797                                             11.678                                              2.218\n",
      "sessionID                    1_1_193_820_2020-04-09 15:01:06.343454             1_1_193_816_2019-04-14 16:19:11.864262             1_1_193_825_2019-07-13 20:13:18.490314\n",
      "siteID                                                            1                                                  1                                                  1\n",
      "spaceID                                                     AG-1F04                                            AG-1F05                                            AG-1F01\n",
      "stationID                                               1-1-193-820                                        1-1-193-816                                        1-1-193-825\n",
      "timezone                                        America/Los_Angeles                                America/Los_Angeles                                America/Los_Angeles\n",
      "userID                                                        466.0                                              364.0                                               76.0\n",
      "userInputs        [{'WhPerMile': 300, 'kWhRequested': 6.0, 'mile...  [{'WhPerMile': 400, 'kWhRequested': 56.0, 'mil...  [{'WhPerMile': 301, 'kWhRequested': 9.03, 'mil...\n"
     ]
    }
   ],
   "source": [
    "pd.set_option('display.max_columns', None)  # Show all columns\n",
    "pd.set_option('display.width', 1000)   \n",
    "print(data_clean.loc[[3760, 61097, 65530], :].transpose())"
   ]
  },
  {
   "cell_type": "markdown",
   "metadata": {},
   "source": [
    "The length of the userId and the userInput is the same which could mean that each userInput has a corresponding userID. But to be sure we check if that is the case. It could not be that an entry with a userInput has no corresponding userId:"
   ]
  },
  {
   "cell_type": "code",
   "execution_count": 236,
   "metadata": {},
   "outputs": [
    {
     "name": "stdout",
     "output_type": "stream",
     "text": [
      "All 'userInputs' have a corresponding 'userID'.\n"
     ]
    }
   ],
   "source": [
    "def check_user_input_user_id(data):\n",
    "\n",
    "    invalid_entries = data[(data['userInputs'].notnull()) & (data['userID'].isnull())]\n",
    "\n",
    "    if len(invalid_entries>0):\n",
    "        print(\"There are entries with 'userInputs' but no 'userID':\")\n",
    "        print(invalid_entries)\n",
    "        return False\n",
    "    else:\n",
    "        print(\"All 'userInputs' have a corresponding 'userID'.\")\n",
    "        return True\n",
    "\n",
    "result = check_user_input_user_id(data) "
   ]
  },
  {
   "cell_type": "markdown",
   "metadata": {},
   "source": [
    "Now we check how long each charging process durates."
   ]
  },
  {
   "cell_type": "code",
   "execution_count": 237,
   "metadata": {},
   "outputs": [
    {
     "name": "stdout",
     "output_type": "stream",
     "text": [
      "       connectionTime      disconnectTime  chargingDuration\n",
      "0 2020-01-02 13:08:54 2020-01-02 19:11:15          6.039167\n",
      "1 2020-01-02 13:36:50 2020-01-02 22:38:21          9.025278\n",
      "2 2020-01-02 13:56:35 2020-01-03 00:39:22         10.713056\n",
      "3 2020-01-02 13:59:58 2020-01-02 16:38:39          2.644722\n",
      "4 2020-01-02 14:00:01 2020-01-02 22:08:40          8.144167\n"
     ]
    }
   ],
   "source": [
    "data_clean['chargingDuration'] = data_clean['disconnectTime']-data_clean['connectionTime']\n",
    "data_clean['chargingDuration'] = data_clean['chargingDuration'].dt.total_seconds() /3600 # in hours\n",
    "print(data_clean[['connectionTime', 'disconnectTime', 'chargingDuration']].head())"
   ]
  },
  {
   "cell_type": "code",
   "execution_count": 238,
   "metadata": {},
   "outputs": [
    {
     "name": "stdout",
     "output_type": "stream",
     "text": [
      "The average duration time for the charging process is: 6.29 hours\n"
     ]
    }
   ],
   "source": [
    "average_duration = data_clean['chargingDuration'].mean()\n",
    "print(f'The average duration time for the charging process is: {average_duration:.2f} hours')"
   ]
  },
  {
   "cell_type": "markdown",
   "metadata": {},
   "source": [
    "The timezone is America for all, so we have to change the time from UTC to UTC-8 hours. "
   ]
  },
  {
   "cell_type": "code",
   "execution_count": 239,
   "metadata": {},
   "outputs": [
    {
     "name": "stdout",
     "output_type": "stream",
     "text": [
      "Current UTC Time:  2024-11-07 20:36:42 UTC+0000\n",
      "Current LA Time:  2024-11-07 12:36:42 PST-0800\n"
     ]
    }
   ],
   "source": [
    "from datetime import datetime\n",
    "import pytz\n",
    "la_timezone = pytz.timezone('America/Los_Angeles')\n",
    "utc_timezone = pytz.utc\n",
    "utc_now = datetime.now(pytz.utc)\n",
    "la_now = datetime.now(pytz.timezone('America/Los_Angeles'))\n",
    "\n",
    "print('Current UTC Time: ', utc_now.strftime('%Y-%m-%d %H:%M:%S %Z%z'))\n",
    "print('Current LA Time: ', la_now.strftime('%Y-%m-%d %H:%M:%S %Z%z'))"
   ]
  },
  {
   "cell_type": "code",
   "execution_count": 240,
   "metadata": {},
   "outputs": [],
   "source": [
    "data_clean['connectionTime'] = data_clean['connectionTime'].dt.tz_localize(utc_timezone).dt.tz_convert(la_timezone)\n",
    "data_clean['disconnectTime'] = data_clean['disconnectTime'].dt.tz_localize(utc_timezone).dt.tz_convert(la_timezone)\n",
    "data_clean['doneChargingTime'] = data_clean['doneChargingTime'].dt.tz_localize(utc_timezone).dt.tz_convert(la_timezone)"
   ]
  },
  {
   "cell_type": "code",
   "execution_count": 241,
   "metadata": {},
   "outputs": [
    {
     "data": {
      "text/html": [
       "<div>\n",
       "<style scoped>\n",
       "    .dataframe tbody tr th:only-of-type {\n",
       "        vertical-align: middle;\n",
       "    }\n",
       "\n",
       "    .dataframe tbody tr th {\n",
       "        vertical-align: top;\n",
       "    }\n",
       "\n",
       "    .dataframe thead th {\n",
       "        text-align: right;\n",
       "    }\n",
       "</style>\n",
       "<table border=\"1\" class=\"dataframe\">\n",
       "  <thead>\n",
       "    <tr style=\"text-align: right;\">\n",
       "      <th></th>\n",
       "      <th>id</th>\n",
       "      <th>connectionTime</th>\n",
       "      <th>disconnectTime</th>\n",
       "      <th>doneChargingTime</th>\n",
       "      <th>kWhDelivered</th>\n",
       "      <th>sessionID</th>\n",
       "      <th>siteID</th>\n",
       "      <th>spaceID</th>\n",
       "      <th>stationID</th>\n",
       "      <th>timezone</th>\n",
       "      <th>userID</th>\n",
       "      <th>userInputs</th>\n",
       "      <th>chargingDuration</th>\n",
       "    </tr>\n",
       "  </thead>\n",
       "  <tbody>\n",
       "    <tr>\n",
       "      <th>0</th>\n",
       "      <td>5e23b149f9af8b5fe4b973cf</td>\n",
       "      <td>2020-01-02 05:08:54-08:00</td>\n",
       "      <td>2020-01-02 11:11:15-08:00</td>\n",
       "      <td>2020-01-02 09:31:35-08:00</td>\n",
       "      <td>25.016</td>\n",
       "      <td>1_1_179_810_2020-01-02 13:08:53.870034</td>\n",
       "      <td>1</td>\n",
       "      <td>AG-3F30</td>\n",
       "      <td>1-1-179-810</td>\n",
       "      <td>America/Los_Angeles</td>\n",
       "      <td>194.0</td>\n",
       "      <td>[{'WhPerMile': 250, 'kWhRequested': 25.0, 'mil...</td>\n",
       "      <td>6.039167</td>\n",
       "    </tr>\n",
       "    <tr>\n",
       "      <th>1</th>\n",
       "      <td>5e23b149f9af8b5fe4b973d0</td>\n",
       "      <td>2020-01-02 05:36:50-08:00</td>\n",
       "      <td>2020-01-02 14:38:21-08:00</td>\n",
       "      <td>2020-01-02 12:18:05-08:00</td>\n",
       "      <td>33.097</td>\n",
       "      <td>1_1_193_825_2020-01-02 13:36:49.599853</td>\n",
       "      <td>1</td>\n",
       "      <td>AG-1F01</td>\n",
       "      <td>1-1-193-825</td>\n",
       "      <td>America/Los_Angeles</td>\n",
       "      <td>4275.0</td>\n",
       "      <td>[{'WhPerMile': 280, 'kWhRequested': 70.0, 'mil...</td>\n",
       "      <td>9.025278</td>\n",
       "    </tr>\n",
       "  </tbody>\n",
       "</table>\n",
       "</div>"
      ],
      "text/plain": [
       "                         id            connectionTime            disconnectTime          doneChargingTime  kWhDelivered                               sessionID  siteID  spaceID    stationID             timezone  userID                                         userInputs  chargingDuration\n",
       "0  5e23b149f9af8b5fe4b973cf 2020-01-02 05:08:54-08:00 2020-01-02 11:11:15-08:00 2020-01-02 09:31:35-08:00        25.016  1_1_179_810_2020-01-02 13:08:53.870034       1  AG-3F30  1-1-179-810  America/Los_Angeles   194.0  [{'WhPerMile': 250, 'kWhRequested': 25.0, 'mil...          6.039167\n",
       "1  5e23b149f9af8b5fe4b973d0 2020-01-02 05:36:50-08:00 2020-01-02 14:38:21-08:00 2020-01-02 12:18:05-08:00        33.097  1_1_193_825_2020-01-02 13:36:49.599853       1  AG-1F01  1-1-193-825  America/Los_Angeles  4275.0  [{'WhPerMile': 280, 'kWhRequested': 70.0, 'mil...          9.025278"
      ]
     },
     "execution_count": 241,
     "metadata": {},
     "output_type": "execute_result"
    }
   ],
   "source": [
    "data_clean.head(2)"
   ]
  },
  {
   "cell_type": "markdown",
   "metadata": {},
   "source": [
    "split the dataset in two different. One for the station with siteID 1 and one for the station with the siteID 2."
   ]
  },
  {
   "cell_type": "code",
   "execution_count": 242,
   "metadata": {},
   "outputs": [],
   "source": [
    "df_1 = data_clean[data_clean['siteID']==1]\n",
    "df_2 = data_clean[data_clean['siteID']==2]"
   ]
  },
  {
   "cell_type": "code",
   "execution_count": 243,
   "metadata": {},
   "outputs": [],
   "source": [
    "# df_1.head(5)"
   ]
  },
  {
   "cell_type": "code",
   "execution_count": 244,
   "metadata": {},
   "outputs": [],
   "source": [
    "# df_2.head()"
   ]
  },
  {
   "cell_type": "code",
   "execution_count": 245,
   "metadata": {},
   "outputs": [
    {
     "name": "stdout",
     "output_type": "stream",
     "text": [
      "<class 'pandas.core.frame.DataFrame'>\n",
      "Index: 35042 entries, 0 to 66449\n",
      "Data columns (total 13 columns):\n",
      " #   Column            Non-Null Count  Dtype                              \n",
      "---  ------            --------------  -----                              \n",
      " 0   id                35042 non-null  object                             \n",
      " 1   connectionTime    35042 non-null  datetime64[ns, America/Los_Angeles]\n",
      " 2   disconnectTime    35042 non-null  datetime64[ns, America/Los_Angeles]\n",
      " 3   doneChargingTime  35042 non-null  datetime64[ns, America/Los_Angeles]\n",
      " 4   kWhDelivered      35042 non-null  float64                            \n",
      " 5   sessionID         35042 non-null  object                             \n",
      " 6   siteID            35042 non-null  int64                              \n",
      " 7   spaceID           35042 non-null  object                             \n",
      " 8   stationID         35042 non-null  object                             \n",
      " 9   timezone          35042 non-null  object                             \n",
      " 10  userID            32815 non-null  float64                            \n",
      " 11  userInputs        32815 non-null  object                             \n",
      " 12  chargingDuration  35042 non-null  float64                            \n",
      "dtypes: datetime64[ns, America/Los_Angeles](3), float64(3), int64(1), object(6)\n",
      "memory usage: 3.7+ MB\n"
     ]
    }
   ],
   "source": [
    "df_1.info()"
   ]
  },
  {
   "cell_type": "code",
   "execution_count": 246,
   "metadata": {},
   "outputs": [
    {
     "name": "stdout",
     "output_type": "stream",
     "text": [
      "<class 'pandas.core.frame.DataFrame'>\n",
      "Index: 31408 entries, 20179 to 51586\n",
      "Data columns (total 13 columns):\n",
      " #   Column            Non-Null Count  Dtype                              \n",
      "---  ------            --------------  -----                              \n",
      " 0   id                31408 non-null  object                             \n",
      " 1   connectionTime    31408 non-null  datetime64[ns, America/Los_Angeles]\n",
      " 2   disconnectTime    31408 non-null  datetime64[ns, America/Los_Angeles]\n",
      " 3   doneChargingTime  31408 non-null  datetime64[ns, America/Los_Angeles]\n",
      " 4   kWhDelivered      31408 non-null  float64                            \n",
      " 5   sessionID         31408 non-null  object                             \n",
      " 6   siteID            31408 non-null  int64                              \n",
      " 7   spaceID           31408 non-null  object                             \n",
      " 8   stationID         31408 non-null  object                             \n",
      " 9   timezone          31408 non-null  object                             \n",
      " 10  userID            16372 non-null  float64                            \n",
      " 11  userInputs        16372 non-null  object                             \n",
      " 12  chargingDuration  31408 non-null  float64                            \n",
      "dtypes: datetime64[ns, America/Los_Angeles](3), float64(3), int64(1), object(6)\n",
      "memory usage: 3.4+ MB\n"
     ]
    }
   ],
   "source": [
    "df_2.info()"
   ]
  },
  {
   "cell_type": "code",
   "execution_count": null,
   "metadata": {},
   "outputs": [
    {
     "name": "stdout",
     "output_type": "stream",
     "text": [
      "Number of stations used twice or more a day: 0\n"
     ]
    }
   ],
   "source": [
    "session_count = df_1.groupby(['stationID', 'disconnectTime']).size()\n",
    "\n",
    "# Filter out the stations where the count is 2 or more per day\n",
    "stations_used_twice_or_more = session_count[session_count >= 2]\n",
    "\n",
    "# Count the number of such occurrences\n",
    "count_stations_used_twice_or_more = stations_used_twice_or_more.reset_index()['stationID'].nunique()\n",
    "print(f\"Number of stations used twice or more a day: {count_stations_used_twice_or_more}\")"
   ]
  },
  {
   "cell_type": "code",
   "execution_count": 254,
   "metadata": {},
   "outputs": [
    {
     "name": "stdout",
     "output_type": "stream",
     "text": [
      "Number of stations used twice or more a day: 0\n"
     ]
    }
   ],
   "source": [
    "session_count = df_2.groupby(['stationID', 'disconnectTime']).size()\n",
    "\n",
    "# Filter out the stations where the count is 2 or more per day\n",
    "stations_used_twice_or_more = session_count[session_count > 1]\n",
    "\n",
    "# Count the number of such occurrences\n",
    "count_stations_used_twice_or_more = stations_used_twice_or_more.reset_index()['stationID'].nunique()\n",
    "print(f\"Number of stations used twice or more a day: {count_stations_used_twice_or_more}\")"
   ]
  },
  {
   "cell_type": "markdown",
   "metadata": {},
   "source": [
    "Two times is the maximum a station of `siteID=1` is used a day. And one time is the maximum a station is used a day for `siteID=2` You can check it by adjusting `session_count > x` in the cell above"
   ]
  }
 ],
 "metadata": {
  "kernelspec": {
   "display_name": "Python 3",
   "language": "python",
   "name": "python3"
  },
  "language_info": {
   "codemirror_mode": {
    "name": "ipython",
    "version": 3
   },
   "file_extension": ".py",
   "mimetype": "text/x-python",
   "name": "python",
   "nbconvert_exporter": "python",
   "pygments_lexer": "ipython3",
   "version": "3.13.0"
  }
 },
 "nbformat": 4,
 "nbformat_minor": 2
}
